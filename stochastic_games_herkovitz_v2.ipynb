{
  "nbformat": 4,
  "nbformat_minor": 0,
  "metadata": {
    "colab": {
      "name": "stochastic_games_herkovitz_v2.ipynb",
      "provenance": [],
      "collapsed_sections": [],
      "include_colab_link": true
    },
    "kernelspec": {
      "name": "python3",
      "display_name": "Python 3"
    }
  },
  "cells": [
    {
      "cell_type": "markdown",
      "metadata": {
        "id": "view-in-github",
        "colab_type": "text"
      },
      "source": [
        "<a href=\"https://colab.research.google.com/github/tarod13/Stochastic_Games/blob/master/stochastic_games_herkovitz_v2.ipynb\" target=\"_parent\"><img src=\"https://colab.research.google.com/assets/colab-badge.svg\" alt=\"Open In Colab\"/></a>"
      ]
    },
    {
      "cell_type": "code",
      "metadata": {
        "id": "O5T17o-vEAdt"
      },
      "source": [
        "import numpy as np\n",
        "from scipy.optimize import linprog\n",
        "import matplotlib.pyplot as plt\n",
        "import itertools\n",
        "import pickle\n",
        "\n",
        "import matplotlib.pyplot as plt\n",
        "\n",
        "import torch\n",
        "import torch.nn as nn\n",
        "import torch.optim as optim\n",
        "from torch.nn.parameter import Parameter\n",
        "\n",
        "device = 'cpu'"
      ],
      "execution_count": 1,
      "outputs": []
    },
    {
      "cell_type": "code",
      "metadata": {
        "id": "5SMCGNsteY1a"
      },
      "source": [
        "# import inspect\n",
        "# inspect.getsource(game.feasible_gradient_descent)"
      ],
      "execution_count": null,
      "outputs": []
    },
    {
      "cell_type": "markdown",
      "metadata": {
        "id": "NsaLjXwX-aKX"
      },
      "source": [
        "# Game Class Definition\n",
        "\n",
        "First, we will define a general class for stochastic games that requires the tuple $\\langle N,S,A,R,T,\\beta \\rangle$ to define each game."
      ]
    },
    {
      "cell_type": "code",
      "metadata": {
        "id": "diVFarepD_cX"
      },
      "source": [
        "class multi_player_game(nn.Module):\n",
        "  def __init__(self, N, S, A, R, T, beta, device, name='StochasticGame-v0'):\n",
        "    super().__init__()\n",
        "\n",
        "    # Store game defining parameters\n",
        "    self.N = N\n",
        "    self.S_no_string = S.copy()\n",
        "    self.S = [str(s) for s in S]\n",
        "    self.A = A.copy()\n",
        "    self.R = {}\n",
        "    for player in self.players():\n",
        "      self.R[player] = {}\n",
        "      for s_key, val in R[player].items():\n",
        "        self.R[player][s_key] = val.clone().to(device)\n",
        "    self.transition_map = T[0]\n",
        "    self.transition_type = T[1]\n",
        "    self.beta = beta\n",
        "    self.device = device\n",
        "    self.name = name\n",
        "\n",
        "    # Define useful constants\n",
        "    self.N_S = len(S)    \n",
        "    self.N_A_S_vector = {'1':[], '2':[]}\n",
        "    self.N_A_S_reduced_vector = {'1':[], '2':[]}\n",
        "    for player in self.players():\n",
        "      for s in self.S:\n",
        "        n_actions_player_in_s = A[player][s]      \n",
        "        self.N_A_S_vector[player].append(n_actions_player_in_s)\n",
        "        if self.more_than_one_action(player, s):\n",
        "          self.N_A_S_reduced_vector[player].append(n_actions_player_in_s)\n",
        "    \n",
        "    self.N_A_total = {}\n",
        "    self.N_A_reduced = {}\n",
        "    self.N_S_reduced = {}\n",
        "    for player in self.players():\n",
        "      self.N_A_S_vector[player] = torch.FloatTensor(self.N_A_S_vector[player]).to(device).view(-1,1)\n",
        "      self.N_A_S_reduced_vector[player] = torch.FloatTensor(self.N_A_S_reduced_vector[player]).to(device).view(-1,1)\n",
        "      self.N_A_total[player] = int(self.N_A_S_vector[player].sum().item())\n",
        "      self.N_A_reduced[player] = int(self.N_A_S_reduced_vector[player].sum().item())\n",
        "      self.N_S_reduced[player] = self.N_A_S_reduced_vector[player].view(-1).shape[0]\n",
        "\n",
        "    self.n_restrictions = 0\n",
        "    for player in self.players():\n",
        "      self.n_restrictions += self.N_A_total[player] + self.N_A_reduced[player] + self.N_S_reduced[player]\n",
        "    self.n_vars = 2*self.N_S + self.N_A_reduced['1'] + self.N_A_reduced['2']\n",
        "\n",
        "    # Define useful variables\n",
        "    self.n_save = 0\n",
        "\n",
        "    # Define policy and value parameter tensors\n",
        "    for player in self.players():\n",
        "      setattr(self, 'pi'+player, nn.ParameterDict())\n",
        "    \n",
        "    self.pi = {}\n",
        "    for player in self.players():\n",
        "      self.pi[player] = getattr(self, 'pi'+player)\n",
        "      for s in self.S: \n",
        "        n_actions_player_in_s = A[player][s]\n",
        "        self.pi[player][s] = Parameter(torch.Tensor(n_actions_player_in_s,1).to(device))\n",
        "        if n_actions_player_in_s >= 2:\n",
        "          nn.init.constant_(self.pi[player][s], 2.0/(3.0*n_actions_player_in_s))\n",
        "        else:\n",
        "          nn.init.constant_(self.pi[player][s], 1.0)\n",
        "    \n",
        "    self.v = Parameter(torch.Tensor(self.N_S,2).to(device))\n",
        "    self.set_feasible_value(alpha=1.0e-2)\n",
        "\n",
        "  def forward(self):\n",
        "    return self.pi, self.v\n",
        "  \n",
        "  #-----------------------------------------------------------------------------\n",
        "  # Useful methods\n",
        "  def get_state_index(self, state):\n",
        "    if state in self.S:\n",
        "      return self.S.index(state)\n",
        "    elif state in self.S_no_string:\n",
        "      return self.S_no_string.index(state)\n",
        "    else:\n",
        "      assert 0 == 1, 'Invalid state'\n",
        "\n",
        "  # TODO: consider more than 2 players (is this method really necessary?)\n",
        "  @staticmethod \n",
        "  def player_dim(i):\n",
        "    if i in [0, '1']:\n",
        "      return 'i'\n",
        "    elif i in [1, '2']:\n",
        "      return 'j'\n",
        "    else:\n",
        "      assert 0 == 1, 'Invalid player id'\n",
        "\n",
        "  def get_player_id(self, player):\n",
        "    player_id = int(player)-1\n",
        "    if player_id >= 0 and player_id < self.N:\n",
        "      return player_id\n",
        "    else:\n",
        "      assert 0 == 1, 'Invalid player'\n",
        "  \n",
        "  # TODO: consider more than 2 players (is this method really necessary?)\n",
        "  @staticmethod\n",
        "  def other_player(i):\n",
        "    if i == 0:\n",
        "      return 1\n",
        "    elif i == 1:\n",
        "      return 0\n",
        "    elif i == '1':\n",
        "      return '2'\n",
        "    elif i == '2':\n",
        "      return '1'\n",
        "    else:\n",
        "      assert 0 == 1, 'Invalid player id'\n",
        "\n",
        "  def players_id(self):\n",
        "    return range(0, self.N)\n",
        "\n",
        "  def players(self):\n",
        "    return iter([str(player_id+1) for player_id in self.players_id()]) \n",
        "\n",
        "  def state_player_id_pairs(self):\n",
        "    return itertools.product(self.S, self.players_id())\n",
        "\n",
        "  def state_player_pairs(self):\n",
        "    return itertools.product(self.S, self.players())\n",
        "\n",
        "  def player_consistent_reward_matrices(self):\n",
        "    consistent_R = {'1':{}, '2':{}}\n",
        "    for s in self.S:\n",
        "      consistent_R['1'][s] = self.R['1'][s].clone()\n",
        "      consistent_R['2'][s] = torch.t(self.R['2'][s].clone())  \n",
        "    return consistent_R \n",
        "\n",
        "  def more_than_one_action(self, player, s):\n",
        "    if self.A[player][s] > 1:\n",
        "      return True\n",
        "    else:\n",
        "      return False\n",
        "  \n",
        "  def pi2vec(self):\n",
        "    pi_vector = {}\n",
        "    for player in self.players():\n",
        "      pi_list = []\n",
        "      for s in self.S:\n",
        "        if self.more_than_one_action(player, s):\n",
        "          pi_list.append(self.pi[player][s])\n",
        "      pi_vector[player] = torch.cat(pi_list, dim=0)\n",
        "    return pi_vector\n",
        "  \n",
        "  def pi_sum(self):\n",
        "    sum_vector = {}\n",
        "    for player in self.players():\n",
        "      sum_list = []\n",
        "      for s in self.S:\n",
        "        if self.more_than_one_action(player, s):\n",
        "          sum_list.append(self.pi[player][s].sum(0, keepdim=True))        \n",
        "      sum_vector[player] = torch.cat(sum_list, dim=0)\n",
        "    return sum_vector\n",
        "  \n",
        "  def mask_inequality_restrictions(self, vec):\n",
        "    masked_vector = vec.clone()\n",
        "    masked_vector[-self.N_S_reduced['1']-self.N_S_reduced['2']:,:] = 0.0\n",
        "    return masked_vector\n",
        "\n",
        "  def mask_equality_restrictions(self, vec):\n",
        "    masked_vector = vec.clone()\n",
        "    masked_vector[:-self.N_S_reduced['1']-self.N_S_reduced['2'],:] = 0.0\n",
        "    return masked_vector\n",
        "  \n",
        "  def vec2dic(self, d_vector, duals_vector):\n",
        "    d_v = torch.zeros((self.N_S,2)).to(self.device)  \n",
        "    d_pi = {'1':{}, '2':{}}\n",
        "    duals = {}\n",
        "\n",
        "    # Store gradients related to v in the proper shape\n",
        "    for i in range(0,2):\n",
        "      d_v[:,i] = d_vector[i*self.N_S:(i+1)*self.N_S,:].view(-1)\n",
        "    \n",
        "    # Store gradients related to pi in dictionaries for each player and state\n",
        "    for player in self.players():\n",
        "      y0 = 2*self.N_S + self.get_player_id(player) * self.N_A_reduced['1']\n",
        "      yf = 2*self.N_S + self.N_A_reduced['1']  + self.get_player_id(player) * self.N_A_reduced['2'] \n",
        "      d_pi_vector = d_vector[y0:yf,:]\n",
        "      n = 0\n",
        "      for s in self.S:      \n",
        "        if self.more_than_one_action(player, s):\n",
        "          NA = self.A[player][s]\n",
        "          d_pi[player][s] = d_pi_vector[n:n+NA,:]\n",
        "          n = n + NA\n",
        "        else:\n",
        "          d_pi[player][s] = None      \n",
        "\n",
        "    # Separate duals for each player  \n",
        "    for player in self.players():\n",
        "      i = self.get_player_id(player)\n",
        "      n_restrictions_player = self.N_A_total[player] + self.N_A_reduced[player] + self.N_S_reduced[player]\n",
        "      duals[player] = torch.zeros(n_restrictions_player,1).to(self.device)\n",
        "      \n",
        "      y0 = self.get_player_id(player) * self.N_A_total['1']\n",
        "      yf = self.N_A_total['1']  + self.get_player_id(player) * self.N_A_total['2'] \n",
        "      duals[player][:self.N_A_total[player],:] = duals_vector[y0:yf,:]\n",
        "      \n",
        "      y0 = self.N_A_total['1'] + self.N_A_total['2'] + self.get_player_id(player) * self.N_A_reduced['1']\n",
        "      yf = self.N_A_total['1'] + self.N_A_total['2'] + self.N_A_reduced['1'] + self.get_player_id(player) * self.N_A_reduced['2'] \n",
        "      duals[player][self.N_A_total[player]:self.N_A_total[player]+self.N_A_reduced[player],:] = duals_vector[y0:yf,:]\n",
        "\n",
        "      y0 = (self.N_A_total['1'] + self.N_A_total['2'] + self.N_A_reduced['1'] + self.N_A_reduced['2'] \n",
        "            + self.get_player_id(player) * self.N_S_reduced['1'])\n",
        "      yf = (self.N_A_total['1'] + self.N_A_total['2'] + self.N_A_reduced['1'] + self.N_A_reduced['2'] \n",
        "            + self.N_S_reduced['1'] + self.get_player_id(player) * self.N_S_reduced['2']) \n",
        "      duals[player][-self.N_S_reduced[player]:,:] = duals_vector[y0:yf,:]\n",
        "\n",
        "    return d_v, d_pi, duals\n",
        "\n",
        "  def update_c_vector(self, c_vector, duals_0_vector):\n",
        "    new_c_vector = c_vector.clone()\n",
        "    entries_to_update = c_vector < -1.2*duals_0_vector\n",
        "    new_c_vector[entries_to_update] = -2*duals_0_vector[entries_to_update]\n",
        "    new_c_vector = self.mask_equality_restrictions(new_c_vector)\n",
        "    return new_c_vector\n",
        "\n",
        "  def copy_game(self):\n",
        "    Ttuple = (self.transition_map, self.transition_type)\n",
        "    game_copy = multi_player_game(self.N, self.S_no_string, self.A, self.R, Ttuple, self.beta, self.device).to(device)\n",
        "\n",
        "    game_copy.load_state_dict(self.state_dict())\n",
        "    return game_copy\n",
        "  \n",
        "  def save(self):\n",
        "    torch.save(self.state_dict(), './'+self.name+'_gamesave_'+str(self.n_save)+'.pth')\n",
        "    print('Game '+str(self.n_save)+' saved succesfully')\n",
        "    self.n_save += 1\n",
        "  \n",
        "  #-----------------------------------------------------------------------------\n",
        "  # Methods related with the transition matrices\n",
        "\n",
        "  def transition_matrix(self): # TODO: consider other 2 cases\n",
        "    transition_matrix = torch.zeros((self.N_S,self.N_S)).to(self.device)\n",
        "    for state in self.S_no_string:\n",
        "      strategy_1 = self.pi['1'][str(state)]\n",
        "      strategy_2 = self.pi['2'][str(state)]\n",
        "\n",
        "      det, dep = self.transition_type[str(state)]\n",
        "      N_A1 = self.A['1'][str(state)]\n",
        "      N_A2 = self.A['2'][str(state)]\n",
        "      id_s = self.get_state_index(state)\n",
        "\n",
        "      if det and dep:\n",
        "        for a1 in range(0,N_A1):\n",
        "          for a2 in range(0,N_A2):\n",
        "            _, next_state = self.transition_map(state, [a1,a2])\n",
        "            id_ns = self.get_state_index(next_state)\n",
        "            transition_prob = strategy_1[a1,0] * strategy_2[a2,0]\n",
        "            transition_matrix[id_s, id_ns] = transition_matrix[id_s, id_ns] + transition_prob\n",
        "      elif (not det) and (not dep):\n",
        "        _, transition_dic = self.transition_map(state, [])\n",
        "        for next_state, transition_prob in transition_dic:\n",
        "          transition_matrix[id_s, self.get_state_index(next_state)] = (\n",
        "              transition_prob * strategy_1.sum() * strategy_2.sum())\n",
        "    return transition_matrix\n",
        "\n",
        "  def partial_transition_matrices(self): # TODO: consider other 2 cases\n",
        "    # Create dictionary of transition matrices for each state given\n",
        "    # the strategy of the other player \n",
        "    transition_matrices = {}\n",
        "    for state in self.S_no_string:\n",
        "      s = str(state)\n",
        "      strategy_1 = self.pi['1'][s]\n",
        "      strategy_2 = self.pi['2'][s]\n",
        "      N_A1 = self.A['1'][s]\n",
        "      N_A2 = self.A['2'][s]\n",
        "      transition_matrices[s] = {\n",
        "          '1': torch.zeros((N_A1,self.N_S)).to(self.device),\n",
        "          '2': torch.zeros((N_A2,self.N_S)).to(self.device)\n",
        "      }\n",
        "\n",
        "      # Fill matrices with transition probabilities depending on the type\n",
        "      # of transition, i.e., if deterministic or random and independent or\n",
        "      # not on the actions\n",
        "      det, dep = self.transition_type[s]\n",
        "      if det and dep:\n",
        "        for a1 in range(0,N_A1):\n",
        "          for a2 in range(0,N_A2):\n",
        "            _, next_state = self.transition_map(state, [a1,a2])\n",
        "            id_ns = self.get_state_index(next_state)\n",
        "            transition_prob1 = strategy_2[a2,0]\n",
        "            transition_prob2 = strategy_1[a1,0]\n",
        "            transition_matrices[s]['1'][a1, id_ns] = (\n",
        "                transition_matrices[s]['1'][a1, id_ns] + transition_prob1)\n",
        "            transition_matrices[s]['2'][a2, id_ns] = (\n",
        "                transition_matrices[s]['2'][a2, id_ns] + transition_prob2)\n",
        "      elif (not det) and (not dep):\n",
        "        _, transition_dic = self.transition_map(state, [])\n",
        "        for next_state, transition_prob in transition_dic:\n",
        "          transition_matrices[s]['1'][:, self.get_state_index(next_state)] = (\n",
        "              transition_prob * strategy_2.sum())\n",
        "          transition_matrices[s]['2'][:, self.get_state_index(next_state)] = (\n",
        "              transition_prob * strategy_1.sum())\n",
        "    return transition_matrices\n",
        "\n",
        "  def transition_matrix_given_sai(self, player, state, ai): # TODO: consider other 2 cases\n",
        "    other_player = self.other_player(player)\n",
        "    N_Ami = self.A[other_player][str(state)]\n",
        "    transition_matrix = torch.zeros((self.N_S,N_Ami)).to(self.device)\n",
        "    \n",
        "    det, dep = self.transition_type[str(state)]\n",
        "    \n",
        "    if det and dep:\n",
        "      for ami in range(0,N_Ami):\n",
        "          action = [0, 0]\n",
        "          action[self.get_player_id(player)] = ai\n",
        "          action[self.get_player_id(other_player)] = ami\n",
        "          _, next_state = self.transition_map(state, action)\n",
        "          id_ns = self.get_state_index(next_state)\n",
        "          transition_matrix[id_ns, ami] = 1.0\n",
        "    elif (not det) and (not dep):\n",
        "      _, transition_dic = self.transition_map(state, [])\n",
        "      for next_state, transition_prob in transition_dic:\n",
        "        transition_matrix[self.get_state_index(next_state), :] = transition_prob\n",
        "    return transition_matrix\n",
        "\n",
        "  #-----------------------------------------------------------------------------\n",
        "  # Methods related with the expected reward and value function calculation\n",
        "\n",
        "  # TODO: consider more than 2 players  \n",
        "  def expected_reward(self):\n",
        "    r_mean = torch.zeros((self.N_S,2)).to(self.device)\n",
        "    for player_id in self.players_id():\n",
        "      player = str(player_id+1)\n",
        "      RM_i = self.R[player]\n",
        "      for s in self.S:\n",
        "        strategy_1 = self.pi['1'][s]\n",
        "        strategy_2 = self.pi['2'][s]\n",
        "        r_mean_1 = torch.einsum('ij,ik->jk', RM_i[s], strategy_1)\n",
        "        r_mean[self.get_state_index(s), player_id] = (r_mean_1 * strategy_2).sum()\n",
        "    return r_mean\n",
        "  \n",
        "  def partial_expected_reward(self):\n",
        "    # Create reward dictionary for each combination of players\n",
        "    r_mean = {}\n",
        "    for player in self.players():  \n",
        "      r_mean[player] = {'1':{}, '2':{}}\n",
        "\n",
        "    # Calculate expected reward for combination of players wrt the policy of one of the players\n",
        "    for s, player in self.state_player_pairs():\n",
        "      other_player = self.other_player(player) # Player used to calculate expected reward\n",
        "      for second_player in self.players():  \n",
        "        N_A = self.A[second_player][s]\n",
        "        RM_i = self.R[second_player] # Reward matrix for one of the players  \n",
        "        strategy = self.pi[other_player][s].view(-1)\n",
        "        formula = 'ij,'+self.player_dim(other_player)+'->'+self.player_dim(player)\n",
        "        r_mean[player][second_player][s] = torch.einsum(formula, RM_i[s], strategy).view(-1,1)\n",
        "    return r_mean\n",
        "  \n",
        "  def partial_expected_reward_other(self):\n",
        "    r_mean = {}\n",
        "    for player in self.players():\n",
        "      r_mean[player] = {}\n",
        "    for s, player in self.state_player_pairs():\n",
        "        RM_i = self.R[player]\n",
        "        other_player = self.other_player(player)\n",
        "        strategy = self.pi[other_player][s].view(-1)\n",
        "        formula = 'ij,'+self.player_dim(other_player)+'->'+self.player_dim(player)\n",
        "        r_mean[player][s] = torch.einsum(formula, RM_i[s], strategy).view(-1,1)\n",
        "    return r_mean\n",
        "  \n",
        "  # TODO: consider other 2 cases or transition matrices\n",
        "  # TODO: consider more than 2 players\n",
        "  def next_value_matrices(self, state):\n",
        "    det, dep = self.transition_type[str(state)]\n",
        "    N_A1 = self.A['1'][str(state)]\n",
        "    N_A2 = self.A['2'][str(state)]\n",
        "    vs = torch.zeros((N_A1,N_A2,2)).to(self.device)\n",
        "    if det and dep: \n",
        "      for a1 in range(0,N_A1):\n",
        "        for a2 in range(0,N_A2):\n",
        "          _, next_state = self.transition_map(state, [a1,a2])\n",
        "          vs[a1,a2,:] = self.v[self.get_state_index(next_state),:]\n",
        "    elif (not det) and (not dep):\n",
        "      _, transition_dic = self.transition_map(state, [])\n",
        "      next_v = torch.zeros(1,2).to(self.device)\n",
        "      for next_state, transition_prob in transition_dic:\n",
        "        next_v = next_v + self.v[self.get_state_index(next_state),:].view(1,-1) * transition_prob      \n",
        "      for a1 in range(0,N_A1):\n",
        "        for a2 in range(0,N_A2):\n",
        "          vs[a1,a2,:] = next_v.view(-1)\n",
        "    return vs\n",
        "  \n",
        "  # TODO: consider more than 2 players\n",
        "  def partial_next_values(self):\n",
        "    # Create next-value dictionary for each player combination\n",
        "    next_v = {}\n",
        "    for player in self.players():\n",
        "      next_v[player] = {'1':{}, '2':{}}\n",
        "\n",
        "    # Fill dictionary \n",
        "    for state in self.S_no_string:\n",
        "      next_state_value_matrix = self.next_value_matrices(state)\n",
        "      strategy_1 = self.pi['1'][str(state)]\n",
        "      strategy_2 = self.pi['2'][str(state)]\n",
        "      \n",
        "      # Calculate mean next value when considering the strategy of one of the players. Output: array of size m^i(s)\n",
        "      for player_id in self.players_id():\n",
        "        next_v['1'][str(player_id+1)][str(state)] = torch.einsum('ij,jk->ik', next_state_value_matrix[:,:,player_id], strategy_2)\n",
        "        next_v['2'][str(player_id+1)][str(state)] = torch.einsum('ji,jk->ik', next_state_value_matrix[:,:,player_id], strategy_1)  \n",
        "    return next_v\n",
        "  \n",
        "  def next_value_dictionary(self):\n",
        "    next_v_dic = {}\n",
        "    for state in self.S_no_string:\n",
        "      next_v_dic[str(state)] = self.next_value_matrices(state)\n",
        "    return next_v_dic\n",
        "  \n",
        "  # TODO: consider more than 2 players\n",
        "  def bellman_projection(self):\n",
        "    r_mean = self.expected_reward()\n",
        "    next_v = torch.zeros_like(self.v)\n",
        "    for s in self.S_no_string:\n",
        "      next_state_value_matrix = self.next_value_matrices(s)\n",
        "      strategy_1 = self.pi['1'][str(s)].squeeze(1)\n",
        "      strategy_2 = self.pi['2'][str(s)].squeeze(1)\n",
        "      next_value_1 = torch.einsum('ijk,i->jk', next_state_value_matrix, strategy_1)\n",
        "      next_v[self.get_state_index(s),:] = torch.einsum('jk,j->k', next_value_1, strategy_2)\n",
        "    return r_mean + self.beta * next_v\n",
        "\n",
        "  # TODO: consider more than 2 players\n",
        "  def bellman_partial_projection(self):\n",
        "    r_mean = self.partial_expected_reward()\n",
        "    next_v = self.partial_next_values()\n",
        "\n",
        "    bellman_projection_dic = {'1':{}, '2':{}}\n",
        "    for player in self.players():\n",
        "      bellman_projection_dic[player] = {'1':{}, '2':{}}\n",
        "    for s, player in self.state_player_pairs():\n",
        "      for second_player in self.players():\n",
        "        bellman_projection_dic[player][second_player][s] = (\n",
        "            r_mean[player][second_player][s] + self.beta * next_v[player][second_player][s])\n",
        "    return bellman_projection_dic\n",
        "\n",
        "  # TODO: consider more than 2 players\n",
        "  def bellman_partial_projection_other(self):\n",
        "    r_mean = self.partial_expected_reward_other()\n",
        "    next_v = {'1':{}, '2':{}}\n",
        "    for state in self.S_no_string:\n",
        "      next_state_value_matrix = self.next_value_matrices(state)\n",
        "      strategy_1 = self.pi['1'][str(state)]\n",
        "      strategy_2 = self.pi['2'][str(state)]\n",
        "      # mean next value when considering the strategy of the other player. Output: array of size m^i(s)\n",
        "      next_v['1'][str(state)] = torch.einsum('ij,jk->ik', next_state_value_matrix[:,:,0], strategy_2)\n",
        "      next_v['2'][str(state)] = torch.einsum('ji,jk->ik', next_state_value_matrix[:,:,1], strategy_1)\n",
        "    bellman_projection_dic = {'1':{}, '2':{}}\n",
        "    for s, player in self.state_player_pairs():\n",
        "      bellman_projection_dic[player][s] = r_mean[player][s] + self.beta * next_v[player][s]\n",
        "    return bellman_projection_dic\n",
        "  \n",
        "  #-----------------------------------------------------------------------------\n",
        "  # Methods related with the linear optimization problem to find a feasible point (v given pi)\n",
        "\n",
        "  def reward_baselines(self):\n",
        "    r_mean = self.expected_reward()\n",
        "    r_baseline = r_mean.mean(0).view(-1,1).detach().cpu().numpy()\n",
        "    return r_baseline\n",
        "\n",
        "  def cost_vector_fixed_policies(self):\n",
        "    P = self.transition_matrix()\n",
        "    cost_vector = (1 - self.beta * P.sum(0)).view(-1,1).detach().cpu().numpy() / self.N_S\n",
        "    return cost_vector\n",
        "\n",
        "  def restriction_matrices_fixed_policies(self):\n",
        "    transition_matrices = self.partial_transition_matrices()\n",
        "    restriction_matrices = {'1':[], '2':[]}\n",
        "    for player in self.players():\n",
        "      for s in self.S:\n",
        "        temp_matrix = - self.beta * transition_matrices[s][player]\n",
        "        temp_matrix[:, self.get_state_index(s)] = temp_matrix[:, self.get_state_index(s)] + 1\n",
        "        restriction_matrices[player].append(temp_matrix.clone())\n",
        "      restriction_matrices[player] = -torch.cat(restriction_matrices[player], dim=0).detach().cpu().numpy()\n",
        "    return restriction_matrices\n",
        "\n",
        "  def restriction_vectors_fixed_policies(self, alpha):\n",
        "    r_mean = self.partial_expected_reward_other()\n",
        "    restriction_vectors = {'1':[], '2':[]}\n",
        "    for player in self.players():\n",
        "      for s in self.S:\n",
        "        restriction_vectors[player].append(r_mean[player][s].view(-1,1))\n",
        "      restriction_vectors[player] = -(torch.cat(restriction_vectors[player], dim=0)+alpha).detach().cpu().numpy()\n",
        "    return restriction_vectors\n",
        "\n",
        "  def parameters_fixed_policies(self, alpha):\n",
        "    cost = self.cost_vector_fixed_policies()\n",
        "    f0 = self.reward_baselines()\n",
        "    A_ub = self.restriction_matrices_fixed_policies()\n",
        "    b_ub = self.restriction_vectors_fixed_policies(alpha)\n",
        "    return cost, f0, A_ub, b_ub\n",
        "\n",
        "  def calculate_feasible_value(self, alpha=0.1):\n",
        "    v0 = np.zeros((self.N_S,2))\n",
        "    cost, f0, A_ub, b_ub = self.parameters_fixed_policies(alpha)\n",
        "    for player_id in self.players_id():\n",
        "      temp_res = linprog(cost, A_ub=A_ub[str(player_id+1)], b_ub=b_ub[str(player_id+1)])\n",
        "      v0[:,player_id] = temp_res.x\n",
        "    return v0\n",
        "\n",
        "  def set_feasible_value(self, alpha=0.1):\n",
        "    v0 = self.calculate_feasible_value(alpha)\n",
        "    v0 = torch.FloatTensor(v0).clone().to(self.device)\n",
        "    nn.init.zeros_(self.v)\n",
        "    with torch.no_grad():\n",
        "      self.v.data.add_(v0)  \n",
        "\n",
        "  #-----------------------------------------------------------------------------\n",
        "  # Methods related with the associated non-linear optimization problem\n",
        "\n",
        "  # Calculation of original target function: Bellman approximation error\n",
        "  def calculate_bellman_error(self):     \n",
        "    v_estimated = self.bellman_projection()\n",
        "    f_bellman = (self.v - v_estimated).sum()\n",
        "    return f_bellman\n",
        "\n",
        "  def calculate_nash_restrictions(self, hard_constraints):\n",
        "    q_estimated = self.bellman_partial_projection_other() # Dic. with an array of 'q'-values for each agent \n",
        "    g_nash = {'1':{}, '2':{}}\n",
        "    coef = 1.0\n",
        "    for s, player in self.state_player_pairs():\n",
        "      if not hard_constraints:\n",
        "        coef = self.pi[player][s].sum()\n",
        "      g_nash[player][s] = coef * q_estimated[player][s] - self.v[self.get_state_index(s), self.get_player_id(player)].item()\n",
        "    return g_nash\n",
        "  \n",
        "  def calculate_restriction_vector(self, hard_constraints):\n",
        "    g_nash = self.calculate_nash_restrictions(hard_constraints)\n",
        "    pi_vector = self.pi2vec()\n",
        "    pi_sum_vector = self.pi_sum()\n",
        "    g_list = []\n",
        "    for player in self.players():\n",
        "      for s in self.S:\n",
        "        g_list.append(g_nash[player][s])\n",
        "    for player in self.players():\n",
        "      g_list.append(-pi_vector[player])\n",
        "    for player in self.players():\n",
        "      g_list.append(pi_sum_vector[player]-1)\n",
        "    g_vector = torch.cat(g_list, dim=0)\n",
        "    return g_vector\n",
        "  \n",
        "  # Methods to calculate gradients\n",
        "  def bellman_error_gradients(self):\n",
        "    P = self.transition_matrix()\n",
        "    bellman_error_grad_v = (torch.eye(self.N_S).to(self.device) - torch.t(P)).sum(1, keepdim=True)\n",
        "\n",
        "    q_individual = self.bellman_partial_projection()\n",
        "    bellman_error_grad_pi = {'1':{}, '2':{}}\n",
        "    for s, player in self.state_player_pairs():\n",
        "      bellman_error_grad_pi[player][s] = 0.0\n",
        "      for second_player in self.players():\n",
        "        bellman_error_grad_pi[player][s] = bellman_error_grad_pi[player][s] - q_individual[player][second_player][s]  \n",
        "    return bellman_error_grad_v, bellman_error_grad_pi\n",
        "\n",
        "  def nash_restriction_gradients(self, hard_constraints):\n",
        "    P_partial = self.partial_transition_matrices()\n",
        "    next_value_dic = self.next_value_dictionary()\n",
        "    consistent_R = self.player_consistent_reward_matrices()\n",
        "\n",
        "    nash_restriction_grad_v = {'1':{}, '2':{}}\n",
        "    nash_restriction_grad_pi = {'1':{}, '2':{}}\n",
        "\n",
        "    coef = 1.0\n",
        "    for s, player in self.state_player_pairs():\n",
        "      if not hard_constraints:\n",
        "        coef = self.pi[player][s].sum()\n",
        "      Delta = torch.zeros_like(P_partial[s][player])\n",
        "      Delta[:, self.get_state_index(s)] = 1.0\n",
        "      nash_restriction_grad_v[player][s] = coef * self.beta * P_partial[s][player] - Delta\n",
        "    \n",
        "      other_player = self.other_player(player)\n",
        "      if not hard_constraints:\n",
        "        coef = self.pi[other_player][s].sum()\n",
        "      next_value_matrix = next_value_dic[s][:,:,self.get_player_id(other_player)]\n",
        "      r_matrix = consistent_R[other_player][s] # the r_matrix and the next_value_matrix need to have as rows the actions of the other player\n",
        "      if player == '1':\n",
        "        next_value_matrix = torch.t(next_value_matrix)\n",
        "      nash_restriction_grad_pi[player][s] = coef * (r_matrix + self.beta * next_value_matrix)\n",
        "    return nash_restriction_grad_v, nash_restriction_grad_pi\n",
        "  \n",
        "  # TODO: consider more than 2 players\n",
        "  def bellman_error_gradient_vector(self):\n",
        "    grad_f_v, grad_f_pi = self.bellman_error_gradients() \n",
        "    grad_f_vector = torch.zeros(self.n_vars, 1).to(self.device)\n",
        "    \n",
        "    for i in range(0,2):\n",
        "      grad_f_vector[i*self.N_S:(i+1)*self.N_S,:] = grad_f_v.clone()\n",
        "    \n",
        "    for player in self.players():\n",
        "      grad_f_pi_list = []\n",
        "      for s in self.S:\n",
        "        if self.more_than_one_action(player, s):\n",
        "          grad_f_pi_list.append(grad_f_pi[player][s].clone())  \n",
        "      grad_f_pi_vector = torch.cat(grad_f_pi_list, dim=0)\n",
        "      y0 = 2*self.N_S + self.get_player_id(player) * self.N_A_reduced['1']\n",
        "      yf = 2*self.N_S + self.N_A_reduced['1'] + self.get_player_id(player) * self.N_A_reduced['2']\n",
        "      grad_f_vector[y0:yf,:] = grad_f_pi_vector\n",
        "\n",
        "    return grad_f_vector\n",
        "\n",
        "  def nash_restrictions_pi_mi_jacobian_matrix(self, player, grad_g_pi):\n",
        "    other_player = self.other_player(player)\n",
        "    grad_g_pi_list = []\n",
        "    s_not_added_list = []\n",
        "    for s in self.S:\n",
        "      if self.more_than_one_action(player, s):\n",
        "        grad = grad_g_pi[player][s].clone()\n",
        "        if len(s_not_added_list) == 0:\n",
        "          grad_g_pi_list.append(grad)\n",
        "        else:\n",
        "          n_null_rows = 0\n",
        "          for s_ in s_not_added_list:\n",
        "            n_null_rows += self.A[other_player][s_]\n",
        "          n_rows = n_null_rows + grad.shape[0]\n",
        "          n_cols = grad.shape[1]\n",
        "          null_rows_and_grad_g_pi = torch.zeros(n_rows, n_cols).to(self.device)\n",
        "          null_rows_and_grad_g_pi[-n_rows+n_null_rows:,:] = grad\n",
        "          grad_g_pi_list.append(null_rows_and_grad_g_pi)\n",
        "          s_not_added_list = []\n",
        "      else:\n",
        "        s_not_added_list.append(s)\n",
        "    if len(s_not_added_list) != 0:\n",
        "      n_null_rows = 0\n",
        "      for s_ in s_not_added_list:\n",
        "        n_null_rows += self.A[other_player][s_]\n",
        "      n_rows = n_null_rows + grad_g_pi_list[-1].shape[0]\n",
        "      n_cols = grad_g_pi_list[-1].shape[1]\n",
        "      null_rows_and_grad_g_pi = torch.zeros(n_rows, n_cols).to(self.device)\n",
        "      null_rows_and_grad_g_pi[:n_rows-n_null_rows,:] = grad_g_pi_list[-1].clone()\n",
        "      grad_g_pi_list[-1] = null_rows_and_grad_g_pi\n",
        "    \n",
        "    J_gmi_pi = torch.block_diag(*grad_g_pi_list)\n",
        "    return J_gmi_pi\n",
        "\n",
        "  def nash_restrictions_pi_i_jacobian_matrix(self, player, g_nash_pure):    \n",
        "    grad_g_pi_list = []\n",
        "    s_not_added_list = []\n",
        "    player_id = self.get_player_id(player)\n",
        "    for s in self.S:\n",
        "      if self.more_than_one_action(player, s):\n",
        "        NA = self.A[player][s]\n",
        "        ones = torch.ones(NA, NA).to(self.device)\n",
        "        s_id = self.get_state_index(s)\n",
        "        g = g_nash_pure[player][s].view(-1) + self.v[s_id, player_id].item() \n",
        "        grad = torch.einsum('ij,jk->ik', torch.diag(g), ones)\n",
        "        if len(s_not_added_list) == 0:\n",
        "          grad_g_pi_list.append(grad)\n",
        "        else:\n",
        "          n_null_rows = 0\n",
        "          for s_ in s_not_added_list:\n",
        "            n_null_rows += self.A[player][s_]\n",
        "          n_rows = n_null_rows + grad.shape[0]\n",
        "          n_cols = grad.shape[1]\n",
        "          null_rows_and_grad_g_pi = torch.zeros(n_rows, n_cols).to(self.device)\n",
        "          null_rows_and_grad_g_pi[-n_rows+n_null_rows:,:] = grad\n",
        "          grad_g_pi_list.append(null_rows_and_grad_g_pi)\n",
        "          s_not_added_list = []\n",
        "      else:\n",
        "        s_not_added_list.append(s)\n",
        "    if len(s_not_added_list) != 0:\n",
        "      n_null_rows = 0\n",
        "      for s_ in s_not_added_list:\n",
        "        n_null_rows += self.A[player][s_]\n",
        "      n_rows = n_null_rows + grad_g_pi_list[-1].shape[0]\n",
        "      n_cols = grad_g_pi_list[-1].shape[1]\n",
        "      null_rows_and_grad_g_pi = torch.zeros(n_rows, n_cols).to(self.device)\n",
        "      null_rows_and_grad_g_pi[:n_rows-n_null_rows,:] = grad_g_pi_list[-1].clone()\n",
        "      grad_g_pi_list[-1] = null_rows_and_grad_g_pi\n",
        "    \n",
        "    J_gi_pi = torch.block_diag(*grad_g_pi_list)\n",
        "    return J_gi_pi\n",
        "\n",
        "  def build_grad_tensors(self, hard_constraints):           \n",
        "    grad_f_vector = self.bellman_error_gradient_vector()\n",
        "    grad_g_v, grad_g_pi = self.nash_restriction_gradients(hard_constraints)\n",
        "    grad_g_matrix = torch.zeros(self.n_restrictions, self.n_vars).to(self.device)\n",
        "    \n",
        "    if not hard_constraints:\n",
        "      g_nash_pure = self.calculate_nash_restrictions(hard_constraints=True)\n",
        "\n",
        "    for player in self.players():\n",
        "      other_player = self.other_player(player)\n",
        "\n",
        "      # fill jacobian with restriction gradients for v\n",
        "      grad_g_v_list = [grad_g_v[player][s].clone() for s in self.S]\n",
        "      J_gi_vi = torch.cat(grad_g_v_list, dim=0)\n",
        "      y0 = self.get_player_id(player) * self.N_A_total['1']\n",
        "      yf = self.N_A_total['1'] + self.get_player_id(player) * self.N_A_total['2']\n",
        "      x0 = self.get_player_id(player) * self.N_S\n",
        "      xf = x0 + self.N_S\n",
        "      grad_g_matrix[y0:yf,x0:xf] = J_gi_vi\n",
        "\n",
        "      # fill jacobian with nash restriction gradients for pi \n",
        "      J_gmi_pi = self.nash_restrictions_pi_mi_jacobian_matrix(player, grad_g_pi)\n",
        "      y0 = self.get_player_id(other_player) * self.N_A_total['1']\n",
        "      yf = self.N_A_total['1'] + self.get_player_id(other_player) * self.N_A_total['2']\n",
        "      x0 = 2*self.N_S + self.get_player_id(player) * self.N_A_reduced['1']\n",
        "      xf = 2*self.N_S + self.N_A_reduced['1'] + self.get_player_id(player) * self.N_A_reduced['2']\n",
        "      grad_g_matrix[y0:yf,x0:xf] = J_gmi_pi\n",
        "\n",
        "      if not hard_constraints:\n",
        "        J_gi_pi = self.nash_restrictions_pi_i_jacobian_matrix(player, g_nash_pure)\n",
        "        y0 = self.get_player_id(player) * self.N_A_total['1']\n",
        "        yf = self.N_A_total['1'] + self.get_player_id(player) * self.N_A_total['2']\n",
        "        grad_g_matrix[y0:yf,x0:xf] = J_gi_pi\n",
        "\n",
        "      # fill jacobian with positivity restriction gradients for pi \n",
        "      J_gpi_plus = -torch.eye(self.N_A_reduced[player]).to(self.device)\n",
        "      y0 = self.N_A_total['1'] + self.N_A_total['2'] + self.get_player_id(player) * self.N_A_reduced['1']\n",
        "      yf = (self.N_A_total['1'] + self.N_A_total['2'] + self.N_A_reduced['1'] \n",
        "            + self.get_player_id(player) * self.N_A_reduced['2'])\n",
        "      grad_g_matrix[y0:yf,x0:xf] = J_gpi_plus\n",
        "\n",
        "      # fill jacobian with unitary sum restriction gradients for pi\n",
        "      grad_gpi_one_list = []\n",
        "      for s in self.S:\n",
        "        NA = self.A[player][s]\n",
        "        if self.more_than_one_action(player, s):\n",
        "          grad_gpi_one_list.append(torch.ones(1,NA).to(self.device))\n",
        "\n",
        "      J_gpi_one = torch.block_diag(*grad_gpi_one_list)\n",
        "      y0 = (self.N_A_total['1'] + self.N_A_total['2'] + self.N_A_reduced['1'] \n",
        "            + self.N_A_reduced['2'] + self.get_player_id(player) * self.N_S_reduced['1'])\n",
        "      yf = (self.N_A_total['1'] + self.N_A_total['2'] + self.N_A_reduced['1'] + self.N_A_reduced['2'] \n",
        "            + self.N_S_reduced['1'] + self.get_player_id(player) * self.N_S_reduced['2'])\n",
        "      grad_g_matrix[y0:yf,x0:xf] = J_gpi_one\n",
        "\n",
        "    return grad_f_vector, grad_g_matrix\n",
        "  \n",
        "  def calculate_descent_direction(self, g_vector, grad_f_vector, grad_g_matrix, r_value=1.0):\n",
        "    g_vector_ineq = self.mask_inequality_restrictions(g_vector)\n",
        "    g_vector_eq = self.mask_equality_restrictions(g_vector)\n",
        "    g_diag_matrix = torch.diag(r_value * g_vector_ineq.view(-1))\n",
        "\n",
        "    A_matrix = g_diag_matrix - torch.einsum('ik,jk->ij', grad_g_matrix, grad_g_matrix) \n",
        "    b_vector = torch.einsum('ij,jk->ik', grad_g_matrix, grad_f_vector) - g_vector_eq \n",
        "    duals_0_vector = torch.solve(b_vector, A_matrix)[0]\n",
        "\n",
        "    d0_vector = - grad_f_vector - torch.einsum('ij,ik->jk', grad_g_matrix, duals_0_vector)\n",
        "    norm_2_d0 = d0_vector.pow(2).sum().item() \n",
        "    return d0_vector, norm_2_d0, duals_0_vector, A_matrix, b_vector\n",
        "\n",
        "  def calculate_feasible_direction(self, g_vector, c_vector, duals_0_vector, \n",
        "                                  norm_2_d0, A_matrix, b_vector, rho,\n",
        "                                  grad_f_vector, grad_g_matrix,\n",
        "                                  alpha=0.5):\n",
        "    mWe = torch.solve(torch.ones_like(b_vector), A_matrix)[0]\n",
        "    g_vector_eq = self.mask_equality_restrictions(g_vector)\n",
        "    dot = (g_vector_eq.view(-1) * mWe.view(-1)).sum()\n",
        "\n",
        "    new_rho = rho\n",
        "    div = (duals_0_vector.sum() + c_vector.sum() + dot).item()\n",
        "    if div > 0:\n",
        "        rho_1 = (1.0-alpha) / div\n",
        "        if rho_1 < rho:\n",
        "          new_rho = 0.5 * rho_1\n",
        "\n",
        "    duals_vector = torch.solve(b_vector - new_rho * norm_2_d0, A_matrix)[0]\n",
        "    d_vector = - grad_f_vector - torch.einsum('ij,ik->jk', grad_g_matrix, duals_vector)\n",
        "    return d_vector, duals_vector, new_rho, mWe\n",
        "\n",
        "  @staticmethod\n",
        "  def calculate_auxiliary_bellman_error(f, g_vector, c_vector):\n",
        "    return (f - (c_vector.view(-1) * g_vector.view(-1)).sum()).item()\n",
        "\n",
        "  def feasible_gradient_descent(self, f, g_vector, c_vector, d_vector,\n",
        "                                grad_f_vector, grad_g_matrix, d_v, d_pi, \n",
        "                                duals_vector, hard_constraints, bound_step_size, max_steps=1200, \n",
        "                                eta=0.1, nu=1.1, gamma_0=0.5, verbose=False, on=True):\n",
        "    \n",
        "    # Calculate loss function\n",
        "    theta = self.calculate_auxiliary_bellman_error(f, g_vector, c_vector)\n",
        "    \n",
        "    # Calculate required decrement in the loss function\n",
        "    grad_theta_vector = grad_f_vector - torch.einsum('ij,ik->jk', grad_g_matrix, c_vector)\n",
        "    decrement = (d_vector.view(-1) * grad_theta_vector.view(-1)).sum().item()\n",
        "    \n",
        "    # Procedure to find feasible step size \n",
        "    found_feasible_step_size = False\n",
        "    step_size = 1.0\n",
        "    n_step = 0\n",
        "    max_steps = max(1, max_steps)\n",
        "    while (not found_feasible_step_size) and (n_step < max_steps):\n",
        "      game_temp = self.copy_game()\n",
        "      # Update parameters performing step in feasible descent direction \n",
        "      game_temp.v.data.add_(step_size * d_v)\n",
        "      for s, player in self.state_player_pairs():\n",
        "        if game_temp.more_than_one_action(player, s):\n",
        "          game_temp.pi[player][s].data.add_(step_size * d_pi[player][s])\n",
        "\n",
        "      pi_vector_temp = game_temp.pi2vec()\n",
        "      pi_sum_vector_temp = game_temp.pi_sum()\n",
        "      f_temp = game_temp.calculate_bellman_error()\n",
        "      g_vector_temp = game_temp.calculate_restriction_vector(hard_constraints)\n",
        "      theta_temp = game_temp.calculate_auxiliary_bellman_error(f_temp, g_vector_temp, c_vector)      \n",
        "      \n",
        "      gamma = gamma_0 * torch.ones_like(duals_vector)\n",
        "      gamma[duals_vector < 0] = 1.0\n",
        "      gamma[-self.N_S_reduced['1']-self.N_S_reduced['2']:,:] = 0.0\n",
        "\n",
        "      theta_decreased = theta_temp <= theta + eta * step_size * decrement\n",
        "      NAt = self.N_A_total['1'] + self.N_A_total['2']\n",
        "      g_v_valid = torch.all(g_vector_temp[:NAt] <= (g_vector * gamma)[:NAt]).item()\n",
        "      g_pi_valid = torch.all(g_vector_temp[NAt:] <= (g_vector * gamma)[NAt:]).item()\n",
        "      g_valid = g_v_valid and g_pi_valid\n",
        "      \n",
        "      # Check if the current step size results in a feasible descent direction\n",
        "      if theta_decreased and g_valid:\n",
        "        found_feasible_step_size = True\n",
        "      else:        \n",
        "        step_size /= nu\n",
        "      n_step += 1\n",
        "      if verbose:\n",
        "        \n",
        "        print(\"Step: {}, Step size: {:.3e}, Found feasible: {}\".format(\n",
        "            n_step, step_size, found_feasible_step_size))\n",
        "        print(theta_decreased, g_v_valid, g_pi_valid)\n",
        "        print(\"Step: {}, f: {:.3e}, f new: {:.3e}, theta: {:.3e}, theta new: {:.3e}\".format(\n",
        "            n_step, f.item(), f_temp.item(), theta, theta_temp))\n",
        "      \n",
        "    if found_feasible_step_size and on:\n",
        "      self.v.data.add_(step_size * d_v)\n",
        "      for s, player in self.state_player_pairs():\n",
        "        if self.more_than_one_action(player, s):\n",
        "          self.pi[player][s].data.add_(step_size * d_pi[player][s])\n",
        "\n",
        "    return found_feasible_step_size, n_step, f_temp, step_size\n",
        "\n",
        "  def optimize_game(self, hard_constraints=True, max_steps=1200, n_epochs=100, verbose=False, c=1.0, rho_0=1.0, on=True, eta_0=1e-3, nu=1.1, print_each=5):\n",
        "    f_0 = self.calculate_bellman_error()\n",
        "    eta = eta_0\n",
        "    rho = rho_0\n",
        "    c_vector = c*torch.ones(self.n_restrictions,1).to(self.device)\n",
        "    c_vector = self.mask_equality_restrictions(c_vector)\n",
        "    step_sizes_list = []\n",
        "    step_size_bounds_list = []\n",
        "    dual_vectors_list = []\n",
        "    c_vectors_list = []\n",
        "    rhos_list = []\n",
        "    with torch.no_grad():\n",
        "      for epoch in range(0, n_epochs):\n",
        "        f = self.calculate_bellman_error()\n",
        "        g_vector = self.calculate_restriction_vector(hard_constraints)\n",
        "        grad_f_vector, grad_g_matrix = self.build_grad_tensors(hard_constraints)\n",
        "        \n",
        "        d0_vector, norm_2_d0, duals_0_vector, A_matrix, b_vector = self.calculate_descent_direction(g_vector, grad_f_vector, grad_g_matrix)\n",
        "        c_vector = self.update_c_vector(c_vector, duals_0_vector)\n",
        "        c_vectors_list.append(c_vector)\n",
        "        \n",
        "        d_vector, duals_vector, new_rho, mWe = self.calculate_feasible_direction(g_vector, c_vector, duals_0_vector, \n",
        "                                                                            norm_2_d0, A_matrix, b_vector, rho, \n",
        "                                                                            grad_f_vector, grad_g_matrix)\n",
        "        dual_vectors_list.append(duals_vector)\n",
        "        rhos_list.append(new_rho)\n",
        "        d_v, d_pi, duals = self.vec2dic(d_vector, duals_vector)\n",
        "\n",
        "        g_nash_satisfied, max_g_nash, prod_zero_satisfied, max_prod_zero = self.check_nash_KKT_conditions(duals, hard_constraints)\n",
        "        pi_KKT = self.check_pi_KKT_conditions(duals)\n",
        "        g_pi_plus_satisfied, max_g_pi_plus, prod_zero_plus_satisfied, max_prod_zero_plus = pi_KKT[:4] \n",
        "        g_pi_one_satisfied, max_g_pi_one, prod_zero_one_satisfied, max_prod_zero_one = pi_KKT[4:]\n",
        "\n",
        "        bound_step_size = self.calculate_bound_step_size(duals_vector, c_vector, new_rho, norm_2_d0, grad_g_matrix, mWe)\n",
        "        step_size_bounds_list.append(bound_step_size)\n",
        "\n",
        "        found_feasible_step_size, n_step, f_new, step_size = self.feasible_gradient_descent(f, g_vector, c_vector, d_vector, \n",
        "                                                                                  grad_f_vector, grad_g_matrix, d_v, d_pi, \n",
        "                                                                                  duals_vector, hard_constraints, bound_step_size, verbose=verbose, \n",
        "                                                                                  max_steps=max_steps, on=on, eta=eta, nu=nu) # TODO: check if passing wrong grad_f\n",
        "        if found_feasible_step_size:\n",
        "          #eta /= 10.0\n",
        "          rho = new_rho\n",
        "          step_sizes_list.append(step_size)\n",
        "          delta_f = (f_new - f_0) / f_0 * 100\n",
        "        else:\n",
        "          break\n",
        "        \n",
        "        if ((epoch + 1) % print_each == 0):\n",
        "          print('Epoch: {}, f: {:.5e}, delta f: {:.5e}%, nash satisfied: {}, max g: {:.3e}, dual nash satisfied: {}, max product: {:.3e}, rho: {:.3e}, norm2 d0:{:.3e}, ss: {:.3e}'.format(\n",
        "              epoch, f_new.item(), delta_f.item(), g_nash_satisfied, max_g_nash, prod_zero_satisfied, max_prod_zero, rho, norm_2_d0, step_size))\n",
        "          \n",
        "          print('Epoch: {}, >0 satisfied: {}, max g>0: {:.3e}, dual >0 satisfied: {}, max product >0: {:.3e}, =1 satisfied: {}, max g=1: {:.3e}, dual =1 satisfied: {}, max product =1: {:.3e}'.format(\n",
        "            epoch, g_pi_plus_satisfied, max_g_pi_plus, prod_zero_plus_satisfied, max_prod_zero_plus, g_pi_one_satisfied, max_g_pi_one, prod_zero_one_satisfied, max_prod_zero_one))\n",
        "                  \n",
        "    self.save()\n",
        "    step_sizes = torch.FloatTensor(step_sizes_list).to(self.device)\n",
        "    step_size_bounds = torch.FloatTensor(step_size_bounds_list).to(self.device)\n",
        "    rhos = torch.FloatTensor(rhos_list).to(self.device)\n",
        "    return step_sizes, step_size_bounds, dual_vectors_list, rhos, c_vectors_list\n",
        "  \n",
        "  def calculate_max_eigen_g_hessian(self):\n",
        "    mu_list = []\n",
        "    grad_g_v_dic, grad_g_pi_dic = self.nash_restriction_gradients(True)\n",
        "    dim = self.N_S + self.N_A_reduced['1'] + self.N_A_reduced['2']\n",
        "    NS = self.N_S\n",
        "    for player in self.players():\n",
        "      other_player = self.other_player(player)\n",
        "      NAi = self.N_A_reduced[player]\n",
        "      NAmi = self.N_A_reduced[other_player]\n",
        "      for state in self.S_no_string:\n",
        "        s = str(state)\n",
        "        pi_sum = self.pi[player][s].sum()\n",
        "        next_v_matrix = grad_g_pi_dic[other_player][s]\n",
        "        grad_g_v_matrix = grad_g_v_dic[player][s]\n",
        "        for ai in range(0, self.A[player][s]):\n",
        "          Tr = self.transition_matrix_given_sai(player, state, ai)\n",
        "          M14 = self.beta * pi_sum * Tr \n",
        "          # next_v = next_v_matrix[ai,:].view(-1)\n",
        "          # ones_1 = torch.ones(NAi,NAmi).to(self.device)\n",
        "          # M34 = torch.einsum('ij,jk->ik', ones_1, torch.diag(next_v))\n",
        "          Ri = self.R[player][s].clone()\n",
        "          if player == '2':\n",
        "            Ri = Ri.T\n",
        "          v_player = self.v[:,self.get_player_id(player)].view(-1,1)\n",
        "          next_v = Ri[ai,:].view(1,-1) + self.beta * torch.einsum('ji,jk->ki', Tr, v_player)\n",
        "          ones_1 = torch.ones(NAi,1).to(self.device)\n",
        "          M34 = torch.einsum('ij,jk->ik', ones_1, next_v)\n",
        "          \n",
        "          # p = grad_g_v_matrix[ai,:].view(-1)\n",
        "          # id_s = self.get_state_index(s)\n",
        "          # p[id_s] += 1\n",
        "          # ones_2 = torch.ones(NS,NAi).to(self.device)\n",
        "          # M13 = torch.einsum('ij,jk->ik', torch.diag(p), ones_2)\n",
        "          p = torch.einsum('ij,jk->ik', Tr, self.pi[other_player][s]) #grad_g_v_matrix[ai,:].view(-1)\n",
        "          ones_2 = torch.ones(NAi,1).to(self.device)\n",
        "          M13 = self.beta * torch.einsum('ij,kj->ik', p, ones_2)\n",
        "\n",
        "          # print(M13.shape, M14.shape, M34.shape)\n",
        "\n",
        "          M = torch.zeros(dim, dim).to(self.device)\n",
        "          M[:NS,NS:NS+NAi] = M13.clone()\n",
        "          M[:NS,NS+NAi:] = M14.clone()\n",
        "          M[NS:NS+NAi,:NS] = M13.T.clone()\n",
        "          M[NS:NS+NAi,NS+NAi:] = M34.clone()\n",
        "          M[NS+NAi:,:NS] = M14.T.clone()\n",
        "          M[NS+NAi:,NS:NS+NAi] = M34.T.clone()\n",
        "\n",
        "          M_eigval, M_eigvec = torch.eig(M)\n",
        "          mu_list.append(M_eigval.max())\n",
        "    mu_vector = torch.FloatTensor(mu_list).view(-1,1).to(self.device)\n",
        "    return mu_vector\n",
        "\n",
        "  def calculate_bound_step_size(self, duals_vector, c_vector, rho, d0_2norm, \n",
        "                                grad_g_matrix, mWe, gamma_0=0.5, r_value=1.0):\n",
        "    beta_1_tau = 1 + rho * d0_2norm**0.5 * torch.einsum('ji,jk->ik', grad_g_matrix, mWe).pow(2).sum()**0.5\n",
        "    beta_tau = beta_1_tau**(-2)\n",
        "    if self.N_S == 1:\n",
        "      mu_vector = self.calculate_max_eigen_g_hessian()\n",
        "    else:\n",
        "      mu_vector = torch.ones_like(duals_vector)\n",
        "    tau_lambda = (1-gamma_0) / (r_value * (duals_vector + c_vector).max())\n",
        "    tau_mu = 2 * beta_tau * rho / mu_vector.max()\n",
        "    tau = np.infty\n",
        "    if duals_vector.max() > 0.0:\n",
        "      tau = tau_lambda.item()\n",
        "      if mu_vector.max() > 0.0:\n",
        "        tau = min(tau, tau_mu.item())\n",
        "    else:\n",
        "      if mu_vector.max() > 0.0:\n",
        "        tau = tau_mu.item()\n",
        "    return tau\n",
        "\n",
        "  #-----------------------------------------------------------------------------\n",
        "  # Methods related with the KKT conditions\n",
        "\n",
        "  def check_nash_KKT_conditions(self, lambda_nash, hard_constraints, tol=1e-8):\n",
        "    with torch.no_grad():\n",
        "      # Calculate restrictions\n",
        "      g_nash = self.calculate_nash_restrictions(hard_constraints)\n",
        "\n",
        "      g_nash_satisfied = True\n",
        "      product_zero_satisfied = True\n",
        "      \n",
        "      max_g_nash = -np.infty\n",
        "      max_product_zero = -np.infty\n",
        "      \n",
        "      for player in self.players():\n",
        "        remaining_duals = lambda_nash[player].clone()\n",
        "        for s in self.S:\n",
        "          if self.more_than_one_action(player, s):\n",
        "            NA = self.A[player][s]\n",
        "            g_nash_satisfied = g_nash_satisfied and torch.all(g_nash[player][s] <= 0)\n",
        "            max_g_nash = max(max_g_nash, g_nash[player][s].max().item())\n",
        "\n",
        "            lambda_g_nash_product = g_nash[player][s].view(-1) * remaining_duals[:NA,:].view(-1)\n",
        "            product_zero_satisfied = product_zero_satisfied and torch.all(lambda_g_nash_product.abs() <= tol)\n",
        "            max_product_zero = max(max_product_zero, lambda_g_nash_product.abs().max().item())\n",
        "            remaining_duals = remaining_duals[NA:,:]\n",
        "      return g_nash_satisfied, max_g_nash, product_zero_satisfied, max_product_zero\n",
        "\n",
        "  def check_pi_KKT_conditions(self, duals, tol=1e-8):\n",
        "    pi_vector = self.pi2vec()\n",
        "    pi_sum_vector = self.pi_sum()\n",
        "    \n",
        "    with torch.no_grad():\n",
        "      g_pi_plus_satisfied = True\n",
        "      g_pi_one_satisfied = True\n",
        "\n",
        "      product_zero_plus_satisfied = True\n",
        "      product_zero_one_satisfied = True\n",
        "\n",
        "      max_g_pi_plus = -np.infty\n",
        "      max_g_pi_one = -np.infty\n",
        "\n",
        "      max_product_zero_plus = -np.infty\n",
        "      max_product_zero_one = -np.infty\n",
        "\n",
        "      for player in self.players():\n",
        "        g_pi_plus_satisfied = g_pi_plus_satisfied and torch.all(pi_vector[player] >= 0)\n",
        "        g_pi_one_satisfied = g_pi_one_satisfied and torch.all(pi_sum_vector[player] <= 1)\n",
        "\n",
        "        max_g_pi_plus = max(max_g_pi_plus, -pi_vector[player].min().item())\n",
        "        max_g_pi_one = max(max_g_pi_one, (pi_sum_vector[player]-1).min().item())\n",
        "\n",
        "        NAt = self.N_A_total[player]\n",
        "        NAr = self.N_A_reduced[player]\n",
        "        lambda_g_pi_plus_product = -pi_vector[player].view(-1) * duals[player][NAt:NAt+NAr,:].view(-1) # TODO: fix for assymetric number of actions\n",
        "        product_zero_plus_satisfied = product_zero_plus_satisfied and torch.all(lambda_g_pi_plus_product.abs() <= tol)\n",
        "        max_product_zero_plus = max(max_product_zero_plus, lambda_g_pi_plus_product.abs().max().item())\n",
        "        lambda_g_pi_one_product = (pi_sum_vector[player].view(-1)-1) * duals[player][NAt+NAr:,:].view(-1)\n",
        "        product_zero_one_satisfied = product_zero_one_satisfied and torch.all(lambda_g_pi_one_product.abs() <= tol)\n",
        "        max_product_zero_one = max(max_product_zero_one, lambda_g_pi_one_product.abs().max().item())\n",
        "    \n",
        "      return (g_pi_plus_satisfied, max_g_pi_plus, product_zero_plus_satisfied, max_product_zero_plus, \n",
        "              g_pi_one_satisfied, max_g_pi_one, product_zero_one_satisfied, max_product_zero_one)   "
      ],
      "execution_count": 18,
      "outputs": []
    },
    {
      "cell_type": "markdown",
      "metadata": {
        "id": "6ZNA9Fv1-1-h"
      },
      "source": [
        "# Prisoner's Dilemma With Incentives\n",
        "\n",
        "Now, we will create an instance of a stochastic game that corresponds to the prisoner's dilemma game. This game will include a modification that allows for mutual incentives between the prisoners. For this, we first need to specify the required player, state, and action sets $N, S, A$, and the reward and transition maps $R,T$."
      ]
    },
    {
      "cell_type": "code",
      "metadata": {
        "id": "EPVt4jdFpH13"
      },
      "source": [
        "# Define player set N\n",
        "N = 2\n",
        "\n",
        "# Define state set S\n",
        "M = 5\n",
        "G = [('G',)]\n",
        "O = [('O',i) for i in range(1,2+1)]\n",
        "E1 = [('E1',i,j) for i in range(0,2) for j in range(0,M+1)]\n",
        "E2 = [('E2',i,j) for i in range(0,2) for j in range(0,M+1)]\n",
        "R1 = [('R1',i) for i in range(0,2)]\n",
        "R2 = [('R2',i) for i in range(0,2)]\n",
        "S = list(itertools.chain(G.copy(), O.copy(), E1.copy(), E2.copy(), R1.copy(), R2.copy())) \n",
        "\n",
        "# Define action set A^i(s) per player and state\n",
        "A = {'1':{}, '2':{}}\n",
        "for player_id in range(0, N):\n",
        "  player = str(player_id+1)\n",
        "  other_player_id = 1-player_id\n",
        "  other_player = str(other_player_id+1)\n",
        "  A[player][str(('G',))] = 2\n",
        "  A[player][str(('O',player_id+1))] = 2*(M+1)\n",
        "  A[player][str(('O',other_player_id+1))] = 1\n",
        "  for i in range(0,2):\n",
        "    for j in range(0,M+1):\n",
        "      A[player][str(('E'+player,i,j))] = 2\n",
        "      A[player][str(('E'+other_player,i,j))] = 1\n",
        "    A[player][str(('R'+player,i))] = 2\n",
        "    A[player][str(('R'+other_player,i))] = 1\n",
        "\n",
        "# Define discount factor\n",
        "beta = 0.99"
      ],
      "execution_count": null,
      "outputs": []
    },
    {
      "cell_type": "code",
      "metadata": {
        "id": "L3p_qDLQ0kl3"
      },
      "source": [
        "# Define payoff map R\n",
        "R1 = np.array([[3.,0.],[5.,1.]])\n",
        "R2 = np.array([[3.,5.],[0.,1.]])\n",
        "\n",
        "def offer_accepted(action):\n",
        "  if action == 0:\n",
        "    return True\n",
        "  else:\n",
        "    return False\n",
        "\n",
        "def prisoner_dilemma_rewards(state, actions):\n",
        "  if 'G' in state:\n",
        "    r1 = R1[actions[0], actions[1]]\n",
        "    r2 = R2[actions[0], actions[1]]\n",
        "  elif 'O' in state:\n",
        "    r1 = r2 = 0.0\n",
        "  elif 'E1' in state:\n",
        "    _, _, offeral = state\n",
        "    if offer_accepted(actions[0]):\n",
        "      r1 = offeral\n",
        "      r2 = -offeral\n",
        "    else:\n",
        "      r1 = r2 = 0\n",
        "  elif 'E2' in state:\n",
        "    _, _, offeral = state\n",
        "    if offer_accepted(actions[1]):\n",
        "      r1 = -offeral\n",
        "      r2 = offeral\n",
        "    else:\n",
        "      r1 = r2 = 0\n",
        "  elif 'R1' in state:\n",
        "    _, i = state\n",
        "    r1 = R1[actions[0], i]\n",
        "    r2 = R2[actions[0], i]\n",
        "  elif 'R2' in state:\n",
        "    _, i = state\n",
        "    r1 = R1[i, actions[1]]\n",
        "    r2 = R2[i, actions[1]]\n",
        "  else:\n",
        "    assert 0 == 1, 'Invalid state'\n",
        "  return r1, r2\n",
        "\n",
        "def prisoner_dilemma_reward_matrices(s):\n",
        "  if 'G' in s:\n",
        "    RM1 = R1.copy()\n",
        "    RM2 = R2.copy()\n",
        "  else:\n",
        "    N_A1 = A['1'][str(s)]\n",
        "    N_A2 = A['2'][str(s)]\n",
        "    RM1 = np.zeros((N_A1,N_A2))\n",
        "    RM2 = np.zeros((N_A1,N_A2))\n",
        "    for a1 in range(0,N_A1):\n",
        "      for a2 in range(0,N_A2):\n",
        "        r1, r2 = prisoner_dilemma_rewards(s, [a1,a2])\n",
        "        RM1[a1,a2] = r1\n",
        "        RM2[a1,a2] = r2\n",
        "  return RM1, RM2  \n",
        "\n",
        "R = {'1':{}, '2':{}}\n",
        "for s in S:\n",
        "  RM1, RM2 = prisoner_dilemma_reward_matrices(s)\n",
        "  R['1'][str(s)] = torch.FloatTensor(RM1).clone()\n",
        "  R['2'][str(s)] = torch.FloatTensor(RM2).clone()"
      ],
      "execution_count": null,
      "outputs": []
    },
    {
      "cell_type": "code",
      "metadata": {
        "id": "eCEX15Bq4cyE"
      },
      "source": [
        "# Define transition map\n",
        "def prisoner_dilemma_transition_info(state, actions):\n",
        "  if 'G' in state or 'R1' in state or 'R2' in state:\n",
        "    T = [(('O',1), 0.5), (('O',2), 0.5)]\n",
        "    return ('R', T)\n",
        "  elif 'O' in state:\n",
        "    player_id = state[1]-1\n",
        "    other_player_id = 1 - player_id\n",
        "    other_player = str(other_player_id + 1)\n",
        "    offeral = actions[player_id] // 2\n",
        "    action_requested = actions[player_id] % 2\n",
        "    return ('D', ('E'+other_player, action_requested, offeral))\n",
        "  elif 'E1' in state:\n",
        "    _, action_requested, _ = state\n",
        "    if offer_accepted(actions[0]):\n",
        "      return ('D', ('R2', action_requested))\n",
        "    else:\n",
        "      return ('D', ('G',))\n",
        "  elif 'E2' in state:\n",
        "    _, action_requested, _ = state\n",
        "    if offer_accepted(actions[1]):\n",
        "      return ('D', ('R1', action_requested))\n",
        "    else:\n",
        "      return ('D', ('G',))   \n",
        "  else:\n",
        "    assert 0 == 1, 'Invalid state' \n",
        "\n",
        "prisoner_dilemma_transition_types = {}\n",
        "for state in S:\n",
        "  if 'G' in state or 'R1' in state or 'R2' in state:\n",
        "    prisoner_dilemma_transition_types[str(state)] = (0,0) \n",
        "  else:\n",
        "    prisoner_dilemma_transition_types[str(state)] = (1,1) # entries correspond to deterministic behaviour and dependence on actions\n",
        "\n",
        "T = (prisoner_dilemma_transition_info, prisoner_dilemma_transition_types)"
      ],
      "execution_count": null,
      "outputs": []
    },
    {
      "cell_type": "markdown",
      "metadata": {
        "id": "3BNAscRPo2x-"
      },
      "source": [
        "Now we initialize the game and optimize it with the Herskovits algorithm."
      ]
    },
    {
      "cell_type": "code",
      "metadata": {
        "id": "rvdgNUPN510L"
      },
      "source": [
        "game = multi_player_game(N, S, A, R, T, beta, device).to(device)"
      ],
      "execution_count": null,
      "outputs": []
    },
    {
      "cell_type": "code",
      "metadata": {
        "id": "XLuixBYJl64d",
        "outputId": "ae490976-9646-4964-8e2b-70bd361c270a",
        "colab": {
          "base_uri": "https://localhost:8080/",
          "height": 1000
        }
      },
      "source": [
        "game.optimize_game(verbose=False, n_epochs=100)"
      ],
      "execution_count": null,
      "outputs": [
        {
          "output_type": "stream",
          "text": [
            "Epoch: 0, f: 1.36804e+02, delta f: -7.25305e+00%, nash satisfied: True, max g: -9.999e-03, dual nash satisfied: False, max product: 7.448e+00, rho: 2.500e-04, norm2 d0:9.407e+01\n",
            "Epoch: 0, >0 satisfied: True, max g>0: -5.556e-02, dual >0 satisfied: False, max product >0: 7.995e-01, =1 satisfied: True, max g=1: -3.333e-01, dual =1 satisfied: False, max product =1: 9.721e+00\n",
            "Epoch: 1, f: 1.28378e+02, delta f: -1.29656e+01%, nash satisfied: True, max g: -7.436e-03, dual nash satisfied: False, max product: 7.193e+00, rho: 2.500e-04, norm2 d0:8.103e+01\n",
            "Epoch: 1, >0 satisfied: True, max g>0: -2.815e-02, dual >0 satisfied: False, max product >0: 7.888e-01, =1 satisfied: True, max g=1: -3.095e-01, dual =1 satisfied: False, max product =1: 8.294e+00\n",
            "Epoch: 2, f: 1.21281e+02, delta f: -1.77770e+01%, nash satisfied: True, max g: -6.124e-03, dual nash satisfied: False, max product: 7.009e+00, rho: 2.500e-04, norm2 d0:7.234e+01\n",
            "Epoch: 2, >0 satisfied: True, max g>0: -1.462e-02, dual >0 satisfied: False, max product >0: 7.719e-01, =1 satisfied: True, max g=1: -2.908e-01, dual =1 satisfied: False, max product =1: 7.245e+00\n",
            "Epoch: 3, f: 1.14912e+02, delta f: -2.20948e+01%, nash satisfied: True, max g: -5.268e-03, dual nash satisfied: False, max product: 6.877e+00, rho: 2.500e-04, norm2 d0:6.606e+01\n",
            "Epoch: 3, >0 satisfied: True, max g>0: -7.598e-03, dual >0 satisfied: False, max product >0: 7.521e-01, =1 satisfied: True, max g=1: -2.751e-01, dual =1 satisfied: False, max product =1: 6.490e+00\n",
            "Epoch: 4, f: 1.08841e+02, delta f: -2.62104e+01%, nash satisfied: True, max g: -4.621e-03, dual nash satisfied: False, max product: 6.787e+00, rho: 2.500e-04, norm2 d0:6.127e+01\n",
            "Epoch: 4, >0 satisfied: True, max g>0: -3.884e-03, dual >0 satisfied: False, max product >0: 7.295e-01, =1 satisfied: True, max g=1: -2.610e-01, dual =1 satisfied: False, max product =1: 6.237e+00\n",
            "Epoch: 5, f: 1.03059e+02, delta f: -3.01305e+01%, nash satisfied: True, max g: -4.075e-03, dual nash satisfied: False, max product: 6.735e+00, rho: 2.500e-04, norm2 d0:5.752e+01\n",
            "Epoch: 5, >0 satisfied: True, max g>0: -1.966e-03, dual >0 satisfied: False, max product >0: 7.025e-01, =1 satisfied: True, max g=1: -2.477e-01, dual =1 satisfied: False, max product =1: 6.082e+00\n",
            "Epoch: 6, f: 9.78687e+01, delta f: -3.36494e+01%, nash satisfied: True, max g: -3.601e-03, dual nash satisfied: False, max product: 6.724e+00, rho: 2.500e-04, norm2 d0:5.470e+01\n",
            "Epoch: 6, >0 satisfied: True, max g>0: -1.114e-03, dual >0 satisfied: False, max product >0: 6.697e-01, =1 satisfied: True, max g=1: -2.350e-01, dual =1 satisfied: False, max product =1: 6.020e+00\n",
            "Epoch: 7, f: 9.29217e+01, delta f: -3.70032e+01%, nash satisfied: True, max g: -3.206e-03, dual nash satisfied: False, max product: 6.740e+00, rho: 2.500e-04, norm2 d0:5.270e+01\n",
            "Epoch: 7, >0 satisfied: True, max g>0: -7.908e-04, dual >0 satisfied: False, max product >0: 6.318e-01, =1 satisfied: True, max g=1: -2.237e-01, dual =1 satisfied: False, max product =1: 6.452e+00\n",
            "Epoch: 8, f: 8.89693e+01, delta f: -3.96828e+01%, nash satisfied: True, max g: -2.854e-03, dual nash satisfied: False, max product: 6.773e+00, rho: 2.500e-04, norm2 d0:5.110e+01\n",
            "Epoch: 8, >0 satisfied: True, max g>0: -6.298e-04, dual >0 satisfied: False, max product >0: 5.856e-01, =1 satisfied: True, max g=1: -2.129e-01, dual =1 satisfied: False, max product =1: 6.932e+00\n",
            "Epoch: 9, f: 8.55992e+01, delta f: -4.19676e+01%, nash satisfied: True, max g: -2.592e-03, dual nash satisfied: False, max product: 7.303e+00, rho: 2.500e-04, norm2 d0:4.980e+01\n",
            "Epoch: 9, >0 satisfied: True, max g>0: -5.449e-04, dual >0 satisfied: False, max product >0: 5.404e-01, =1 satisfied: True, max g=1: -2.043e-01, dual =1 satisfied: False, max product =1: 7.228e+00\n",
            "Epoch: 10, f: 8.27146e+01, delta f: -4.39232e+01%, nash satisfied: True, max g: -2.381e-03, dual nash satisfied: False, max product: 7.905e+00, rho: 2.500e-04, norm2 d0:4.862e+01\n",
            "Epoch: 10, >0 satisfied: True, max g>0: -4.885e-04, dual >0 satisfied: False, max product >0: 4.964e-01, =1 satisfied: True, max g=1: -1.970e-01, dual =1 satisfied: False, max product =1: 7.417e+00\n",
            "Epoch: 11, f: 7.99298e+01, delta f: -4.58112e+01%, nash satisfied: True, max g: -2.213e-03, dual nash satisfied: False, max product: 8.467e+00, rho: 2.500e-04, norm2 d0:4.753e+01\n",
            "Epoch: 11, >0 satisfied: True, max g>0: -4.480e-04, dual >0 satisfied: False, max product >0: 4.804e-01, =1 satisfied: True, max g=1: -1.907e-01, dual =1 satisfied: False, max product =1: 7.525e+00\n",
            "Epoch: 12, f: 7.73946e+01, delta f: -4.75299e+01%, nash satisfied: True, max g: -2.058e-03, dual nash satisfied: False, max product: 9.047e+00, rho: 2.500e-04, norm2 d0:4.643e+01\n",
            "Epoch: 12, >0 satisfied: True, max g>0: -4.130e-04, dual >0 satisfied: False, max product >0: 4.702e-01, =1 satisfied: True, max g=1: -1.846e-01, dual =1 satisfied: False, max product =1: 7.592e+00\n",
            "Epoch: 13, f: 7.47969e+01, delta f: -4.92910e+01%, nash satisfied: True, max g: -1.926e-03, dual nash satisfied: False, max product: 9.595e+00, rho: 2.500e-04, norm2 d0:4.534e+01\n",
            "Epoch: 13, >0 satisfied: True, max g>0: -3.869e-04, dual >0 satisfied: False, max product >0: 4.597e-01, =1 satisfied: True, max g=1: -1.790e-01, dual =1 satisfied: False, max product =1: 7.610e+00\n",
            "Epoch: 14, f: 7.22912e+01, delta f: -5.09898e+01%, nash satisfied: True, max g: -1.801e-03, dual nash satisfied: False, max product: 1.016e+01, rho: 2.500e-04, norm2 d0:4.413e+01\n",
            "Epoch: 14, >0 satisfied: True, max g>0: -3.613e-04, dual >0 satisfied: False, max product >0: 4.506e-01, =1 satisfied: True, max g=1: -1.733e-01, dual =1 satisfied: False, max product =1: 7.586e+00\n",
            "Epoch: 15, f: 6.95755e+01, delta f: -5.28309e+01%, nash satisfied: True, max g: -1.686e-03, dual nash satisfied: False, max product: 1.069e+01, rho: 2.500e-04, norm2 d0:4.288e+01\n",
            "Epoch: 15, >0 satisfied: True, max g>0: -3.403e-04, dual >0 satisfied: False, max product >0: 4.471e-01, =1 satisfied: True, max g=1: -1.678e-01, dual =1 satisfied: False, max product =1: 7.524e+00\n",
            "Epoch: 16, f: 6.68111e+01, delta f: -5.47051e+01%, nash satisfied: True, max g: -1.574e-03, dual nash satisfied: False, max product: 1.121e+01, rho: 2.500e-04, norm2 d0:4.138e+01\n",
            "Epoch: 16, >0 satisfied: True, max g>0: -3.182e-04, dual >0 satisfied: False, max product >0: 4.419e-01, =1 satisfied: True, max g=1: -1.618e-01, dual =1 satisfied: False, max product =1: 7.405e+00\n",
            "Epoch: 17, f: 6.40033e+01, delta f: -5.66086e+01%, nash satisfied: True, max g: -1.470e-03, dual nash satisfied: False, max product: 1.164e+01, rho: 2.500e-04, norm2 d0:3.968e+01\n",
            "Epoch: 17, >0 satisfied: True, max g>0: -2.980e-04, dual >0 satisfied: False, max product >0: 4.351e-01, =1 satisfied: True, max g=1: -1.556e-01, dual =1 satisfied: False, max product =1: 7.231e+00\n",
            "Epoch: 18, f: 6.09857e+01, delta f: -5.86544e+01%, nash satisfied: True, max g: -1.375e-03, dual nash satisfied: False, max product: 1.190e+01, rho: 2.500e-04, norm2 d0:3.776e+01\n",
            "Epoch: 18, >0 satisfied: True, max g>0: -2.783e-04, dual >0 satisfied: False, max product >0: 4.263e-01, =1 satisfied: True, max g=1: -1.494e-01, dual =1 satisfied: False, max product =1: 7.005e+00\n",
            "Epoch: 19, f: 5.81126e+01, delta f: -6.06022e+01%, nash satisfied: True, max g: -1.284e-03, dual nash satisfied: False, max product: 1.193e+01, rho: 2.500e-04, norm2 d0:3.549e+01\n",
            "Epoch: 19, >0 satisfied: True, max g>0: -2.596e-04, dual >0 satisfied: False, max product >0: 4.144e-01, =1 satisfied: True, max g=1: -1.426e-01, dual =1 satisfied: False, max product =1: 6.705e+00\n",
            "Epoch: 20, f: 5.55284e+01, delta f: -6.23542e+01%, nash satisfied: True, max g: -1.207e-03, dual nash satisfied: False, max product: 1.171e+01, rho: 2.500e-04, norm2 d0:3.313e+01\n",
            "Epoch: 20, >0 satisfied: True, max g>0: -2.393e-04, dual >0 satisfied: False, max product >0: 4.007e-01, =1 satisfied: True, max g=1: -1.362e-01, dual =1 satisfied: False, max product =1: 6.391e+00\n",
            "Epoch: 21, f: 5.31955e+01, delta f: -6.39358e+01%, nash satisfied: True, max g: -1.145e-03, dual nash satisfied: False, max product: 1.131e+01, rho: 2.500e-04, norm2 d0:3.086e+01\n",
            "Epoch: 21, >0 satisfied: True, max g>0: -2.248e-04, dual >0 satisfied: False, max product >0: 3.913e-01, =1 satisfied: True, max g=1: -1.303e-01, dual =1 satisfied: False, max product =1: 6.095e+00\n",
            "Epoch: 22, f: 5.09557e+01, delta f: -6.54543e+01%, nash satisfied: True, max g: -1.093e-03, dual nash satisfied: False, max product: 1.083e+01, rho: 2.500e-04, norm2 d0:2.871e+01\n",
            "Epoch: 22, >0 satisfied: True, max g>0: -2.064e-04, dual >0 satisfied: False, max product >0: 3.885e-01, =1 satisfied: True, max g=1: -1.250e-01, dual =1 satisfied: False, max product =1: 5.825e+00\n",
            "Epoch: 23, f: 4.88044e+01, delta f: -6.69128e+01%, nash satisfied: True, max g: -1.043e-03, dual nash satisfied: False, max product: 1.031e+01, rho: 2.500e-04, norm2 d0:2.663e+01\n",
            "Epoch: 23, >0 satisfied: True, max g>0: -1.929e-04, dual >0 satisfied: False, max product >0: 3.803e-01, =1 satisfied: True, max g=1: -1.200e-01, dual =1 satisfied: False, max product =1: 5.589e+00\n",
            "Epoch: 24, f: 4.66132e+01, delta f: -6.83983e+01%, nash satisfied: True, max g: -9.947e-04, dual nash satisfied: False, max product: 9.779e+00, rho: 2.500e-04, norm2 d0:2.462e+01\n",
            "Epoch: 24, >0 satisfied: True, max g>0: -1.756e-04, dual >0 satisfied: False, max product >0: 3.684e-01, =1 satisfied: True, max g=1: -1.151e-01, dual =1 satisfied: False, max product =1: 5.380e+00\n",
            "Epoch: 25, f: 4.46319e+01, delta f: -6.97415e+01%, nash satisfied: True, max g: -9.451e-04, dual nash satisfied: False, max product: 9.259e+00, rho: 2.500e-04, norm2 d0:2.262e+01\n",
            "Epoch: 25, >0 satisfied: True, max g>0: -1.612e-04, dual >0 satisfied: False, max product >0: 3.544e-01, =1 satisfied: True, max g=1: -1.101e-01, dual =1 satisfied: False, max product =1: 5.210e+00\n",
            "Epoch: 26, f: 4.24929e+01, delta f: -7.11917e+01%, nash satisfied: True, max g: -8.965e-04, dual nash satisfied: False, max product: 8.804e+00, rho: 2.500e-04, norm2 d0:2.083e+01\n",
            "Epoch: 26, >0 satisfied: True, max g>0: -1.453e-04, dual >0 satisfied: False, max product >0: 3.407e-01, =1 satisfied: True, max g=1: -1.056e-01, dual =1 satisfied: False, max product =1: 5.083e+00\n",
            "Epoch: 27, f: 4.04486e+01, delta f: -7.25776e+01%, nash satisfied: True, max g: -8.411e-04, dual nash satisfied: False, max product: 8.356e+00, rho: 2.500e-04, norm2 d0:1.892e+01\n",
            "Epoch: 27, >0 satisfied: True, max g>0: -1.291e-04, dual >0 satisfied: False, max product >0: 3.261e-01, =1 satisfied: True, max g=1: -1.008e-01, dual =1 satisfied: False, max product =1: 4.994e+00\n",
            "Epoch: 28, f: 3.83799e+01, delta f: -7.39801e+01%, nash satisfied: True, max g: -7.858e-04, dual nash satisfied: False, max product: 8.555e+00, rho: 2.500e-04, norm2 d0:1.714e+01\n",
            "Epoch: 28, >0 satisfied: True, max g>0: -1.130e-04, dual >0 satisfied: False, max product >0: 3.133e-01, =1 satisfied: True, max g=1: -9.615e-02, dual =1 satisfied: False, max product =1: 4.961e+00\n",
            "Epoch: 29, f: 3.64113e+01, delta f: -7.53148e+01%, nash satisfied: True, max g: -7.257e-04, dual nash satisfied: False, max product: 9.510e+00, rho: 2.500e-04, norm2 d0:1.537e+01\n",
            "Epoch: 29, >0 satisfied: True, max g>0: -9.419e-05, dual >0 satisfied: False, max product >0: 3.024e-01, =1 satisfied: True, max g=1: -9.145e-02, dual =1 satisfied: False, max product =1: 4.995e+00\n",
            "Epoch: 30, f: 3.46475e+01, delta f: -7.65105e+01%, nash satisfied: True, max g: -6.609e-04, dual nash satisfied: False, max product: 1.074e+01, rho: 2.500e-04, norm2 d0:1.370e+01\n",
            "Epoch: 30, >0 satisfied: True, max g>0: -8.052e-05, dual >0 satisfied: False, max product >0: 2.942e-01, =1 satisfied: True, max g=1: -8.697e-02, dual =1 satisfied: False, max product =1: 5.107e+00\n",
            "Epoch: 31, f: 3.29708e+01, delta f: -7.76473e+01%, nash satisfied: True, max g: -5.980e-04, dual nash satisfied: False, max product: 1.231e+01, rho: 2.500e-04, norm2 d0:1.227e+01\n",
            "Epoch: 31, >0 satisfied: True, max g>0: -6.408e-05, dual >0 satisfied: False, max product >0: 2.908e-01, =1 satisfied: True, max g=1: -8.293e-02, dual =1 satisfied: False, max product =1: 5.325e+00\n",
            "Epoch: 32, f: 3.15553e+01, delta f: -7.86069e+01%, nash satisfied: True, max g: -5.312e-04, dual nash satisfied: False, max product: 1.455e+01, rho: 2.500e-04, norm2 d0:1.089e+01\n",
            "Epoch: 32, >0 satisfied: True, max g>0: -5.011e-05, dual >0 satisfied: False, max product >0: 2.923e-01, =1 satisfied: True, max g=1: -7.907e-02, dual =1 satisfied: False, max product =1: 5.701e+00\n",
            "Epoch: 33, f: 3.04882e+01, delta f: -7.93303e+01%, nash satisfied: True, max g: -4.683e-04, dual nash satisfied: False, max product: 1.736e+01, rho: 2.500e-04, norm2 d0:9.744e+00\n",
            "Epoch: 33, >0 satisfied: True, max g>0: -3.792e-05, dual >0 satisfied: False, max product >0: 2.977e-01, =1 satisfied: True, max g=1: -7.579e-02, dual =1 satisfied: False, max product =1: 6.191e+00\n",
            "Epoch: 34, f: 2.99792e+01, delta f: -7.96754e+01%, nash satisfied: True, max g: -4.168e-04, dual nash satisfied: False, max product: 2.068e+01, rho: 2.500e-04, norm2 d0:8.903e+00\n",
            "Epoch: 34, >0 satisfied: True, max g>0: -2.961e-05, dual >0 satisfied: False, max product >0: 3.058e-01, =1 satisfied: True, max g=1: -7.329e-02, dual =1 satisfied: False, max product =1: 6.770e+00\n",
            "Epoch: 35, f: 2.93858e+01, delta f: -8.00777e+01%, nash satisfied: True, max g: -3.891e-04, dual nash satisfied: False, max product: 2.284e+01, rho: 2.500e-04, norm2 d0:8.536e+00\n",
            "Epoch: 35, >0 satisfied: True, max g>0: -3.265e-05, dual >0 satisfied: False, max product >0: 3.106e-01, =1 satisfied: True, max g=1: -7.208e-02, dual =1 satisfied: False, max product =1: 7.138e+00\n",
            "Epoch: 36, f: 2.86570e+01, delta f: -8.05719e+01%, nash satisfied: True, max g: -3.557e-04, dual nash satisfied: False, max product: 2.613e+01, rho: 2.500e-04, norm2 d0:8.119e+00\n",
            "Epoch: 36, >0 satisfied: True, max g>0: -2.893e-05, dual >0 satisfied: False, max product >0: 3.174e-01, =1 satisfied: True, max g=1: -7.067e-02, dual =1 satisfied: False, max product =1: 7.685e+00\n",
            "Epoch: 37, f: 2.83272e+01, delta f: -8.07954e+01%, nash satisfied: True, max g: -3.109e-04, dual nash satisfied: False, max product: 3.203e+01, rho: 2.500e-04, norm2 d0:7.676e+00\n",
            "Epoch: 37, >0 satisfied: True, max g>0: -2.053e-05, dual >0 satisfied: False, max product >0: 3.279e-01, =1 satisfied: True, max g=1: -6.893e-02, dual =1 satisfied: False, max product =1: 8.647e+00\n",
            "Epoch: 38, f: 2.77476e+01, delta f: -8.11883e+01%, nash satisfied: True, max g: -2.890e-04, dual nash satisfied: False, max product: 3.570e+01, rho: 2.500e-04, norm2 d0:7.510e+00\n",
            "Epoch: 38, >0 satisfied: True, max g>0: -2.155e-05, dual >0 satisfied: False, max product >0: 3.323e-01, =1 satisfied: True, max g=1: -6.813e-02, dual =1 satisfied: False, max product =1: 9.203e+00\n",
            "Epoch: 39, f: 2.75366e+01, delta f: -8.13314e+01%, nash satisfied: True, max g: -2.480e-04, dual nash satisfied: False, max product: 4.468e+01, rho: 1.170e-04, norm2 d0:7.325e+00\n",
            "Epoch: 39, >0 satisfied: True, max g>0: -1.763e-05, dual >0 satisfied: False, max product >0: 3.425e-01, =1 satisfied: True, max g=1: -6.671e-02, dual =1 satisfied: False, max product =1: 1.049e+01\n",
            "Epoch: 40, f: 2.71851e+01, delta f: -8.15697e+01%, nash satisfied: True, max g: -2.251e-04, dual nash satisfied: False, max product: 4.990e+01, rho: 1.170e-04, norm2 d0:7.454e+00\n",
            "Epoch: 40, >0 satisfied: True, max g>0: -9.345e-06, dual >0 satisfied: False, max product >0: 3.460e-01, =1 satisfied: True, max g=1: -6.619e-02, dual =1 satisfied: False, max product =1: 1.127e+01\n",
            "Epoch: 41, f: 2.70578e+01, delta f: -8.16560e+01%, nash satisfied: True, max g: -1.879e-04, dual nash satisfied: False, max product: 6.027e+01, rho: 1.170e-04, norm2 d0:7.592e+00\n",
            "Epoch: 41, >0 satisfied: True, max g>0: -5.572e-06, dual >0 satisfied: False, max product >0: 3.476e-01, =1 satisfied: True, max g=1: -6.531e-02, dual =1 satisfied: False, max product =1: 1.267e+01\n",
            "Epoch: 42, f: 2.69456e+01, delta f: -8.17321e+01%, nash satisfied: True, max g: -1.736e-04, dual nash satisfied: False, max product: 6.555e+01, rho: 1.170e-04, norm2 d0:7.715e+00\n",
            "Epoch: 42, >0 satisfied: True, max g>0: -6.455e-06, dual >0 satisfied: False, max product >0: 3.467e-01, =1 satisfied: True, max g=1: -6.499e-02, dual =1 satisfied: False, max product =1: 1.339e+01\n",
            "Epoch: 43, f: 2.68835e+01, delta f: -8.17742e+01%, nash satisfied: True, max g: -1.621e-04, dual nash satisfied: False, max product: 7.064e+01, rho: 1.170e-04, norm2 d0:7.857e+00\n",
            "Epoch: 43, >0 satisfied: True, max g>0: -6.430e-06, dual >0 satisfied: False, max product >0: 3.450e-01, =1 satisfied: True, max g=1: -6.471e-02, dual =1 satisfied: False, max product =1: 1.404e+01\n",
            "Epoch: 44, f: 2.67357e+01, delta f: -8.18744e+01%, nash satisfied: True, max g: -1.545e-04, dual nash satisfied: False, max product: 7.359e+01, rho: 1.170e-04, norm2 d0:7.914e+00\n",
            "Epoch: 44, >0 satisfied: True, max g>0: -6.345e-06, dual >0 satisfied: False, max product >0: 3.433e-01, =1 satisfied: True, max g=1: -6.455e-02, dual =1 satisfied: False, max product =1: 1.441e+01\n",
            "Epoch: 45, f: 2.63198e+01, delta f: -8.21563e+01%, nash satisfied: True, max g: -1.402e-04, dual nash satisfied: False, max product: 8.222e+01, rho: 1.170e-04, norm2 d0:8.227e+00\n",
            "Epoch: 45, >0 satisfied: True, max g>0: -6.164e-06, dual >0 satisfied: False, max product >0: 3.392e-01, =1 satisfied: True, max g=1: -6.417e-02, dual =1 satisfied: False, max product =1: 1.550e+01\n",
            "Epoch: 46, f: 2.61723e+01, delta f: -8.22564e+01%, nash satisfied: True, max g: -9.727e-05, dual nash satisfied: False, max product: 1.199e+02, rho: 1.170e-04, norm2 d0:9.911e+00\n",
            "Epoch: 46, >0 satisfied: True, max g>0: -4.925e-06, dual >0 satisfied: False, max product >0: 4.165e-01, =1 satisfied: True, max g=1: -6.310e-02, dual =1 satisfied: False, max product =1: 2.002e+01\n",
            "Epoch: 47, f: 2.61114e+01, delta f: -8.22977e+01%, nash satisfied: True, max g: -8.392e-05, dual nash satisfied: False, max product: 1.410e+02, rho: 5.387e-05, norm2 d0:1.117e+01\n",
            "Epoch: 47, >0 satisfied: True, max g>0: -6.064e-06, dual >0 satisfied: False, max product >0: 4.731e-01, =1 satisfied: True, max g=1: -6.271e-02, dual =1 satisfied: False, max product =1: 2.248e+01\n",
            "Epoch: 48, f: 2.60777e+01, delta f: -8.23205e+01%, nash satisfied: True, max g: -7.629e-05, dual nash satisfied: False, max product: 1.518e+02, rho: 5.387e-05, norm2 d0:1.180e+01\n",
            "Epoch: 48, >0 satisfied: True, max g>0: -4.138e-06, dual >0 satisfied: False, max product >0: 4.993e-01, =1 satisfied: True, max g=1: -6.255e-02, dual =1 satisfied: False, max product =1: 2.375e+01\n",
            "Epoch: 49, f: 2.60567e+01, delta f: -8.23347e+01%, nash satisfied: True, max g: -7.248e-05, dual nash satisfied: False, max product: 1.571e+02, rho: 5.387e-05, norm2 d0:1.224e+01\n",
            "Epoch: 49, >0 satisfied: True, max g>0: -3.948e-06, dual >0 satisfied: False, max product >0: 5.124e-01, =1 satisfied: True, max g=1: -6.246e-02, dual =1 satisfied: False, max product =1: 2.434e+01\n",
            "Epoch: 50, f: 2.60401e+01, delta f: -8.23459e+01%, nash satisfied: True, max g: -6.962e-05, dual nash satisfied: False, max product: 1.624e+02, rho: 5.387e-05, norm2 d0:1.246e+01\n",
            "Epoch: 50, >0 satisfied: True, max g>0: -3.706e-06, dual >0 satisfied: False, max product >0: 5.272e-01, =1 satisfied: True, max g=1: -6.240e-02, dual =1 satisfied: False, max product =1: 2.504e+01\n",
            "Epoch: 51, f: 2.60374e+01, delta f: -8.23478e+01%, nash satisfied: True, max g: -6.866e-05, dual nash satisfied: False, max product: 1.644e+02, rho: 5.387e-05, norm2 d0:1.275e+01\n",
            "Epoch: 51, >0 satisfied: True, max g>0: -3.499e-06, dual >0 satisfied: False, max product >0: 5.312e-01, =1 satisfied: True, max g=1: -6.236e-02, dual =1 satisfied: False, max product =1: 2.521e+01\n",
            "Epoch: 52, f: 2.60344e+01, delta f: -8.23498e+01%, nash satisfied: True, max g: -6.771e-05, dual nash satisfied: False, max product: 1.657e+02, rho: 5.387e-05, norm2 d0:1.279e+01\n",
            "Epoch: 52, >0 satisfied: True, max g>0: -3.500e-06, dual >0 satisfied: False, max product >0: 5.349e-01, =1 satisfied: True, max g=1: -6.235e-02, dual =1 satisfied: False, max product =1: 2.539e+01\n",
            "Epoch: 53, f: 2.59503e+01, delta f: -8.24068e+01%, nash satisfied: True, max g: -6.676e-05, dual nash satisfied: False, max product: 1.647e+02, rho: 5.387e-05, norm2 d0:1.276e+01\n",
            "Epoch: 53, >0 satisfied: True, max g>0: -3.516e-06, dual >0 satisfied: False, max product >0: 5.315e-01, =1 satisfied: True, max g=1: -6.234e-02, dual =1 satisfied: False, max product =1: 2.522e+01\n",
            "Epoch: 54, f: 2.59498e+01, delta f: -8.24072e+01%, nash satisfied: True, max g: -5.817e-05, dual nash satisfied: False, max product: 1.853e+02, rho: 5.387e-05, norm2 d0:1.436e+01\n",
            "Epoch: 54, >0 satisfied: True, max g>0: -2.377e-06, dual >0 satisfied: False, max product >0: 5.854e-01, =1 satisfied: True, max g=1: -6.211e-02, dual =1 satisfied: False, max product =1: 2.771e+01\n",
            "Epoch: 55, f: 2.59487e+01, delta f: -8.24080e+01%, nash satisfied: True, max g: -5.817e-05, dual nash satisfied: False, max product: 1.844e+02, rho: 5.387e-05, norm2 d0:1.452e+01\n",
            "Epoch: 55, >0 satisfied: True, max g>0: -2.386e-06, dual >0 satisfied: False, max product >0: 5.822e-01, =1 satisfied: True, max g=1: -6.211e-02, dual =1 satisfied: False, max product =1: 2.758e+01\n",
            "Epoch: 56, f: 2.59481e+01, delta f: -8.24083e+01%, nash satisfied: True, max g: -5.817e-05, dual nash satisfied: False, max product: 1.843e+02, rho: 5.387e-05, norm2 d0:1.431e+01\n",
            "Epoch: 56, >0 satisfied: True, max g>0: -2.391e-06, dual >0 satisfied: False, max product >0: 5.819e-01, =1 satisfied: True, max g=1: -6.211e-02, dual =1 satisfied: False, max product =1: 2.753e+01\n",
            "Epoch: 57, f: 2.59480e+01, delta f: -8.24084e+01%, nash satisfied: True, max g: -5.913e-05, dual nash satisfied: False, max product: 1.835e+02, rho: 5.387e-05, norm2 d0:1.435e+01\n",
            "Epoch: 57, >0 satisfied: True, max g>0: -2.395e-06, dual >0 satisfied: False, max product >0: 5.791e-01, =1 satisfied: True, max g=1: -6.211e-02, dual =1 satisfied: False, max product =1: 2.742e+01\n",
            "Epoch: 58, f: 2.59479e+01, delta f: -8.24085e+01%, nash satisfied: True, max g: -5.913e-05, dual nash satisfied: False, max product: 1.831e+02, rho: 5.387e-05, norm2 d0:1.427e+01\n",
            "Epoch: 58, >0 satisfied: True, max g>0: -2.395e-06, dual >0 satisfied: False, max product >0: 5.779e-01, =1 satisfied: True, max g=1: -6.211e-02, dual =1 satisfied: False, max product =1: 2.735e+01\n",
            "Epoch: 59, f: 2.59461e+01, delta f: -8.24097e+01%, nash satisfied: True, max g: -5.913e-05, dual nash satisfied: False, max product: 1.832e+02, rho: 5.387e-05, norm2 d0:1.434e+01\n",
            "Epoch: 59, >0 satisfied: True, max g>0: -2.397e-06, dual >0 satisfied: False, max product >0: 5.783e-01, =1 satisfied: True, max g=1: -6.211e-02, dual =1 satisfied: False, max product =1: 2.741e+01\n",
            "Epoch: 60, f: 2.59458e+01, delta f: -8.24099e+01%, nash satisfied: True, max g: -5.817e-05, dual nash satisfied: False, max product: 1.836e+02, rho: 5.387e-05, norm2 d0:1.444e+01\n",
            "Epoch: 60, >0 satisfied: True, max g>0: -2.414e-06, dual >0 satisfied: False, max product >0: 5.819e-01, =1 satisfied: True, max g=1: -6.210e-02, dual =1 satisfied: False, max product =1: 2.760e+01\n",
            "Epoch: 61, f: 2.59457e+01, delta f: -8.24100e+01%, nash satisfied: True, max g: -5.913e-05, dual nash satisfied: False, max product: 1.844e+02, rho: 5.387e-05, norm2 d0:1.441e+01\n",
            "Epoch: 61, >0 satisfied: True, max g>0: -2.417e-06, dual >0 satisfied: False, max product >0: 5.815e-01, =1 satisfied: True, max g=1: -6.210e-02, dual =1 satisfied: False, max product =1: 2.754e+01\n",
            "Epoch: 62, f: 2.59446e+01, delta f: -8.24107e+01%, nash satisfied: True, max g: -5.817e-05, dual nash satisfied: False, max product: 1.868e+02, rho: 5.387e-05, norm2 d0:1.457e+01\n",
            "Epoch: 62, >0 satisfied: True, max g>0: -2.419e-06, dual >0 satisfied: False, max product >0: 5.889e-01, =1 satisfied: True, max g=1: -6.210e-02, dual =1 satisfied: False, max product =1: 2.788e+01\n",
            "Epoch: 63, f: 2.59441e+01, delta f: -8.24111e+01%, nash satisfied: True, max g: -5.817e-05, dual nash satisfied: False, max product: 1.864e+02, rho: 5.387e-05, norm2 d0:1.457e+01\n",
            "Epoch: 63, >0 satisfied: True, max g>0: -2.438e-06, dual >0 satisfied: False, max product >0: 5.881e-01, =1 satisfied: True, max g=1: -6.210e-02, dual =1 satisfied: False, max product =1: 2.783e+01\n",
            "Epoch: 64, f: 2.59440e+01, delta f: -8.24111e+01%, nash satisfied: True, max g: -5.817e-05, dual nash satisfied: False, max product: 1.860e+02, rho: 5.387e-05, norm2 d0:1.458e+01\n",
            "Epoch: 64, >0 satisfied: True, max g>0: -2.447e-06, dual >0 satisfied: False, max product >0: 5.870e-01, =1 satisfied: True, max g=1: -6.210e-02, dual =1 satisfied: False, max product =1: 2.777e+01\n",
            "Epoch: 65, f: 2.59440e+01, delta f: -8.24111e+01%, nash satisfied: True, max g: -5.817e-05, dual nash satisfied: False, max product: 1.856e+02, rho: 5.387e-05, norm2 d0:1.453e+01\n",
            "Epoch: 65, >0 satisfied: True, max g>0: -2.447e-06, dual >0 satisfied: False, max product >0: 5.856e-01, =1 satisfied: True, max g=1: -6.210e-02, dual =1 satisfied: False, max product =1: 2.770e+01\n",
            "Epoch: 66, f: 2.59439e+01, delta f: -8.24112e+01%, nash satisfied: True, max g: -5.722e-05, dual nash satisfied: False, max product: 1.856e+02, rho: 5.387e-05, norm2 d0:1.453e+01\n",
            "Epoch: 66, >0 satisfied: True, max g>0: -2.448e-06, dual >0 satisfied: False, max product >0: 5.856e-01, =1 satisfied: True, max g=1: -6.210e-02, dual =1 satisfied: False, max product =1: 2.770e+01\n",
            "Epoch: 67, f: 2.59437e+01, delta f: -8.24113e+01%, nash satisfied: True, max g: -5.817e-05, dual nash satisfied: False, max product: 1.862e+02, rho: 5.387e-05, norm2 d0:1.458e+01\n",
            "Epoch: 67, >0 satisfied: True, max g>0: -2.448e-06, dual >0 satisfied: False, max product >0: 5.872e-01, =1 satisfied: True, max g=1: -6.210e-02, dual =1 satisfied: False, max product =1: 2.779e+01\n",
            "Epoch: 68, f: 2.59436e+01, delta f: -8.24114e+01%, nash satisfied: True, max g: -5.913e-05, dual nash satisfied: False, max product: 1.857e+02, rho: 5.387e-05, norm2 d0:1.444e+01\n",
            "Epoch: 68, >0 satisfied: True, max g>0: -2.453e-06, dual >0 satisfied: False, max product >0: 5.858e-01, =1 satisfied: True, max g=1: -6.209e-02, dual =1 satisfied: False, max product =1: 2.771e+01\n",
            "Epoch: 69, f: 2.59435e+01, delta f: -8.24115e+01%, nash satisfied: True, max g: -5.913e-05, dual nash satisfied: False, max product: 1.852e+02, rho: 5.387e-05, norm2 d0:1.455e+01\n",
            "Epoch: 69, >0 satisfied: True, max g>0: -2.454e-06, dual >0 satisfied: False, max product >0: 5.842e-01, =1 satisfied: True, max g=1: -6.209e-02, dual =1 satisfied: False, max product =1: 2.765e+01\n",
            "Epoch: 70, f: 2.59431e+01, delta f: -8.24118e+01%, nash satisfied: True, max g: -5.913e-05, dual nash satisfied: False, max product: 1.844e+02, rho: 5.387e-05, norm2 d0:1.438e+01\n",
            "Epoch: 70, >0 satisfied: True, max g>0: -2.455e-06, dual >0 satisfied: False, max product >0: 5.817e-01, =1 satisfied: True, max g=1: -6.209e-02, dual =1 satisfied: False, max product =1: 2.752e+01\n",
            "Epoch: 71, f: 2.59429e+01, delta f: -8.24119e+01%, nash satisfied: True, max g: -5.817e-05, dual nash satisfied: False, max product: 1.864e+02, rho: 5.387e-05, norm2 d0:1.458e+01\n",
            "Epoch: 71, >0 satisfied: True, max g>0: -2.460e-06, dual >0 satisfied: False, max product >0: 5.875e-01, =1 satisfied: True, max g=1: -6.209e-02, dual =1 satisfied: False, max product =1: 2.782e+01\n",
            "Epoch: 72, f: 2.59426e+01, delta f: -8.24121e+01%, nash satisfied: True, max g: -5.817e-05, dual nash satisfied: False, max product: 1.861e+02, rho: 5.387e-05, norm2 d0:1.462e+01\n",
            "Epoch: 72, >0 satisfied: True, max g>0: -2.463e-06, dual >0 satisfied: False, max product >0: 5.863e-01, =1 satisfied: True, max g=1: -6.209e-02, dual =1 satisfied: False, max product =1: 2.775e+01\n",
            "Epoch: 73, f: 2.59424e+01, delta f: -8.24122e+01%, nash satisfied: True, max g: -5.817e-05, dual nash satisfied: False, max product: 1.857e+02, rho: 5.387e-05, norm2 d0:1.448e+01\n",
            "Epoch: 73, >0 satisfied: True, max g>0: -2.468e-06, dual >0 satisfied: False, max product >0: 5.857e-01, =1 satisfied: True, max g=1: -6.209e-02, dual =1 satisfied: False, max product =1: 2.770e+01\n",
            "Epoch: 74, f: 2.59422e+01, delta f: -8.24123e+01%, nash satisfied: True, max g: -5.817e-05, dual nash satisfied: False, max product: 1.862e+02, rho: 5.387e-05, norm2 d0:1.454e+01\n",
            "Epoch: 74, >0 satisfied: True, max g>0: -2.472e-06, dual >0 satisfied: False, max product >0: 5.868e-01, =1 satisfied: True, max g=1: -6.209e-02, dual =1 satisfied: False, max product =1: 2.777e+01\n",
            "Epoch: 75, f: 2.59400e+01, delta f: -8.24138e+01%, nash satisfied: True, max g: -5.817e-05, dual nash satisfied: False, max product: 1.871e+02, rho: 5.387e-05, norm2 d0:1.454e+01\n",
            "Epoch: 75, >0 satisfied: True, max g>0: -2.474e-06, dual >0 satisfied: False, max product >0: 5.894e-01, =1 satisfied: True, max g=1: -6.209e-02, dual =1 satisfied: False, max product =1: 2.790e+01\n",
            "Epoch: 76, f: 2.59398e+01, delta f: -8.24140e+01%, nash satisfied: True, max g: -5.722e-05, dual nash satisfied: False, max product: 1.864e+02, rho: 5.387e-05, norm2 d0:1.457e+01\n",
            "Epoch: 76, >0 satisfied: True, max g>0: -2.495e-06, dual >0 satisfied: False, max product >0: 5.879e-01, =1 satisfied: True, max g=1: -6.208e-02, dual =1 satisfied: False, max product =1: 2.779e+01\n",
            "Epoch: 77, f: 2.59395e+01, delta f: -8.24142e+01%, nash satisfied: True, max g: -5.722e-05, dual nash satisfied: False, max product: 1.865e+02, rho: 5.387e-05, norm2 d0:1.461e+01\n",
            "Epoch: 77, >0 satisfied: True, max g>0: -2.499e-06, dual >0 satisfied: False, max product >0: 5.883e-01, =1 satisfied: True, max g=1: -6.208e-02, dual =1 satisfied: False, max product =1: 2.781e+01\n",
            "Epoch: 78, f: 2.59390e+01, delta f: -8.24145e+01%, nash satisfied: True, max g: -5.722e-05, dual nash satisfied: False, max product: 1.878e+02, rho: 5.387e-05, norm2 d0:1.469e+01\n",
            "Epoch: 78, >0 satisfied: True, max g>0: -2.503e-06, dual >0 satisfied: False, max product >0: 5.920e-01, =1 satisfied: True, max g=1: -6.208e-02, dual =1 satisfied: False, max product =1: 2.800e+01\n",
            "Epoch: 79, f: 2.59385e+01, delta f: -8.24148e+01%, nash satisfied: True, max g: -5.722e-05, dual nash satisfied: False, max product: 1.872e+02, rho: 5.387e-05, norm2 d0:1.460e+01\n",
            "Epoch: 79, >0 satisfied: True, max g>0: -2.506e-06, dual >0 satisfied: False, max product >0: 5.899e-01, =1 satisfied: True, max g=1: -6.208e-02, dual =1 satisfied: False, max product =1: 2.790e+01\n",
            "Epoch: 80, f: 2.59384e+01, delta f: -8.24149e+01%, nash satisfied: True, max g: -5.722e-05, dual nash satisfied: False, max product: 1.856e+02, rho: 5.387e-05, norm2 d0:1.449e+01\n",
            "Epoch: 80, >0 satisfied: True, max g>0: -2.512e-06, dual >0 satisfied: False, max product >0: 5.851e-01, =1 satisfied: True, max g=1: -6.208e-02, dual =1 satisfied: False, max product =1: 2.766e+01\n",
            "Epoch: 81, f: 2.59382e+01, delta f: -8.24151e+01%, nash satisfied: True, max g: -5.722e-05, dual nash satisfied: False, max product: 1.859e+02, rho: 5.387e-05, norm2 d0:1.447e+01\n",
            "Epoch: 81, >0 satisfied: True, max g>0: -2.512e-06, dual >0 satisfied: False, max product >0: 5.860e-01, =1 satisfied: True, max g=1: -6.208e-02, dual =1 satisfied: False, max product =1: 2.771e+01\n",
            "Epoch: 82, f: 2.59140e+01, delta f: -8.24315e+01%, nash satisfied: True, max g: -5.817e-05, dual nash satisfied: False, max product: 1.891e+02, rho: 5.387e-05, norm2 d0:1.478e+01\n",
            "Epoch: 82, >0 satisfied: True, max g>0: -2.515e-06, dual >0 satisfied: False, max product >0: 5.957e-01, =1 satisfied: True, max g=1: -6.208e-02, dual =1 satisfied: False, max product =1: 2.819e+01\n",
            "Epoch: 83, f: 2.59125e+01, delta f: -8.24325e+01%, nash satisfied: True, max g: -5.531e-05, dual nash satisfied: False, max product: 1.943e+02, rho: 5.387e-05, norm2 d0:1.509e+01\n",
            "Epoch: 83, >0 satisfied: True, max g>0: -2.649e-06, dual >0 satisfied: False, max product >0: 6.093e-01, =1 satisfied: True, max g=1: -6.201e-02, dual =1 satisfied: False, max product =1: 2.876e+01\n",
            "Epoch: 84, f: 2.59124e+01, delta f: -8.24325e+01%, nash satisfied: True, max g: -5.436e-05, dual nash satisfied: False, max product: 1.928e+02, rho: 5.387e-05, norm2 d0:1.510e+01\n",
            "Epoch: 84, >0 satisfied: True, max g>0: -2.667e-06, dual >0 satisfied: False, max product >0: 6.047e-01, =1 satisfied: True, max g=1: -6.201e-02, dual =1 satisfied: False, max product =1: 2.853e+01\n",
            "Epoch: 85, f: 2.59124e+01, delta f: -8.24326e+01%, nash satisfied: True, max g: -5.531e-05, dual nash satisfied: False, max product: 1.941e+02, rho: 5.387e-05, norm2 d0:1.506e+01\n",
            "Epoch: 85, >0 satisfied: True, max g>0: -2.668e-06, dual >0 satisfied: False, max product >0: 6.085e-01, =1 satisfied: True, max g=1: -6.201e-02, dual =1 satisfied: False, max product =1: 2.872e+01\n",
            "Epoch: 86, f: 2.59121e+01, delta f: -8.24327e+01%, nash satisfied: True, max g: -5.531e-05, dual nash satisfied: False, max product: 1.941e+02, rho: 5.387e-05, norm2 d0:1.506e+01\n",
            "Epoch: 86, >0 satisfied: True, max g>0: -2.668e-06, dual >0 satisfied: False, max product >0: 6.086e-01, =1 satisfied: True, max g=1: -6.201e-02, dual =1 satisfied: False, max product =1: 2.872e+01\n",
            "Epoch: 87, f: 2.59117e+01, delta f: -8.24330e+01%, nash satisfied: True, max g: -5.531e-05, dual nash satisfied: False, max product: 1.945e+02, rho: 5.387e-05, norm2 d0:1.517e+01\n",
            "Epoch: 87, >0 satisfied: True, max g>0: -2.671e-06, dual >0 satisfied: False, max product >0: 6.101e-01, =1 satisfied: True, max g=1: -6.201e-02, dual =1 satisfied: False, max product =1: 2.878e+01\n",
            "Epoch: 88, f: 2.59114e+01, delta f: -8.24332e+01%, nash satisfied: True, max g: -5.436e-05, dual nash satisfied: False, max product: 1.929e+02, rho: 5.387e-05, norm2 d0:1.500e+01\n",
            "Epoch: 88, >0 satisfied: True, max g>0: -2.675e-06, dual >0 satisfied: False, max product >0: 6.049e-01, =1 satisfied: True, max g=1: -6.201e-02, dual =1 satisfied: False, max product =1: 2.854e+01\n",
            "Epoch: 89, f: 2.59112e+01, delta f: -8.24333e+01%, nash satisfied: True, max g: -5.436e-05, dual nash satisfied: False, max product: 1.935e+02, rho: 5.387e-05, norm2 d0:1.518e+01\n",
            "Epoch: 89, >0 satisfied: True, max g>0: -2.677e-06, dual >0 satisfied: False, max product >0: 6.066e-01, =1 satisfied: True, max g=1: -6.201e-02, dual =1 satisfied: False, max product =1: 2.862e+01\n",
            "Epoch: 90, f: 2.59110e+01, delta f: -8.24335e+01%, nash satisfied: True, max g: -5.531e-05, dual nash satisfied: False, max product: 1.948e+02, rho: 5.387e-05, norm2 d0:1.525e+01\n",
            "Epoch: 90, >0 satisfied: True, max g>0: -2.678e-06, dual >0 satisfied: False, max product >0: 6.104e-01, =1 satisfied: True, max g=1: -6.200e-02, dual =1 satisfied: False, max product =1: 2.882e+01\n",
            "Epoch: 91, f: 2.59098e+01, delta f: -8.24343e+01%, nash satisfied: True, max g: -5.436e-05, dual nash satisfied: False, max product: 1.940e+02, rho: 5.387e-05, norm2 d0:1.520e+01\n",
            "Epoch: 91, >0 satisfied: True, max g>0: -2.681e-06, dual >0 satisfied: False, max product >0: 6.081e-01, =1 satisfied: True, max g=1: -6.200e-02, dual =1 satisfied: False, max product =1: 2.870e+01\n",
            "Epoch: 92, f: 2.59088e+01, delta f: -8.24350e+01%, nash satisfied: True, max g: -5.436e-05, dual nash satisfied: False, max product: 1.933e+02, rho: 5.387e-05, norm2 d0:1.504e+01\n",
            "Epoch: 92, >0 satisfied: True, max g>0: -2.683e-06, dual >0 satisfied: False, max product >0: 6.060e-01, =1 satisfied: True, max g=1: -6.200e-02, dual =1 satisfied: False, max product =1: 2.859e+01\n",
            "Epoch: 93, f: 2.59080e+01, delta f: -8.24355e+01%, nash satisfied: True, max g: -5.436e-05, dual nash satisfied: False, max product: 1.943e+02, rho: 5.387e-05, norm2 d0:1.530e+01\n",
            "Epoch: 93, >0 satisfied: True, max g>0: -2.686e-06, dual >0 satisfied: False, max product >0: 6.086e-01, =1 satisfied: True, max g=1: -6.200e-02, dual =1 satisfied: False, max product =1: 2.871e+01\n",
            "Epoch: 94, f: 2.59079e+01, delta f: -8.24356e+01%, nash satisfied: True, max g: -5.531e-05, dual nash satisfied: False, max product: 1.939e+02, rho: 5.387e-05, norm2 d0:1.529e+01\n",
            "Epoch: 94, >0 satisfied: True, max g>0: -2.687e-06, dual >0 satisfied: False, max product >0: 6.073e-01, =1 satisfied: True, max g=1: -6.200e-02, dual =1 satisfied: False, max product =1: 2.865e+01\n",
            "Epoch: 95, f: 2.59069e+01, delta f: -8.24362e+01%, nash satisfied: True, max g: -5.531e-05, dual nash satisfied: False, max product: 1.942e+02, rho: 5.387e-05, norm2 d0:1.517e+01\n",
            "Epoch: 95, >0 satisfied: True, max g>0: -2.688e-06, dual >0 satisfied: False, max product >0: 6.080e-01, =1 satisfied: True, max g=1: -6.200e-02, dual =1 satisfied: False, max product =1: 2.868e+01\n",
            "Epoch: 96, f: 2.57846e+01, delta f: -8.25192e+01%, nash satisfied: True, max g: -5.531e-05, dual nash satisfied: False, max product: 1.978e+02, rho: 5.387e-05, norm2 d0:1.538e+01\n",
            "Epoch: 96, >0 satisfied: True, max g>0: -2.699e-06, dual >0 satisfied: False, max product >0: 6.191e-01, =1 satisfied: True, max g=1: -6.199e-02, dual =1 satisfied: False, max product =1: 2.920e+01\n",
            "Epoch: 97, f: 2.57744e+01, delta f: -8.25261e+01%, nash satisfied: True, max g: -4.196e-05, dual nash satisfied: False, max product: 2.294e+02, rho: 5.387e-05, norm2 d0:1.853e+01\n",
            "Epoch: 97, >0 satisfied: True, max g>0: -1.958e-06, dual >0 satisfied: False, max product >0: 7.021e-01, =1 satisfied: True, max g=1: -6.165e-02, dual =1 satisfied: False, max product =1: 3.280e+01\n",
            "Epoch: 98, f: 2.57718e+01, delta f: -8.25279e+01%, nash satisfied: True, max g: -4.196e-05, dual nash satisfied: False, max product: 2.310e+02, rho: 5.387e-05, norm2 d0:1.885e+01\n",
            "Epoch: 98, >0 satisfied: True, max g>0: -2.232e-06, dual >0 satisfied: False, max product >0: 7.070e-01, =1 satisfied: True, max g=1: -6.162e-02, dual =1 satisfied: False, max product =1: 3.299e+01\n",
            "Epoch: 99, f: 2.57682e+01, delta f: -8.25303e+01%, nash satisfied: True, max g: -4.101e-05, dual nash satisfied: False, max product: 2.345e+02, rho: 5.387e-05, norm2 d0:1.904e+01\n",
            "Epoch: 99, >0 satisfied: True, max g>0: -2.294e-06, dual >0 satisfied: False, max product >0: 7.179e-01, =1 satisfied: True, max g=1: -6.161e-02, dual =1 satisfied: False, max product =1: 3.346e+01\n",
            "Game 0 saved succesfully\n"
          ],
          "name": "stdout"
        }
      ]
    },
    {
      "cell_type": "markdown",
      "metadata": {
        "id": "1J01u_GSogPj"
      },
      "source": [
        "We can see that the algorithm does not converge to the global optima, where $f(v^*,\\pi^*)$ becomes 0 and $v^*$ corresponds precisely to the value of the game when the policy is $\\pi^*$. It might be interesting to study why the algorithm does not converge. With this mind, we will consider a simpler case with only one state.  "
      ]
    },
    {
      "cell_type": "markdown",
      "metadata": {
        "id": "p3cBY8Y3oQLv"
      },
      "source": [
        "# Iterated Prisoner's Dilemma\n",
        "\n",
        "Since the version with incentives has 7 states that correspond to more than 100 variables, we will focus now on the original iterated version with only one state.\n"
      ]
    },
    {
      "cell_type": "code",
      "metadata": {
        "id": "t_dRfGBEoQLx"
      },
      "source": [
        "# Define player set N\n",
        "N = 2\n",
        "\n",
        "# Define state set S\n",
        "G = [('G',)]\n",
        "S = list(itertools.chain(G.copy())) \n",
        "\n",
        "# Define action set A^i(s) per player and state\n",
        "A = {'1':{}, '2':{}}\n",
        "for player_id in range(0, N):\n",
        "  player = str(player_id+1)\n",
        "  A[player][str(('G',))] = 2\n",
        "  \n",
        "# Define discount factor\n",
        "beta = 0.99"
      ],
      "execution_count": 3,
      "outputs": []
    },
    {
      "cell_type": "code",
      "metadata": {
        "id": "yQKCVzaAoQL0"
      },
      "source": [
        "# Define payoff map R\n",
        "R1 = np.array([[3.,0.],[5.,1.]])\n",
        "R2 = np.array([[3.,5.],[0.,1.]])\n",
        "\n",
        "def iterated_prisoner_dilemma_rewards(state, actions):\n",
        "  if 'G' in state:\n",
        "    r1 = R1[actions[0], actions[1]]\n",
        "    r2 = R2[actions[0], actions[1]]\n",
        "  else:\n",
        "    assert 0 == 1, 'Invalid state'\n",
        "  return r1, r2\n",
        "\n",
        "def iterated_prisoner_dilemma_reward_matrices(s):\n",
        "  RM1 = R1.copy()\n",
        "  RM2 = R2.copy()\n",
        "  return RM1, RM2  \n",
        "\n",
        "R = {'1':{}, '2':{}}\n",
        "for s in S:\n",
        "  RM1, RM2 = iterated_prisoner_dilemma_reward_matrices(s)\n",
        "  R['1'][str(s)] = torch.FloatTensor(RM1).clone()\n",
        "  R['2'][str(s)] = torch.FloatTensor(RM2).clone()\n",
        "\n",
        "# Define transition map\n",
        "def iterated_prisoner_dilemma_transition_map(state, actions):\n",
        "  return ('D', ('G',))\n",
        " \n",
        "iterated_prisoner_dilemma_transition_types = {str(('G',)): (1,1)}\n",
        "T = (iterated_prisoner_dilemma_transition_map, iterated_prisoner_dilemma_transition_types)\n",
        "\n",
        "name = 'PrisonersDilemmaIterated-v0'"
      ],
      "execution_count": 4,
      "outputs": []
    },
    {
      "cell_type": "code",
      "metadata": {
        "id": "-1oxLxQZoQL5"
      },
      "source": [
        "game_iterated = multi_player_game(N, S, A, R, T, beta, device, name).to(device)"
      ],
      "execution_count": null,
      "outputs": []
    },
    {
      "cell_type": "code",
      "metadata": {
        "id": "70_DxEsDoQL7",
        "outputId": "106635ba-f128-40c8-b674-7743e59be1fd",
        "colab": {
          "base_uri": "https://localhost:8080/",
          "height": 1000
        }
      },
      "source": [
        "game_iterated.optimize_game(verbose=False, n_epochs=200)"
      ],
      "execution_count": null,
      "outputs": [
        {
          "output_type": "stream",
          "text": [
            "Epoch: 0, f: 1.52452e+00, delta f: -7.25595e-03%, nash satisfied: True, max g: -1.144e-05, dual nash satisfied: False, max product: 6.207e-02, rho: 7.782e-06, norm2 d0:5.846e+02\n",
            "Epoch: 0, >0 satisfied: True, max g>0: -2.591e-06, dual >0 satisfied: False, max product >0: 2.641e-02, =1 satisfied: True, max g=1: -3.650e-02, dual =1 satisfied: False, max product =1: 2.648e+02\n",
            "Epoch: 1, f: 1.52401e+00, delta f: -4.07834e-02%, nash satisfied: True, max g: -5.722e-06, dual nash satisfied: False, max product: 3.370e-02, rho: 7.782e-06, norm2 d0:5.787e+02\n",
            "Epoch: 1, >0 satisfied: True, max g>0: -3.294e-06, dual >0 satisfied: False, max product >0: 2.747e-02, =1 satisfied: True, max g=1: -3.649e-02, dual =1 satisfied: False, max product =1: 2.638e+02\n",
            "Epoch: 2, f: 1.51932e+00, delta f: -3.48411e-01%, nash satisfied: True, max g: -7.439e-05, dual nash satisfied: False, max product: 2.449e-02, rho: 7.782e-06, norm2 d0:5.499e+02\n",
            "Epoch: 2, >0 satisfied: True, max g>0: -1.650e-06, dual >0 satisfied: False, max product >0: 2.576e-02, =1 satisfied: True, max g=1: -3.639e-02, dual =1 satisfied: False, max product =1: 2.588e+02\n",
            "Epoch: 3, f: 1.51925e+00, delta f: -3.52539e-01%, nash satisfied: True, max g: -4.005e-05, dual nash satisfied: False, max product: 1.189e-02, rho: 7.782e-06, norm2 d0:3.792e+02\n",
            "Epoch: 3, >0 satisfied: True, max g>0: -3.380e-05, dual >0 satisfied: False, max product >0: 6.548e-02, =1 satisfied: True, max g=1: -3.576e-02, dual =1 satisfied: False, max product =1: 2.234e+02\n",
            "Epoch: 4, f: 1.51898e+00, delta f: -3.70554e-01%, nash satisfied: True, max g: -4.005e-05, dual nash satisfied: False, max product: 1.148e-02, rho: 7.782e-06, norm2 d0:3.826e+02\n",
            "Epoch: 4, >0 satisfied: True, max g>0: -2.955e-05, dual >0 satisfied: False, max product >0: 6.060e-02, =1 satisfied: True, max g=1: -3.575e-02, dual =1 satisfied: False, max product =1: 2.242e+02\n",
            "Epoch: 5, f: 1.51880e+00, delta f: -3.82564e-01%, nash satisfied: True, max g: -3.052e-05, dual nash satisfied: False, max product: 2.931e-02, rho: 7.782e-06, norm2 d0:4.897e+02\n",
            "Epoch: 5, >0 satisfied: True, max g>0: -1.483e-05, dual >0 satisfied: False, max product >0: 4.304e-02, =1 satisfied: True, max g=1: -3.574e-02, dual =1 satisfied: False, max product =1: 2.489e+02\n",
            "Epoch: 6, f: 1.51868e+00, delta f: -3.90320e-01%, nash satisfied: True, max g: -3.052e-05, dual nash satisfied: False, max product: 4.335e-02, rho: 7.782e-06, norm2 d0:5.584e+02\n",
            "Epoch: 6, >0 satisfied: True, max g>0: -7.667e-06, dual >0 satisfied: False, max product >0: 3.289e-02, =1 satisfied: True, max g=1: -3.572e-02, dual =1 satisfied: False, max product =1: 2.625e+02\n",
            "Epoch: 7, f: 1.51817e+00, delta f: -4.23848e-01%, nash satisfied: True, max g: -4.959e-05, dual nash satisfied: False, max product: 3.000e-02, rho: 7.782e-06, norm2 d0:5.390e+02\n",
            "Epoch: 7, >0 satisfied: True, max g>0: -3.989e-06, dual >0 satisfied: False, max product >0: 2.827e-02, =1 satisfied: True, max g=1: -3.570e-02, dual =1 satisfied: False, max product =1: 2.588e+02\n",
            "Epoch: 8, f: 1.51781e+00, delta f: -4.47117e-01%, nash satisfied: True, max g: -2.480e-05, dual nash satisfied: False, max product: 5.318e-02, rho: 7.782e-06, norm2 d0:5.776e+02\n",
            "Epoch: 8, >0 satisfied: True, max g>0: -2.094e-06, dual >0 satisfied: False, max product >0: 2.509e-02, =1 satisfied: True, max g=1: -3.565e-02, dual =1 satisfied: False, max product =1: 2.662e+02\n",
            "Epoch: 9, f: 1.51770e+00, delta f: -4.54122e-01%, nash satisfied: True, max g: -1.526e-05, dual nash satisfied: False, max product: 3.064e-02, rho: 7.782e-06, norm2 d0:5.686e+02\n",
            "Epoch: 9, >0 satisfied: True, max g>0: -4.576e-06, dual >0 satisfied: False, max product >0: 2.845e-02, =1 satisfied: True, max g=1: -3.561e-02, dual =1 satisfied: False, max product =1: 2.647e+02\n",
            "Epoch: 10, f: 1.51768e+00, delta f: -4.55373e-01%, nash satisfied: True, max g: -7.629e-06, dual nash satisfied: False, max product: 6.626e-03, rho: 7.782e-06, norm2 d0:5.544e+02\n",
            "Epoch: 10, >0 satisfied: True, max g>0: -4.221e-06, dual >0 satisfied: False, max product >0: 2.824e-02, =1 satisfied: True, max g=1: -3.560e-02, dual =1 satisfied: False, max product =1: 2.621e+02\n",
            "Epoch: 11, f: 1.51729e+00, delta f: -4.81395e-01%, nash satisfied: True, max g: -5.722e-06, dual nash satisfied: False, max product: 5.802e-02, rho: 7.782e-06, norm2 d0:5.816e+02\n",
            "Epoch: 11, >0 satisfied: True, max g>0: -4.220e-06, dual >0 satisfied: False, max product >0: 2.773e-02, =1 satisfied: True, max g=1: -3.560e-02, dual =1 satisfied: False, max product =1: 2.672e+02\n",
            "Epoch: 12, f: 1.51688e+00, delta f: -5.08417e-01%, nash satisfied: True, max g: -3.433e-05, dual nash satisfied: False, max product: 3.418e-02, rho: 7.782e-06, norm2 d0:5.870e+02\n",
            "Epoch: 12, >0 satisfied: True, max g>0: -2.171e-06, dual >0 satisfied: False, max product >0: 2.481e-02, =1 satisfied: True, max g=1: -3.553e-02, dual =1 satisfied: False, max product =1: 2.683e+02\n",
            "Epoch: 13, f: 1.51672e+00, delta f: -5.18425e-01%, nash satisfied: True, max g: -1.717e-05, dual nash satisfied: False, max product: 1.870e-02, rho: 7.782e-06, norm2 d0:5.574e+02\n",
            "Epoch: 13, >0 satisfied: True, max g>0: -5.665e-06, dual >0 satisfied: False, max product >0: 3.016e-02, =1 satisfied: True, max g=1: -3.549e-02, dual =1 satisfied: False, max product =1: 2.630e+02\n",
            "Epoch: 14, f: 1.51324e+00, delta f: -7.47113e-01%, nash satisfied: True, max g: -3.815e-05, dual nash satisfied: False, max product: 1.310e-02, rho: 7.782e-06, norm2 d0:5.866e+02\n",
            "Epoch: 14, >0 satisfied: True, max g>0: -2.886e-06, dual >0 satisfied: False, max product >0: 2.569e-02, =1 satisfied: True, max g=1: -3.546e-02, dual =1 satisfied: False, max product =1: 2.685e+02\n",
            "Epoch: 15, f: 1.51305e+00, delta f: -7.59373e-01%, nash satisfied: True, max g: -1.907e-05, dual nash satisfied: False, max product: 2.272e-02, rho: 7.782e-06, norm2 d0:4.711e+02\n",
            "Epoch: 15, >0 satisfied: True, max g>0: -1.514e-05, dual >0 satisfied: False, max product >0: 4.316e-02, =1 satisfied: True, max g=1: -3.502e-02, dual =1 satisfied: False, max product =1: 2.471e+02\n",
            "Epoch: 16, f: 1.51283e+00, delta f: -7.74135e-01%, nash satisfied: True, max g: -1.717e-05, dual nash satisfied: False, max product: 5.723e-03, rho: 7.782e-06, norm2 d0:5.327e+02\n",
            "Epoch: 16, >0 satisfied: True, max g>0: -7.604e-06, dual >0 satisfied: False, max product >0: 3.266e-02, =1 satisfied: True, max g=1: -3.501e-02, dual =1 satisfied: False, max product =1: 2.599e+02\n",
            "Epoch: 17, f: 1.51240e+00, delta f: -8.02158e-01%, nash satisfied: True, max g: -9.537e-06, dual nash satisfied: False, max product: 2.264e-02, rho: 7.782e-06, norm2 d0:5.551e+02\n",
            "Epoch: 17, >0 satisfied: True, max g>0: -3.900e-06, dual >0 satisfied: False, max product >0: 2.729e-02, =1 satisfied: True, max g=1: -3.499e-02, dual =1 satisfied: False, max product =1: 2.642e+02\n",
            "Epoch: 18, f: 1.51230e+00, delta f: -8.08538e-01%, nash satisfied: True, max g: -1.335e-05, dual nash satisfied: False, max product: 4.604e-03, rho: 7.782e-06, norm2 d0:5.790e+02\n",
            "Epoch: 18, >0 satisfied: True, max g>0: -2.050e-06, dual >0 satisfied: False, max product >0: 2.417e-02, =1 satisfied: True, max g=1: -3.493e-02, dual =1 satisfied: False, max product =1: 2.687e+02\n",
            "Epoch: 19, f: 1.50346e+00, delta f: -1.38864e+00%, nash satisfied: True, max g: -9.537e-06, dual nash satisfied: False, max product: 4.291e-02, rho: 7.782e-06, norm2 d0:5.926e+02\n",
            "Epoch: 19, >0 satisfied: True, max g>0: -2.684e-06, dual >0 satisfied: False, max product >0: 2.486e-02, =1 satisfied: True, max g=1: -3.492e-02, dual =1 satisfied: False, max product =1: 2.712e+02\n",
            "Epoch: 20, f: 1.50325e+00, delta f: -1.40240e+00%, nash satisfied: True, max g: -1.335e-05, dual nash satisfied: False, max product: 2.001e-02, rho: 7.782e-06, norm2 d0:4.331e+02\n",
            "Epoch: 20, >0 satisfied: True, max g>0: -2.500e-05, dual >0 satisfied: False, max product >0: 5.502e-02, =1 satisfied: True, max g=1: -3.385e-02, dual =1 satisfied: False, max product =1: 2.423e+02\n",
            "Epoch: 21, f: 1.50314e+00, delta f: -1.40966e+00%, nash satisfied: True, max g: -1.526e-05, dual nash satisfied: False, max product: 5.086e-03, rho: 7.782e-06, norm2 d0:5.037e+02\n",
            "Epoch: 21, >0 satisfied: True, max g>0: -1.302e-05, dual >0 satisfied: False, max product >0: 3.933e-02, =1 satisfied: True, max g=1: -3.383e-02, dual =1 satisfied: False, max product =1: 2.578e+02\n",
            "Epoch: 22, f: 1.50287e+00, delta f: -1.42692e+00%, nash satisfied: True, max g: -2.670e-05, dual nash satisfied: False, max product: 1.938e-02, rho: 7.782e-06, norm2 d0:5.855e+02\n",
            "Epoch: 22, >0 satisfied: True, max g>0: -6.766e-06, dual >0 satisfied: False, max product >0: 2.971e-02, =1 satisfied: True, max g=1: -3.382e-02, dual =1 satisfied: False, max product =1: 2.736e+02\n",
            "Epoch: 23, f: 1.50188e+00, delta f: -1.49172e+00%, nash satisfied: True, max g: -1.526e-05, dual nash satisfied: False, max product: 7.329e-02, rho: 7.782e-06, norm2 d0:6.364e+02\n",
            "Epoch: 23, >0 satisfied: True, max g>0: -3.867e-06, dual >0 satisfied: False, max product >0: 2.457e-02, =1 satisfied: True, max g=1: -3.380e-02, dual =1 satisfied: False, max product =1: 2.823e+02\n",
            "Epoch: 24, f: 1.50096e+00, delta f: -1.55252e+00%, nash satisfied: True, max g: -1.144e-05, dual nash satisfied: False, max product: 1.174e-02, rho: 7.782e-06, norm2 d0:5.982e+02\n",
            "Epoch: 24, >0 satisfied: True, max g>0: -3.356e-06, dual >0 satisfied: False, max product >0: 2.449e-02, =1 satisfied: True, max g=1: -3.369e-02, dual =1 satisfied: False, max product =1: 2.761e+02\n",
            "Epoch: 25, f: 1.49426e+00, delta f: -1.99213e+00%, nash satisfied: True, max g: -1.717e-05, dual nash satisfied: False, max product: 1.950e-02, rho: 7.782e-06, norm2 d0:6.208e+02\n",
            "Epoch: 25, >0 satisfied: True, max g>0: -1.723e-06, dual >0 satisfied: False, max product >0: 2.153e-02, =1 satisfied: True, max g=1: -3.358e-02, dual =1 satisfied: False, max product =1: 2.804e+02\n",
            "Epoch: 26, f: 1.49394e+00, delta f: -2.01290e+00%, nash satisfied: True, max g: -2.289e-05, dual nash satisfied: False, max product: 5.846e-02, rho: 7.782e-06, norm2 d0:2.475e+02\n",
            "Epoch: 26, >0 satisfied: True, max g>0: -6.871e-05, dual >0 satisfied: False, max product >0: 9.588e-02, =1 satisfied: True, max g=1: -3.277e-02, dual =1 satisfied: False, max product =1: 1.927e+02\n",
            "Epoch: 27, f: 1.49362e+00, delta f: -2.03367e+00%, nash satisfied: True, max g: -1.144e-05, dual nash satisfied: False, max product: 7.993e-03, rho: 7.782e-06, norm2 d0:3.305e+02\n",
            "Epoch: 27, >0 satisfied: True, max g>0: -4.733e-05, dual >0 satisfied: False, max product >0: 7.901e-02, =1 satisfied: True, max g=1: -3.276e-02, dual =1 satisfied: False, max product =1: 2.192e+02\n",
            "Epoch: 28, f: 1.49342e+00, delta f: -2.04668e+00%, nash satisfied: True, max g: -1.144e-05, dual nash satisfied: False, max product: 1.905e-02, rho: 7.782e-06, norm2 d0:4.245e+02\n",
            "Epoch: 28, >0 satisfied: True, max g>0: -2.379e-05, dual >0 satisfied: False, max product >0: 5.308e-02, =1 satisfied: True, max g=1: -3.275e-02, dual =1 satisfied: False, max product =1: 2.438e+02\n",
            "Epoch: 29, f: 1.49334e+00, delta f: -2.05218e+00%, nash satisfied: True, max g: -9.537e-06, dual nash satisfied: False, max product: 1.729e-02, rho: 7.782e-06, norm2 d0:5.521e+02\n",
            "Epoch: 29, >0 satisfied: True, max g>0: -1.256e-05, dual >0 satisfied: False, max product >0: 3.740e-02, =1 satisfied: True, max g=1: -3.273e-02, dual =1 satisfied: False, max product =1: 2.709e+02\n",
            "Epoch: 30, f: 1.49329e+00, delta f: -2.05544e+00%, nash satisfied: True, max g: -3.433e-05, dual nash satisfied: False, max product: 1.225e-02, rho: 7.782e-06, norm2 d0:5.688e+02\n",
            "Epoch: 30, >0 satisfied: True, max g>0: -6.311e-06, dual >0 satisfied: False, max product >0: 2.836e-02, =1 satisfied: True, max g=1: -3.272e-02, dual =1 satisfied: False, max product =1: 2.740e+02\n",
            "Epoch: 31, f: 1.49329e+00, delta f: -2.05519e+00%, nash satisfied: True, max g: -3.052e-05, dual nash satisfied: False, max product: 1.075e-02, rho: 7.782e-06, norm2 d0:5.498e+02\n",
            "Epoch: 31, >0 satisfied: True, max g>0: -5.891e-06, dual >0 satisfied: False, max product >0: 2.822e-02, =1 satisfied: True, max g=1: -3.272e-02, dual =1 satisfied: False, max product =1: 2.705e+02\n",
            "Epoch: 32, f: 1.49320e+00, delta f: -2.06119e+00%, nash satisfied: True, max g: -3.052e-05, dual nash satisfied: False, max product: 4.851e-02, rho: 7.782e-06, norm2 d0:5.928e+02\n",
            "Epoch: 32, >0 satisfied: True, max g>0: -5.881e-06, dual >0 satisfied: False, max product >0: 2.728e-02, =1 satisfied: True, max g=1: -3.272e-02, dual =1 satisfied: False, max product =1: 2.783e+02\n",
            "Epoch: 33, f: 1.49133e+00, delta f: -2.18429e+00%, nash satisfied: True, max g: -5.341e-05, dual nash satisfied: False, max product: 3.165e-02, rho: 7.782e-06, norm2 d0:6.177e+02\n",
            "Epoch: 33, >0 satisfied: True, max g>0: -3.099e-06, dual >0 satisfied: False, max product >0: 2.290e-02, =1 satisfied: True, max g=1: -3.270e-02, dual =1 satisfied: False, max product =1: 2.827e+02\n",
            "Epoch: 34, f: 1.49109e+00, delta f: -2.20005e+00%, nash satisfied: True, max g: -3.052e-05, dual nash satisfied: False, max product: 1.112e-02, rho: 7.782e-06, norm2 d0:5.940e+02\n",
            "Epoch: 34, >0 satisfied: True, max g>0: -6.656e-06, dual >0 satisfied: False, max product >0: 2.837e-02, =1 satisfied: True, max g=1: -3.251e-02, dual =1 satisfied: False, max product =1: 2.792e+02\n",
            "Epoch: 35, f: 1.49078e+00, delta f: -2.22032e+00%, nash satisfied: True, max g: -1.526e-05, dual nash satisfied: False, max product: 2.347e-02, rho: 7.782e-06, norm2 d0:5.980e+02\n",
            "Epoch: 35, >0 satisfied: True, max g>0: -4.220e-06, dual >0 satisfied: False, max product >0: 2.463e-02, =1 satisfied: True, max g=1: -3.249e-02, dual =1 satisfied: False, max product =1: 2.800e+02\n",
            "Epoch: 36, f: 1.49076e+00, delta f: -2.22107e+00%, nash satisfied: True, max g: -1.526e-05, dual nash satisfied: False, max product: 2.132e-02, rho: 7.782e-06, norm2 d0:6.248e+02\n",
            "Epoch: 36, >0 satisfied: True, max g>0: -2.153e-06, dual >0 satisfied: False, max product >0: 2.107e-02, =1 satisfied: True, max g=1: -3.246e-02, dual =1 satisfied: False, max product =1: 2.847e+02\n",
            "Epoch: 37, f: 1.47879e+00, delta f: -3.00672e+00%, nash satisfied: True, max g: -1.526e-05, dual nash satisfied: False, max product: 1.534e-02, rho: 7.782e-06, norm2 d0:6.430e+02\n",
            "Epoch: 37, >0 satisfied: True, max g>0: -2.208e-06, dual >0 satisfied: False, max product >0: 2.085e-02, =1 satisfied: True, max g=1: -3.246e-02, dual =1 satisfied: False, max product =1: 2.876e+02\n",
            "Epoch: 38, f: 1.47841e+00, delta f: -3.03149e+00%, nash satisfied: True, max g: -4.196e-05, dual nash satisfied: False, max product: 5.573e-02, rho: 7.782e-06, norm2 d0:2.536e+02\n",
            "Epoch: 38, >0 satisfied: True, max g>0: -6.782e-05, dual >0 satisfied: False, max product >0: 9.647e-02, =1 satisfied: True, max g=1: -3.116e-02, dual =1 satisfied: False, max product =1: 1.994e+02\n",
            "Epoch: 39, f: 1.47837e+00, delta f: -3.03424e+00%, nash satisfied: True, max g: -4.959e-05, dual nash satisfied: False, max product: 1.592e-02, rho: 7.782e-06, norm2 d0:4.021e+02\n",
            "Epoch: 39, >0 satisfied: True, max g>0: -3.422e-05, dual >0 satisfied: False, max product >0: 6.553e-02, =1 satisfied: True, max g=1: -3.115e-02, dual =1 satisfied: False, max product =1: 2.434e+02\n",
            "Epoch: 40, f: 1.47809e+00, delta f: -3.05250e+00%, nash satisfied: True, max g: -4.959e-05, dual nash satisfied: False, max product: 1.582e-02, rho: 7.782e-06, norm2 d0:3.960e+02\n",
            "Epoch: 40, >0 satisfied: True, max g>0: -3.201e-05, dual >0 satisfied: False, max product >0: 6.275e-02, =1 satisfied: True, max g=1: -3.114e-02, dual =1 satisfied: False, max product =1: 2.419e+02\n",
            "Epoch: 41, f: 1.47790e+00, delta f: -3.06501e+00%, nash satisfied: True, max g: -4.005e-05, dual nash satisfied: False, max product: 2.402e-02, rho: 7.782e-06, norm2 d0:5.253e+02\n",
            "Epoch: 41, >0 satisfied: True, max g>0: -1.685e-05, dual >0 satisfied: False, max product >0: 4.287e-02, =1 satisfied: True, max g=1: -3.113e-02, dual =1 satisfied: False, max product =1: 2.709e+02\n",
            "Epoch: 42, f: 1.47770e+00, delta f: -3.07827e+00%, nash satisfied: True, max g: -3.815e-05, dual nash satisfied: False, max product: 4.150e-02, rho: 7.782e-06, norm2 d0:6.178e+02\n",
            "Epoch: 42, >0 satisfied: True, max g>0: -8.537e-06, dual >0 satisfied: False, max product >0: 2.969e-02, =1 satisfied: True, max g=1: -3.112e-02, dual =1 satisfied: False, max product =1: 2.878e+02\n",
            "Epoch: 43, f: 1.47773e+00, delta f: -3.07627e+00%, nash satisfied: True, max g: -3.242e-05, dual nash satisfied: False, max product: 5.090e-02, rho: 7.782e-06, norm2 d0:7.133e+02\n",
            "Epoch: 43, >0 satisfied: True, max g>0: -4.368e-06, dual >0 satisfied: False, max product >0: 2.144e-02, =1 satisfied: True, max g=1: -3.111e-02, dual =1 satisfied: False, max product =1: 3.025e+02\n",
            "Epoch: 44, f: 1.47720e+00, delta f: -3.11080e+00%, nash satisfied: True, max g: -1.030e-04, dual nash satisfied: False, max product: 3.907e-02, rho: 7.782e-06, norm2 d0:6.174e+02\n",
            "Epoch: 44, >0 satisfied: True, max g>0: -2.303e-06, dual >0 satisfied: False, max product >0: 2.018e-02, =1 satisfied: True, max g=1: -3.109e-02, dual =1 satisfied: False, max product =1: 2.878e+02\n",
            "Epoch: 45, f: 1.47709e+00, delta f: -3.11806e+00%, nash satisfied: True, max g: -5.341e-05, dual nash satisfied: False, max product: 2.297e-02, rho: 7.782e-06, norm2 d0:6.416e+02\n",
            "Epoch: 45, >0 satisfied: True, max g>0: -4.306e-06, dual >0 satisfied: False, max product >0: 2.266e-02, =1 satisfied: True, max g=1: -3.105e-02, dual =1 satisfied: False, max product =1: 2.918e+02\n",
            "Epoch: 46, f: 1.47683e+00, delta f: -3.13532e+00%, nash satisfied: True, max g: -4.578e-05, dual nash satisfied: False, max product: 1.745e-02, rho: 7.782e-06, norm2 d0:6.246e+02\n",
            "Epoch: 46, >0 satisfied: True, max g>0: -4.118e-06, dual >0 satisfied: False, max product >0: 2.283e-02, =1 satisfied: True, max g=1: -3.104e-02, dual =1 satisfied: False, max product =1: 2.891e+02\n",
            "Epoch: 47, f: 1.43635e+00, delta f: -5.79025e+00%, nash satisfied: True, max g: -5.150e-05, dual nash satisfied: False, max product: 4.065e-02, rho: 7.782e-06, norm2 d0:7.273e+02\n",
            "Epoch: 47, >0 satisfied: True, max g>0: -2.078e-06, dual >0 satisfied: False, max product >0: 1.726e-02, =1 satisfied: True, max g=1: -3.101e-02, dual =1 satisfied: False, max product =1: 3.047e+02\n",
            "Epoch: 48, f: 1.43494e+00, delta f: -5.88257e+00%, nash satisfied: True, max g: -1.202e-04, dual nash satisfied: False, max product: 1.252e-01, rho: 7.782e-06, norm2 d0:4.376e+01\n",
            "Epoch: 48, >0 satisfied: True, max g>0: -2.693e-04, dual >0 satisfied: False, max product >0: 1.615e-01, =1 satisfied: True, max g=1: -2.726e-02, dual =1 satisfied: False, max product =1: 9.189e+01\n",
            "Epoch: 49, f: 1.43414e+00, delta f: -5.93512e+00%, nash satisfied: True, max g: -1.049e-04, dual nash satisfied: False, max product: 1.173e-01, rho: 7.782e-06, norm2 d0:1.085e+02\n",
            "Epoch: 49, >0 satisfied: True, max g>0: -1.377e-04, dual >0 satisfied: False, max product >0: 1.320e-01, =1 satisfied: True, max g=1: -2.723e-02, dual =1 satisfied: False, max product =1: 1.428e+02\n",
            "Epoch: 50, f: 1.43369e+00, delta f: -5.96489e+00%, nash satisfied: True, max g: -9.346e-05, dual nash satisfied: False, max product: 9.496e-02, rho: 7.782e-06, norm2 d0:2.186e+02\n",
            "Epoch: 50, >0 satisfied: True, max g>0: -6.886e-05, dual >0 satisfied: False, max product >0: 9.631e-02, =1 satisfied: True, max g=1: -2.722e-02, dual =1 satisfied: False, max product =1: 1.975e+02\n",
            "Epoch: 51, f: 1.43336e+00, delta f: -5.98616e+00%, nash satisfied: True, max g: -8.011e-05, dual nash satisfied: False, max product: 6.925e-02, rho: 7.782e-06, norm2 d0:3.423e+02\n",
            "Epoch: 51, >0 satisfied: True, max g>0: -3.577e-05, dual >0 satisfied: False, max product >0: 6.590e-02, =1 satisfied: True, max g=1: -2.720e-02, dual =1 satisfied: False, max product =1: 2.398e+02\n",
            "Epoch: 52, f: 1.43326e+00, delta f: -5.99291e+00%, nash satisfied: True, max g: -6.104e-05, dual nash satisfied: False, max product: 2.402e-02, rho: 7.782e-06, norm2 d0:5.519e+02\n",
            "Epoch: 52, >0 satisfied: True, max g>0: -1.887e-05, dual >0 satisfied: False, max product >0: 4.391e-02, =1 satisfied: True, max g=1: -2.720e-02, dual =1 satisfied: False, max product =1: 2.884e+02\n",
            "Epoch: 53, f: 1.43314e+00, delta f: -6.00042e+00%, nash satisfied: True, max g: -5.913e-05, dual nash satisfied: False, max product: 2.348e-02, rho: 7.782e-06, norm2 d0:5.666e+02\n",
            "Epoch: 53, >0 satisfied: True, max g>0: -1.413e-05, dual >0 satisfied: False, max product >0: 3.646e-02, =1 satisfied: True, max g=1: -2.719e-02, dual =1 satisfied: False, max product =1: 2.910e+02\n",
            "Epoch: 54, f: 1.43300e+00, delta f: -6.00968e+00%, nash satisfied: True, max g: -7.057e-05, dual nash satisfied: False, max product: 2.860e-02, rho: 7.782e-06, norm2 d0:6.016e+02\n",
            "Epoch: 54, >0 satisfied: True, max g>0: -7.143e-06, dual >0 satisfied: False, max product >0: 2.476e-02, =1 satisfied: True, max g=1: -2.718e-02, dual =1 satisfied: False, max product =1: 2.970e+02\n",
            "Epoch: 55, f: 1.43275e+00, delta f: -6.02594e+00%, nash satisfied: True, max g: -7.248e-05, dual nash satisfied: False, max product: 5.987e-02, rho: 7.782e-06, norm2 d0:5.727e+02\n",
            "Epoch: 55, >0 satisfied: True, max g>0: -3.616e-06, dual >0 satisfied: False, max product >0: 1.955e-02, =1 satisfied: True, max g=1: -2.717e-02, dual =1 satisfied: False, max product =1: 2.921e+02\n",
            "Epoch: 56, f: 1.43272e+00, delta f: -6.02844e+00%, nash satisfied: True, max g: -3.624e-05, dual nash satisfied: False, max product: 2.088e-02, rho: 7.782e-06, norm2 d0:7.758e+02\n",
            "Epoch: 56, >0 satisfied: True, max g>0: -3.232e-06, dual >0 satisfied: False, max product >0: 1.472e-02, =1 satisfied: True, max g=1: -2.716e-02, dual =1 satisfied: False, max product =1: 3.215e+02\n",
            "Epoch: 57, f: 1.43239e+00, delta f: -6.04996e+00%, nash satisfied: True, max g: -3.433e-05, dual nash satisfied: False, max product: 1.473e-02, rho: 7.782e-06, norm2 d0:7.191e+02\n",
            "Epoch: 57, >0 satisfied: True, max g>0: -3.363e-06, dual >0 satisfied: False, max product >0: 1.613e-02, =1 satisfied: True, max g=1: -2.716e-02, dual =1 satisfied: False, max product =1: 3.146e+02\n",
            "Epoch: 58, f: 1.43198e+00, delta f: -6.07698e+00%, nash satisfied: True, max g: -1.011e-04, dual nash satisfied: False, max product: 4.244e-02, rho: 7.782e-06, norm2 d0:6.679e+02\n",
            "Epoch: 58, >0 satisfied: True, max g>0: -1.770e-06, dual >0 satisfied: False, max product >0: 1.448e-02, =1 satisfied: True, max g=1: -2.712e-02, dual =1 satisfied: False, max product =1: 3.076e+02\n",
            "Epoch: 59, f: 1.43193e+00, delta f: -6.07999e+00%, nash satisfied: True, max g: -5.150e-05, dual nash satisfied: False, max product: 7.601e-02, rho: 7.782e-06, norm2 d0:8.101e+02\n",
            "Epoch: 59, >0 satisfied: True, max g>0: -3.887e-06, dual >0 satisfied: False, max product >0: 1.524e-02, =1 satisfied: True, max g=1: -2.710e-02, dual =1 satisfied: False, max product =1: 3.255e+02\n",
            "Epoch: 60, f: 1.43125e+00, delta f: -6.12477e+00%, nash satisfied: True, max g: -1.392e-04, dual nash satisfied: False, max product: 5.861e-02, rho: 7.782e-06, norm2 d0:6.066e+02\n",
            "Epoch: 60, >0 satisfied: True, max g>0: -2.007e-06, dual >0 satisfied: False, max product >0: 1.626e-02, =1 satisfied: True, max g=1: -2.707e-02, dual =1 satisfied: False, max product =1: 2.982e+02\n",
            "Epoch: 61, f: 1.43078e+00, delta f: -6.15555e+00%, nash satisfied: True, max g: -7.057e-05, dual nash satisfied: False, max product: 2.914e-02, rho: 7.782e-06, norm2 d0:6.307e+02\n",
            "Epoch: 61, >0 satisfied: True, max g>0: -3.589e-06, dual >0 satisfied: False, max product >0: 1.825e-02, =1 satisfied: True, max g=1: -2.704e-02, dual =1 satisfied: False, max product =1: 3.022e+02\n",
            "Epoch: 62, f: 1.43076e+00, delta f: -6.15680e+00%, nash satisfied: True, max g: -3.815e-05, dual nash satisfied: False, max product: 2.108e-02, rho: 7.782e-06, norm2 d0:7.629e+02\n",
            "Epoch: 62, >0 satisfied: True, max g>0: -1.853e-06, dual >0 satisfied: False, max product >0: 1.247e-02, =1 satisfied: True, max g=1: -2.701e-02, dual =1 satisfied: False, max product =1: 3.203e+02\n",
            "Epoch: 63, f: 1.42936e+00, delta f: -6.24862e+00%, nash satisfied: True, max g: -3.624e-05, dual nash satisfied: False, max product: 1.762e-02, rho: 7.782e-06, norm2 d0:7.667e+02\n",
            "Epoch: 63, >0 satisfied: True, max g>0: -1.977e-06, dual >0 satisfied: False, max product >0: 1.261e-02, =1 satisfied: True, max g=1: -2.701e-02, dual =1 satisfied: False, max product =1: 3.207e+02\n",
            "Epoch: 64, f: 1.42918e+00, delta f: -6.26038e+00%, nash satisfied: True, max g: -1.907e-05, dual nash satisfied: False, max product: 2.272e-02, rho: 7.782e-06, norm2 d0:5.503e+02\n",
            "Epoch: 64, >0 satisfied: True, max g>0: -1.698e-05, dual >0 satisfied: False, max product >0: 4.077e-02, =1 satisfied: True, max g=1: -2.690e-02, dual =1 satisfied: False, max product =1: 2.890e+02\n",
            "Epoch: 65, f: 1.42911e+00, delta f: -6.26514e+00%, nash satisfied: True, max g: -1.907e-05, dual nash satisfied: False, max product: 1.945e-02, rho: 7.782e-06, norm2 d0:6.826e+02\n",
            "Epoch: 65, >0 satisfied: True, max g>0: -8.601e-06, dual >0 satisfied: False, max product >0: 2.550e-02, =1 satisfied: True, max g=1: -2.689e-02, dual =1 satisfied: False, max product =1: 3.103e+02\n",
            "Epoch: 66, f: 1.42897e+00, delta f: -6.27439e+00%, nash satisfied: True, max g: -4.005e-05, dual nash satisfied: False, max product: 4.933e-02, rho: 7.782e-06, norm2 d0:7.409e+02\n",
            "Epoch: 66, >0 satisfied: True, max g>0: -4.417e-06, dual >0 satisfied: False, max product >0: 1.722e-02, =1 satisfied: True, max g=1: -2.688e-02, dual =1 satisfied: False, max product =1: 3.180e+02\n",
            "Epoch: 67, f: 1.42880e+00, delta f: -6.28540e+00%, nash satisfied: True, max g: -3.242e-05, dual nash satisfied: False, max product: 1.617e-02, rho: 7.782e-06, norm2 d0:6.710e+02\n",
            "Epoch: 67, >0 satisfied: True, max g>0: -3.973e-06, dual >0 satisfied: False, max product >0: 1.778e-02, =1 satisfied: True, max g=1: -2.687e-02, dual =1 satisfied: False, max product =1: 3.087e+02\n",
            "Epoch: 68, f: 1.40018e+00, delta f: -8.16219e+00%, nash satisfied: True, max g: -4.768e-05, dual nash satisfied: False, max product: 2.082e-02, rho: 7.782e-06, norm2 d0:7.483e+02\n",
            "Epoch: 68, >0 satisfied: True, max g>0: -2.010e-06, dual >0 satisfied: False, max product >0: 1.302e-02, =1 satisfied: True, max g=1: -2.686e-02, dual =1 satisfied: False, max product =1: 3.190e+02\n",
            "Epoch: 69, f: 1.39917e+00, delta f: -8.22900e+00%, nash satisfied: True, max g: -2.136e-04, dual nash satisfied: False, max product: 1.310e-01, rho: 7.782e-06, norm2 d0:8.121e+01\n",
            "Epoch: 69, >0 satisfied: True, max g>0: -1.504e-04, dual >0 satisfied: False, max product >0: 1.320e-01, =1 satisfied: True, max g=1: -2.469e-02, dual =1 satisfied: False, max product =1: 1.295e+02\n",
            "Epoch: 70, f: 1.39863e+00, delta f: -8.26403e+00%, nash satisfied: True, max g: -1.583e-04, dual nash satisfied: False, max product: 1.133e-01, rho: 7.782e-06, norm2 d0:1.698e+02\n",
            "Epoch: 70, >0 satisfied: True, max g>0: -7.626e-05, dual >0 satisfied: False, max product >0: 9.845e-02, =1 satisfied: True, max g=1: -2.467e-02, dual =1 satisfied: False, max product =1: 1.830e+02\n",
            "Epoch: 71, f: 1.39838e+00, delta f: -8.28079e+00%, nash satisfied: True, max g: -1.335e-04, dual nash satisfied: False, max product: 4.772e-02, rho: 7.782e-06, norm2 d0:3.676e+02\n",
            "Epoch: 71, >0 satisfied: True, max g>0: -3.913e-05, dual >0 satisfied: False, max product >0: 7.182e-02, =1 satisfied: True, max g=1: -2.466e-02, dual =1 satisfied: False, max product =1: 2.549e+02\n",
            "Epoch: 72, f: 1.39815e+00, delta f: -8.29580e+00%, nash satisfied: True, max g: -1.373e-04, dual nash satisfied: False, max product: 6.833e-02, rho: 7.782e-06, norm2 d0:4.356e+02\n",
            "Epoch: 72, >0 satisfied: True, max g>0: -1.989e-05, dual >0 satisfied: False, max product >0: 4.483e-02, =1 satisfied: True, max g=1: -2.466e-02, dual =1 satisfied: False, max product =1: 2.720e+02\n",
            "Epoch: 73, f: 1.39790e+00, delta f: -8.31207e+00%, nash satisfied: True, max g: -1.202e-04, dual nash satisfied: False, max product: 5.258e-02, rho: 7.782e-06, norm2 d0:6.560e+02\n",
            "Epoch: 73, >0 satisfied: True, max g>0: -1.049e-05, dual >0 satisfied: False, max product >0: 2.853e-02, =1 satisfied: True, max g=1: -2.465e-02, dual =1 satisfied: False, max product =1: 3.122e+02\n",
            "Epoch: 74, f: 1.39769e+00, delta f: -8.32583e+00%, nash satisfied: True, max g: -9.918e-05, dual nash satisfied: False, max product: 5.152e-02, rho: 7.782e-06, norm2 d0:5.382e+02\n",
            "Epoch: 74, >0 satisfied: True, max g>0: -5.345e-06, dual >0 satisfied: False, max product >0: 2.017e-02, =1 satisfied: True, max g=1: -2.464e-02, dual =1 satisfied: False, max product =1: 2.932e+02\n",
            "Epoch: 75, f: 1.39745e+00, delta f: -8.34134e+00%, nash satisfied: True, max g: -8.202e-05, dual nash satisfied: False, max product: 5.197e-02, rho: 7.782e-06, norm2 d0:6.452e+02\n",
            "Epoch: 75, >0 satisfied: True, max g>0: -2.811e-06, dual >0 satisfied: False, max product >0: 1.451e-02, =1 satisfied: True, max g=1: -2.463e-02, dual =1 satisfied: False, max product =1: 3.107e+02\n",
            "Epoch: 76, f: 1.37193e+00, delta f: -1.00152e+01%, nash satisfied: True, max g: -4.196e-05, dual nash satisfied: False, max product: 6.428e-02, rho: 7.782e-06, norm2 d0:9.975e+02\n",
            "Epoch: 76, >0 satisfied: True, max g>0: -3.285e-06, dual >0 satisfied: False, max product >0: 8.689e-03, =1 satisfied: True, max g=1: -2.462e-02, dual =1 satisfied: False, max product =1: 3.435e+02\n",
            "Epoch: 77, f: 1.37121e+00, delta f: -1.00628e+01%, nash satisfied: True, max g: -1.049e-04, dual nash satisfied: False, max product: 9.068e-02, rho: 7.782e-06, norm2 d0:8.921e+01\n",
            "Epoch: 77, >0 satisfied: True, max g>0: -1.425e-04, dual >0 satisfied: False, max product >0: 1.342e-01, =1 satisfied: True, max g=1: -2.294e-02, dual =1 satisfied: False, max product =1: 1.392e+02\n",
            "Epoch: 78, f: 1.37082e+00, delta f: -1.00880e+01%, nash satisfied: True, max g: -1.125e-04, dual nash satisfied: False, max product: 6.656e-02, rho: 7.782e-06, norm2 d0:1.983e+02\n",
            "Epoch: 78, >0 satisfied: True, max g>0: -7.323e-05, dual >0 satisfied: False, max product >0: 1.026e-01, =1 satisfied: True, max g=1: -2.293e-02, dual =1 satisfied: False, max product =1: 2.011e+02\n",
            "Epoch: 79, f: 1.37061e+00, delta f: -1.01018e+01%, nash satisfied: True, max g: -1.221e-04, dual nash satisfied: False, max product: 4.981e-02, rho: 7.782e-06, norm2 d0:4.714e+02\n",
            "Epoch: 79, >0 satisfied: True, max g>0: -3.748e-05, dual >0 satisfied: False, max product >0: 7.279e-02, =1 satisfied: True, max g=1: -2.292e-02, dual =1 satisfied: False, max product =1: 2.848e+02\n",
            "Epoch: 80, f: 1.37038e+00, delta f: -1.01168e+01%, nash satisfied: True, max g: -1.335e-04, dual nash satisfied: False, max product: 8.249e-02, rho: 7.782e-06, norm2 d0:4.305e+02\n",
            "Epoch: 80, >0 satisfied: True, max g>0: -1.911e-05, dual >0 satisfied: False, max product >0: 4.299e-02, =1 satisfied: True, max g=1: -2.292e-02, dual =1 satisfied: False, max product =1: 2.759e+02\n",
            "Epoch: 81, f: 1.37021e+00, delta f: -1.01283e+01%, nash satisfied: True, max g: -1.163e-04, dual nash satisfied: False, max product: 7.947e-02, rho: 7.782e-06, norm2 d0:7.386e+02\n",
            "Epoch: 81, >0 satisfied: True, max g>0: -9.937e-06, dual >0 satisfied: False, max product >0: 2.332e-02, =1 satisfied: True, max g=1: -2.291e-02, dual =1 satisfied: False, max product =1: 3.255e+02\n",
            "Epoch: 82, f: 1.37013e+00, delta f: -1.01336e+01%, nash satisfied: True, max g: -1.144e-04, dual nash satisfied: False, max product: 5.420e-02, rho: 7.782e-06, norm2 d0:7.950e+02\n",
            "Epoch: 82, >0 satisfied: True, max g>0: -5.014e-06, dual >0 satisfied: False, max product >0: 1.382e-02, =1 satisfied: True, max g=1: -2.290e-02, dual =1 satisfied: False, max product =1: 3.306e+02\n",
            "Epoch: 83, f: 1.36917e+00, delta f: -1.01964e+01%, nash satisfied: True, max g: -1.373e-04, dual nash satisfied: False, max product: 6.410e-02, rho: 7.782e-06, norm2 d0:7.437e+02\n",
            "Epoch: 83, >0 satisfied: True, max g>0: -2.520e-06, dual >0 satisfied: False, max product >0: 1.031e-02, =1 satisfied: True, max g=1: -2.289e-02, dual =1 satisfied: False, max product =1: 3.259e+02\n",
            "Epoch: 84, f: 1.36907e+00, delta f: -1.02029e+01%, nash satisfied: True, max g: -6.866e-05, dual nash satisfied: False, max product: 3.141e-02, rho: 7.782e-06, norm2 d0:6.817e+02\n",
            "Epoch: 84, >0 satisfied: True, max g>0: -6.322e-06, dual >0 satisfied: False, max product >0: 1.769e-02, =1 satisfied: True, max g=1: -2.285e-02, dual =1 satisfied: False, max product =1: 3.191e+02\n",
            "Epoch: 85, f: 1.35186e+00, delta f: -1.13318e+01%, nash satisfied: True, max g: -8.583e-05, dual nash satisfied: False, max product: 4.135e-02, rho: 7.782e-06, norm2 d0:8.637e+02\n",
            "Epoch: 85, >0 satisfied: True, max g>0: -3.209e-06, dual >0 satisfied: False, max product >0: 8.888e-03, =1 satisfied: True, max g=1: -2.284e-02, dual =1 satisfied: False, max product =1: 3.361e+02\n",
            "Epoch: 86, f: 1.35170e+00, delta f: -1.13426e+01%, nash satisfied: True, max g: -8.583e-05, dual nash satisfied: False, max product: 5.684e-02, rho: 7.782e-06, norm2 d0:6.603e+02\n",
            "Epoch: 86, >0 satisfied: True, max g>0: -1.368e-05, dual >0 satisfied: False, max product >0: 3.169e-02, =1 satisfied: True, max g=1: -2.186e-02, dual =1 satisfied: False, max product =1: 3.179e+02\n",
            "Epoch: 87, f: 1.35150e+00, delta f: -1.13553e+01%, nash satisfied: True, max g: -8.392e-05, dual nash satisfied: False, max product: 9.442e-02, rho: 7.782e-06, norm2 d0:5.768e+02\n",
            "Epoch: 87, >0 satisfied: True, max g>0: -7.103e-06, dual >0 satisfied: False, max product >0: 2.122e-02, =1 satisfied: True, max g=1: -2.185e-02, dual =1 satisfied: False, max product =1: 3.063e+02\n",
            "Epoch: 88, f: 1.35150e+00, delta f: -1.13556e+01%, nash satisfied: True, max g: -6.485e-05, dual nash satisfied: False, max product: 3.098e-02, rho: 7.782e-06, norm2 d0:7.641e+02\n",
            "Epoch: 88, >0 satisfied: True, max g>0: -3.752e-06, dual >0 satisfied: False, max product >0: 1.102e-02, =1 satisfied: True, max g=1: -2.185e-02, dual =1 satisfied: False, max product =1: 3.287e+02\n",
            "Epoch: 89, f: 1.35138e+00, delta f: -1.13631e+01%, nash satisfied: True, max g: -6.485e-05, dual nash satisfied: False, max product: 1.097e-01, rho: 2.590e-06, norm2 d0:1.166e+03\n",
            "Epoch: 89, >0 satisfied: True, max g>0: -3.781e-06, dual >0 satisfied: False, max product >0: 2.428e-02, =1 satisfied: True, max g=1: -2.184e-02, dual =1 satisfied: False, max product =1: 4.656e+02\n",
            "Epoch: 90, f: 1.35146e+00, delta f: -1.13581e+01%, nash satisfied: True, max g: -6.866e-05, dual nash satisfied: False, max product: 4.809e-02, rho: 2.590e-06, norm2 d0:1.285e+03\n",
            "Epoch: 90, >0 satisfied: True, max g>0: -1.951e-06, dual >0 satisfied: False, max product >0: 1.846e-02, =1 satisfied: True, max g=1: -2.184e-02, dual =1 satisfied: False, max product =1: 4.824e+02\n",
            "Epoch: 91, f: 1.35144e+00, delta f: -1.13596e+01%, nash satisfied: True, max g: -1.163e-04, dual nash satisfied: False, max product: 1.201e-01, rho: 2.590e-06, norm2 d0:1.083e+03\n",
            "Epoch: 91, >0 satisfied: True, max g>0: -1.012e-06, dual >0 satisfied: False, max product >0: 1.580e-02, =1 satisfied: True, max g=1: -2.183e-02, dual =1 satisfied: False, max product =1: 4.531e+02\n",
            "Epoch: 92, f: 1.35101e+00, delta f: -1.13878e+01%, nash satisfied: True, max g: -1.507e-04, dual nash satisfied: False, max product: 1.739e-01, rho: 2.590e-06, norm2 d0:5.734e+02\n",
            "Epoch: 92, >0 satisfied: True, max g>0: -5.119e-07, dual >0 satisfied: False, max product >0: 1.830e-02, =1 satisfied: True, max g=1: -2.183e-02, dual =1 satisfied: False, max product =1: 3.483e+02\n",
            "Epoch: 93, f: 1.35101e+00, delta f: -1.13876e+01%, nash satisfied: True, max g: -7.629e-05, dual nash satisfied: False, max product: 8.155e-02, rho: 2.590e-06, norm2 d0:9.551e+02\n",
            "Epoch: 93, >0 satisfied: True, max g>0: -1.025e-06, dual >0 satisfied: False, max product >0: 1.710e-02, =1 satisfied: True, max g=1: -2.182e-02, dual =1 satisfied: False, max product =1: 4.316e+02\n",
            "Epoch: 94, f: 1.35063e+00, delta f: -1.14126e+01%, nash satisfied: True, max g: -1.316e-04, dual nash satisfied: False, max product: 9.971e-02, rho: 2.590e-06, norm2 d0:6.232e+02\n",
            "Epoch: 94, >0 satisfied: True, max g>0: -5.150e-07, dual >0 satisfied: False, max product >0: 1.804e-02, =1 satisfied: True, max g=1: -2.181e-02, dual =1 satisfied: False, max product =1: 3.612e+02\n",
            "Epoch: 95, f: 1.33818e+00, delta f: -1.22293e+01%, nash satisfied: True, max g: -6.676e-05, dual nash satisfied: False, max product: 1.506e-01, rho: 2.590e-06, norm2 d0:1.209e+03\n",
            "Epoch: 95, >0 satisfied: True, max g>0: -6.662e-07, dual >0 satisfied: False, max product >0: 1.434e-02, =1 satisfied: True, max g=1: -2.180e-02, dual =1 satisfied: False, max product =1: 4.719e+02\n",
            "Epoch: 96, f: 1.33756e+00, delta f: -1.22696e+01%, nash satisfied: True, max g: -5.531e-05, dual nash satisfied: False, max product: 5.969e-02, rho: 2.590e-06, norm2 d0:1.302e+02\n",
            "Epoch: 96, >0 satisfied: True, max g>0: -1.044e-04, dual >0 satisfied: False, max product >0: 1.278e-01, =1 satisfied: True, max g=1: -2.109e-02, dual =1 satisfied: False, max product =1: 1.757e+02\n",
            "Epoch: 97, f: 1.33726e+00, delta f: -1.22896e+01%, nash satisfied: True, max g: -4.578e-05, dual nash satisfied: False, max product: 2.965e-02, rho: 2.590e-06, norm2 d0:2.704e+02\n",
            "Epoch: 97, >0 satisfied: True, max g>0: -5.278e-05, dual >0 satisfied: False, max product >0: 9.635e-02, =1 satisfied: True, max g=1: -2.108e-02, dual =1 satisfied: False, max product =1: 2.495e+02\n",
            "Epoch: 98, f: 1.33719e+00, delta f: -1.22941e+01%, nash satisfied: True, max g: -4.959e-05, dual nash satisfied: False, max product: 2.435e-02, rho: 2.590e-06, norm2 d0:5.086e+02\n",
            "Epoch: 98, >0 satisfied: True, max g>0: -2.652e-05, dual >0 satisfied: False, max product >0: 6.904e-02, =1 satisfied: True, max g=1: -2.108e-02, dual =1 satisfied: False, max product =1: 3.340e+02\n",
            "Epoch: 99, f: 1.33697e+00, delta f: -1.23083e+01%, nash satisfied: True, max g: -8.011e-05, dual nash satisfied: False, max product: 8.635e-02, rho: 2.590e-06, norm2 d0:6.486e+02\n",
            "Epoch: 99, >0 satisfied: True, max g>0: -1.391e-05, dual >0 satisfied: False, max product >0: 4.635e-02, =1 satisfied: True, max g=1: -2.107e-02, dual =1 satisfied: False, max product =1: 3.711e+02\n",
            "Epoch: 100, f: 1.33680e+00, delta f: -1.23196e+01%, nash satisfied: True, max g: -6.294e-05, dual nash satisfied: False, max product: 5.422e-02, rho: 2.590e-06, norm2 d0:7.810e+02\n",
            "Epoch: 100, >0 satisfied: True, max g>0: -7.284e-06, dual >0 satisfied: False, max product >0: 3.214e-02, =1 satisfied: True, max g=1: -2.107e-02, dual =1 satisfied: False, max product =1: 4.012e+02\n",
            "Epoch: 101, f: 1.33665e+00, delta f: -1.23296e+01%, nash satisfied: True, max g: -4.959e-05, dual nash satisfied: False, max product: 3.088e-02, rho: 2.590e-06, norm2 d0:8.917e+02\n",
            "Epoch: 101, >0 satisfied: True, max g>0: -3.840e-06, dual >0 satisfied: False, max product >0: 2.353e-02, =1 satisfied: True, max g=1: -2.106e-02, dual =1 satisfied: False, max product =1: 4.237e+02\n",
            "Epoch: 102, f: 1.33649e+00, delta f: -1.23399e+01%, nash satisfied: True, max g: -4.005e-05, dual nash satisfied: False, max product: 2.991e-02, rho: 2.590e-06, norm2 d0:7.315e+02\n",
            "Epoch: 102, >0 satisfied: True, max g>0: -1.977e-06, dual >0 satisfied: False, max product >0: 2.007e-02, =1 satisfied: True, max g=1: -2.106e-02, dual =1 satisfied: False, max product =1: 3.907e+02\n",
            "Epoch: 103, f: 1.33647e+00, delta f: -1.23411e+01%, nash satisfied: True, max g: -2.289e-05, dual nash satisfied: False, max product: 7.181e-02, rho: 2.590e-06, norm2 d0:7.869e+02\n",
            "Epoch: 103, >0 satisfied: True, max g>0: -1.434e-06, dual >0 satisfied: False, max product >0: 1.836e-02, =1 satisfied: True, max g=1: -2.105e-02, dual =1 satisfied: False, max product =1: 4.025e+02\n",
            "Epoch: 104, f: 1.33647e+00, delta f: -1.23414e+01%, nash satisfied: True, max g: -2.098e-05, dual nash satisfied: False, max product: 3.989e-02, rho: 2.590e-06, norm2 d0:9.369e+02\n",
            "Epoch: 104, >0 satisfied: True, max g>0: -1.451e-06, dual >0 satisfied: False, max product >0: 1.734e-02, =1 satisfied: True, max g=1: -2.105e-02, dual =1 satisfied: False, max product =1: 4.320e+02\n",
            "Epoch: 105, f: 1.33643e+00, delta f: -1.23439e+01%, nash satisfied: True, max g: -2.098e-05, dual nash satisfied: False, max product: 8.658e-02, rho: 2.590e-06, norm2 d0:1.001e+03\n",
            "Epoch: 105, >0 satisfied: True, max g>0: -1.450e-06, dual >0 satisfied: False, max product >0: 1.701e-02, =1 satisfied: True, max g=1: -2.105e-02, dual =1 satisfied: False, max product =1: 4.431e+02\n",
            "Epoch: 106, f: 1.33501e+00, delta f: -1.24369e+01%, nash satisfied: True, max g: -5.341e-05, dual nash satisfied: False, max product: 6.852e-02, rho: 2.590e-06, norm2 d0:7.659e+02\n",
            "Epoch: 106, >0 satisfied: True, max g>0: -7.339e-07, dual >0 satisfied: False, max product >0: 1.665e-02, =1 satisfied: True, max g=1: -2.104e-02, dual =1 satisfied: False, max product =1: 3.982e+02\n",
            "Epoch: 107, f: 1.33437e+00, delta f: -1.24792e+01%, nash satisfied: True, max g: -2.518e-04, dual nash satisfied: False, max product: 2.219e-01, rho: 2.590e-06, norm2 d0:5.367e+02\n",
            "Epoch: 107, >0 satisfied: True, max g>0: -3.780e-07, dual >0 satisfied: False, max product >0: 1.763e-02, =1 satisfied: True, max g=1: -2.093e-02, dual =1 satisfied: False, max product =1: 3.426e+02\n",
            "Epoch: 108, f: 1.33402e+00, delta f: -1.25020e+01%, nash satisfied: True, max g: -1.278e-04, dual nash satisfied: False, max product: 1.669e-01, rho: 2.590e-06, norm2 d0:5.492e+02\n",
            "Epoch: 108, >0 satisfied: True, max g>0: -7.167e-07, dual >0 satisfied: False, max product >0: 1.817e-02, =1 satisfied: True, max g=1: -2.092e-02, dual =1 satisfied: False, max product =1: 3.461e+02\n",
            "Epoch: 109, f: 1.33380e+00, delta f: -1.25165e+01%, nash satisfied: True, max g: -6.485e-05, dual nash satisfied: False, max product: 1.003e-01, rho: 2.590e-06, norm2 d0:9.003e+02\n",
            "Epoch: 109, >0 satisfied: True, max g>0: -7.692e-07, dual >0 satisfied: False, max product >0: 1.570e-02, =1 satisfied: True, max g=1: -2.092e-02, dual =1 satisfied: False, max product =1: 4.259e+02\n",
            "Epoch: 110, f: 1.33387e+00, delta f: -1.25118e+01%, nash satisfied: True, max g: -3.242e-05, dual nash satisfied: False, max product: 4.321e-02, rho: 2.590e-06, norm2 d0:1.158e+03\n",
            "Epoch: 110, >0 satisfied: True, max g>0: -1.294e-06, dual >0 satisfied: False, max product >0: 1.547e-02, =1 satisfied: True, max g=1: -2.091e-02, dual =1 satisfied: False, max product =1: 4.687e+02\n",
            "Epoch: 111, f: 1.33383e+00, delta f: -1.25145e+01%, nash satisfied: True, max g: -7.629e-05, dual nash satisfied: False, max product: 1.087e-01, rho: 2.590e-06, norm2 d0:9.875e+02\n",
            "Epoch: 111, >0 satisfied: True, max g>0: -6.808e-07, dual >0 satisfied: False, max product >0: 1.513e-02, =1 satisfied: True, max g=1: -2.091e-02, dual =1 satisfied: False, max product =1: 4.413e+02\n",
            "Epoch: 112, f: 1.33383e+00, delta f: -1.25145e+01%, nash satisfied: True, max g: -7.439e-05, dual nash satisfied: False, max product: 5.127e-02, rho: 2.590e-06, norm2 d0:1.154e+03\n",
            "Epoch: 112, >0 satisfied: True, max g>0: -9.265e-07, dual >0 satisfied: False, max product >0: 1.460e-02, =1 satisfied: True, max g=1: -2.090e-02, dual =1 satisfied: False, max product =1: 4.681e+02\n",
            "Epoch: 113, f: 1.21986e+00, delta f: -1.99894e+01%, nash satisfied: True, max g: -7.439e-05, dual nash satisfied: False, max product: 5.126e-02, rho: 2.590e-06, norm2 d0:1.154e+03\n",
            "Epoch: 113, >0 satisfied: True, max g>0: -9.268e-07, dual >0 satisfied: False, max product >0: 1.460e-02, =1 satisfied: True, max g=1: -2.090e-02, dual =1 satisfied: False, max product =1: 4.680e+02\n",
            "Epoch: 114, f: 1.21902e+00, delta f: -2.00449e+01%, nash satisfied: True, max g: -1.602e-04, dual nash satisfied: False, max product: 1.253e-01, rho: 2.590e-06, norm2 d0:6.331e+01\n",
            "Epoch: 114, >0 satisfied: True, max g>0: -1.244e-04, dual >0 satisfied: False, max product >0: 1.229e-01, =1 satisfied: True, max g=1: -1.600e-02, dual =1 satisfied: False, max product =1: 1.331e+02\n",
            "Epoch: 115, f: 1.21878e+00, delta f: -2.00604e+01%, nash satisfied: True, max g: -1.106e-04, dual nash satisfied: False, max product: 4.187e-02, rho: 2.590e-06, norm2 d0:2.012e+02\n",
            "Epoch: 115, >0 satisfied: True, max g>0: -6.291e-05, dual >0 satisfied: False, max product >0: 1.095e-01, =1 satisfied: True, max g=1: -1.599e-02, dual =1 satisfied: False, max product =1: 2.332e+02\n",
            "Epoch: 116, f: 1.21832e+00, delta f: -2.00905e+01%, nash satisfied: True, max g: -1.450e-04, dual nash satisfied: False, max product: 8.420e-02, rho: 2.590e-06, norm2 d0:2.604e+02\n",
            "Epoch: 116, >0 satisfied: True, max g>0: -3.210e-05, dual >0 satisfied: False, max product >0: 6.860e-02, =1 satisfied: True, max g=1: -1.598e-02, dual =1 satisfied: False, max product =1: 2.630e+02\n",
            "Epoch: 117, f: 1.21821e+00, delta f: -2.00980e+01%, nash satisfied: True, max g: -8.392e-05, dual nash satisfied: False, max product: 5.780e-02, rho: 2.590e-06, norm2 d0:8.016e+02\n",
            "Epoch: 117, >0 satisfied: True, max g>0: -1.625e-05, dual >0 satisfied: False, max product >0: 5.434e-02, =1 satisfied: True, max g=1: -1.598e-02, dual =1 satisfied: False, max product =1: 4.251e+02\n",
            "Epoch: 118, f: 1.21821e+00, delta f: -2.00980e+01%, nash satisfied: True, max g: -8.774e-05, dual nash satisfied: False, max product: 1.291e-01, rho: 2.590e-06, norm2 d0:8.367e+02\n",
            "Epoch: 118, >0 satisfied: True, max g>0: -9.245e-06, dual >0 satisfied: False, max product >0: 3.548e-02, =1 satisfied: True, max g=1: -1.597e-02, dual =1 satisfied: False, max product =1: 4.318e+02\n",
            "Epoch: 119, f: 1.21805e+00, delta f: -2.01085e+01%, nash satisfied: True, max g: -8.774e-05, dual nash satisfied: False, max product: 5.675e-02, rho: 2.590e-06, norm2 d0:6.789e+02\n",
            "Epoch: 119, >0 satisfied: True, max g>0: -9.232e-06, dual >0 satisfied: False, max product >0: 3.462e-02, =1 satisfied: True, max g=1: -1.597e-02, dual =1 satisfied: False, max product =1: 3.991e+02\n",
            "Epoch: 120, f: 1.21795e+00, delta f: -2.01150e+01%, nash satisfied: True, max g: -7.248e-05, dual nash satisfied: False, max product: 1.785e-01, rho: 2.590e-06, norm2 d0:1.197e+03\n",
            "Epoch: 120, >0 satisfied: True, max g>0: -4.876e-06, dual >0 satisfied: False, max product >0: 2.202e-02, =1 satisfied: True, max g=1: -1.597e-02, dual =1 satisfied: False, max product =1: 4.869e+02\n",
            "Epoch: 121, f: 1.21789e+00, delta f: -2.01190e+01%, nash satisfied: True, max g: -6.866e-05, dual nash satisfied: False, max product: 5.309e-02, rho: 2.590e-06, norm2 d0:1.120e+03\n",
            "Epoch: 121, >0 satisfied: True, max g>0: -2.553e-06, dual >0 satisfied: False, max product >0: 1.500e-02, =1 satisfied: True, max g=1: -1.597e-02, dual =1 satisfied: False, max product =1: 4.772e+02\n",
            "Epoch: 122, f: 1.21751e+00, delta f: -2.01440e+01%, nash satisfied: True, max g: -9.155e-05, dual nash satisfied: False, max product: 8.265e-02, rho: 2.590e-06, norm2 d0:1.022e+03\n",
            "Epoch: 122, >0 satisfied: True, max g>0: -1.318e-06, dual >0 satisfied: False, max product >0: 1.211e-02, =1 satisfied: True, max g=1: -1.597e-02, dual =1 satisfied: False, max product =1: 4.632e+02\n",
            "Epoch: 123, f: 1.21745e+00, delta f: -2.01475e+01%, nash satisfied: True, max g: -4.578e-05, dual nash satisfied: False, max product: 8.825e-02, rho: 2.590e-06, norm2 d0:1.153e+03\n",
            "Epoch: 123, >0 satisfied: True, max g>0: -1.426e-06, dual >0 satisfied: False, max product >0: 1.159e-02, =1 satisfied: True, max g=1: -1.596e-02, dual =1 satisfied: False, max product =1: 4.811e+02\n",
            "Epoch: 124, f: 1.21738e+00, delta f: -2.01520e+01%, nash satisfied: True, max g: -4.196e-05, dual nash satisfied: False, max product: 2.960e-02, rho: 2.590e-06, norm2 d0:8.512e+02\n",
            "Epoch: 124, >0 satisfied: True, max g>0: -1.412e-06, dual >0 satisfied: False, max product >0: 1.359e-02, =1 satisfied: True, max g=1: -1.596e-02, dual =1 satisfied: False, max product =1: 4.351e+02\n",
            "Epoch: 125, f: 1.21716e+00, delta f: -2.01670e+01%, nash satisfied: True, max g: -3.815e-05, dual nash satisfied: False, max product: 5.469e-02, rho: 2.590e-06, norm2 d0:1.014e+03\n",
            "Epoch: 125, >0 satisfied: True, max g>0: -7.102e-07, dual >0 satisfied: False, max product >0: 1.031e-02, =1 satisfied: True, max g=1: -1.595e-02, dual =1 satisfied: False, max product =1: 4.618e+02\n",
            "Epoch: 126, f: 1.21693e+00, delta f: -2.01820e+01%, nash satisfied: True, max g: -1.907e-05, dual nash satisfied: False, max product: 2.088e-01, rho: 2.590e-06, norm2 d0:1.425e+03\n",
            "Epoch: 126, >0 satisfied: True, max g>0: -9.893e-07, dual >0 satisfied: False, max product >0: 7.885e-03, =1 satisfied: True, max g=1: -1.595e-02, dual =1 satisfied: False, max product =1: 5.108e+02\n",
            "Epoch: 127, f: 1.21691e+00, delta f: -2.01831e+01%, nash satisfied: True, max g: -1.144e-05, dual nash satisfied: False, max product: 1.137e-02, rho: 2.590e-06, norm2 d0:1.296e+03\n",
            "Epoch: 127, >0 satisfied: True, max g>0: -2.483e-06, dual >0 satisfied: False, max product >0: 1.390e-02, =1 satisfied: True, max g=1: -1.594e-02, dual =1 satisfied: False, max product =1: 4.981e+02\n",
            "Epoch: 128, f: 1.21687e+00, delta f: -2.01856e+01%, nash satisfied: True, max g: -1.144e-05, dual nash satisfied: False, max product: 1.409e-01, rho: 2.590e-06, norm2 d0:1.311e+03\n",
            "Epoch: 128, >0 satisfied: True, max g>0: -2.447e-06, dual >0 satisfied: False, max product >0: 1.372e-02, =1 satisfied: True, max g=1: -1.594e-02, dual =1 satisfied: False, max product =1: 5.000e+02\n",
            "Epoch: 129, f: 1.21677e+00, delta f: -2.01926e+01%, nash satisfied: True, max g: -3.433e-05, dual nash satisfied: False, max product: 9.800e-02, rho: 2.590e-06, norm2 d0:9.136e+02\n",
            "Epoch: 129, >0 satisfied: True, max g>0: -1.245e-06, dual >0 satisfied: False, max product >0: 1.220e-02, =1 satisfied: True, max g=1: -1.594e-02, dual =1 satisfied: False, max product =1: 4.459e+02\n",
            "Epoch: 130, f: 1.21657e+00, delta f: -2.02056e+01%, nash satisfied: True, max g: -3.433e-05, dual nash satisfied: False, max product: 1.308e-01, rho: 2.590e-06, norm2 d0:8.133e+02\n",
            "Epoch: 130, >0 satisfied: True, max g>0: -6.282e-07, dual >0 satisfied: False, max product >0: 1.129e-02, =1 satisfied: True, max g=1: -1.593e-02, dual =1 satisfied: False, max product =1: 4.274e+02\n",
            "Epoch: 131, f: 1.21646e+00, delta f: -2.02126e+01%, nash satisfied: True, max g: -3.815e-05, dual nash satisfied: False, max product: 1.632e-01, rho: 2.590e-06, norm2 d0:1.584e+03\n",
            "Epoch: 131, >0 satisfied: True, max g>0: -3.217e-07, dual >0 satisfied: False, max product >0: 4.644e-03, =1 satisfied: True, max g=1: -1.592e-02, dual =1 satisfied: False, max product =1: 5.229e+02\n",
            "Epoch: 132, f: 1.21659e+00, delta f: -2.02041e+01%, nash satisfied: True, max g: -3.815e-05, dual nash satisfied: False, max product: 3.223e-02, rho: 2.590e-06, norm2 d0:1.555e+03\n",
            "Epoch: 132, >0 satisfied: True, max g>0: -1.028e-06, dual >0 satisfied: False, max product >0: 7.491e-03, =1 satisfied: True, max g=1: -1.592e-02, dual =1 satisfied: False, max product =1: 5.209e+02\n",
            "Epoch: 133, f: 1.21662e+00, delta f: -2.02021e+01%, nash satisfied: True, max g: -8.774e-05, dual nash satisfied: False, max product: 8.016e-02, rho: 2.590e-06, norm2 d0:1.182e+03\n",
            "Epoch: 133, >0 satisfied: True, max g>0: -5.339e-07, dual >0 satisfied: False, max product >0: 8.302e-03, =1 satisfied: True, max g=1: -1.592e-02, dual =1 satisfied: False, max product =1: 4.846e+02\n",
            "Epoch: 134, f: 1.21351e+00, delta f: -2.04062e+01%, nash satisfied: True, max g: -1.106e-04, dual nash satisfied: False, max product: 9.347e-02, rho: 2.590e-06, norm2 d0:1.552e+03\n",
            "Epoch: 134, >0 satisfied: True, max g>0: -2.694e-07, dual >0 satisfied: False, max product >0: 4.697e-03, =1 satisfied: True, max g=1: -1.592e-02, dual =1 satisfied: False, max product =1: 5.210e+02\n",
            "Epoch: 135, f: 1.21318e+00, delta f: -2.04277e+01%, nash satisfied: True, max g: -5.722e-05, dual nash satisfied: False, max product: 6.158e-02, rho: 2.590e-06, norm2 d0:2.190e+02\n",
            "Epoch: 135, >0 satisfied: True, max g>0: -5.482e-05, dual >0 satisfied: False, max product >0: 1.009e-01, =1 satisfied: True, max g=1: -1.580e-02, dual =1 satisfied: False, max product =1: 2.432e+02\n",
            "Epoch: 136, f: 1.21317e+00, delta f: -2.04288e+01%, nash satisfied: True, max g: -3.052e-05, dual nash satisfied: False, max product: 1.453e-02, rho: 2.590e-06, norm2 d0:3.257e+02\n",
            "Epoch: 136, >0 satisfied: True, max g>0: -3.688e-05, dual >0 satisfied: False, max product >0: 8.317e-02, =1 satisfied: True, max g=1: -1.580e-02, dual =1 satisfied: False, max product =1: 2.921e+02\n",
            "Epoch: 137, f: 1.21298e+00, delta f: -2.04408e+01%, nash satisfied: True, max g: -3.052e-05, dual nash satisfied: False, max product: 9.949e-02, rho: 2.590e-06, norm2 d0:2.882e+02\n",
            "Epoch: 137, >0 satisfied: True, max g>0: -3.545e-05, dual >0 satisfied: False, max product >0: 7.706e-02, =1 satisfied: True, max g=1: -1.580e-02, dual =1 satisfied: False, max product =1: 2.762e+02\n",
            "Epoch: 138, f: 1.21277e+00, delta f: -2.04548e+01%, nash satisfied: True, max g: -4.196e-05, dual nash satisfied: False, max product: 1.046e-01, rho: 2.590e-06, norm2 d0:4.613e+02\n",
            "Epoch: 138, >0 satisfied: True, max g>0: -1.812e-05, dual >0 satisfied: False, max product >0: 5.234e-02, =1 satisfied: True, max g=1: -1.579e-02, dual =1 satisfied: False, max product =1: 3.404e+02\n",
            "Epoch: 139, f: 1.21272e+00, delta f: -2.04583e+01%, nash satisfied: True, max g: -2.289e-05, dual nash satisfied: False, max product: 3.297e-02, rho: 2.590e-06, norm2 d0:6.265e+02\n",
            "Epoch: 139, >0 satisfied: True, max g>0: -1.039e-05, dual >0 satisfied: False, max product >0: 3.711e-02, =1 satisfied: True, max g=1: -1.579e-02, dual =1 satisfied: False, max product =1: 3.869e+02\n",
            "Epoch: 140, f: 1.21266e+00, delta f: -2.04618e+01%, nash satisfied: True, max g: -2.289e-05, dual nash satisfied: False, max product: 4.507e-02, rho: 2.590e-06, norm2 d0:7.451e+02\n",
            "Epoch: 140, >0 satisfied: True, max g>0: -8.195e-06, dual >0 satisfied: False, max product >0: 3.213e-02, =1 satisfied: True, max g=1: -1.579e-02, dual =1 satisfied: False, max product =1: 4.142e+02\n",
            "Epoch: 141, f: 1.21265e+00, delta f: -2.04623e+01%, nash satisfied: True, max g: -3.052e-05, dual nash satisfied: False, max product: 1.032e-01, rho: 2.590e-06, norm2 d0:1.431e+03\n",
            "Epoch: 141, >0 satisfied: True, max g>0: -4.293e-06, dual >0 satisfied: False, max product >0: 1.908e-02, =1 satisfied: True, max g=1: -1.579e-02, dual =1 satisfied: False, max product =1: 5.111e+02\n",
            "Epoch: 142, f: 1.21265e+00, delta f: -2.04623e+01%, nash satisfied: True, max g: -3.052e-05, dual nash satisfied: False, max product: 1.072e-01, rho: 2.590e-06, norm2 d0:1.147e+03\n",
            "Epoch: 142, >0 satisfied: True, max g>0: -4.114e-06, dual >0 satisfied: False, max product >0: 1.980e-02, =1 satisfied: True, max g=1: -1.579e-02, dual =1 satisfied: False, max product =1: 4.804e+02\n",
            "Epoch: 143, f: 1.21266e+00, delta f: -2.04618e+01%, nash satisfied: True, max g: -5.722e-05, dual nash satisfied: False, max product: 4.223e-02, rho: 2.590e-06, norm2 d0:9.587e+02\n",
            "Epoch: 143, >0 satisfied: True, max g>0: -2.097e-06, dual >0 satisfied: False, max product >0: 1.458e-02, =1 satisfied: True, max g=1: -1.579e-02, dual =1 satisfied: False, max product =1: 4.535e+02\n",
            "Epoch: 144, f: 1.21276e+00, delta f: -2.04553e+01%, nash satisfied: True, max g: -7.629e-05, dual nash satisfied: False, max product: 7.469e-02, rho: 2.590e-06, norm2 d0:1.364e+03\n",
            "Epoch: 144, >0 satisfied: True, max g>0: -1.099e-06, dual >0 satisfied: False, max product >0: 8.613e-03, =1 satisfied: True, max g=1: -1.578e-02, dual =1 satisfied: False, max product =1: 5.042e+02\n",
            "Epoch: 145, f: 1.21146e+00, delta f: -2.05408e+01%, nash satisfied: True, max g: -1.488e-04, dual nash satisfied: False, max product: 1.059e-01, rho: 2.590e-06, norm2 d0:8.615e+02\n",
            "Epoch: 145, >0 satisfied: True, max g>0: -5.595e-07, dual >0 satisfied: False, max product >0: 1.079e-02, =1 satisfied: True, max g=1: -1.578e-02, dual =1 satisfied: False, max product =1: 4.372e+02\n",
            "Epoch: 146, f: 1.21146e+00, delta f: -2.05408e+01%, nash satisfied: True, max g: -8.011e-05, dual nash satisfied: False, max product: 5.912e-02, rho: 2.590e-06, norm2 d0:9.538e+02\n",
            "Epoch: 146, >0 satisfied: True, max g>0: -3.968e-06, dual >0 satisfied: False, max product >0: 1.996e-02, =1 satisfied: True, max g=1: -1.574e-02, dual =1 satisfied: False, max product =1: 4.529e+02\n",
            "Epoch: 147, f: 1.21146e+00, delta f: -2.05408e+01%, nash satisfied: True, max g: -8.011e-05, dual nash satisfied: False, max product: 6.799e-02, rho: 2.590e-06, norm2 d0:1.051e+03\n",
            "Epoch: 147, >0 satisfied: True, max g>0: -3.964e-06, dual >0 satisfied: False, max product >0: 1.946e-02, =1 satisfied: True, max g=1: -1.574e-02, dual =1 satisfied: False, max product =1: 4.682e+02\n",
            "Epoch: 148, f: 1.21146e+00, delta f: -2.05408e+01%, nash satisfied: True, max g: -8.011e-05, dual nash satisfied: False, max product: 6.799e-02, rho: 2.590e-06, norm2 d0:1.051e+03\n",
            "Epoch: 148, >0 satisfied: True, max g>0: -3.964e-06, dual >0 satisfied: False, max product >0: 1.946e-02, =1 satisfied: True, max g=1: -1.574e-02, dual =1 satisfied: False, max product =1: 4.682e+02\n",
            "Epoch: 149, f: 1.21146e+00, delta f: -2.05408e+01%, nash satisfied: True, max g: -8.011e-05, dual nash satisfied: False, max product: 6.799e-02, rho: 2.590e-06, norm2 d0:1.051e+03\n",
            "Epoch: 149, >0 satisfied: True, max g>0: -3.964e-06, dual >0 satisfied: False, max product >0: 1.946e-02, =1 satisfied: True, max g=1: -1.574e-02, dual =1 satisfied: False, max product =1: 4.682e+02\n",
            "Epoch: 150, f: 1.21146e+00, delta f: -2.05408e+01%, nash satisfied: True, max g: -8.011e-05, dual nash satisfied: False, max product: 6.799e-02, rho: 2.590e-06, norm2 d0:1.051e+03\n",
            "Epoch: 150, >0 satisfied: True, max g>0: -3.964e-06, dual >0 satisfied: False, max product >0: 1.946e-02, =1 satisfied: True, max g=1: -1.574e-02, dual =1 satisfied: False, max product =1: 4.682e+02\n",
            "Epoch: 151, f: 1.21146e+00, delta f: -2.05408e+01%, nash satisfied: True, max g: -8.011e-05, dual nash satisfied: False, max product: 6.799e-02, rho: 2.590e-06, norm2 d0:1.051e+03\n",
            "Epoch: 151, >0 satisfied: True, max g>0: -3.964e-06, dual >0 satisfied: False, max product >0: 1.946e-02, =1 satisfied: True, max g=1: -1.574e-02, dual =1 satisfied: False, max product =1: 4.682e+02\n",
            "Epoch: 152, f: 1.21146e+00, delta f: -2.05408e+01%, nash satisfied: True, max g: -8.011e-05, dual nash satisfied: False, max product: 6.799e-02, rho: 2.590e-06, norm2 d0:1.051e+03\n",
            "Epoch: 152, >0 satisfied: True, max g>0: -3.964e-06, dual >0 satisfied: False, max product >0: 1.946e-02, =1 satisfied: True, max g=1: -1.574e-02, dual =1 satisfied: False, max product =1: 4.682e+02\n",
            "Epoch: 153, f: 1.21146e+00, delta f: -2.05408e+01%, nash satisfied: True, max g: -8.011e-05, dual nash satisfied: False, max product: 6.799e-02, rho: 2.590e-06, norm2 d0:1.051e+03\n",
            "Epoch: 153, >0 satisfied: True, max g>0: -3.964e-06, dual >0 satisfied: False, max product >0: 1.946e-02, =1 satisfied: True, max g=1: -1.574e-02, dual =1 satisfied: False, max product =1: 4.682e+02\n",
            "Epoch: 154, f: 1.21146e+00, delta f: -2.05408e+01%, nash satisfied: True, max g: -8.011e-05, dual nash satisfied: False, max product: 6.799e-02, rho: 2.590e-06, norm2 d0:1.051e+03\n",
            "Epoch: 154, >0 satisfied: True, max g>0: -3.964e-06, dual >0 satisfied: False, max product >0: 1.946e-02, =1 satisfied: True, max g=1: -1.574e-02, dual =1 satisfied: False, max product =1: 4.682e+02\n",
            "Epoch: 155, f: 1.21146e+00, delta f: -2.05408e+01%, nash satisfied: True, max g: -8.011e-05, dual nash satisfied: False, max product: 6.799e-02, rho: 2.590e-06, norm2 d0:1.051e+03\n",
            "Epoch: 155, >0 satisfied: True, max g>0: -3.964e-06, dual >0 satisfied: False, max product >0: 1.946e-02, =1 satisfied: True, max g=1: -1.574e-02, dual =1 satisfied: False, max product =1: 4.682e+02\n",
            "Epoch: 156, f: 1.21146e+00, delta f: -2.05408e+01%, nash satisfied: True, max g: -8.011e-05, dual nash satisfied: False, max product: 6.799e-02, rho: 2.590e-06, norm2 d0:1.051e+03\n",
            "Epoch: 156, >0 satisfied: True, max g>0: -3.964e-06, dual >0 satisfied: False, max product >0: 1.946e-02, =1 satisfied: True, max g=1: -1.574e-02, dual =1 satisfied: False, max product =1: 4.682e+02\n",
            "Epoch: 157, f: 1.21146e+00, delta f: -2.05408e+01%, nash satisfied: True, max g: -8.011e-05, dual nash satisfied: False, max product: 6.799e-02, rho: 2.590e-06, norm2 d0:1.051e+03\n",
            "Epoch: 157, >0 satisfied: True, max g>0: -3.964e-06, dual >0 satisfied: False, max product >0: 1.946e-02, =1 satisfied: True, max g=1: -1.574e-02, dual =1 satisfied: False, max product =1: 4.682e+02\n",
            "Epoch: 158, f: 1.21146e+00, delta f: -2.05408e+01%, nash satisfied: True, max g: -8.011e-05, dual nash satisfied: False, max product: 6.799e-02, rho: 2.590e-06, norm2 d0:1.051e+03\n",
            "Epoch: 158, >0 satisfied: True, max g>0: -3.964e-06, dual >0 satisfied: False, max product >0: 1.946e-02, =1 satisfied: True, max g=1: -1.574e-02, dual =1 satisfied: False, max product =1: 4.682e+02\n",
            "Epoch: 159, f: 1.21146e+00, delta f: -2.05408e+01%, nash satisfied: True, max g: -8.011e-05, dual nash satisfied: False, max product: 6.799e-02, rho: 2.590e-06, norm2 d0:1.051e+03\n",
            "Epoch: 159, >0 satisfied: True, max g>0: -3.964e-06, dual >0 satisfied: False, max product >0: 1.946e-02, =1 satisfied: True, max g=1: -1.574e-02, dual =1 satisfied: False, max product =1: 4.682e+02\n",
            "Epoch: 160, f: 1.21146e+00, delta f: -2.05408e+01%, nash satisfied: True, max g: -8.011e-05, dual nash satisfied: False, max product: 6.799e-02, rho: 2.590e-06, norm2 d0:1.051e+03\n",
            "Epoch: 160, >0 satisfied: True, max g>0: -3.964e-06, dual >0 satisfied: False, max product >0: 1.946e-02, =1 satisfied: True, max g=1: -1.574e-02, dual =1 satisfied: False, max product =1: 4.682e+02\n",
            "Epoch: 161, f: 1.21146e+00, delta f: -2.05408e+01%, nash satisfied: True, max g: -8.011e-05, dual nash satisfied: False, max product: 6.799e-02, rho: 2.590e-06, norm2 d0:1.051e+03\n",
            "Epoch: 161, >0 satisfied: True, max g>0: -3.964e-06, dual >0 satisfied: False, max product >0: 1.946e-02, =1 satisfied: True, max g=1: -1.574e-02, dual =1 satisfied: False, max product =1: 4.682e+02\n",
            "Epoch: 162, f: 1.21146e+00, delta f: -2.05408e+01%, nash satisfied: True, max g: -8.011e-05, dual nash satisfied: False, max product: 6.799e-02, rho: 2.590e-06, norm2 d0:1.051e+03\n",
            "Epoch: 162, >0 satisfied: True, max g>0: -3.964e-06, dual >0 satisfied: False, max product >0: 1.946e-02, =1 satisfied: True, max g=1: -1.574e-02, dual =1 satisfied: False, max product =1: 4.682e+02\n",
            "Epoch: 163, f: 1.21146e+00, delta f: -2.05408e+01%, nash satisfied: True, max g: -8.011e-05, dual nash satisfied: False, max product: 6.799e-02, rho: 2.590e-06, norm2 d0:1.051e+03\n",
            "Epoch: 163, >0 satisfied: True, max g>0: -3.964e-06, dual >0 satisfied: False, max product >0: 1.946e-02, =1 satisfied: True, max g=1: -1.574e-02, dual =1 satisfied: False, max product =1: 4.682e+02\n",
            "Epoch: 164, f: 1.21146e+00, delta f: -2.05408e+01%, nash satisfied: True, max g: -8.011e-05, dual nash satisfied: False, max product: 6.799e-02, rho: 2.590e-06, norm2 d0:1.051e+03\n",
            "Epoch: 164, >0 satisfied: True, max g>0: -3.964e-06, dual >0 satisfied: False, max product >0: 1.946e-02, =1 satisfied: True, max g=1: -1.574e-02, dual =1 satisfied: False, max product =1: 4.682e+02\n",
            "Epoch: 165, f: 1.21146e+00, delta f: -2.05408e+01%, nash satisfied: True, max g: -8.011e-05, dual nash satisfied: False, max product: 6.799e-02, rho: 2.590e-06, norm2 d0:1.051e+03\n",
            "Epoch: 165, >0 satisfied: True, max g>0: -3.964e-06, dual >0 satisfied: False, max product >0: 1.946e-02, =1 satisfied: True, max g=1: -1.574e-02, dual =1 satisfied: False, max product =1: 4.682e+02\n",
            "Epoch: 166, f: 1.21146e+00, delta f: -2.05408e+01%, nash satisfied: True, max g: -8.011e-05, dual nash satisfied: False, max product: 6.799e-02, rho: 2.590e-06, norm2 d0:1.051e+03\n",
            "Epoch: 166, >0 satisfied: True, max g>0: -3.964e-06, dual >0 satisfied: False, max product >0: 1.946e-02, =1 satisfied: True, max g=1: -1.574e-02, dual =1 satisfied: False, max product =1: 4.682e+02\n",
            "Epoch: 167, f: 1.21146e+00, delta f: -2.05408e+01%, nash satisfied: True, max g: -8.011e-05, dual nash satisfied: False, max product: 6.799e-02, rho: 2.590e-06, norm2 d0:1.051e+03\n",
            "Epoch: 167, >0 satisfied: True, max g>0: -3.964e-06, dual >0 satisfied: False, max product >0: 1.946e-02, =1 satisfied: True, max g=1: -1.574e-02, dual =1 satisfied: False, max product =1: 4.682e+02\n",
            "Epoch: 168, f: 1.21146e+00, delta f: -2.05408e+01%, nash satisfied: True, max g: -8.011e-05, dual nash satisfied: False, max product: 6.799e-02, rho: 2.590e-06, norm2 d0:1.051e+03\n",
            "Epoch: 168, >0 satisfied: True, max g>0: -3.964e-06, dual >0 satisfied: False, max product >0: 1.946e-02, =1 satisfied: True, max g=1: -1.574e-02, dual =1 satisfied: False, max product =1: 4.682e+02\n",
            "Epoch: 169, f: 1.21146e+00, delta f: -2.05408e+01%, nash satisfied: True, max g: -8.011e-05, dual nash satisfied: False, max product: 6.799e-02, rho: 2.590e-06, norm2 d0:1.051e+03\n",
            "Epoch: 169, >0 satisfied: True, max g>0: -3.964e-06, dual >0 satisfied: False, max product >0: 1.946e-02, =1 satisfied: True, max g=1: -1.574e-02, dual =1 satisfied: False, max product =1: 4.682e+02\n",
            "Epoch: 170, f: 1.21146e+00, delta f: -2.05408e+01%, nash satisfied: True, max g: -8.011e-05, dual nash satisfied: False, max product: 6.799e-02, rho: 2.590e-06, norm2 d0:1.051e+03\n",
            "Epoch: 170, >0 satisfied: True, max g>0: -3.964e-06, dual >0 satisfied: False, max product >0: 1.946e-02, =1 satisfied: True, max g=1: -1.574e-02, dual =1 satisfied: False, max product =1: 4.682e+02\n",
            "Epoch: 171, f: 1.21146e+00, delta f: -2.05408e+01%, nash satisfied: True, max g: -8.011e-05, dual nash satisfied: False, max product: 6.799e-02, rho: 2.590e-06, norm2 d0:1.051e+03\n",
            "Epoch: 171, >0 satisfied: True, max g>0: -3.964e-06, dual >0 satisfied: False, max product >0: 1.946e-02, =1 satisfied: True, max g=1: -1.574e-02, dual =1 satisfied: False, max product =1: 4.682e+02\n",
            "Epoch: 172, f: 1.21146e+00, delta f: -2.05408e+01%, nash satisfied: True, max g: -8.011e-05, dual nash satisfied: False, max product: 6.799e-02, rho: 2.590e-06, norm2 d0:1.051e+03\n",
            "Epoch: 172, >0 satisfied: True, max g>0: -3.964e-06, dual >0 satisfied: False, max product >0: 1.946e-02, =1 satisfied: True, max g=1: -1.574e-02, dual =1 satisfied: False, max product =1: 4.682e+02\n",
            "Epoch: 173, f: 1.21146e+00, delta f: -2.05408e+01%, nash satisfied: True, max g: -8.011e-05, dual nash satisfied: False, max product: 6.799e-02, rho: 2.590e-06, norm2 d0:1.051e+03\n",
            "Epoch: 173, >0 satisfied: True, max g>0: -3.964e-06, dual >0 satisfied: False, max product >0: 1.946e-02, =1 satisfied: True, max g=1: -1.574e-02, dual =1 satisfied: False, max product =1: 4.682e+02\n",
            "Epoch: 174, f: 1.21146e+00, delta f: -2.05408e+01%, nash satisfied: True, max g: -8.011e-05, dual nash satisfied: False, max product: 6.799e-02, rho: 2.590e-06, norm2 d0:1.051e+03\n",
            "Epoch: 174, >0 satisfied: True, max g>0: -3.964e-06, dual >0 satisfied: False, max product >0: 1.946e-02, =1 satisfied: True, max g=1: -1.574e-02, dual =1 satisfied: False, max product =1: 4.682e+02\n",
            "Epoch: 175, f: 1.21146e+00, delta f: -2.05408e+01%, nash satisfied: True, max g: -8.011e-05, dual nash satisfied: False, max product: 6.799e-02, rho: 2.590e-06, norm2 d0:1.051e+03\n",
            "Epoch: 175, >0 satisfied: True, max g>0: -3.964e-06, dual >0 satisfied: False, max product >0: 1.946e-02, =1 satisfied: True, max g=1: -1.574e-02, dual =1 satisfied: False, max product =1: 4.682e+02\n",
            "Epoch: 176, f: 1.21146e+00, delta f: -2.05408e+01%, nash satisfied: True, max g: -8.011e-05, dual nash satisfied: False, max product: 6.799e-02, rho: 2.590e-06, norm2 d0:1.051e+03\n",
            "Epoch: 176, >0 satisfied: True, max g>0: -3.964e-06, dual >0 satisfied: False, max product >0: 1.946e-02, =1 satisfied: True, max g=1: -1.574e-02, dual =1 satisfied: False, max product =1: 4.682e+02\n",
            "Epoch: 177, f: 1.21146e+00, delta f: -2.05408e+01%, nash satisfied: True, max g: -8.011e-05, dual nash satisfied: False, max product: 6.799e-02, rho: 2.590e-06, norm2 d0:1.051e+03\n",
            "Epoch: 177, >0 satisfied: True, max g>0: -3.964e-06, dual >0 satisfied: False, max product >0: 1.946e-02, =1 satisfied: True, max g=1: -1.574e-02, dual =1 satisfied: False, max product =1: 4.682e+02\n",
            "Epoch: 178, f: 1.21146e+00, delta f: -2.05408e+01%, nash satisfied: True, max g: -8.011e-05, dual nash satisfied: False, max product: 6.799e-02, rho: 2.590e-06, norm2 d0:1.051e+03\n",
            "Epoch: 178, >0 satisfied: True, max g>0: -3.964e-06, dual >0 satisfied: False, max product >0: 1.946e-02, =1 satisfied: True, max g=1: -1.574e-02, dual =1 satisfied: False, max product =1: 4.682e+02\n",
            "Epoch: 179, f: 1.21146e+00, delta f: -2.05408e+01%, nash satisfied: True, max g: -8.011e-05, dual nash satisfied: False, max product: 6.799e-02, rho: 2.590e-06, norm2 d0:1.051e+03\n",
            "Epoch: 179, >0 satisfied: True, max g>0: -3.964e-06, dual >0 satisfied: False, max product >0: 1.946e-02, =1 satisfied: True, max g=1: -1.574e-02, dual =1 satisfied: False, max product =1: 4.682e+02\n",
            "Epoch: 180, f: 1.21146e+00, delta f: -2.05408e+01%, nash satisfied: True, max g: -8.011e-05, dual nash satisfied: False, max product: 6.799e-02, rho: 2.590e-06, norm2 d0:1.051e+03\n",
            "Epoch: 180, >0 satisfied: True, max g>0: -3.964e-06, dual >0 satisfied: False, max product >0: 1.946e-02, =1 satisfied: True, max g=1: -1.574e-02, dual =1 satisfied: False, max product =1: 4.682e+02\n",
            "Epoch: 181, f: 1.21146e+00, delta f: -2.05408e+01%, nash satisfied: True, max g: -8.011e-05, dual nash satisfied: False, max product: 6.799e-02, rho: 2.590e-06, norm2 d0:1.051e+03\n",
            "Epoch: 181, >0 satisfied: True, max g>0: -3.964e-06, dual >0 satisfied: False, max product >0: 1.946e-02, =1 satisfied: True, max g=1: -1.574e-02, dual =1 satisfied: False, max product =1: 4.682e+02\n",
            "Epoch: 182, f: 1.21146e+00, delta f: -2.05408e+01%, nash satisfied: True, max g: -8.011e-05, dual nash satisfied: False, max product: 6.799e-02, rho: 2.590e-06, norm2 d0:1.051e+03\n",
            "Epoch: 182, >0 satisfied: True, max g>0: -3.964e-06, dual >0 satisfied: False, max product >0: 1.946e-02, =1 satisfied: True, max g=1: -1.574e-02, dual =1 satisfied: False, max product =1: 4.682e+02\n",
            "Epoch: 183, f: 1.21146e+00, delta f: -2.05408e+01%, nash satisfied: True, max g: -8.011e-05, dual nash satisfied: False, max product: 6.799e-02, rho: 2.590e-06, norm2 d0:1.051e+03\n",
            "Epoch: 183, >0 satisfied: True, max g>0: -3.964e-06, dual >0 satisfied: False, max product >0: 1.946e-02, =1 satisfied: True, max g=1: -1.574e-02, dual =1 satisfied: False, max product =1: 4.682e+02\n",
            "Epoch: 184, f: 1.21146e+00, delta f: -2.05408e+01%, nash satisfied: True, max g: -8.011e-05, dual nash satisfied: False, max product: 6.799e-02, rho: 2.590e-06, norm2 d0:1.051e+03\n",
            "Epoch: 184, >0 satisfied: True, max g>0: -3.964e-06, dual >0 satisfied: False, max product >0: 1.946e-02, =1 satisfied: True, max g=1: -1.574e-02, dual =1 satisfied: False, max product =1: 4.682e+02\n",
            "Epoch: 185, f: 1.21146e+00, delta f: -2.05408e+01%, nash satisfied: True, max g: -8.011e-05, dual nash satisfied: False, max product: 6.799e-02, rho: 2.590e-06, norm2 d0:1.051e+03\n",
            "Epoch: 185, >0 satisfied: True, max g>0: -3.964e-06, dual >0 satisfied: False, max product >0: 1.946e-02, =1 satisfied: True, max g=1: -1.574e-02, dual =1 satisfied: False, max product =1: 4.682e+02\n",
            "Epoch: 186, f: 1.21146e+00, delta f: -2.05408e+01%, nash satisfied: True, max g: -8.011e-05, dual nash satisfied: False, max product: 6.799e-02, rho: 2.590e-06, norm2 d0:1.051e+03\n",
            "Epoch: 186, >0 satisfied: True, max g>0: -3.964e-06, dual >0 satisfied: False, max product >0: 1.946e-02, =1 satisfied: True, max g=1: -1.574e-02, dual =1 satisfied: False, max product =1: 4.682e+02\n",
            "Epoch: 187, f: 1.21146e+00, delta f: -2.05408e+01%, nash satisfied: True, max g: -8.011e-05, dual nash satisfied: False, max product: 6.799e-02, rho: 2.590e-06, norm2 d0:1.051e+03\n",
            "Epoch: 187, >0 satisfied: True, max g>0: -3.964e-06, dual >0 satisfied: False, max product >0: 1.946e-02, =1 satisfied: True, max g=1: -1.574e-02, dual =1 satisfied: False, max product =1: 4.682e+02\n",
            "Epoch: 188, f: 1.21146e+00, delta f: -2.05408e+01%, nash satisfied: True, max g: -8.011e-05, dual nash satisfied: False, max product: 6.799e-02, rho: 2.590e-06, norm2 d0:1.051e+03\n",
            "Epoch: 188, >0 satisfied: True, max g>0: -3.964e-06, dual >0 satisfied: False, max product >0: 1.946e-02, =1 satisfied: True, max g=1: -1.574e-02, dual =1 satisfied: False, max product =1: 4.682e+02\n",
            "Epoch: 189, f: 1.21146e+00, delta f: -2.05408e+01%, nash satisfied: True, max g: -8.011e-05, dual nash satisfied: False, max product: 6.799e-02, rho: 2.590e-06, norm2 d0:1.051e+03\n",
            "Epoch: 189, >0 satisfied: True, max g>0: -3.964e-06, dual >0 satisfied: False, max product >0: 1.946e-02, =1 satisfied: True, max g=1: -1.574e-02, dual =1 satisfied: False, max product =1: 4.682e+02\n",
            "Epoch: 190, f: 1.21146e+00, delta f: -2.05408e+01%, nash satisfied: True, max g: -8.011e-05, dual nash satisfied: False, max product: 6.799e-02, rho: 2.590e-06, norm2 d0:1.051e+03\n",
            "Epoch: 190, >0 satisfied: True, max g>0: -3.964e-06, dual >0 satisfied: False, max product >0: 1.946e-02, =1 satisfied: True, max g=1: -1.574e-02, dual =1 satisfied: False, max product =1: 4.682e+02\n",
            "Epoch: 191, f: 1.21146e+00, delta f: -2.05408e+01%, nash satisfied: True, max g: -8.011e-05, dual nash satisfied: False, max product: 6.799e-02, rho: 2.590e-06, norm2 d0:1.051e+03\n",
            "Epoch: 191, >0 satisfied: True, max g>0: -3.964e-06, dual >0 satisfied: False, max product >0: 1.946e-02, =1 satisfied: True, max g=1: -1.574e-02, dual =1 satisfied: False, max product =1: 4.682e+02\n",
            "Epoch: 192, f: 1.21146e+00, delta f: -2.05408e+01%, nash satisfied: True, max g: -8.011e-05, dual nash satisfied: False, max product: 6.799e-02, rho: 2.590e-06, norm2 d0:1.051e+03\n",
            "Epoch: 192, >0 satisfied: True, max g>0: -3.964e-06, dual >0 satisfied: False, max product >0: 1.946e-02, =1 satisfied: True, max g=1: -1.574e-02, dual =1 satisfied: False, max product =1: 4.682e+02\n",
            "Epoch: 193, f: 1.21146e+00, delta f: -2.05408e+01%, nash satisfied: True, max g: -8.011e-05, dual nash satisfied: False, max product: 6.799e-02, rho: 2.590e-06, norm2 d0:1.051e+03\n",
            "Epoch: 193, >0 satisfied: True, max g>0: -3.964e-06, dual >0 satisfied: False, max product >0: 1.946e-02, =1 satisfied: True, max g=1: -1.574e-02, dual =1 satisfied: False, max product =1: 4.682e+02\n",
            "Epoch: 194, f: 1.21146e+00, delta f: -2.05408e+01%, nash satisfied: True, max g: -8.011e-05, dual nash satisfied: False, max product: 6.799e-02, rho: 2.590e-06, norm2 d0:1.051e+03\n",
            "Epoch: 194, >0 satisfied: True, max g>0: -3.964e-06, dual >0 satisfied: False, max product >0: 1.946e-02, =1 satisfied: True, max g=1: -1.574e-02, dual =1 satisfied: False, max product =1: 4.682e+02\n",
            "Epoch: 195, f: 1.21146e+00, delta f: -2.05408e+01%, nash satisfied: True, max g: -8.011e-05, dual nash satisfied: False, max product: 6.799e-02, rho: 2.590e-06, norm2 d0:1.051e+03\n",
            "Epoch: 195, >0 satisfied: True, max g>0: -3.964e-06, dual >0 satisfied: False, max product >0: 1.946e-02, =1 satisfied: True, max g=1: -1.574e-02, dual =1 satisfied: False, max product =1: 4.682e+02\n",
            "Epoch: 196, f: 1.21146e+00, delta f: -2.05408e+01%, nash satisfied: True, max g: -8.011e-05, dual nash satisfied: False, max product: 6.799e-02, rho: 2.590e-06, norm2 d0:1.051e+03\n",
            "Epoch: 196, >0 satisfied: True, max g>0: -3.964e-06, dual >0 satisfied: False, max product >0: 1.946e-02, =1 satisfied: True, max g=1: -1.574e-02, dual =1 satisfied: False, max product =1: 4.682e+02\n",
            "Epoch: 197, f: 1.21146e+00, delta f: -2.05408e+01%, nash satisfied: True, max g: -8.011e-05, dual nash satisfied: False, max product: 6.799e-02, rho: 2.590e-06, norm2 d0:1.051e+03\n",
            "Epoch: 197, >0 satisfied: True, max g>0: -3.964e-06, dual >0 satisfied: False, max product >0: 1.946e-02, =1 satisfied: True, max g=1: -1.574e-02, dual =1 satisfied: False, max product =1: 4.682e+02\n",
            "Epoch: 198, f: 1.21146e+00, delta f: -2.05408e+01%, nash satisfied: True, max g: -8.011e-05, dual nash satisfied: False, max product: 6.799e-02, rho: 2.590e-06, norm2 d0:1.051e+03\n",
            "Epoch: 198, >0 satisfied: True, max g>0: -3.964e-06, dual >0 satisfied: False, max product >0: 1.946e-02, =1 satisfied: True, max g=1: -1.574e-02, dual =1 satisfied: False, max product =1: 4.682e+02\n",
            "Epoch: 199, f: 1.21146e+00, delta f: -2.05408e+01%, nash satisfied: True, max g: -8.011e-05, dual nash satisfied: False, max product: 6.799e-02, rho: 2.590e-06, norm2 d0:1.051e+03\n",
            "Epoch: 199, >0 satisfied: True, max g>0: -3.964e-06, dual >0 satisfied: False, max product >0: 1.946e-02, =1 satisfied: True, max g=1: -1.574e-02, dual =1 satisfied: False, max product =1: 4.682e+02\n",
            "Game 2 saved succesfully\n"
          ],
          "name": "stdout"
        }
      ]
    },
    {
      "cell_type": "markdown",
      "metadata": {
        "id": "_9MwlBL3t2i2"
      },
      "source": [
        "\"Fortunately\", the algorithm also gets stucked in a local suboptima in the simpler case of only one state. Therefore we can investigate what is happening in this case and try to translate to the other one.\n",
        "\n",
        "First, we will see what is the policy discovered by the algorithm."
      ]
    },
    {
      "cell_type": "code",
      "metadata": {
        "id": "iHKhixv7uLYk",
        "outputId": "3b98a44b-e8b5-4ee2-a038-f0921ed71711",
        "colab": {
          "base_uri": "https://localhost:8080/",
          "height": 163
        }
      },
      "source": [
        "for pname, p in game_iterated.named_parameters():\n",
        "  print(pname, p)"
      ],
      "execution_count": null,
      "outputs": [
        {
          "output_type": "stream",
          "text": [
            "v Parameter containing:\n",
            "tensor([[38.4768, 38.4768]], requires_grad=True)\n",
            "pi1.('G',) Parameter containing:\n",
            "tensor([[3.9637e-06],\n",
            "        [9.8426e-01]], requires_grad=True)\n",
            "pi2.('G',) Parameter containing:\n",
            "tensor([[3.9637e-06],\n",
            "        [9.8426e-01]], requires_grad=True)\n"
          ],
          "name": "stdout"
        }
      ]
    },
    {
      "cell_type": "markdown",
      "metadata": {
        "id": "eaH7ri7GwDnN"
      },
      "source": [
        "We can notice that the policy $\\pi^*$ corresponds to both prisoners **defecting**. Thus, the algorithm is actually finding the appropriate optimal policy. However, the associated $v^*$ vector seems off. We now that the value of the iterated game should be $v=\\frac{1}{1-\\beta}=100$, so not only the value is incorrect, but also smaller, much smaller. "
      ]
    },
    {
      "cell_type": "markdown",
      "metadata": {
        "id": "gHMo3bLKyTiw"
      },
      "source": [
        "While the policy is correctly selecting the action of **defecting**, we can see that it is yet far from being an appropriate distribution, since the sum of probabilities is around $0.9843$. If we consider this disturbance in the value calculation we obtain a value of $\\tilde{v}\\approx\\frac{1}{1-\\beta \\pi^i(\\text{D})}\\approx 39.0891$. This estimation is pretty close to $v^*$, so this \"non-unitarity\" of $\\pi$ is what causes the problem with $v^*$. "
      ]
    },
    {
      "cell_type": "markdown",
      "metadata": {
        "id": "RII_9GYK3DYY"
      },
      "source": [
        "Now, this is not the only problem associated with $\\pi^*$ not being unitary. The restrictions used in the optimization problem are $v^i(s)\\geq \\mathcal{pB}_{\\pi^{-i}}(v^i,s,a),\\forall\\hspace{2pt}i,s,a$, where $\\mathcal{B}_\\pi(\\cdotp)$ denotes the Bellman operator given the policy $\\pi$ and $\\mathcal{pB}_{\\pi^{-i}}(\\cdotp)$ the \"partial\" Bellman operator that uses only the information of the \"partial\" policy $\\pi^{-i}$. If we multiply each restriction by its corresponding probability $\\pi^i(a|s)$ and sum all of these restrictions, we will obtain: $v^i(s)\\geq\\frac{\\mathcal{B}_\\pi(v^i,s)}{\\sum_a\\pi^i(a|s)}$. This inequality implies that if the policy is not unitary, any feasible value vector $v$ has to be strictly larger than its Bellman projection $\\mathcal{B}_\\pi(v)$, and as a result $v$ cannot correspond to the value of the game."
      ]
    },
    {
      "cell_type": "markdown",
      "metadata": {
        "id": "HQyDneiQ4EMM"
      },
      "source": [
        "Unfurtunately, this explanation does not clarify why the algorithm get's stucked in a local suboptima. Given that the policy is in general not unitary, the constraints are more restrictive and, as a result, we know that the loss function will be larger than 0 unless the global optima of the original problem is found. Thus, it is unlikely that modifying the constraints, multiplying the partial projections by $\\sum\\pi(a|s)$, will solve the current problem. It is also unclear if such a modification will result in any improvement. Nevertheless, we will attempt this change to evaluate the effects. For this, we need to add to the jacobian of $\\textbf{g}$ the gradients of the policy of a player with its own restrictions (which were previously $\\boldsymbol{0}$). "
      ]
    },
    {
      "cell_type": "code",
      "metadata": {
        "id": "3lqEqCnpJ1x0"
      },
      "source": [
        "game_iterated_2 = multi_player_game(N, S, A, R, T, beta, device, name).to(device)"
      ],
      "execution_count": null,
      "outputs": []
    },
    {
      "cell_type": "markdown",
      "metadata": {
        "id": "ofZQxhoX4J7i"
      },
      "source": [
        "After the modification, we can simply add the argument ```hard_constraints=False``` to the optimization method. \n",
        "\n"
      ]
    },
    {
      "cell_type": "code",
      "metadata": {
        "id": "OSv6gh7IJ1x8",
        "outputId": "38aa6af3-81b1-496b-9539-c4dca2587c28",
        "colab": {
          "base_uri": "https://localhost:8080/",
          "height": 1000
        }
      },
      "source": [
        "game_iterated_2.optimize_game(hard_constraints=False, verbose=False, n_epochs=300, eta_0=0.9)"
      ],
      "execution_count": null,
      "outputs": [
        {
          "output_type": "stream",
          "text": [
            "Epoch: 0, f: 2.60293e+00, delta f: -4.36739e+01%, nash satisfied: True, max g: -1.977e+00, dual nash satisfied: False, max product: 2.406e+00, rho: 3.942e-03, norm2 d0:1.543e+00, ss: 3.505e-01\n",
            "Epoch: 0, >0 satisfied: True, max g>0: -3.333e-01, dual >0 satisfied: False, max product >0: 5.892e-01, =1 satisfied: True, max g=1: -3.333e-01, dual =1 satisfied: False, max product =1: 3.918e+00\n",
            "Epoch: 1, f: 1.50325e+00, delta f: -6.74703e+01%, nash satisfied: True, max g: -1.057e+00, dual nash satisfied: False, max product: 1.302e+00, rho: 3.942e-03, norm2 d0:1.226e+00, ss: 3.186e-01\n",
            "Epoch: 1, >0 satisfied: True, max g>0: -2.394e-01, dual >0 satisfied: False, max product >0: 5.679e-01, =1 satisfied: True, max g=1: -2.186e-01, dual =1 satisfied: False, max product =1: 2.449e+00\n",
            "Epoch: 2, f: 1.01224e+00, delta f: -7.80957e+01%, nash satisfied: True, max g: -6.298e-01, dual nash satisfied: False, max product: 8.334e-01, rho: 3.942e-03, norm2 d0:6.974e-01, ss: 2.176e-01\n",
            "Epoch: 2, >0 satisfied: True, max g>0: -1.250e-01, dual >0 satisfied: False, max product >0: 4.295e-01, =1 satisfied: True, max g=1: -1.505e-01, dual =1 satisfied: False, max product =1: 1.691e+00\n",
            "Epoch: 3, f: 7.66813e-01, delta f: -8.34065e+01%, nash satisfied: True, max g: -4.465e-01, dual nash satisfied: False, max product: 6.969e-01, rho: 3.942e-03, norm2 d0:4.611e-01, ss: 1.351e-01\n",
            "Epoch: 3, >0 satisfied: True, max g>0: -6.313e-02, dual >0 satisfied: False, max product >0: 3.294e-01, =1 satisfied: True, max g=1: -1.184e-01, dual =1 satisfied: False, max product =1: 1.649e+00\n",
            "Epoch: 4, f: 5.97878e-01, delta f: -8.70622e+01%, nash satisfied: True, max g: -3.516e-01, dual nash satisfied: False, max product: 6.711e-01, rho: 3.942e-03, norm2 d0:3.925e-01, ss: 1.015e-01\n",
            "Epoch: 4, >0 satisfied: True, max g>0: -3.412e-02, dual >0 satisfied: False, max product >0: 2.661e-01, =1 satisfied: True, max g=1: -1.026e-01, dual =1 satisfied: False, max product =1: 1.910e+00\n",
            "Epoch: 5, f: 4.85542e-01, delta f: -8.94931e+01%, nash satisfied: True, max g: -2.830e-01, dual nash satisfied: False, max product: 6.932e-01, rho: 3.942e-03, norm2 d0:4.244e-01, ss: 6.934e-02\n",
            "Epoch: 5, >0 satisfied: True, max g>0: -1.721e-02, dual >0 satisfied: False, max product >0: 2.109e-01, =1 satisfied: True, max g=1: -9.235e-02, dual =1 satisfied: False, max product =1: 2.421e+00\n",
            "Epoch: 6, f: 4.08569e-01, delta f: -9.11588e+01%, nash satisfied: True, max g: -2.347e-01, dual nash satisfied: False, max product: 7.322e-01, rho: 3.942e-03, norm2 d0:5.581e-01, ss: 4.736e-02\n",
            "Epoch: 6, >0 satisfied: True, max g>0: -8.760e-03, dual >0 satisfied: False, max product >0: 1.663e-01, =1 satisfied: True, max g=1: -8.606e-02, dual =1 satisfied: False, max product =1: 3.077e+00\n",
            "Epoch: 7, f: 3.43326e-01, delta f: -9.25706e+01%, nash satisfied: True, max g: -1.999e-01, dual nash satisfied: False, max product: 7.740e-01, rho: 1.222e-03, norm2 d0:7.639e-01, ss: 3.914e-02\n",
            "Epoch: 7, >0 satisfied: True, max g>0: -4.752e-03, dual >0 satisfied: False, max product >0: 1.406e-01, =1 satisfied: True, max g=1: -8.209e-02, dual =1 satisfied: False, max product =1: 3.820e+00\n",
            "Epoch: 8, f: 2.94065e-01, delta f: -9.36366e+01%, nash satisfied: True, max g: -1.695e-01, dual nash satisfied: False, max product: 8.004e-01, rho: 1.222e-03, norm2 d0:1.074e+00, ss: 2.941e-02\n",
            "Epoch: 8, >0 satisfied: True, max g>0: -2.389e-03, dual >0 satisfied: False, max product >0: 1.138e-01, =1 satisfied: True, max g=1: -7.891e-02, dual =1 satisfied: False, max product =1: 4.626e+00\n",
            "Epoch: 9, f: 2.49634e-01, delta f: -9.45980e+01%, nash satisfied: True, max g: -1.458e-01, dual nash satisfied: False, max product: 8.074e-01, rho: 1.222e-03, norm2 d0:1.425e+00, ss: 2.673e-02\n",
            "Epoch: 9, >0 satisfied: True, max g>0: -1.286e-03, dual >0 satisfied: False, max product >0: 9.632e-02, =1 satisfied: True, max g=1: -7.663e-02, dual =1 satisfied: False, max product =1: 5.371e+00\n",
            "Epoch: 10, f: 2.10057e-01, delta f: -9.54545e+01%, nash satisfied: True, max g: -1.242e-01, dual nash satisfied: False, max product: 8.007e-01, rho: 1.222e-03, norm2 d0:1.879e+00, ss: 2.430e-02\n",
            "Epoch: 10, >0 satisfied: True, max g>0: -6.668e-04, dual >0 satisfied: False, max product >0: 8.296e-02, =1 satisfied: True, max g=1: -7.463e-02, dual =1 satisfied: False, max product =1: 6.185e+00\n",
            "Epoch: 11, f: 1.67933e-01, delta f: -9.63660e+01%, nash satisfied: True, max g: -1.047e-01, dual nash satisfied: False, max product: 7.803e-01, rho: 1.222e-03, norm2 d0:2.454e+00, ss: 2.673e-02\n",
            "Epoch: 11, >0 satisfied: True, max g>0: -3.527e-04, dual >0 satisfied: False, max product >0: 7.325e-02, =1 satisfied: True, max g=1: -7.287e-02, dual =1 satisfied: False, max product =1: 7.067e+00\n",
            "Epoch: 12, f: 8.99711e-02, delta f: -9.80531e+01%, nash satisfied: True, max g: -8.380e-02, dual nash satisfied: False, max product: 7.414e-01, rho: 1.222e-03, norm2 d0:3.395e+00, ss: 5.210e-02\n",
            "Epoch: 12, >0 satisfied: True, max g>0: -1.821e-04, dual >0 satisfied: False, max product >0: 6.435e-02, =1 satisfied: True, max g=1: -7.100e-02, dual =1 satisfied: False, max product =1: 8.270e+00\n",
            "Epoch: 13, f: 6.65331e-02, delta f: -9.85603e+01%, nash satisfied: True, max g: -4.489e-02, dual nash satisfied: False, max product: 6.368e-01, rho: 3.114e-04, norm2 d0:7.782e+00, ss: 1.826e-02\n",
            "Epoch: 13, >0 satisfied: True, max g>0: -9.640e-05, dual >0 satisfied: False, max product >0: 6.526e-02, =1 satisfied: True, max g=1: -6.752e-02, dual =1 satisfied: False, max product =1: 1.294e+01\n",
            "Epoch: 14, f: 3.56288e-02, delta f: -9.92290e+01%, nash satisfied: True, max g: -3.322e-02, dual nash satisfied: False, max product: 5.733e-01, rho: 3.114e-04, norm2 d0:1.146e+01, ss: 2.673e-02\n",
            "Epoch: 14, >0 satisfied: True, max g>0: -5.001e-05, dual >0 satisfied: False, max product >0: 5.877e-02, =1 satisfied: True, max g=1: -6.633e-02, dual =1 satisfied: False, max product =1: 1.560e+01\n",
            "Epoch: 15, f: 1.87774e-02, delta f: -9.95937e+01%, nash satisfied: True, max g: -1.776e-02, dual nash satisfied: False, max product: 4.202e-01, rho: 3.114e-04, norm2 d0:2.221e+01, ss: 2.009e-02\n",
            "Epoch: 15, >0 satisfied: True, max g>0: -6.187e-05, dual >0 satisfied: False, max product >0: 4.930e-02, =1 satisfied: True, max g=1: -6.465e-02, dual =1 satisfied: False, max product =1: 2.113e+01\n",
            "Epoch: 16, f: 1.00131e-02, delta f: -9.97833e+01%, nash satisfied: True, max g: -9.299e-03, dual nash satisfied: False, max product: 2.721e-01, rho: 3.114e-04, norm2 d0:3.642e+01, ss: 1.660e-02\n",
            "Epoch: 16, >0 satisfied: True, max g>0: -9.262e-05, dual >0 satisfied: False, max product >0: 3.949e-02, =1 satisfied: True, max g=1: -6.349e-02, dual =1 satisfied: False, max product =1: 2.588e+01\n",
            "Epoch: 17, f: 5.47600e-03, delta f: -9.98815e+01%, nash satisfied: True, max g: -4.893e-03, dual nash satisfied: False, max product: 1.610e-01, rho: 3.114e-04, norm2 d0:5.027e+01, ss: 1.509e-02\n",
            "Epoch: 17, >0 satisfied: True, max g>0: -1.148e-04, dual >0 satisfied: False, max product >0: 2.966e-02, =1 satisfied: True, max g=1: -6.262e-02, dual =1 satisfied: False, max product =1: 2.898e+01\n",
            "Epoch: 18, f: 4.48084e-03, delta f: -9.99030e+01%, nash satisfied: True, max g: -2.601e-03, dual nash satisfied: False, max product: 1.061e-01, rho: 1.003e-04, norm2 d0:6.018e+01, ss: 4.371e-03\n",
            "Epoch: 18, >0 satisfied: True, max g>0: -1.420e-04, dual >0 satisfied: False, max product >0: 6.507e-02, =1 satisfied: True, max g=1: -6.191e-02, dual =1 satisfied: False, max product =1: 3.593e+01\n",
            "Epoch: 19, f: 3.18956e-03, delta f: -9.99310e+01%, nash satisfied: True, max g: -2.165e-03, dual nash satisfied: False, max product: 9.413e-02, rho: 1.003e-04, norm2 d0:6.921e+01, ss: 7.040e-03\n",
            "Epoch: 19, >0 satisfied: True, max g>0: -7.504e-05, dual >0 satisfied: False, max product >0: 5.286e-02, =1 satisfied: True, max g=1: -6.167e-02, dual =1 satisfied: False, max product =1: 3.822e+01\n",
            "Epoch: 20, f: 1.72615e-03, delta f: -9.99626e+01%, nash satisfied: True, max g: -1.552e-03, dual nash satisfied: False, max product: 7.162e-02, rho: 1.003e-04, norm2 d0:7.855e+01, ss: 1.031e-02\n",
            "Epoch: 20, >0 satisfied: True, max g>0: -3.859e-05, dual >0 satisfied: False, max product >0: 4.425e-02, =1 satisfied: True, max g=1: -6.129e-02, dual =1 satisfied: False, max product =1: 4.042e+01\n",
            "Epoch: 21, f: 9.60350e-04, delta f: -9.99792e+01%, nash satisfied: True, max g: -8.063e-04, dual nash satisfied: False, max product: 5.802e-02, rho: 1.003e-04, norm2 d0:8.377e+01, ss: 1.031e-02\n",
            "Epoch: 21, >0 satisfied: True, max g>0: -5.339e-05, dual >0 satisfied: False, max product >0: 4.500e-02, =1 satisfied: True, max g=1: -6.073e-02, dual =1 satisfied: False, max product =1: 4.173e+01\n",
            "Epoch: 22, f: 5.53608e-04, delta f: -9.99880e+01%, nash satisfied: True, max g: -4.339e-04, dual nash satisfied: False, max product: 7.554e-02, rho: 1.003e-04, norm2 d0:9.017e+01, ss: 1.031e-02\n",
            "Epoch: 22, >0 satisfied: True, max g>0: -4.325e-05, dual >0 satisfied: False, max product >0: 4.094e-02, =1 satisfied: True, max g=1: -6.019e-02, dual =1 satisfied: False, max product =1: 4.320e+01\n",
            "Epoch: 23, f: 3.18527e-04, delta f: -9.99931e+01%, nash satisfied: True, max g: -2.227e-04, dual nash satisfied: False, max product: 8.420e-02, rho: 1.003e-04, norm2 d0:9.193e+01, ss: 1.134e-02\n",
            "Epoch: 23, >0 satisfied: True, max g>0: -5.591e-05, dual >0 satisfied: False, max product >0: 4.233e-02, =1 satisfied: True, max g=1: -5.967e-02, dual =1 satisfied: False, max product =1: 4.378e+01\n",
            "Epoch: 24, f: 2.59876e-04, delta f: -9.99944e+01%, nash satisfied: True, max g: -1.163e-04, dual nash satisfied: False, max product: 8.921e-02, rho: 1.003e-04, norm2 d0:9.650e+01, ss: 1.247e-02\n",
            "Epoch: 24, >0 satisfied: True, max g>0: -4.374e-05, dual >0 satisfied: False, max product >0: 3.851e-02, =1 satisfied: True, max g=1: -5.909e-02, dual =1 satisfied: False, max product =1: 4.487e+01\n",
            "Epoch: 25, f: 1.69277e-04, delta f: -9.99963e+01%, nash satisfied: True, max g: -6.199e-05, dual nash satisfied: False, max product: 8.776e-02, rho: 1.003e-04, norm2 d0:9.601e+01, ss: 1.247e-02\n",
            "Epoch: 25, >0 satisfied: True, max g>0: -6.016e-05, dual >0 satisfied: False, max product >0: 4.117e-02, =1 satisfied: True, max g=1: -5.848e-02, dual =1 satisfied: False, max product =1: 4.510e+01\n",
            "Epoch: 26, f: 1.84536e-04, delta f: -9.99960e+01%, nash satisfied: True, max g: -4.292e-05, dual nash satisfied: False, max product: 8.936e-02, rho: 1.003e-04, norm2 d0:1.014e+02, ss: 9.370e-03\n",
            "Epoch: 26, >0 satisfied: True, max g>0: -3.613e-05, dual >0 satisfied: False, max product >0: 3.493e-02, =1 satisfied: True, max g=1: -5.787e-02, dual =1 satisfied: False, max product =1: 4.632e+01\n",
            "Epoch: 27, f: 1.71185e-04, delta f: -9.99963e+01%, nash satisfied: True, max g: -2.909e-05, dual nash satisfied: False, max product: 8.499e-02, rho: 1.003e-04, norm2 d0:9.769e+01, ss: 1.031e-02\n",
            "Epoch: 27, >0 satisfied: True, max g>0: -6.425e-05, dual >0 satisfied: False, max product >0: 4.087e-02, =1 satisfied: True, max g=1: -5.742e-02, dual =1 satisfied: False, max product =1: 4.593e+01\n",
            "Epoch: 28, f: 2.43664e-04, delta f: -9.99947e+01%, nash satisfied: True, max g: -4.148e-05, dual nash satisfied: False, max product: 8.929e-02, rho: 1.003e-04, norm2 d0:1.050e+02, ss: 1.509e-02\n",
            "Epoch: 28, >0 satisfied: True, max g>0: -3.458e-05, dual >0 satisfied: False, max product >0: 3.284e-02, =1 satisfied: True, max g=1: -5.693e-02, dual =1 satisfied: False, max product =1: 4.740e+01\n",
            "Epoch: 29, f: 2.47955e-04, delta f: -9.99946e+01%, nash satisfied: True, max g: -3.386e-05, dual nash satisfied: False, max product: 8.153e-02, rho: 1.003e-04, norm2 d0:9.681e+01, ss: 5.289e-03\n",
            "Epoch: 29, >0 satisfied: True, max g>0: -8.503e-05, dual >0 satisfied: False, max product >0: 4.461e-02, =1 satisfied: True, max g=1: -5.622e-02, dual =1 satisfied: False, max product =1: 4.642e+01\n",
            "Epoch: 30, f: 2.46048e-04, delta f: -9.99947e+01%, nash satisfied: True, max g: -7.200e-05, dual nash satisfied: False, max product: 8.542e-02, rho: 1.003e-04, norm2 d0:1.050e+02, ss: 1.660e-02\n",
            "Epoch: 30, >0 satisfied: True, max g>0: -4.746e-05, dual >0 satisfied: False, max product >0: 3.404e-02, =1 satisfied: True, max g=1: -5.598e-02, dual =1 satisfied: False, max product =1: 4.791e+01\n",
            "Epoch: 31, f: 1.58310e-04, delta f: -9.99966e+01%, nash satisfied: True, max g: -5.913e-05, dual nash satisfied: False, max product: 7.862e-02, rho: 1.003e-04, norm2 d0:1.039e+02, ss: 1.031e-02\n",
            "Epoch: 31, >0 satisfied: True, max g>0: -6.202e-05, dual >0 satisfied: False, max product >0: 3.705e-02, =1 satisfied: True, max g=1: -5.522e-02, dual =1 satisfied: False, max product =1: 4.814e+01\n",
            "Epoch: 32, f: 2.14100e-04, delta f: -9.99954e+01%, nash satisfied: True, max g: -3.624e-05, dual nash satisfied: False, max product: 8.259e-02, rho: 1.003e-04, norm2 d0:1.102e+02, ss: 1.660e-02\n",
            "Epoch: 32, >0 satisfied: True, max g>0: -3.817e-05, dual >0 satisfied: False, max product >0: 3.033e-02, =1 satisfied: True, max g=1: -5.476e-02, dual =1 satisfied: False, max product =1: 4.936e+01\n",
            "Epoch: 33, f: 2.31266e-04, delta f: -9.99950e+01%, nash satisfied: True, max g: -2.337e-05, dual nash satisfied: False, max product: 7.586e-02, rho: 1.003e-04, norm2 d0:1.025e+02, ss: 5.289e-03\n",
            "Epoch: 33, >0 satisfied: True, max g>0: -8.223e-05, dual >0 satisfied: False, max product >0: 4.144e-02, =1 satisfied: True, max g=1: -5.403e-02, dual =1 satisfied: False, max product =1: 4.856e+01\n",
            "Epoch: 34, f: 1.98841e-04, delta f: -9.99957e+01%, nash satisfied: True, max g: -6.819e-05, dual nash satisfied: False, max product: 7.908e-02, rho: 1.003e-04, norm2 d0:1.113e+02, ss: 1.031e-02\n",
            "Epoch: 34, >0 satisfied: True, max g>0: -4.597e-05, dual >0 satisfied: False, max product >0: 3.022e-02, =1 satisfied: True, max g=1: -5.380e-02, dual =1 satisfied: False, max product =1: 5.005e+01\n",
            "Epoch: 35, f: 1.41144e-04, delta f: -9.99969e+01%, nash satisfied: True, max g: -4.053e-05, dual nash satisfied: False, max product: 7.803e-02, rho: 1.003e-04, norm2 d0:1.101e+02, ss: 1.372e-02\n",
            "Epoch: 35, >0 satisfied: True, max g>0: -6.134e-05, dual >0 satisfied: False, max product >0: 3.331e-02, =1 satisfied: True, max g=1: -5.336e-02, dual =1 satisfied: False, max product =1: 5.012e+01\n",
            "Epoch: 36, f: 2.67029e-04, delta f: -9.99942e+01%, nash satisfied: True, max g: -2.956e-05, dual nash satisfied: False, max product: 8.044e-02, rho: 1.003e-04, norm2 d0:1.181e+02, ss: 1.660e-02\n",
            "Epoch: 36, >0 satisfied: True, max g>0: -3.402e-05, dual >0 satisfied: False, max product >0: 2.505e-02, =1 satisfied: True, max g=1: -5.278e-02, dual =1 satisfied: False, max product =1: 5.156e+01\n",
            "Epoch: 37, f: 2.60353e-04, delta f: -9.99944e+01%, nash satisfied: True, max g: -2.956e-05, dual nash satisfied: False, max product: 6.573e-02, rho: 1.003e-04, norm2 d0:1.034e+02, ss: 3.974e-03\n",
            "Epoch: 37, >0 satisfied: True, max g>0: -1.029e-04, dual >0 satisfied: False, max product >0: 4.394e-02, =1 satisfied: True, max g=1: -5.210e-02, dual =1 satisfied: False, max product =1: 4.980e+01\n",
            "Epoch: 38, f: 2.00272e-04, delta f: -9.99957e+01%, nash satisfied: True, max g: -7.153e-05, dual nash satisfied: False, max product: 6.836e-02, rho: 1.003e-04, norm2 d0:1.138e+02, ss: 1.247e-02\n",
            "Epoch: 38, >0 satisfied: True, max g>0: -5.697e-05, dual >0 satisfied: False, max product >0: 3.059e-02, =1 satisfied: True, max g=1: -5.193e-02, dual =1 satisfied: False, max product =1: 5.146e+01\n",
            "Epoch: 39, f: 3.28064e-04, delta f: -9.99929e+01%, nash satisfied: True, max g: -4.196e-05, dual nash satisfied: False, max product: 7.871e-02, rho: 1.003e-04, norm2 d0:1.206e+02, ss: 1.660e-02\n",
            "Epoch: 39, >0 satisfied: True, max g>0: -4.144e-05, dual >0 satisfied: False, max product >0: 2.489e-02, =1 satisfied: True, max g=1: -5.143e-02, dual =1 satisfied: False, max product =1: 5.265e+01\n",
            "Epoch: 40, f: 2.87056e-04, delta f: -9.99938e+01%, nash satisfied: True, max g: -5.531e-05, dual nash satisfied: False, max product: 6.359e-02, rho: 1.003e-04, norm2 d0:1.106e+02, ss: 5.289e-03\n",
            "Epoch: 40, >0 satisfied: True, max g>0: -8.239e-05, dual >0 satisfied: False, max product >0: 3.669e-02, =1 satisfied: True, max g=1: -5.077e-02, dual =1 satisfied: False, max product =1: 5.167e+01\n",
            "Epoch: 41, f: 2.74658e-04, delta f: -9.99941e+01%, nash satisfied: True, max g: -7.915e-05, dual nash satisfied: False, max product: 6.984e-02, rho: 1.003e-04, norm2 d0:1.212e+02, ss: 1.826e-02\n",
            "Epoch: 41, >0 satisfied: True, max g>0: -4.463e-05, dual >0 satisfied: False, max product >0: 2.435e-02, =1 satisfied: True, max g=1: -5.056e-02, dual =1 satisfied: False, max product =1: 5.322e+01\n",
            "Epoch: 42, f: 2.39372e-04, delta f: -9.99948e+01%, nash satisfied: True, max g: -5.913e-05, dual nash satisfied: False, max product: 6.406e-02, rho: 1.003e-04, norm2 d0:1.157e+02, ss: 5.818e-03\n",
            "Epoch: 42, >0 satisfied: True, max g>0: -7.847e-05, dual >0 satisfied: False, max product >0: 3.346e-02, =1 satisfied: True, max g=1: -4.986e-02, dual =1 satisfied: False, max product =1: 5.290e+01\n",
            "Epoch: 43, f: 3.14713e-04, delta f: -9.99932e+01%, nash satisfied: True, max g: -7.153e-05, dual nash satisfied: False, max product: 6.978e-02, rho: 1.003e-04, norm2 d0:1.268e+02, ss: 1.826e-02\n",
            "Epoch: 43, >0 satisfied: True, max g>0: -4.190e-05, dual >0 satisfied: False, max product >0: 2.143e-02, =1 satisfied: True, max g=1: -4.964e-02, dual =1 satisfied: False, max product =1: 5.441e+01\n",
            "Epoch: 44, f: 3.24249e-04, delta f: -9.99930e+01%, nash satisfied: True, max g: -5.341e-05, dual nash satisfied: False, max product: 5.964e-02, rho: 1.003e-04, norm2 d0:1.137e+02, ss: 4.371e-03\n",
            "Epoch: 44, >0 satisfied: True, max g>0: -9.285e-05, dual >0 satisfied: False, max product >0: 3.651e-02, =1 satisfied: True, max g=1: -4.896e-02, dual =1 satisfied: False, max product =1: 5.316e+01\n",
            "Epoch: 45, f: 2.98500e-04, delta f: -9.99935e+01%, nash satisfied: True, max g: -1.059e-04, dual nash satisfied: False, max product: 6.212e-02, rho: 1.003e-04, norm2 d0:1.266e+02, ss: 2.009e-02\n",
            "Epoch: 45, >0 satisfied: True, max g>0: -4.940e-05, dual >0 satisfied: False, max product >0: 2.256e-02, =1 satisfied: True, max g=1: -4.880e-02, dual =1 satisfied: False, max product =1: 5.486e+01\n",
            "Epoch: 46, f: 2.99454e-04, delta f: -9.99935e+01%, nash satisfied: True, max g: -6.866e-05, dual nash satisfied: False, max product: 6.215e-02, rho: 1.003e-04, norm2 d0:1.245e+02, ss: 8.519e-03\n",
            "Epoch: 46, >0 satisfied: True, max g>0: -6.648e-05, dual >0 satisfied: False, max product >0: 2.708e-02, =1 satisfied: True, max g=1: -4.808e-02, dual =1 satisfied: False, max product =1: 5.505e+01\n",
            "Epoch: 47, f: 3.00407e-04, delta f: -9.99935e+01%, nash satisfied: True, max g: -1.125e-04, dual nash satisfied: False, max product: 6.188e-02, rho: 1.003e-04, norm2 d0:1.327e+02, ss: 1.031e-02\n",
            "Epoch: 47, >0 satisfied: True, max g>0: -3.657e-05, dual >0 satisfied: False, max product >0: 1.741e-02, =1 satisfied: True, max g=1: -4.777e-02, dual =1 satisfied: False, max product =1: 5.609e+01\n",
            "Epoch: 48, f: 2.39372e-04, delta f: -9.99948e+01%, nash satisfied: True, max g: -5.722e-05, dual nash satisfied: False, max product: 5.647e-02, rho: 1.003e-04, norm2 d0:1.208e+02, ss: 5.289e-03\n",
            "Epoch: 48, >0 satisfied: True, max g>0: -8.003e-05, dual >0 satisfied: False, max product >0: 3.025e-02, =1 satisfied: True, max g=1: -4.741e-02, dual =1 satisfied: False, max product =1: 5.498e+01\n",
            "Epoch: 49, f: 3.52859e-04, delta f: -9.99924e+01%, nash satisfied: True, max g: -7.057e-05, dual nash satisfied: False, max product: 6.384e-02, rho: 1.003e-04, norm2 d0:1.350e+02, ss: 2.430e-02\n",
            "Epoch: 49, >0 satisfied: True, max g>0: -4.376e-05, dual >0 satisfied: False, max product >0: 1.744e-02, =1 satisfied: True, max g=1: -4.723e-02, dual =1 satisfied: False, max product =1: 5.662e+01\n",
            "Epoch: 50, f: 2.86102e-04, delta f: -9.99938e+01%, nash satisfied: True, max g: -7.057e-05, dual nash satisfied: False, max product: 4.840e-02, rho: 1.003e-04, norm2 d0:1.158e+02, ss: 3.613e-03\n",
            "Epoch: 50, >0 satisfied: True, max g>0: -1.100e-04, dual >0 satisfied: False, max product >0: 3.842e-02, =1 satisfied: True, max g=1: -4.640e-02, dual =1 satisfied: False, max product =1: 5.496e+01\n",
            "Epoch: 51, f: 2.16484e-04, delta f: -9.99953e+01%, nash satisfied: True, max g: -8.678e-05, dual nash satisfied: False, max product: 5.755e-02, rho: 1.003e-04, norm2 d0:1.335e+02, ss: 2.009e-02\n",
            "Epoch: 51, >0 satisfied: True, max g>0: -5.782e-05, dual >0 satisfied: False, max product >0: 2.056e-02, =1 satisfied: True, max g=1: -4.628e-02, dual =1 satisfied: False, max product =1: 5.700e+01\n",
            "Epoch: 52, f: 3.62396e-04, delta f: -9.99922e+01%, nash satisfied: True, max g: -4.959e-05, dual nash satisfied: False, max product: 6.232e-02, rho: 1.003e-04, norm2 d0:1.421e+02, ss: 2.009e-02\n",
            "Epoch: 52, >0 satisfied: True, max g>0: -4.184e-05, dual >0 satisfied: False, max product >0: 1.344e-02, =1 satisfied: True, max g=1: -4.561e-02, dual =1 satisfied: False, max product =1: 5.809e+01\n",
            "Epoch: 53, f: 3.07083e-04, delta f: -9.99934e+01%, nash satisfied: True, max g: -5.722e-05, dual nash satisfied: False, max product: 4.020e-02, rho: 1.003e-04, norm2 d0:1.179e+02, ss: 3.284e-03\n",
            "Epoch: 53, >0 satisfied: True, max g>0: -1.154e-04, dual >0 satisfied: False, max product >0: 3.786e-02, =1 satisfied: True, max g=1: -4.498e-02, dual =1 satisfied: False, max product =1: 5.607e+01\n",
            "Epoch: 54, f: 3.45230e-04, delta f: -9.99925e+01%, nash satisfied: True, max g: -8.202e-05, dual nash satisfied: False, max product: 5.393e-02, rho: 1.003e-04, norm2 d0:1.374e+02, ss: 1.509e-02\n",
            "Epoch: 54, >0 satisfied: True, max g>0: -6.235e-05, dual >0 satisfied: False, max product >0: 1.933e-02, =1 satisfied: True, max g=1: -4.487e-02, dual =1 satisfied: False, max product =1: 5.811e+01\n",
            "Epoch: 55, f: 2.82288e-04, delta f: -9.99939e+01%, nash satisfied: True, max g: -1.068e-04, dual nash satisfied: False, max product: 6.380e-02, rho: 3.494e-05, norm2 d0:1.485e+02, ss: 2.714e-03\n",
            "Epoch: 55, >0 satisfied: True, max g>0: -3.326e-05, dual >0 satisfied: False, max product >0: 4.066e-02, =1 satisfied: True, max g=1: -4.440e-02, dual =1 satisfied: False, max product =1: 7.232e+01\n",
            "Epoch: 56, f: 1.53542e-04, delta f: -9.99967e+01%, nash satisfied: True, max g: -1.030e-04, dual nash satisfied: False, max product: 6.654e-02, rho: 3.494e-05, norm2 d0:1.564e+02, ss: 7.040e-03\n",
            "Epoch: 56, >0 satisfied: True, max g>0: -1.898e-05, dual >0 satisfied: False, max product >0: 3.406e-02, =1 satisfied: True, max g=1: -4.429e-02, dual =1 satisfied: False, max product =1: 7.395e+01\n",
            "Epoch: 57, f: 1.34468e-04, delta f: -9.99971e+01%, nash satisfied: True, max g: -5.245e-05, dual nash satisfied: False, max product: 7.208e-02, rho: 3.494e-05, norm2 d0:1.631e+02, ss: 3.613e-03\n",
            "Epoch: 57, >0 satisfied: True, max g>0: -1.381e-05, dual >0 satisfied: False, max product >0: 3.167e-02, =1 satisfied: True, max g=1: -4.402e-02, dual =1 satisfied: False, max product =1: 7.548e+01\n",
            "Epoch: 58, f: 1.98364e-04, delta f: -9.99957e+01%, nash satisfied: True, max g: -2.861e-05, dual nash satisfied: False, max product: 7.497e-02, rho: 3.494e-05, norm2 d0:1.621e+02, ss: 1.372e-02\n",
            "Epoch: 58, >0 satisfied: True, max g>0: -1.826e-05, dual >0 satisfied: False, max product >0: 3.289e-02, =1 satisfied: True, max g=1: -4.388e-02, dual =1 satisfied: False, max product =1: 7.545e+01\n",
            "Epoch: 59, f: 1.78337e-04, delta f: -9.99961e+01%, nash satisfied: True, max g: -8.106e-05, dual nash satisfied: False, max product: 7.193e-02, rho: 3.494e-05, norm2 d0:1.683e+02, ss: 1.031e-02\n",
            "Epoch: 59, >0 satisfied: True, max g>0: -9.419e-06, dual >0 satisfied: False, max product >0: 2.961e-02, =1 satisfied: True, max g=1: -4.336e-02, dual =1 satisfied: False, max product =1: 7.716e+01\n",
            "Epoch: 60, f: 1.40190e-04, delta f: -9.99970e+01%, nash satisfied: True, max g: -4.959e-05, dual nash satisfied: False, max product: 6.008e-02, rho: 3.494e-05, norm2 d0:1.575e+02, ss: 2.468e-03\n",
            "Epoch: 60, >0 satisfied: True, max g>0: -3.359e-05, dual >0 satisfied: False, max product >0: 3.890e-02, =1 satisfied: True, max g=1: -4.298e-02, dual =1 satisfied: False, max product =1: 7.564e+01\n",
            "Epoch: 61, f: 9.72748e-05, delta f: -9.99979e+01%, nash satisfied: True, max g: -4.482e-05, dual nash satisfied: False, max product: 6.730e-02, rho: 3.494e-05, norm2 d0:1.660e+02, ss: 3.284e-03\n",
            "Epoch: 61, >0 satisfied: True, max g>0: -1.973e-05, dual >0 satisfied: False, max product >0: 3.252e-02, =1 satisfied: True, max g=1: -4.288e-02, dual =1 satisfied: False, max product =1: 7.730e+01\n",
            "Epoch: 62, f: 7.62939e-05, delta f: -9.99984e+01%, nash satisfied: True, max g: -2.289e-05, dual nash satisfied: False, max product: 7.229e-02, rho: 3.494e-05, norm2 d0:1.699e+02, ss: 2.468e-03\n",
            "Epoch: 62, >0 satisfied: True, max g>0: -1.697e-05, dual >0 satisfied: False, max product >0: 3.081e-02, =1 satisfied: True, max g=1: -4.276e-02, dual =1 satisfied: False, max product =1: 7.813e+01\n",
            "Epoch: 63, f: 7.24792e-05, delta f: -9.99984e+01%, nash satisfied: True, max g: -1.907e-05, dual nash satisfied: False, max product: 7.479e-02, rho: 3.494e-05, norm2 d0:1.699e+02, ss: 4.809e-03\n",
            "Epoch: 63, >0 satisfied: True, max g>0: -1.765e-05, dual >0 satisfied: False, max product >0: 3.105e-02, =1 satisfied: True, max g=1: -4.267e-02, dual =1 satisfied: False, max product =1: 7.823e+01\n",
            "Epoch: 64, f: 6.86646e-05, delta f: -9.99985e+01%, nash satisfied: True, max g: -9.537e-06, dual nash satisfied: False, max product: 7.296e-02, rho: 3.494e-05, norm2 d0:1.734e+02, ss: 1.372e-02\n",
            "Epoch: 64, >0 satisfied: True, max g>0: -1.787e-05, dual >0 satisfied: False, max product >0: 3.077e-02, =1 satisfied: True, max g=1: -4.249e-02, dual =1 satisfied: False, max product =1: 7.906e+01\n",
            "Epoch: 65, f: 5.91278e-05, delta f: -9.99987e+01%, nash satisfied: True, max g: -1.812e-05, dual nash satisfied: False, max product: 6.949e-02, rho: 3.494e-05, norm2 d0:1.757e+02, ss: 1.046e-03\n",
            "Epoch: 65, >0 satisfied: True, max g>0: -1.583e-05, dual >0 satisfied: False, max product >0: 2.915e-02, =1 satisfied: True, max g=1: -4.199e-02, dual =1 satisfied: False, max product =1: 8.004e+01\n",
            "Epoch: 66, f: 6.29425e-05, delta f: -9.99986e+01%, nash satisfied: True, max g: -1.049e-05, dual nash satisfied: False, max product: 7.217e-02, rho: 3.494e-05, norm2 d0:1.754e+02, ss: 6.400e-03\n",
            "Epoch: 66, >0 satisfied: True, max g>0: -1.665e-05, dual >0 satisfied: False, max product >0: 2.965e-02, =1 satisfied: True, max g=1: -4.196e-02, dual =1 satisfied: False, max product =1: 8.003e+01\n",
            "Epoch: 67, f: 5.43594e-05, delta f: -9.99988e+01%, nash satisfied: True, max g: -1.049e-05, dual nash satisfied: False, max product: 6.061e-02, rho: 3.494e-05, norm2 d0:1.741e+02, ss: 2.714e-03\n",
            "Epoch: 67, >0 satisfied: True, max g>0: -1.863e-05, dual >0 satisfied: False, max product >0: 3.020e-02, =1 satisfied: True, max g=1: -4.172e-02, dual =1 satisfied: False, max product =1: 8.010e+01\n",
            "Epoch: 68, f: 7.05719e-05, delta f: -9.99985e+01%, nash satisfied: True, max g: -9.537e-06, dual nash satisfied: False, max product: 6.913e-02, rho: 3.494e-05, norm2 d0:1.757e+02, ss: 1.660e-02\n",
            "Epoch: 68, >0 satisfied: True, max g>0: -1.762e-05, dual >0 satisfied: False, max product >0: 2.950e-02, =1 satisfied: True, max g=1: -4.163e-02, dual =1 satisfied: False, max product =1: 8.047e+01\n",
            "Epoch: 69, f: 6.19888e-05, delta f: -9.99987e+01%, nash satisfied: True, max g: -1.621e-05, dual nash satisfied: False, max product: 6.741e-02, rho: 3.494e-05, norm2 d0:1.823e+02, ss: 9.513e-04\n",
            "Epoch: 69, >0 satisfied: True, max g>0: -1.281e-05, dual >0 satisfied: False, max product >0: 2.708e-02, =1 satisfied: True, max g=1: -4.104e-02, dual =1 satisfied: False, max product =1: 8.228e+01\n",
            "Epoch: 70, f: 5.72205e-05, delta f: -9.99988e+01%, nash satisfied: True, max g: -8.583e-06, dual nash satisfied: False, max product: 6.563e-02, rho: 3.494e-05, norm2 d0:1.801e+02, ss: 3.974e-03\n",
            "Epoch: 70, >0 satisfied: True, max g>0: -1.469e-05, dual >0 satisfied: False, max product >0: 2.765e-02, =1 satisfied: True, max g=1: -4.101e-02, dual =1 satisfied: False, max product =1: 8.198e+01\n",
            "Epoch: 71, f: 7.43866e-05, delta f: -9.99984e+01%, nash satisfied: True, max g: -4.768e-06, dual nash satisfied: False, max product: 7.123e-02, rho: 3.494e-05, norm2 d0:1.815e+02, ss: 1.509e-02\n",
            "Epoch: 71, >0 satisfied: True, max g>0: -1.873e-05, dual >0 satisfied: False, max product >0: 2.891e-02, =1 satisfied: True, max g=1: -4.087e-02, dual =1 satisfied: False, max product =1: 8.237e+01\n",
            "Epoch: 72, f: 6.19888e-05, delta f: -9.99987e+01%, nash satisfied: True, max g: -2.098e-05, dual nash satisfied: False, max product: 6.419e-02, rho: 3.494e-05, norm2 d0:1.888e+02, ss: 1.393e-03\n",
            "Epoch: 72, >0 satisfied: True, max g>0: -9.821e-06, dual >0 satisfied: False, max product >0: 2.518e-02, =1 satisfied: True, max g=1: -4.035e-02, dual =1 satisfied: False, max product =1: 8.420e+01\n",
            "Epoch: 73, f: 1.47820e-04, delta f: -9.99968e+01%, nash satisfied: True, max g: -1.717e-05, dual nash satisfied: False, max product: 7.330e-02, rho: 3.494e-05, norm2 d0:1.910e+02, ss: 2.009e-02\n",
            "Epoch: 73, >0 satisfied: True, max g>0: -1.415e-05, dual >0 satisfied: False, max product >0: 2.600e-02, =1 satisfied: True, max g=1: -4.030e-02, dual =1 satisfied: False, max product =1: 8.461e+01\n",
            "Epoch: 74, f: 9.82285e-05, delta f: -9.99979e+01%, nash satisfied: True, max g: -2.384e-05, dual nash satisfied: False, max product: 5.859e-02, rho: 3.494e-05, norm2 d0:1.713e+02, ss: 1.854e-03\n",
            "Epoch: 74, >0 satisfied: True, max g>0: -3.943e-05, dual >0 satisfied: False, max product >0: 3.701e-02, =1 satisfied: True, max g=1: -3.963e-02, dual =1 satisfied: False, max product =1: 8.220e+01\n",
            "Epoch: 75, f: 1.73569e-04, delta f: -9.99962e+01%, nash satisfied: True, max g: -2.289e-05, dual nash satisfied: False, max product: 6.857e-02, rho: 3.494e-05, norm2 d0:1.858e+02, ss: 3.974e-03\n",
            "Epoch: 75, >0 satisfied: True, max g>0: -2.508e-05, dual >0 satisfied: False, max product >0: 2.944e-02, =1 satisfied: True, max g=1: -3.956e-02, dual =1 satisfied: False, max product =1: 8.470e+01\n",
            "Epoch: 76, f: 1.65939e-04, delta f: -9.99964e+01%, nash satisfied: True, max g: -7.057e-05, dual nash satisfied: False, max product: 5.457e-02, rho: 3.494e-05, norm2 d0:1.924e+02, ss: 1.372e-02\n",
            "Epoch: 76, >0 satisfied: True, max g>0: -1.315e-05, dual >0 satisfied: False, max product >0: 2.457e-02, =1 satisfied: True, max g=1: -3.943e-02, dual =1 satisfied: False, max product =1: 8.592e+01\n",
            "Epoch: 77, f: 1.23024e-04, delta f: -9.99973e+01%, nash satisfied: True, max g: -4.292e-05, dual nash satisfied: False, max product: 5.627e-02, rho: 3.494e-05, norm2 d0:1.809e+02, ss: 2.468e-03\n",
            "Epoch: 77, >0 satisfied: True, max g>0: -3.258e-05, dual >0 satisfied: False, max product >0: 3.327e-02, =1 satisfied: True, max g=1: -3.899e-02, dual =1 satisfied: False, max product =1: 8.466e+01\n",
            "Epoch: 78, f: 8.58307e-05, delta f: -9.99981e+01%, nash satisfied: True, max g: -3.719e-05, dual nash satisfied: False, max product: 5.968e-02, rho: 3.494e-05, norm2 d0:1.906e+02, ss: 1.393e-03\n",
            "Epoch: 78, >0 satisfied: True, max g>0: -1.798e-05, dual >0 satisfied: False, max product >0: 2.614e-02, =1 satisfied: True, max g=1: -3.891e-02, dual =1 satisfied: False, max product =1: 8.632e+01\n",
            "Epoch: 79, f: 8.29697e-05, delta f: -9.99982e+01%, nash satisfied: True, max g: -1.907e-05, dual nash satisfied: False, max product: 5.818e-02, rho: 3.494e-05, norm2 d0:1.920e+02, ss: 4.371e-03\n",
            "Epoch: 79, >0 satisfied: True, max g>0: -1.804e-05, dual >0 satisfied: False, max product >0: 2.577e-02, =1 satisfied: True, max g=1: -3.886e-02, dual =1 satisfied: False, max product =1: 8.658e+01\n",
            "Epoch: 80, f: 7.43866e-05, delta f: -9.99984e+01%, nash satisfied: True, max g: -9.537e-06, dual nash satisfied: False, max product: 5.754e-02, rho: 3.494e-05, norm2 d0:1.944e+02, ss: 4.371e-03\n",
            "Epoch: 80, >0 satisfied: True, max g>0: -1.694e-05, dual >0 satisfied: False, max product >0: 2.523e-02, =1 satisfied: True, max g=1: -3.872e-02, dual =1 satisfied: False, max product =1: 8.713e+01\n",
            "Epoch: 81, f: 6.00815e-05, delta f: -9.99987e+01%, nash satisfied: True, max g: -1.907e-05, dual nash satisfied: False, max product: 6.193e-02, rho: 3.494e-05, norm2 d0:1.984e+02, ss: 1.685e-03\n",
            "Epoch: 81, >0 satisfied: True, max g>0: -1.831e-05, dual >0 satisfied: False, max product >0: 2.521e-02, =1 satisfied: True, max g=1: -3.858e-02, dual =1 satisfied: False, max product =1: 8.792e+01\n",
            "Epoch: 82, f: 5.14984e-05, delta f: -9.99989e+01%, nash satisfied: True, max g: -1.144e-05, dual nash satisfied: False, max product: 6.551e-02, rho: 3.494e-05, norm2 d0:1.969e+02, ss: 1.393e-03\n",
            "Epoch: 82, >0 satisfied: True, max g>0: -1.855e-05, dual >0 satisfied: False, max product >0: 2.504e-02, =1 satisfied: True, max g=1: -3.853e-02, dual =1 satisfied: False, max product =1: 8.776e+01\n",
            "Epoch: 83, f: 1.08719e-04, delta f: -9.99976e+01%, nash satisfied: True, max g: -6.676e-06, dual nash satisfied: False, max product: 6.251e-02, rho: 3.494e-05, norm2 d0:1.946e+02, ss: 1.372e-02\n",
            "Epoch: 83, >0 satisfied: True, max g>0: -1.852e-05, dual >0 satisfied: False, max product >0: 2.533e-02, =1 satisfied: True, max g=1: -3.848e-02, dual =1 satisfied: False, max product =1: 8.747e+01\n",
            "Epoch: 84, f: 9.44138e-05, delta f: -9.99980e+01%, nash satisfied: True, max g: -4.292e-05, dual nash satisfied: False, max product: 5.837e-02, rho: 3.494e-05, norm2 d0:2.031e+02, ss: 2.714e-03\n",
            "Epoch: 84, >0 satisfied: True, max g>0: -9.994e-06, dual >0 satisfied: False, max product >0: 2.150e-02, =1 satisfied: True, max g=1: -3.805e-02, dual =1 satisfied: False, max product =1: 8.928e+01\n",
            "Epoch: 85, f: 1.24931e-04, delta f: -9.99973e+01%, nash satisfied: True, max g: -2.289e-05, dual nash satisfied: False, max product: 7.203e-02, rho: 3.494e-05, norm2 d0:2.031e+02, ss: 1.031e-02\n",
            "Epoch: 85, >0 satisfied: True, max g>0: -1.898e-05, dual >0 satisfied: False, max product >0: 2.428e-02, =1 satisfied: True, max g=1: -3.797e-02, dual =1 satisfied: False, max product =1: 8.940e+01\n",
            "Epoch: 86, f: 1.64032e-04, delta f: -9.99964e+01%, nash satisfied: True, max g: -2.193e-05, dual nash satisfied: False, max product: 6.042e-02, rho: 3.494e-05, norm2 d0:2.027e+02, ss: 1.247e-02\n",
            "Epoch: 86, >0 satisfied: True, max g>0: -1.611e-05, dual >0 satisfied: False, max product >0: 2.346e-02, =1 satisfied: True, max g=1: -3.765e-02, dual =1 satisfied: False, max product =1: 8.976e+01\n",
            "Epoch: 87, f: 2.42233e-04, delta f: -9.99948e+01%, nash satisfied: True, max g: -4.292e-05, dual nash satisfied: False, max product: 5.035e-02, rho: 3.494e-05, norm2 d0:1.984e+02, ss: 4.371e-03\n",
            "Epoch: 87, >0 satisfied: True, max g>0: -2.139e-05, dual >0 satisfied: False, max product >0: 2.555e-02, =1 satisfied: True, max g=1: -3.727e-02, dual =1 satisfied: False, max product =1: 8.964e+01\n",
            "Epoch: 88, f: 1.63078e-04, delta f: -9.99965e+01%, nash satisfied: True, max g: -9.346e-05, dual nash satisfied: False, max product: 5.234e-02, rho: 3.494e-05, norm2 d0:2.078e+02, ss: 2.986e-03\n",
            "Epoch: 88, >0 satisfied: True, max g>0: -1.210e-05, dual >0 satisfied: False, max product >0: 2.085e-02, =1 satisfied: True, max g=1: -3.714e-02, dual =1 satisfied: False, max product =1: 9.115e+01\n",
            "Epoch: 89, f: 1.91689e-04, delta f: -9.99958e+01%, nash satisfied: True, max g: -5.150e-05, dual nash satisfied: False, max product: 4.466e-02, rho: 3.494e-05, norm2 d0:2.018e+02, ss: 7.744e-03\n",
            "Epoch: 89, >0 satisfied: True, max g>0: -1.907e-05, dual >0 satisfied: False, max product >0: 2.359e-02, =1 satisfied: True, max g=1: -3.705e-02, dual =1 satisfied: False, max product =1: 9.042e+01\n",
            "Epoch: 90, f: 2.25067e-04, delta f: -9.99951e+01%, nash satisfied: True, max g: -6.008e-05, dual nash satisfied: False, max product: 4.614e-02, rho: 3.494e-05, norm2 d0:2.073e+02, ss: 1.134e-02\n",
            "Epoch: 90, >0 satisfied: True, max g>0: -9.914e-06, dual >0 satisfied: False, max product >0: 2.088e-02, =1 satisfied: True, max g=1: -3.682e-02, dual =1 satisfied: False, max product =1: 9.149e+01\n",
            "Epoch: 91, f: 2.11716e-04, delta f: -9.99954e+01%, nash satisfied: True, max g: -3.147e-05, dual nash satisfied: False, max product: 4.887e-02, rho: 3.494e-05, norm2 d0:1.915e+02, ss: 2.039e-03\n",
            "Epoch: 91, >0 satisfied: True, max g>0: -2.778e-05, dual >0 satisfied: False, max product >0: 3.308e-02, =1 satisfied: True, max g=1: -3.649e-02, dual =1 satisfied: False, max product =1: 8.962e+01\n",
            "Epoch: 92, f: 1.58310e-04, delta f: -9.99966e+01%, nash satisfied: True, max g: -4.292e-05, dual nash satisfied: False, max product: 4.430e-02, rho: 3.494e-05, norm2 d0:2.019e+02, ss: 1.854e-03\n",
            "Epoch: 92, >0 satisfied: True, max g>0: -1.837e-05, dual >0 satisfied: False, max product >0: 2.381e-02, =1 satisfied: True, max g=1: -3.643e-02, dual =1 satisfied: False, max product =1: 9.126e+01\n",
            "Epoch: 93, f: 1.01089e-04, delta f: -9.99978e+01%, nash satisfied: True, max g: -2.289e-05, dual nash satisfied: False, max product: 5.210e-02, rho: 3.494e-05, norm2 d0:2.102e+02, ss: 4.809e-03\n",
            "Epoch: 93, >0 satisfied: True, max g>0: -1.741e-05, dual >0 satisfied: False, max product >0: 2.197e-02, =1 satisfied: True, max g=1: -3.638e-02, dual =1 satisfied: False, max product =1: 9.249e+01\n",
            "Epoch: 94, f: 8.96454e-05, delta f: -9.99981e+01%, nash satisfied: True, max g: -1.431e-05, dual nash satisfied: False, max product: 5.810e-02, rho: 3.494e-05, norm2 d0:2.158e+02, ss: 5.907e-04\n",
            "Epoch: 94, >0 satisfied: True, max g>0: -1.767e-05, dual >0 satisfied: False, max product >0: 2.089e-02, =1 satisfied: True, max g=1: -3.623e-02, dual =1 satisfied: False, max product =1: 9.342e+01\n",
            "Epoch: 95, f: 1.09673e-04, delta f: -9.99976e+01%, nash satisfied: True, max g: -7.629e-06, dual nash satisfied: False, max product: 6.001e-02, rho: 3.494e-05, norm2 d0:2.168e+02, ss: 1.134e-02\n",
            "Epoch: 95, >0 satisfied: True, max g>0: -1.803e-05, dual >0 satisfied: False, max product >0: 2.108e-02, =1 satisfied: True, max g=1: -3.622e-02, dual =1 satisfied: False, max product =1: 9.358e+01\n",
            "Epoch: 96, f: 9.34601e-05, delta f: -9.99980e+01%, nash satisfied: True, max g: -2.670e-05, dual nash satisfied: False, max product: 5.392e-02, rho: 3.494e-05, norm2 d0:2.160e+02, ss: 3.284e-03\n",
            "Epoch: 96, >0 satisfied: True, max g>0: -1.963e-05, dual >0 satisfied: False, max product >0: 2.314e-02, =1 satisfied: True, max g=1: -3.589e-02, dual =1 satisfied: False, max product =1: 9.391e+01\n",
            "Epoch: 97, f: 7.43866e-05, delta f: -9.99984e+01%, nash satisfied: True, max g: -2.193e-05, dual nash satisfied: False, max product: 5.194e-02, rho: 3.494e-05, norm2 d0:2.134e+02, ss: 1.685e-03\n",
            "Epoch: 97, >0 satisfied: True, max g>0: -1.700e-05, dual >0 satisfied: False, max product >0: 2.090e-02, =1 satisfied: True, max g=1: -3.580e-02, dual =1 satisfied: False, max product =1: 9.369e+01\n",
            "Epoch: 98, f: 9.34601e-05, delta f: -9.99980e+01%, nash satisfied: True, max g: -1.907e-05, dual nash satisfied: False, max product: 5.291e-02, rho: 3.494e-05, norm2 d0:2.154e+02, ss: 1.509e-02\n",
            "Epoch: 98, >0 satisfied: True, max g>0: -1.807e-05, dual >0 satisfied: False, max product >0: 2.060e-02, =1 satisfied: True, max g=1: -3.575e-02, dual =1 satisfied: False, max product =1: 9.403e+01\n",
            "Epoch: 99, f: 7.15256e-05, delta f: -9.99985e+01%, nash satisfied: True, max g: -2.098e-05, dual nash satisfied: False, max product: 5.444e-02, rho: 3.494e-05, norm2 d0:2.212e+02, ss: 8.649e-04\n",
            "Epoch: 99, >0 satisfied: True, max g>0: -1.646e-05, dual >0 satisfied: False, max product >0: 2.022e-02, =1 satisfied: True, max g=1: -3.532e-02, dual =1 satisfied: False, max product =1: 9.531e+01\n",
            "Epoch: 100, f: 1.22070e-04, delta f: -9.99974e+01%, nash satisfied: True, max g: -1.144e-05, dual nash satisfied: False, max product: 5.973e-02, rho: 3.494e-05, norm2 d0:2.251e+02, ss: 9.370e-03\n",
            "Epoch: 100, >0 satisfied: True, max g>0: -1.737e-05, dual >0 satisfied: False, max product >0: 1.971e-02, =1 satisfied: True, max g=1: -3.530e-02, dual =1 satisfied: False, max product =1: 9.580e+01\n",
            "Epoch: 101, f: 1.55449e-04, delta f: -9.99966e+01%, nash satisfied: True, max g: -1.049e-05, dual nash satisfied: False, max product: 5.859e-02, rho: 3.494e-05, norm2 d0:2.226e+02, ss: 7.744e-03\n",
            "Epoch: 101, >0 satisfied: True, max g>0: -1.933e-05, dual >0 satisfied: False, max product >0: 2.118e-02, =1 satisfied: True, max g=1: -3.504e-02, dual =1 satisfied: False, max product =1: 9.588e+01\n",
            "Epoch: 102, f: 1.51634e-04, delta f: -9.99967e+01%, nash satisfied: True, max g: -5.341e-05, dual nash satisfied: False, max product: 4.303e-02, rho: 3.494e-05, norm2 d0:2.255e+02, ss: 6.400e-03\n",
            "Epoch: 102, >0 satisfied: True, max g>0: -1.150e-05, dual >0 satisfied: False, max product >0: 1.742e-02, =1 satisfied: True, max g=1: -3.483e-02, dual =1 satisfied: False, max product =1: 9.650e+01\n",
            "Epoch: 103, f: 1.62125e-04, delta f: -9.99965e+01%, nash satisfied: True, max g: -2.956e-05, dual nash satisfied: False, max product: 4.866e-02, rho: 3.494e-05, norm2 d0:2.146e+02, ss: 2.714e-03\n",
            "Epoch: 103, >0 satisfied: True, max g>0: -2.712e-05, dual >0 satisfied: False, max product >0: 2.455e-02, =1 satisfied: True, max g=1: -3.466e-02, dual =1 satisfied: False, max product =1: 9.536e+01\n",
            "Epoch: 104, f: 2.96593e-04, delta f: -9.99936e+01%, nash satisfied: True, max g: -6.485e-05, dual nash satisfied: False, max product: 6.027e-02, rho: 3.494e-05, norm2 d0:2.296e+02, ss: 1.247e-02\n",
            "Epoch: 104, >0 satisfied: True, max g>0: -1.542e-05, dual >0 satisfied: False, max product >0: 1.760e-02, =1 satisfied: True, max g=1: -3.458e-02, dual =1 satisfied: False, max product =1: 9.730e+01\n",
            "Epoch: 105, f: 2.31743e-04, delta f: -9.99950e+01%, nash satisfied: True, max g: -3.433e-05, dual nash satisfied: False, max product: 3.451e-02, rho: 3.494e-05, norm2 d0:2.086e+02, ss: 1.532e-03\n",
            "Epoch: 105, >0 satisfied: True, max g>0: -2.976e-05, dual >0 satisfied: False, max product >0: 2.522e-02, =1 satisfied: True, max g=1: -3.425e-02, dual =1 satisfied: False, max product =1: 9.516e+01\n",
            "Epoch: 106, f: 2.60353e-04, delta f: -9.99944e+01%, nash satisfied: True, max g: -1.717e-05, dual nash satisfied: False, max product: 5.414e-02, rho: 3.494e-05, norm2 d0:2.219e+02, ss: 4.809e-03\n",
            "Epoch: 106, >0 satisfied: True, max g>0: -2.189e-05, dual >0 satisfied: False, max product >0: 2.073e-02, =1 satisfied: True, max g=1: -3.421e-02, dual =1 satisfied: False, max product =1: 9.689e+01\n",
            "Epoch: 107, f: 2.55585e-04, delta f: -9.99945e+01%, nash satisfied: True, max g: -1.163e-04, dual nash satisfied: False, max product: 4.348e-02, rho: 3.494e-05, norm2 d0:2.355e+02, ss: 1.031e-02\n",
            "Epoch: 107, >0 satisfied: True, max g>0: -1.163e-05, dual >0 satisfied: False, max product >0: 1.584e-02, =1 satisfied: True, max g=1: -3.408e-02, dual =1 satisfied: False, max product =1: 9.862e+01\n",
            "Epoch: 108, f: 2.85149e-04, delta f: -9.99938e+01%, nash satisfied: True, max g: -6.485e-05, dual nash satisfied: False, max product: 4.426e-02, rho: 3.494e-05, norm2 d0:2.092e+02, ss: 1.854e-03\n",
            "Epoch: 108, >0 satisfied: True, max g>0: -3.576e-05, dual >0 satisfied: False, max product >0: 2.949e-02, =1 satisfied: True, max g=1: -3.382e-02, dual =1 satisfied: False, max product =1: 9.582e+01\n",
            "Epoch: 109, f: 1.62125e-04, delta f: -9.99965e+01%, nash satisfied: True, max g: -1.087e-04, dual nash satisfied: False, max product: 4.279e-02, rho: 3.494e-05, norm2 d0:2.276e+02, ss: 7.040e-03\n",
            "Epoch: 109, >0 satisfied: True, max g>0: -1.984e-05, dual >0 satisfied: False, max product >0: 1.941e-02, =1 satisfied: True, max g=1: -3.377e-02, dual =1 satisfied: False, max product =1: 9.815e+01\n",
            "Epoch: 110, f: 2.93732e-04, delta f: -9.99936e+01%, nash satisfied: True, max g: -5.722e-05, dual nash satisfied: False, max product: 4.835e-02, rho: 3.494e-05, norm2 d0:2.386e+02, ss: 3.558e-02\n",
            "Epoch: 110, >0 satisfied: True, max g>0: -1.307e-05, dual >0 satisfied: False, max product >0: 1.469e-02, =1 satisfied: True, max g=1: -3.359e-02, dual =1 satisfied: False, max product =1: 9.959e+01\n",
            "Epoch: 111, f: 1.83105e-04, delta f: -9.99960e+01%, nash satisfied: True, max g: -3.719e-05, dual nash satisfied: False, max product: 2.521e-02, rho: 3.494e-05, norm2 d0:1.713e+02, ss: 1.266e-03\n",
            "Epoch: 111, >0 satisfied: True, max g>0: -8.367e-05, dual >0 satisfied: False, max product >0: 5.505e-02, =1 satisfied: True, max g=1: -3.271e-02, dual =1 satisfied: False, max product =1: 9.166e+01\n",
            "Epoch: 112, f: 1.47820e-04, delta f: -9.99968e+01%, nash satisfied: True, max g: -1.907e-05, dual nash satisfied: False, max product: 2.296e-02, rho: 3.494e-05, norm2 d0:2.039e+02, ss: 6.498e-04\n",
            "Epoch: 112, >0 satisfied: True, max g>0: -4.682e-05, dual >0 satisfied: False, max product >0: 3.512e-02, =1 satisfied: True, max g=1: -3.267e-02, dual =1 satisfied: False, max product =1: 9.671e+01\n",
            "Epoch: 113, f: 1.26839e-04, delta f: -9.99973e+01%, nash satisfied: True, max g: -9.537e-06, dual nash satisfied: False, max product: 4.028e-02, rho: 3.494e-05, norm2 d0:2.198e+02, ss: 1.685e-03\n",
            "Epoch: 113, >0 satisfied: True, max g>0: -3.827e-05, dual >0 satisfied: False, max product >0: 2.989e-02, =1 satisfied: True, max g=1: -3.266e-02, dual =1 satisfied: False, max product =1: 9.875e+01\n",
            "Epoch: 114, f: 7.62939e-05, delta f: -9.99984e+01%, nash satisfied: True, max g: -3.052e-05, dual nash satisfied: False, max product: 4.281e-02, rho: 3.494e-05, norm2 d0:2.361e+02, ss: 2.468e-03\n",
            "Epoch: 114, >0 satisfied: True, max g>0: -2.240e-05, dual >0 satisfied: False, max product >0: 1.898e-02, =1 satisfied: True, max g=1: -3.261e-02, dual =1 satisfied: False, max product =1: 1.006e+02\n",
            "Epoch: 115, f: 6.67572e-05, delta f: -9.99986e+01%, nash satisfied: True, max g: -1.526e-05, dual nash satisfied: False, max product: 5.609e-02, rho: 3.494e-05, norm2 d0:2.592e+02, ss: 1.151e-03\n",
            "Epoch: 115, >0 satisfied: True, max g>0: -1.723e-05, dual >0 satisfied: False, max product >0: 1.397e-02, =1 satisfied: True, max g=1: -3.255e-02, dual =1 satisfied: False, max product =1: 1.028e+02\n",
            "Epoch: 116, f: 5.61714e-04, delta f: -9.99878e+01%, nash satisfied: True, max g: -7.629e-06, dual nash satisfied: False, max product: 5.102e-02, rho: 3.494e-05, norm2 d0:2.523e+02, ss: 2.009e-02\n",
            "Epoch: 116, >0 satisfied: True, max g>0: -1.878e-05, dual >0 satisfied: False, max product >0: 1.502e-02, =1 satisfied: True, max g=1: -3.252e-02, dual =1 satisfied: False, max product =1: 1.023e+02\n",
            "Epoch: 117, f: 4.40598e-04, delta f: -9.99905e+01%, nash satisfied: True, max g: -2.480e-04, dual nash satisfied: False, max product: 3.377e-02, rho: 3.494e-05, norm2 d0:2.327e+02, ss: 5.289e-03\n",
            "Epoch: 117, >0 satisfied: True, max g>0: -1.034e-05, dual >0 satisfied: False, max product >0: 1.743e-02, =1 satisfied: True, max g=1: -3.205e-02, dual =1 satisfied: False, max product =1: 1.010e+02\n",
            "Epoch: 118, f: 3.29018e-04, delta f: -9.99929e+01%, nash satisfied: True, max g: -1.869e-04, dual nash satisfied: False, max product: 2.603e-02, rho: 3.494e-05, norm2 d0:2.323e+02, ss: 2.986e-03\n",
            "Epoch: 118, >0 satisfied: True, max g>0: -1.129e-05, dual >0 satisfied: False, max product >0: 2.070e-02, =1 satisfied: True, max g=1: -3.193e-02, dual =1 satisfied: False, max product =1: 1.011e+02\n",
            "Epoch: 119, f: 5.98907e-04, delta f: -9.99870e+01%, nash satisfied: True, max g: -1.421e-04, dual nash satisfied: False, max product: 3.691e-02, rho: 3.494e-05, norm2 d0:2.441e+02, ss: 1.247e-02\n",
            "Epoch: 119, >0 satisfied: True, max g>0: -1.435e-05, dual >0 satisfied: False, max product >0: 1.506e-02, =1 satisfied: True, max g=1: -3.186e-02, dual =1 satisfied: False, max product =1: 1.024e+02\n",
            "Epoch: 120, f: 4.43459e-04, delta f: -9.99904e+01%, nash satisfied: True, max g: -2.136e-04, dual nash satisfied: False, max product: 4.230e-02, rho: 3.494e-05, norm2 d0:2.338e+02, ss: 2.468e-03\n",
            "Epoch: 120, >0 satisfied: True, max g>0: -9.793e-06, dual >0 satisfied: False, max product >0: 2.157e-02, =1 satisfied: True, max g=1: -3.158e-02, dual =1 satisfied: False, max product =1: 1.017e+02\n",
            "Epoch: 121, f: 2.60353e-04, delta f: -9.99944e+01%, nash satisfied: True, max g: -1.535e-04, dual nash satisfied: False, max product: 3.012e-02, rho: 3.494e-05, norm2 d0:2.324e+02, ss: 4.809e-03\n",
            "Epoch: 121, >0 satisfied: True, max g>0: -1.650e-05, dual >0 satisfied: False, max product >0: 1.590e-02, =1 satisfied: True, max g=1: -3.152e-02, dual =1 satisfied: False, max product =1: 1.017e+02\n",
            "Epoch: 122, f: 1.75476e-04, delta f: -9.99962e+01%, nash satisfied: True, max g: -9.441e-05, dual nash satisfied: False, max product: 2.599e-02, rho: 3.494e-05, norm2 d0:2.450e+02, ss: 2.986e-03\n",
            "Epoch: 122, >0 satisfied: True, max g>0: -1.518e-05, dual >0 satisfied: False, max product >0: 1.338e-02, =1 satisfied: True, max g=1: -3.141e-02, dual =1 satisfied: False, max product =1: 1.030e+02\n",
            "Epoch: 123, f: 1.23024e-04, delta f: -9.99973e+01%, nash satisfied: True, max g: -6.580e-05, dual nash satisfied: False, max product: 4.715e-02, rho: 3.494e-05, norm2 d0:2.620e+02, ss: 1.393e-03\n",
            "Epoch: 123, >0 satisfied: True, max g>0: -1.981e-05, dual >0 satisfied: False, max product >0: 1.391e-02, =1 satisfied: True, max g=1: -3.134e-02, dual =1 satisfied: False, max product =1: 1.045e+02\n",
            "Epoch: 124, f: 8.67844e-05, delta f: -9.99981e+01%, nash satisfied: True, max g: -3.529e-05, dual nash satisfied: False, max product: 3.277e-02, rho: 3.494e-05, norm2 d0:2.423e+02, ss: 1.685e-03\n",
            "Epoch: 124, >0 satisfied: True, max g>0: -2.034e-05, dual >0 satisfied: False, max product >0: 1.547e-02, =1 satisfied: True, max g=1: -3.131e-02, dual =1 satisfied: False, max product =1: 1.029e+02\n",
            "Epoch: 125, f: 7.24792e-05, delta f: -9.99984e+01%, nash satisfied: True, max g: -1.812e-05, dual nash satisfied: False, max product: 4.656e-02, rho: 3.494e-05, norm2 d0:2.542e+02, ss: 2.039e-03\n",
            "Epoch: 125, >0 satisfied: True, max g>0: -1.875e-05, dual >0 satisfied: False, max product >0: 1.370e-02, =1 satisfied: True, max g=1: -3.127e-02, dual =1 satisfied: False, max product =1: 1.040e+02\n",
            "Epoch: 126, f: 8.96454e-05, delta f: -9.99981e+01%, nash satisfied: True, max g: -1.717e-05, dual nash satisfied: False, max product: 3.485e-02, rho: 3.494e-05, norm2 d0:2.514e+02, ss: 5.289e-03\n",
            "Epoch: 126, >0 satisfied: True, max g>0: -1.868e-05, dual >0 satisfied: False, max product >0: 1.391e-02, =1 satisfied: True, max g=1: -3.122e-02, dual =1 satisfied: False, max product =1: 1.038e+02\n",
            "Epoch: 127, f: 1.96457e-04, delta f: -9.99958e+01%, nash satisfied: True, max g: -8.583e-06, dual nash satisfied: False, max product: 2.895e-02, rho: 3.494e-05, norm2 d0:2.572e+02, ss: 5.210e-02\n",
            "Epoch: 127, >0 satisfied: True, max g>0: -1.763e-05, dual >0 satisfied: False, max product >0: 1.263e-02, =1 satisfied: True, max g=1: -3.110e-02, dual =1 satisfied: False, max product =1: 1.044e+02\n",
            "Epoch: 128, f: 2.17438e-04, delta f: -9.99953e+01%, nash satisfied: True, max g: -5.436e-05, dual nash satisfied: False, max product: 3.328e-02, rho: 3.494e-05, norm2 d0:2.601e+02, ss: 2.039e-03\n",
            "Epoch: 128, >0 satisfied: True, max g>0: -1.784e-05, dual >0 satisfied: False, max product >0: 2.146e-02, =1 satisfied: True, max g=1: -2.997e-02, dual =1 satisfied: False, max product =1: 1.059e+02\n",
            "Epoch: 129, f: 1.43051e-04, delta f: -9.99969e+01%, nash satisfied: True, max g: -6.580e-05, dual nash satisfied: False, max product: 3.349e-02, rho: 3.494e-05, norm2 d0:2.590e+02, ss: 2.039e-03\n",
            "Epoch: 129, >0 satisfied: True, max g>0: -1.837e-05, dual >0 satisfied: False, max product >0: 1.228e-02, =1 satisfied: True, max g=1: -2.993e-02, dual =1 satisfied: False, max product =1: 1.059e+02\n",
            "Epoch: 130, f: 6.11305e-04, delta f: -9.99868e+01%, nash satisfied: True, max g: -5.150e-05, dual nash satisfied: False, max product: 4.100e-02, rho: 3.494e-05, norm2 d0:2.701e+02, ss: 2.009e-02\n",
            "Epoch: 130, >0 satisfied: True, max g>0: -1.816e-05, dual >0 satisfied: False, max product >0: 1.101e-02, =1 satisfied: True, max g=1: -2.989e-02, dual =1 satisfied: False, max product =1: 1.066e+02\n",
            "Epoch: 131, f: 5.89371e-04, delta f: -9.99872e+01%, nash satisfied: True, max g: -2.642e-04, dual nash satisfied: False, max product: 3.895e-02, rho: 3.494e-05, norm2 d0:2.462e+02, ss: 2.505e-04\n",
            "Epoch: 131, >0 satisfied: True, max g>0: -1.024e-05, dual >0 satisfied: False, max product >0: 1.710e-02, =1 satisfied: True, max g=1: -2.949e-02, dual =1 satisfied: False, max product =1: 1.055e+02\n",
            "Epoch: 132, f: 4.51088e-04, delta f: -9.99902e+01%, nash satisfied: True, max g: -2.556e-04, dual nash satisfied: False, max product: 3.776e-02, rho: 3.494e-05, norm2 d0:2.425e+02, ss: 2.986e-03\n",
            "Epoch: 132, >0 satisfied: True, max g>0: -1.113e-05, dual >0 satisfied: False, max product >0: 1.669e-02, =1 satisfied: True, max g=1: -2.948e-02, dual =1 satisfied: False, max product =1: 1.051e+02\n",
            "Epoch: 133, f: 2.96593e-04, delta f: -9.99936e+01%, nash satisfied: True, max g: -1.888e-04, dual nash satisfied: False, max product: 2.883e-02, rho: 3.494e-05, norm2 d0:2.602e+02, ss: 4.371e-03\n",
            "Epoch: 133, >0 satisfied: True, max g>0: -1.432e-05, dual >0 satisfied: False, max product >0: 1.176e-02, =1 satisfied: True, max g=1: -2.942e-02, dual =1 satisfied: False, max product =1: 1.065e+02\n",
            "Epoch: 134, f: 1.85966e-04, delta f: -9.99960e+01%, nash satisfied: True, max g: -1.240e-04, dual nash satisfied: False, max product: 2.837e-02, rho: 3.494e-05, norm2 d0:2.661e+02, ss: 2.243e-03\n",
            "Epoch: 134, >0 satisfied: True, max g>0: -1.903e-05, dual >0 satisfied: False, max product >0: 1.232e-02, =1 satisfied: True, max g=1: -2.933e-02, dual =1 satisfied: False, max product =1: 1.070e+02\n",
            "Epoch: 135, f: 1.52588e-04, delta f: -9.99967e+01%, nash satisfied: True, max g: -7.153e-05, dual nash satisfied: False, max product: 4.128e-02, rho: 1.236e-05, norm2 d0:2.759e+02, ss: 1.046e-03\n",
            "Epoch: 135, >0 satisfied: True, max g>0: -1.931e-05, dual >0 satisfied: False, max product >0: 3.144e-02, =1 satisfied: True, max g=1: -2.929e-02, dual =1 satisfied: False, max product =1: 1.337e+02\n",
            "Epoch: 136, f: 8.77380e-05, delta f: -9.99981e+01%, nash satisfied: True, max g: -5.913e-05, dual nash satisfied: False, max product: 3.432e-02, rho: 1.236e-05, norm2 d0:2.819e+02, ss: 1.685e-03\n",
            "Epoch: 136, >0 satisfied: True, max g>0: -1.018e-05, dual >0 satisfied: False, max product >0: 2.553e-02, =1 satisfied: True, max g=1: -2.926e-02, dual =1 satisfied: False, max product =1: 1.349e+02\n",
            "Epoch: 137, f: 5.14984e-05, delta f: -9.99989e+01%, nash satisfied: True, max g: -3.338e-05, dual nash satisfied: False, max product: 3.422e-02, rho: 1.236e-05, norm2 d0:2.983e+02, ss: 6.498e-04\n",
            "Epoch: 137, >0 satisfied: True, max g>0: -5.195e-06, dual >0 satisfied: False, max product >0: 2.174e-02, =1 satisfied: True, max g=1: -2.921e-02, dual =1 satisfied: False, max product =1: 1.380e+02\n",
            "Epoch: 138, f: 4.00543e-05, delta f: -9.99991e+01%, nash satisfied: True, max g: -1.717e-05, dual nash satisfied: False, max product: 5.458e-02, rho: 1.236e-05, norm2 d0:3.064e+02, ss: 4.882e-04\n",
            "Epoch: 138, >0 satisfied: True, max g>0: -5.790e-06, dual >0 satisfied: False, max product >0: 2.187e-02, =1 satisfied: True, max g=1: -2.920e-02, dual =1 satisfied: False, max product =1: 1.395e+02\n",
            "Epoch: 139, f: 4.19617e-05, delta f: -9.99991e+01%, nash satisfied: True, max g: -1.335e-05, dual nash satisfied: False, max product: 6.838e-02, rho: 1.236e-05, norm2 d0:3.174e+02, ss: 2.986e-03\n",
            "Epoch: 139, >0 satisfied: True, max g>0: -5.833e-06, dual >0 satisfied: False, max product >0: 2.141e-02, =1 satisfied: True, max g=1: -2.919e-02, dual =1 satisfied: False, max product =1: 1.414e+02\n",
            "Epoch: 140, f: 3.33786e-05, delta f: -9.99993e+01%, nash satisfied: True, max g: -6.676e-06, dual nash satisfied: False, max product: 6.792e-02, rho: 1.236e-05, norm2 d0:3.123e+02, ss: 3.031e-04\n",
            "Epoch: 140, >0 satisfied: True, max g>0: -4.592e-06, dual >0 satisfied: False, max product >0: 2.145e-02, =1 satisfied: True, max g=1: -2.911e-02, dual =1 satisfied: False, max product =1: 1.408e+02\n",
            "Epoch: 141, f: 3.05176e-05, delta f: -9.99993e+01%, nash satisfied: True, max g: -3.815e-06, dual nash satisfied: False, max product: 5.042e-02, rho: 1.236e-05, norm2 d0:2.929e+02, ss: 3.724e-05\n",
            "Epoch: 141, >0 satisfied: True, max g>0: -4.854e-06, dual >0 satisfied: False, max product >0: 2.210e-02, =1 satisfied: True, max g=1: -2.910e-02, dual =1 satisfied: False, max product =1: 1.374e+02\n",
            "Epoch: 142, f: 3.33786e-04, delta f: -9.99928e+01%, nash satisfied: True, max g: -1.907e-06, dual nash satisfied: False, max product: 5.237e-02, rho: 1.236e-05, norm2 d0:2.984e+02, ss: 1.247e-02\n",
            "Epoch: 142, >0 satisfied: True, max g>0: -4.919e-06, dual >0 satisfied: False, max product >0: 2.178e-02, =1 satisfied: True, max g=1: -2.910e-02, dual =1 satisfied: False, max product =1: 1.384e+02\n",
            "Epoch: 143, f: 4.07219e-04, delta f: -9.99912e+01%, nash satisfied: True, max g: -1.259e-04, dual nash satisfied: False, max product: 3.300e-02, rho: 1.236e-05, norm2 d0:2.924e+02, ss: 2.243e-03\n",
            "Epoch: 143, >0 satisfied: True, max g>0: -3.328e-06, dual >0 satisfied: False, max product >0: 2.170e-02, =1 satisfied: True, max g=1: -2.878e-02, dual =1 satisfied: False, max product =1: 1.382e+02\n",
            "Epoch: 144, f: 4.05312e-04, delta f: -9.99912e+01%, nash satisfied: True, max g: -1.669e-04, dual nash satisfied: False, max product: 3.814e-02, rho: 1.236e-05, norm2 d0:2.884e+02, ss: 2.798e-05\n",
            "Epoch: 144, >0 satisfied: True, max g>0: -3.371e-06, dual >0 satisfied: False, max product >0: 2.190e-02, =1 satisfied: True, max g=1: -2.873e-02, dual =1 satisfied: False, max product =1: 1.376e+02\n",
            "Epoch: 145, f: 4.30107e-04, delta f: -9.99907e+01%, nash satisfied: True, max g: -1.659e-04, dual nash satisfied: False, max product: 3.796e-02, rho: 1.236e-05, norm2 d0:2.876e+02, ss: 1.031e-02\n",
            "Epoch: 145, >0 satisfied: True, max g>0: -3.421e-06, dual >0 satisfied: False, max product >0: 2.161e-02, =1 satisfied: True, max g=1: -2.873e-02, dual =1 satisfied: False, max product =1: 1.375e+02\n",
            "Epoch: 146, f: 4.16756e-04, delta f: -9.99910e+01%, nash satisfied: True, max g: -1.221e-04, dual nash satisfied: False, max product: 4.773e-02, rho: 1.236e-05, norm2 d0:2.653e+02, ss: 1.556e-04\n",
            "Epoch: 146, >0 satisfied: True, max g>0: -2.865e-06, dual >0 satisfied: False, max product >0: 2.284e-02, =1 satisfied: True, max g=1: -2.848e-02, dual =1 satisfied: False, max product =1: 1.339e+02\n",
            "Epoch: 147, f: 3.42369e-04, delta f: -9.99926e+01%, nash satisfied: True, max g: -1.144e-04, dual nash satisfied: False, max product: 4.783e-02, rho: 1.236e-05, norm2 d0:2.855e+02, ss: 6.498e-04\n",
            "Epoch: 147, >0 satisfied: True, max g>0: -3.074e-06, dual >0 satisfied: False, max product >0: 2.246e-02, =1 satisfied: True, max g=1: -2.847e-02, dual =1 satisfied: False, max product =1: 1.378e+02\n",
            "Epoch: 148, f: 3.23296e-04, delta f: -9.99930e+01%, nash satisfied: True, max g: -8.202e-05, dual nash satisfied: False, max product: 4.151e-02, rho: 1.236e-05, norm2 d0:3.015e+02, ss: 2.505e-04\n",
            "Epoch: 148, >0 satisfied: True, max g>0: -3.835e-06, dual >0 satisfied: False, max product >0: 2.237e-02, =1 satisfied: True, max g=1: -2.846e-02, dual =1 satisfied: False, max product =1: 1.407e+02\n",
            "Epoch: 149, f: 1.86920e-04, delta f: -9.99960e+01%, nash satisfied: True, max g: -7.534e-05, dual nash satisfied: False, max product: 3.909e-02, rho: 1.236e-05, norm2 d0:2.975e+02, ss: 2.243e-03\n",
            "Epoch: 149, >0 satisfied: True, max g>0: -4.197e-06, dual >0 satisfied: False, max product >0: 2.181e-02, =1 satisfied: True, max g=1: -2.845e-02, dual =1 satisfied: False, max product =1: 1.400e+02\n",
            "Epoch: 150, f: 1.11580e-04, delta f: -9.99976e+01%, nash satisfied: True, max g: -3.910e-05, dual nash satisfied: False, max product: 4.914e-02, rho: 1.236e-05, norm2 d0:3.097e+02, ss: 3.284e-03\n",
            "Epoch: 150, >0 satisfied: True, max g>0: -4.264e-06, dual >0 satisfied: False, max product >0: 2.124e-02, =1 satisfied: True, max g=1: -2.839e-02, dual =1 satisfied: False, max product =1: 1.423e+02\n",
            "Epoch: 151, f: 8.86917e-05, delta f: -9.99981e+01%, nash satisfied: True, max g: -2.384e-05, dual nash satisfied: False, max product: 5.477e-02, rho: 1.236e-05, norm2 d0:3.352e+02, ss: 4.438e-04\n",
            "Epoch: 151, >0 satisfied: True, max g>0: -6.268e-06, dual >0 satisfied: False, max product >0: 2.069e-02, =1 satisfied: True, max g=1: -2.831e-02, dual =1 satisfied: False, max product =1: 1.468e+02\n",
            "Epoch: 152, f: 7.43866e-05, delta f: -9.99984e+01%, nash satisfied: True, max g: -1.240e-05, dual nash satisfied: False, max product: 3.728e-02, rho: 1.236e-05, norm2 d0:3.231e+02, ss: 5.907e-04\n",
            "Epoch: 152, >0 satisfied: True, max g>0: -6.673e-06, dual >0 satisfied: False, max product >0: 2.163e-02, =1 satisfied: True, max g=1: -2.830e-02, dual =1 satisfied: False, max product =1: 1.448e+02\n",
            "Epoch: 153, f: 6.67572e-05, delta f: -9.99986e+01%, nash satisfied: True, max g: -6.676e-06, dual nash satisfied: False, max product: 7.103e-02, rho: 1.236e-05, norm2 d0:3.158e+02, ss: 5.997e-05\n",
            "Epoch: 153, >0 satisfied: True, max g>0: -6.533e-06, dual >0 satisfied: False, max product >0: 2.157e-02, =1 satisfied: True, max g=1: -2.828e-02, dual =1 satisfied: False, max product =1: 1.436e+02\n",
            "Epoch: 154, f: 6.10352e-05, delta f: -9.99987e+01%, nash satisfied: True, max g: -3.815e-06, dual nash satisfied: False, max product: 4.259e-02, rho: 1.236e-05, norm2 d0:3.135e+02, ss: 5.997e-05\n",
            "Epoch: 154, >0 satisfied: True, max g>0: -6.581e-06, dual >0 satisfied: False, max product >0: 2.142e-02, =1 satisfied: True, max g=1: -2.828e-02, dual =1 satisfied: False, max product =1: 1.433e+02\n",
            "Epoch: 155, f: 5.81741e-05, delta f: -9.99987e+01%, nash satisfied: True, max g: -1.907e-06, dual nash satisfied: False, max product: 4.081e-02, rho: 1.236e-05, norm2 d0:2.973e+02, ss: 5.997e-05\n",
            "Epoch: 155, >0 satisfied: True, max g>0: -6.621e-06, dual >0 satisfied: False, max product >0: 2.168e-02, =1 satisfied: True, max g=1: -2.828e-02, dual =1 satisfied: False, max product =1: 1.404e+02\n",
            "Epoch: 156, f: 1.64986e-04, delta f: -9.99964e+01%, nash satisfied: True, max g: -9.537e-07, dual nash satisfied: False, max product: 5.386e-02, rho: 1.236e-05, norm2 d0:3.117e+02, ss: 2.039e-03\n",
            "Epoch: 156, >0 satisfied: True, max g>0: -6.566e-06, dual >0 satisfied: False, max product >0: 2.135e-02, =1 satisfied: True, max g=1: -2.828e-02, dual =1 satisfied: False, max product =1: 1.430e+02\n",
            "Epoch: 157, f: 2.05994e-04, delta f: -9.99955e+01%, nash satisfied: True, max g: -5.054e-05, dual nash satisfied: False, max product: 4.793e-02, rho: 1.236e-05, norm2 d0:3.073e+02, ss: 6.400e-03\n",
            "Epoch: 157, >0 satisfied: True, max g>0: -3.353e-06, dual >0 satisfied: False, max product >0: 1.987e-02, =1 satisfied: True, max g=1: -2.823e-02, dual =1 satisfied: False, max product =1: 1.424e+02\n",
            "Epoch: 158, f: 1.81198e-04, delta f: -9.99961e+01%, nash satisfied: True, max g: -5.436e-05, dual nash satisfied: False, max product: 6.196e-02, rho: 1.236e-05, norm2 d0:3.191e+02, ss: 2.039e-03\n",
            "Epoch: 158, >0 satisfied: True, max g>0: -9.676e-06, dual >0 satisfied: False, max product >0: 2.291e-02, =1 satisfied: True, max g=1: -2.808e-02, dual =1 satisfied: False, max product =1: 1.447e+02\n",
            "Epoch: 159, f: 1.75476e-04, delta f: -9.99962e+01%, nash satisfied: True, max g: -8.202e-05, dual nash satisfied: False, max product: 4.311e-02, rho: 1.236e-05, norm2 d0:3.035e+02, ss: 3.284e-03\n",
            "Epoch: 159, >0 satisfied: True, max g>0: -5.099e-06, dual >0 satisfied: False, max product >0: 2.052e-02, =1 satisfied: True, max g=1: -2.803e-02, dual =1 satisfied: False, max product =1: 1.422e+02\n",
            "Epoch: 160, f: 3.28064e-04, delta f: -9.99929e+01%, nash satisfied: True, max g: -4.578e-05, dual nash satisfied: False, max product: 5.828e-02, rho: 1.236e-05, norm2 d0:3.258e+02, ss: 3.558e-02\n",
            "Epoch: 160, >0 satisfied: True, max g>0: -4.179e-06, dual >0 satisfied: False, max product >0: 1.925e-02, =1 satisfied: True, max g=1: -2.795e-02, dual =1 satisfied: False, max product =1: 1.463e+02\n",
            "Epoch: 161, f: 2.62260e-04, delta f: -9.99943e+01%, nash satisfied: True, max g: -1.030e-04, dual nash satisfied: False, max product: 2.647e-02, rho: 1.236e-05, norm2 d0:2.456e+02, ss: 8.649e-04\n",
            "Epoch: 161, >0 satisfied: True, max g>0: -2.821e-05, dual >0 satisfied: False, max product >0: 4.193e-02, =1 satisfied: True, max g=1: -2.715e-02, dual =1 satisfied: False, max product =1: 1.334e+02\n",
            "Epoch: 162, f: 1.87874e-04, delta f: -9.99959e+01%, nash satisfied: True, max g: -8.678e-05, dual nash satisfied: False, max product: 2.485e-02, rho: 1.236e-05, norm2 d0:3.015e+02, ss: 1.046e-03\n",
            "Epoch: 162, >0 satisfied: True, max g>0: -1.482e-05, dual >0 satisfied: False, max product >0: 2.974e-02, =1 satisfied: True, max g=1: -2.713e-02, dual =1 satisfied: False, max product =1: 1.443e+02\n",
            "Epoch: 163, f: 2.12669e-04, delta f: -9.99954e+01%, nash satisfied: True, max g: -5.245e-05, dual nash satisfied: False, max product: 3.385e-02, rho: 1.236e-05, norm2 d0:3.001e+02, ss: 1.151e-03\n",
            "Epoch: 163, >0 satisfied: True, max g>0: -8.149e-06, dual >0 satisfied: False, max product >0: 2.367e-02, =1 satisfied: True, max g=1: -2.711e-02, dual =1 satisfied: False, max product =1: 1.442e+02\n",
            "Epoch: 164, f: 1.29700e-04, delta f: -9.99972e+01%, nash satisfied: True, max g: -8.297e-05, dual nash satisfied: False, max product: 3.563e-02, rho: 1.236e-05, norm2 d0:3.358e+02, ss: 1.046e-03\n",
            "Epoch: 164, >0 satisfied: True, max g>0: -5.524e-06, dual >0 satisfied: False, max product >0: 1.869e-02, =1 satisfied: True, max g=1: -2.708e-02, dual =1 satisfied: False, max product =1: 1.502e+02\n",
            "Epoch: 165, f: 1.35422e-04, delta f: -9.99971e+01%, nash satisfied: True, max g: -4.387e-05, dual nash satisfied: False, max product: 5.999e-02, rho: 1.236e-05, norm2 d0:3.321e+02, ss: 1.685e-03\n",
            "Epoch: 165, >0 satisfied: True, max g>0: -6.299e-06, dual >0 satisfied: False, max product >0: 1.965e-02, =1 satisfied: True, max g=1: -2.706e-02, dual =1 satisfied: False, max product =1: 1.496e+02\n",
            "Epoch: 166, f: 1.32561e-04, delta f: -9.99971e+01%, nash satisfied: True, max g: -3.719e-05, dual nash satisfied: False, max product: 5.402e-02, rho: 1.236e-05, norm2 d0:3.373e+02, ss: 3.385e-05\n",
            "Epoch: 166, >0 satisfied: True, max g>0: -5.405e-06, dual >0 satisfied: False, max product >0: 1.887e-02, =1 satisfied: True, max g=1: -2.702e-02, dual =1 satisfied: False, max product =1: 1.506e+02\n",
            "Epoch: 167, f: 3.79562e-04, delta f: -9.99918e+01%, nash satisfied: True, max g: -3.624e-05, dual nash satisfied: False, max product: 6.625e-02, rho: 1.236e-05, norm2 d0:3.433e+02, ss: 8.519e-03\n",
            "Epoch: 167, >0 satisfied: True, max g>0: -5.460e-06, dual >0 satisfied: False, max product >0: 1.824e-02, =1 satisfied: True, max g=1: -2.702e-02, dual =1 satisfied: False, max product =1: 1.515e+02\n",
            "Epoch: 168, f: 2.68936e-04, delta f: -9.99942e+01%, nash satisfied: True, max g: -4.768e-05, dual nash satisfied: False, max product: 5.369e-02, rho: 1.236e-05, norm2 d0:3.097e+02, ss: 9.513e-04\n",
            "Epoch: 168, >0 satisfied: True, max g>0: -4.973e-06, dual >0 satisfied: False, max product >0: 1.905e-02, =1 satisfied: True, max g=1: -2.683e-02, dual =1 satisfied: False, max product =1: 1.465e+02\n",
            "Epoch: 169, f: 2.67029e-04, delta f: -9.99942e+01%, nash satisfied: True, max g: -2.480e-05, dual nash satisfied: False, max product: 6.861e-02, rho: 1.236e-05, norm2 d0:3.307e+02, ss: 3.724e-05\n",
            "Epoch: 169, >0 satisfied: True, max g>0: -5.677e-06, dual >0 satisfied: False, max product >0: 1.879e-02, =1 satisfied: True, max g=1: -2.680e-02, dual =1 satisfied: False, max product =1: 1.500e+02\n",
            "Epoch: 170, f: 1.58310e-04, delta f: -9.99966e+01%, nash satisfied: True, max g: -2.575e-05, dual nash satisfied: False, max product: 5.017e-02, rho: 1.236e-05, norm2 d0:3.472e+02, ss: 3.284e-03\n",
            "Epoch: 170, >0 satisfied: True, max g>0: -5.698e-06, dual >0 satisfied: False, max product >0: 1.873e-02, =1 satisfied: True, max g=1: -2.680e-02, dual =1 satisfied: False, max product =1: 1.527e+02\n",
            "Epoch: 171, f: 1.43051e-04, delta f: -9.99969e+01%, nash satisfied: True, max g: -2.193e-05, dual nash satisfied: False, max product: 5.354e-02, rho: 1.236e-05, norm2 d0:3.274e+02, ss: 2.505e-04\n",
            "Epoch: 171, >0 satisfied: True, max g>0: -6.201e-06, dual >0 satisfied: False, max product >0: 1.924e-02, =1 satisfied: True, max g=1: -2.673e-02, dual =1 satisfied: False, max product =1: 1.499e+02\n",
            "Epoch: 172, f: 1.23978e-04, delta f: -9.99973e+01%, nash satisfied: True, max g: -1.812e-05, dual nash satisfied: False, max product: 5.334e-02, rho: 1.236e-05, norm2 d0:3.438e+02, ss: 4.371e-03\n",
            "Epoch: 172, >0 satisfied: True, max g>0: -6.212e-06, dual >0 satisfied: False, max product >0: 1.906e-02, =1 satisfied: True, max g=1: -2.672e-02, dual =1 satisfied: False, max product =1: 1.525e+02\n",
            "Epoch: 173, f: 8.01086e-05, delta f: -9.99983e+01%, nash satisfied: True, max g: -5.341e-05, dual nash satisfied: False, max product: 3.650e-02, rho: 1.236e-05, norm2 d0:3.276e+02, ss: 1.046e-03\n",
            "Epoch: 173, >0 satisfied: True, max g>0: -5.228e-06, dual >0 satisfied: False, max product >0: 1.849e-02, =1 satisfied: True, max g=1: -2.662e-02, dual =1 satisfied: False, max product =1: 1.503e+02\n",
            "Epoch: 174, f: 7.31468e-04, delta f: -9.99842e+01%, nash satisfied: True, max g: -3.052e-05, dual nash satisfied: False, max product: 6.064e-02, rho: 1.236e-05, norm2 d0:3.563e+02, ss: 9.370e-03\n",
            "Epoch: 174, >0 satisfied: True, max g>0: -5.444e-06, dual >0 satisfied: False, max product >0: 1.759e-02, =1 satisfied: True, max g=1: -2.660e-02, dual =1 satisfied: False, max product =1: 1.548e+02\n",
            "Epoch: 175, f: 7.24792e-04, delta f: -9.99843e+01%, nash satisfied: True, max g: -3.061e-04, dual nash satisfied: False, max product: 7.274e-02, rho: 1.236e-05, norm2 d0:2.911e+02, ss: 5.997e-05\n",
            "Epoch: 175, >0 satisfied: True, max g>0: -3.143e-06, dual >0 satisfied: False, max product >0: 1.909e-02, =1 satisfied: True, max g=1: -2.639e-02, dual =1 satisfied: False, max product =1: 1.446e+02\n",
            "Epoch: 176, f: 3.96729e-04, delta f: -9.99914e+01%, nash satisfied: True, max g: -3.033e-04, dual nash satisfied: False, max product: 7.005e-02, rho: 1.236e-05, norm2 d0:2.795e+02, ss: 2.039e-03\n",
            "Epoch: 176, >0 satisfied: True, max g>0: -3.237e-06, dual >0 satisfied: False, max product >0: 1.951e-02, =1 satisfied: True, max g=1: -2.639e-02, dual =1 satisfied: False, max product =1: 1.424e+02\n",
            "Epoch: 177, f: 2.18391e-04, delta f: -9.99953e+01%, nash satisfied: True, max g: -1.612e-04, dual nash satisfied: False, max product: 3.934e-02, rho: 1.236e-05, norm2 d0:3.030e+02, ss: 2.714e-03\n",
            "Epoch: 177, >0 satisfied: True, max g>0: -5.989e-06, dual >0 satisfied: False, max product >0: 1.967e-02, =1 satisfied: True, max g=1: -2.635e-02, dual =1 satisfied: False, max product =1: 1.469e+02\n",
            "Epoch: 178, f: 1.33514e-04, delta f: -9.99971e+01%, nash satisfied: True, max g: -8.583e-05, dual nash satisfied: False, max product: 2.266e-02, rho: 1.236e-05, norm2 d0:3.141e+02, ss: 3.284e-03\n",
            "Epoch: 178, >0 satisfied: True, max g>0: -3.242e-06, dual >0 satisfied: False, max product >0: 1.804e-02, =1 satisfied: True, max g=1: -2.629e-02, dual =1 satisfied: False, max product =1: 1.490e+02\n",
            "Epoch: 179, f: 2.10762e-04, delta f: -9.99954e+01%, nash satisfied: True, max g: -4.387e-05, dual nash satisfied: False, max product: 9.229e-02, rho: 1.236e-05, norm2 d0:3.603e+02, ss: 2.986e-03\n",
            "Epoch: 179, >0 satisfied: True, max g>0: -4.926e-06, dual >0 satisfied: False, max product >0: 1.745e-02, =1 satisfied: True, max g=1: -2.621e-02, dual =1 satisfied: False, max product =1: 1.563e+02\n",
            "Epoch: 180, f: 4.76837e-04, delta f: -9.99897e+01%, nash satisfied: True, max g: -4.101e-05, dual nash satisfied: False, max product: 7.711e-02, rho: 1.236e-05, norm2 d0:3.494e+02, ss: 2.468e-03\n",
            "Epoch: 180, >0 satisfied: True, max g>0: -5.393e-06, dual >0 satisfied: False, max product >0: 1.799e-02, =1 satisfied: True, max g=1: -2.615e-02, dual =1 satisfied: False, max product =1: 1.550e+02\n",
            "Epoch: 181, f: 4.65393e-04, delta f: -9.99899e+01%, nash satisfied: True, max g: -2.098e-04, dual nash satisfied: False, max product: 4.657e-02, rho: 1.236e-05, norm2 d0:3.153e+02, ss: 1.556e-04\n",
            "Epoch: 181, >0 satisfied: True, max g>0: -3.107e-06, dual >0 satisfied: False, max product >0: 1.747e-02, =1 satisfied: True, max g=1: -2.610e-02, dual =1 satisfied: False, max product =1: 1.497e+02\n",
            "Epoch: 182, f: 3.29971e-04, delta f: -9.99929e+01%, nash satisfied: True, max g: -2.041e-04, dual nash satisfied: False, max product: 4.489e-02, rho: 1.236e-05, norm2 d0:3.103e+02, ss: 1.031e-02\n",
            "Epoch: 182, >0 satisfied: True, max g>0: -3.339e-06, dual >0 satisfied: False, max product >0: 1.761e-02, =1 satisfied: True, max g=1: -2.610e-02, dual =1 satisfied: False, max product =1: 1.489e+02\n",
            "Epoch: 183, f: 3.49045e-04, delta f: -9.99924e+01%, nash satisfied: True, max g: -1.278e-04, dual nash satisfied: False, max product: 3.821e-02, rho: 1.236e-05, norm2 d0:3.445e+02, ss: 1.266e-03\n",
            "Epoch: 183, >0 satisfied: True, max g>0: -3.770e-06, dual >0 satisfied: False, max product >0: 2.273e-02, =1 satisfied: True, max g=1: -2.588e-02, dual =1 satisfied: False, max product =1: 1.549e+02\n",
            "Epoch: 184, f: 3.25203e-04, delta f: -9.99930e+01%, nash satisfied: True, max g: -1.602e-04, dual nash satisfied: False, max product: 3.904e-02, rho: 1.236e-05, norm2 d0:3.437e+02, ss: 1.854e-03\n",
            "Epoch: 184, >0 satisfied: True, max g>0: -5.282e-06, dual >0 satisfied: False, max product >0: 1.874e-02, =1 satisfied: True, max g=1: -2.586e-02, dual =1 satisfied: False, max product =1: 1.550e+02\n",
            "Epoch: 185, f: 3.22342e-04, delta f: -9.99930e+01%, nash satisfied: True, max g: -1.335e-04, dual nash satisfied: False, max product: 3.360e-02, rho: 1.236e-05, norm2 d0:3.144e+02, ss: 1.579e-05\n",
            "Epoch: 185, >0 satisfied: True, max g>0: -3.908e-06, dual >0 satisfied: False, max product >0: 1.827e-02, =1 satisfied: True, max g=1: -2.581e-02, dual =1 satisfied: False, max product =1: 1.504e+02\n",
            "Epoch: 186, f: 5.05447e-04, delta f: -9.99891e+01%, nash satisfied: True, max g: -1.316e-04, dual nash satisfied: False, max product: 4.192e-02, rho: 1.236e-05, norm2 d0:3.440e+02, ss: 7.040e-03\n",
            "Epoch: 186, >0 satisfied: True, max g>0: -3.930e-06, dual >0 satisfied: False, max product >0: 1.753e-02, =1 satisfied: True, max g=1: -2.581e-02, dual =1 satisfied: False, max product =1: 1.551e+02\n",
            "Epoch: 187, f: 3.07083e-04, delta f: -9.99934e+01%, nash satisfied: True, max g: -1.802e-04, dual nash satisfied: False, max product: 5.625e-02, rho: 1.236e-05, norm2 d0:3.292e+02, ss: 2.039e-03\n",
            "Epoch: 187, >0 satisfied: True, max g>0: -3.109e-06, dual >0 satisfied: False, max product >0: 1.906e-02, =1 satisfied: True, max g=1: -2.567e-02, dual =1 satisfied: False, max product =1: 1.532e+02\n",
            "Epoch: 188, f: 4.60625e-04, delta f: -9.99900e+01%, nash satisfied: True, max g: -1.173e-04, dual nash satisfied: False, max product: 3.410e-02, rho: 1.236e-05, norm2 d0:3.420e+02, ss: 3.974e-03\n",
            "Epoch: 188, >0 satisfied: True, max g>0: -4.809e-06, dual >0 satisfied: False, max product >0: 1.751e-02, =1 satisfied: True, max g=1: -2.562e-02, dual =1 satisfied: False, max product =1: 1.554e+02\n",
            "Epoch: 189, f: 2.95639e-04, delta f: -9.99936e+01%, nash satisfied: True, max g: -1.993e-04, dual nash satisfied: False, max product: 4.630e-02, rho: 1.236e-05, norm2 d0:3.092e+02, ss: 1.046e-03\n",
            "Epoch: 189, >0 satisfied: True, max g>0: -3.582e-06, dual >0 satisfied: False, max product >0: 1.676e-02, =1 satisfied: True, max g=1: -2.554e-02, dual =1 satisfied: False, max product =1: 1.503e+02\n",
            "Epoch: 190, f: 5.97000e-04, delta f: -9.99871e+01%, nash satisfied: True, max g: -1.078e-04, dual nash satisfied: False, max product: 3.500e-02, rho: 1.236e-05, norm2 d0:3.816e+02, ss: 2.430e-02\n",
            "Epoch: 190, >0 satisfied: True, max g>0: -5.213e-06, dual >0 satisfied: False, max product >0: 1.586e-02, =1 satisfied: True, max g=1: -2.552e-02, dual =1 satisfied: False, max product =1: 1.614e+02\n",
            "Epoch: 191, f: 5.09262e-04, delta f: -9.99890e+01%, nash satisfied: True, max g: -9.346e-05, dual nash satisfied: False, max product: 8.193e-02, rho: 1.236e-05, norm2 d0:2.697e+02, ss: 8.649e-04\n",
            "Epoch: 191, >0 satisfied: True, max g>0: -1.054e-05, dual >0 satisfied: False, max product >0: 3.307e-02, =1 satisfied: True, max g=1: -2.500e-02, dual =1 satisfied: False, max product =1: 1.447e+02\n",
            "Epoch: 192, f: 4.32968e-04, delta f: -9.99906e+01%, nash satisfied: True, max g: -7.820e-05, dual nash satisfied: False, max product: 7.491e-02, rho: 1.236e-05, norm2 d0:3.147e+02, ss: 9.513e-04\n",
            "Epoch: 192, >0 satisfied: True, max g>0: -6.736e-06, dual >0 satisfied: False, max product >0: 2.304e-02, =1 satisfied: True, max g=1: -2.499e-02, dual =1 satisfied: False, max product =1: 1.530e+02\n",
            "Epoch: 193, f: 2.82288e-04, delta f: -9.99939e+01%, nash satisfied: True, max g: -6.485e-05, dual nash satisfied: False, max product: 6.470e-02, rho: 1.236e-05, norm2 d0:3.217e+02, ss: 2.243e-03\n",
            "Epoch: 193, >0 satisfied: True, max g>0: -5.582e-06, dual >0 satisfied: False, max product >0: 1.895e-02, =1 satisfied: True, max g=1: -2.497e-02, dual =1 satisfied: False, max product =1: 1.542e+02\n",
            "Epoch: 194, f: 2.19345e-04, delta f: -9.99953e+01%, nash satisfied: True, max g: -3.433e-05, dual nash satisfied: False, max product: 4.508e-02, rho: 1.236e-05, norm2 d0:3.620e+02, ss: 5.907e-04\n",
            "Epoch: 194, >0 satisfied: True, max g>0: -3.831e-06, dual >0 satisfied: False, max product >0: 1.566e-02, =1 satisfied: True, max g=1: -2.492e-02, dual =1 satisfied: False, max product =1: 1.603e+02\n",
            "Epoch: 195, f: 1.85013e-04, delta f: -9.99960e+01%, nash satisfied: True, max g: -1.717e-05, dual nash satisfied: False, max product: 3.526e-02, rho: 1.236e-05, norm2 d0:3.274e+02, ss: 5.370e-04\n",
            "Epoch: 195, >0 satisfied: True, max g>0: -5.070e-06, dual >0 satisfied: False, max product >0: 1.654e-02, =1 satisfied: True, max g=1: -2.491e-02, dual =1 satisfied: False, max product =1: 1.552e+02\n",
            "Epoch: 196, f: 2.70844e-04, delta f: -9.99941e+01%, nash satisfied: True, max g: -9.537e-06, dual nash satisfied: False, max product: 4.179e-02, rho: 1.236e-05, norm2 d0:3.906e+02, ss: 7.040e-03\n",
            "Epoch: 196, >0 satisfied: True, max g>0: -5.300e-06, dual >0 satisfied: False, max product >0: 1.453e-02, =1 satisfied: True, max g=1: -2.490e-02, dual =1 satisfied: False, max product =1: 1.644e+02\n",
            "Epoch: 197, f: 1.86920e-04, delta f: -9.99960e+01%, nash satisfied: True, max g: -8.965e-05, dual nash satisfied: False, max product: 3.169e-02, rho: 1.236e-05, norm2 d0:3.411e+02, ss: 1.151e-03\n",
            "Epoch: 197, >0 satisfied: True, max g>0: -9.059e-06, dual >0 satisfied: False, max product >0: 1.870e-02, =1 satisfied: True, max g=1: -2.476e-02, dual =1 satisfied: False, max product =1: 1.579e+02\n",
            "Epoch: 198, f: 1.04904e-04, delta f: -9.99977e+01%, nash satisfied: True, max g: -4.959e-05, dual nash satisfied: False, max product: 2.461e-02, rho: 1.236e-05, norm2 d0:3.568e+02, ss: 2.039e-03\n",
            "Epoch: 198, >0 satisfied: True, max g>0: -6.205e-06, dual >0 satisfied: False, max product >0: 1.679e-02, =1 satisfied: True, max g=1: -2.473e-02, dual =1 satisfied: False, max product =1: 1.603e+02\n",
            "Epoch: 199, f: 8.77380e-05, delta f: -9.99981e+01%, nash satisfied: True, max g: -2.480e-05, dual nash satisfied: False, max product: 1.754e-02, rho: 1.236e-05, norm2 d0:3.460e+02, ss: 8.649e-04\n",
            "Epoch: 199, >0 satisfied: True, max g>0: -4.762e-06, dual >0 satisfied: False, max product >0: 1.546e-02, =1 satisfied: True, max g=1: -2.469e-02, dual =1 satisfied: False, max product =1: 1.588e+02\n",
            "Epoch: 200, f: 1.16348e-04, delta f: -9.99975e+01%, nash satisfied: True, max g: -1.335e-05, dual nash satisfied: False, max product: 4.673e-02, rho: 1.236e-05, norm2 d0:4.050e+02, ss: 1.854e-03\n",
            "Epoch: 200, >0 satisfied: True, max g>0: -5.082e-06, dual >0 satisfied: False, max product >0: 1.406e-02, =1 satisfied: True, max g=1: -2.467e-02, dual =1 satisfied: False, max product =1: 1.668e+02\n",
            "Epoch: 201, f: 7.43866e-05, delta f: -9.99984e+01%, nash satisfied: True, max g: -3.433e-05, dual nash satisfied: False, max product: 2.805e-02, rho: 1.236e-05, norm2 d0:3.965e+02, ss: 2.039e-03\n",
            "Epoch: 201, >0 satisfied: True, max g>0: -6.355e-06, dual >0 satisfied: False, max product >0: 1.675e-02, =1 satisfied: True, max g=1: -2.464e-02, dual =1 satisfied: False, max product =1: 1.658e+02\n",
            "Epoch: 202, f: 5.72205e-05, delta f: -9.99988e+01%, nash satisfied: True, max g: -2.480e-05, dual nash satisfied: False, max product: 5.730e-02, rho: 1.236e-05, norm2 d0:3.701e+02, ss: 5.907e-04\n",
            "Epoch: 202, >0 satisfied: True, max g>0: -5.749e-06, dual >0 satisfied: False, max product >0: 1.583e-02, =1 satisfied: True, max g=1: -2.459e-02, dual =1 satisfied: False, max product =1: 1.625e+02\n",
            "Epoch: 203, f: 4.00543e-05, delta f: -9.99991e+01%, nash satisfied: True, max g: -1.907e-05, dual nash satisfied: False, max product: 3.784e-02, rho: 1.236e-05, norm2 d0:3.537e+02, ss: 4.035e-04\n",
            "Epoch: 203, >0 satisfied: True, max g>0: -6.053e-06, dual >0 satisfied: False, max product >0: 1.627e-02, =1 satisfied: True, max g=1: -2.458e-02, dual =1 satisfied: False, max product =1: 1.603e+02\n",
            "Epoch: 204, f: 5.14984e-05, delta f: -9.99989e+01%, nash satisfied: True, max g: -1.335e-05, dual nash satisfied: False, max product: 4.077e-02, rho: 1.236e-05, norm2 d0:3.701e+02, ss: 7.040e-03\n",
            "Epoch: 204, >0 satisfied: True, max g>0: -5.993e-06, dual >0 satisfied: False, max product >0: 1.535e-02, =1 satisfied: True, max g=1: -2.457e-02, dual =1 satisfied: False, max product =1: 1.626e+02\n",
            "Epoch: 205, f: 3.31879e-04, delta f: -9.99928e+01%, nash satisfied: True, max g: -9.537e-06, dual nash satisfied: False, max product: 4.843e-02, rho: 1.236e-05, norm2 d0:4.073e+02, ss: 2.673e-02\n",
            "Epoch: 205, >0 satisfied: True, max g>0: -3.684e-06, dual >0 satisfied: False, max product >0: 1.336e-02, =1 satisfied: True, max g=1: -2.444e-02, dual =1 satisfied: False, max product =1: 1.677e+02\n",
            "Epoch: 206, f: 3.16620e-04, delta f: -9.99931e+01%, nash satisfied: True, max g: -2.098e-05, dual nash satisfied: False, max product: 4.082e-02, rho: 1.236e-05, norm2 d0:2.878e+02, ss: 1.711e-04\n",
            "Epoch: 206, >0 satisfied: True, max g>0: -3.437e-05, dual >0 satisfied: False, max product >0: 5.286e-02, =1 satisfied: True, max g=1: -2.392e-02, dual =1 satisfied: False, max product =1: 1.514e+02\n",
            "Epoch: 207, f: 2.84195e-04, delta f: -9.99939e+01%, nash satisfied: True, max g: -2.289e-05, dual nash satisfied: False, max product: 4.056e-02, rho: 1.236e-05, norm2 d0:2.930e+02, ss: 7.862e-04\n",
            "Epoch: 207, >0 satisfied: True, max g>0: -3.079e-05, dual >0 satisfied: False, max product >0: 4.825e-02, =1 satisfied: True, max g=1: -2.392e-02, dual =1 satisfied: False, max product =1: 1.524e+02\n",
            "Epoch: 208, f: 2.53677e-04, delta f: -9.99945e+01%, nash satisfied: True, max g: -4.005e-05, dual nash satisfied: False, max product: 4.062e-02, rho: 1.236e-05, norm2 d0:3.271e+02, ss: 7.862e-04\n",
            "Epoch: 208, >0 satisfied: True, max g>0: -1.599e-05, dual >0 satisfied: False, max product >0: 3.070e-02, =1 satisfied: True, max g=1: -2.391e-02, dual =1 satisfied: False, max product =1: 1.582e+02\n",
            "Epoch: 209, f: 2.05994e-04, delta f: -9.99955e+01%, nash satisfied: True, max g: -5.150e-05, dual nash satisfied: False, max product: 4.978e-02, rho: 1.236e-05, norm2 d0:3.933e+02, ss: 7.148e-04\n",
            "Epoch: 209, >0 satisfied: True, max g>0: -9.638e-06, dual >0 satisfied: False, max product >0: 1.970e-02, =1 satisfied: True, max g=1: -2.389e-02, dual =1 satisfied: False, max product =1: 1.676e+02\n",
            "Epoch: 210, f: 1.92642e-04, delta f: -9.99958e+01%, nash satisfied: True, max g: -2.861e-05, dual nash satisfied: False, max product: 9.054e-02, rho: 1.236e-05, norm2 d0:3.926e+02, ss: 1.532e-03\n",
            "Epoch: 210, >0 satisfied: True, max g>0: -7.790e-06, dual >0 satisfied: False, max product >0: 1.723e-02, =1 satisfied: True, max g=1: -2.388e-02, dual =1 satisfied: False, max product =1: 1.676e+02\n",
            "Epoch: 211, f: 2.47955e-04, delta f: -9.99946e+01%, nash satisfied: True, max g: -4.959e-05, dual nash satisfied: False, max product: 2.608e-02, rho: 1.236e-05, norm2 d0:3.797e+02, ss: 2.039e-03\n",
            "Epoch: 211, >0 satisfied: True, max g>0: -4.835e-06, dual >0 satisfied: False, max product >0: 1.429e-02, =1 satisfied: True, max g=1: -2.385e-02, dual =1 satisfied: False, max product =1: 1.660e+02\n",
            "Epoch: 212, f: 3.47137e-04, delta f: -9.99925e+01%, nash satisfied: True, max g: -9.918e-05, dual nash satisfied: False, max product: 2.869e-02, rho: 1.236e-05, norm2 d0:4.049e+02, ss: 4.371e-03\n",
            "Epoch: 212, >0 satisfied: True, max g>0: -3.049e-06, dual >0 satisfied: False, max product >0: 1.492e-02, =1 satisfied: True, max g=1: -2.381e-02, dual =1 satisfied: False, max product =1: 1.693e+02\n",
            "Epoch: 213, f: 3.91006e-04, delta f: -9.99915e+01%, nash satisfied: True, max g: -1.431e-04, dual nash satisfied: False, max product: 3.678e-02, rho: 1.236e-05, norm2 d0:3.524e+02, ss: 9.513e-04\n",
            "Epoch: 213, >0 satisfied: True, max g>0: -3.505e-06, dual >0 satisfied: False, max product >0: 1.998e-02, =1 satisfied: True, max g=1: -2.373e-02, dual =1 satisfied: False, max product =1: 1.626e+02\n",
            "Epoch: 214, f: 4.63486e-04, delta f: -9.99900e+01%, nash satisfied: True, max g: -1.621e-04, dual nash satisfied: False, max product: 4.169e-02, rho: 1.236e-05, norm2 d0:3.661e+02, ss: 3.974e-03\n",
            "Epoch: 214, >0 satisfied: True, max g>0: -4.760e-06, dual >0 satisfied: False, max product >0: 1.431e-02, =1 satisfied: True, max g=1: -2.371e-02, dual =1 satisfied: False, max product =1: 1.645e+02\n",
            "Epoch: 215, f: 4.48227e-04, delta f: -9.99903e+01%, nash satisfied: True, max g: -1.659e-04, dual nash satisfied: False, max product: 5.988e-02, rho: 1.236e-05, norm2 d0:3.685e+02, ss: 1.854e-03\n",
            "Epoch: 215, >0 satisfied: True, max g>0: -3.429e-06, dual >0 satisfied: False, max product >0: 1.551e-02, =1 satisfied: True, max g=1: -2.363e-02, dual =1 satisfied: False, max product =1: 1.651e+02\n",
            "Epoch: 216, f: 2.82288e-04, delta f: -9.99939e+01%, nash satisfied: True, max g: -1.163e-04, dual nash satisfied: False, max product: 6.668e-02, rho: 1.236e-05, norm2 d0:3.900e+02, ss: 5.289e-03\n",
            "Epoch: 216, >0 satisfied: True, max g>0: -3.601e-06, dual >0 satisfied: False, max product >0: 1.425e-02, =1 satisfied: True, max g=1: -2.360e-02, dual =1 satisfied: False, max product =1: 1.681e+02\n",
            "Epoch: 217, f: 3.70026e-04, delta f: -9.99920e+01%, nash satisfied: True, max g: -9.155e-05, dual nash satisfied: False, max product: 3.186e-02, rho: 1.236e-05, norm2 d0:3.557e+02, ss: 9.513e-04\n",
            "Epoch: 217, >0 satisfied: True, max g>0: -5.326e-06, dual >0 satisfied: False, max product >0: 2.254e-02, =1 satisfied: True, max g=1: -2.350e-02, dual =1 satisfied: False, max product =1: 1.637e+02\n",
            "Epoch: 218, f: 2.25067e-04, delta f: -9.99951e+01%, nash satisfied: True, max g: -1.545e-04, dual nash satisfied: False, max product: 4.155e-02, rho: 1.236e-05, norm2 d0:3.857e+02, ss: 8.649e-04\n",
            "Epoch: 218, >0 satisfied: True, max g>0: -4.143e-06, dual >0 satisfied: False, max product >0: 1.651e-02, =1 satisfied: True, max g=1: -2.348e-02, dual =1 satisfied: False, max product =1: 1.679e+02\n",
            "Epoch: 219, f: 2.40326e-04, delta f: -9.99948e+01%, nash satisfied: True, max g: -7.820e-05, dual nash satisfied: False, max product: 2.669e-02, rho: 1.236e-05, norm2 d0:3.763e+02, ss: 1.854e-03\n",
            "Epoch: 219, >0 satisfied: True, max g>0: -6.617e-06, dual >0 satisfied: False, max product >0: 1.553e-02, =1 satisfied: True, max g=1: -2.346e-02, dual =1 satisfied: False, max product =1: 1.667e+02\n",
            "Epoch: 220, f: 2.42233e-04, delta f: -9.99948e+01%, nash satisfied: True, max g: -9.346e-05, dual nash satisfied: False, max product: 2.701e-02, rho: 1.236e-05, norm2 d0:3.648e+02, ss: 1.436e-05\n",
            "Epoch: 220, >0 satisfied: True, max g>0: -4.226e-06, dual >0 satisfied: False, max product >0: 1.403e-02, =1 satisfied: True, max g=1: -2.343e-02, dual =1 satisfied: False, max product =1: 1.653e+02\n",
            "Epoch: 221, f: 1.60217e-04, delta f: -9.99965e+01%, nash satisfied: True, max g: -9.346e-05, dual nash satisfied: False, max product: 2.764e-02, rho: 1.236e-05, norm2 d0:3.460e+02, ss: 3.974e-03\n",
            "Epoch: 221, >0 satisfied: True, max g>0: -4.269e-06, dual >0 satisfied: False, max product >0: 1.479e-02, =1 satisfied: True, max g=1: -2.343e-02, dual =1 satisfied: False, max product =1: 1.626e+02\n",
            "Epoch: 222, f: 3.86047e-03, delta f: -9.99165e+01%, nash satisfied: True, max g: -4.959e-05, dual nash satisfied: False, max product: 2.427e-02, rho: 1.236e-05, norm2 d0:3.884e+02, ss: 1.228e-01\n",
            "Epoch: 222, >0 satisfied: True, max g>0: -4.071e-06, dual >0 satisfied: False, max product >0: 1.215e-02, =1 satisfied: True, max g=1: -2.336e-02, dual =1 satisfied: False, max product =1: 1.686e+02\n",
            "Epoch: 223, f: 3.60489e-03, delta f: -9.99220e+01%, nash satisfied: True, max g: -1.469e-04, dual nash satisfied: False, max product: 3.868e-01, rho: 1.236e-05, norm2 d0:1.419e+02, ss: 6.498e-04\n",
            "Epoch: 223, >0 satisfied: True, max g>0: -2.938e-05, dual >0 satisfied: False, max product >0: 7.270e-02, =1 satisfied: True, max g=1: -2.125e-02, dual =1 satisfied: False, max product =1: 1.181e+02\n",
            "Epoch: 224, f: 3.36075e-03, delta f: -9.99273e+01%, nash satisfied: True, max g: -1.621e-04, dual nash satisfied: False, max product: 3.764e-01, rho: 1.236e-05, norm2 d0:1.842e+02, ss: 5.907e-04\n",
            "Epoch: 224, >0 satisfied: True, max g>0: -2.177e-05, dual >0 satisfied: False, max product >0: 4.870e-02, =1 satisfied: True, max g=1: -2.124e-02, dual =1 satisfied: False, max product =1: 1.300e+02\n",
            "Epoch: 225, f: 3.15666e-03, delta f: -9.99317e+01%, nash satisfied: True, max g: -1.583e-04, dual nash satisfied: False, max product: 3.764e-01, rho: 1.236e-05, norm2 d0:2.460e+02, ss: 5.907e-04\n",
            "Epoch: 225, >0 satisfied: True, max g>0: -1.757e-05, dual >0 satisfied: False, max product >0: 3.484e-02, =1 satisfied: True, max g=1: -2.123e-02, dual =1 satisfied: False, max product =1: 1.441e+02\n",
            "Epoch: 226, f: 2.75040e-03, delta f: -9.99405e+01%, nash satisfied: True, max g: -1.774e-04, dual nash satisfied: False, max product: 3.587e-01, rho: 1.236e-05, norm2 d0:2.424e+02, ss: 7.148e-04\n",
            "Epoch: 226, >0 satisfied: True, max g>0: -1.196e-05, dual >0 satisfied: False, max product >0: 2.318e-02, =1 satisfied: True, max g=1: -2.122e-02, dual =1 satisfied: False, max product =1: 1.439e+02\n",
            "Epoch: 227, f: 2.41852e-03, delta f: -9.99477e+01%, nash satisfied: True, max g: -9.155e-05, dual nash satisfied: False, max product: 3.448e-01, rho: 1.236e-05, norm2 d0:2.769e+02, ss: 9.513e-04\n",
            "Epoch: 227, >0 satisfied: True, max g>0: -6.740e-06, dual >0 satisfied: False, max product >0: 1.819e-02, =1 satisfied: True, max g=1: -2.120e-02, dual =1 satisfied: False, max product =1: 1.515e+02\n",
            "Epoch: 228, f: 2.10571e-03, delta f: -9.99544e+01%, nash satisfied: True, max g: -7.629e-05, dual nash satisfied: False, max product: 3.081e-01, rho: 1.236e-05, norm2 d0:2.552e+02, ss: 1.532e-03\n",
            "Epoch: 228, >0 satisfied: True, max g>0: -3.663e-06, dual >0 satisfied: False, max product >0: 1.690e-02, =1 satisfied: True, max g=1: -2.119e-02, dual =1 satisfied: False, max product =1: 1.482e+02\n",
            "Epoch: 229, f: 1.27983e-03, delta f: -9.99723e+01%, nash satisfied: True, max g: -1.278e-04, dual nash satisfied: False, max product: 2.931e-01, rho: 1.236e-05, norm2 d0:3.116e+02, ss: 3.974e-03\n",
            "Epoch: 229, >0 satisfied: True, max g>0: -2.412e-06, dual >0 satisfied: False, max product >0: 1.266e-02, =1 satisfied: True, max g=1: -2.116e-02, dual =1 satisfied: False, max product =1: 1.598e+02\n",
            "Epoch: 230, f: 1.18065e-03, delta f: -9.99745e+01%, nash satisfied: True, max g: -2.327e-04, dual nash satisfied: False, max product: 1.920e-01, rho: 1.236e-05, norm2 d0:3.617e+02, ss: 1.393e-03\n",
            "Epoch: 230, >0 satisfied: True, max g>0: -6.171e-06, dual >0 satisfied: False, max product >0: 1.441e-02, =1 satisfied: True, max g=1: -2.110e-02, dual =1 satisfied: False, max product =1: 1.710e+02\n",
            "Epoch: 231, f: 6.63757e-04, delta f: -9.99856e+01%, nash satisfied: True, max g: -2.823e-04, dual nash satisfied: False, max product: 1.642e-01, rho: 1.236e-05, norm2 d0:3.306e+02, ss: 2.039e-03\n",
            "Epoch: 231, >0 satisfied: True, max g>0: -3.722e-06, dual >0 satisfied: False, max product >0: 1.299e-02, =1 satisfied: True, max g=1: -2.107e-02, dual =1 satisfied: False, max product =1: 1.670e+02\n",
            "Epoch: 232, f: 4.21524e-04, delta f: -9.99909e+01%, nash satisfied: True, max g: -1.488e-04, dual nash satisfied: False, max product: 1.024e-01, rho: 1.236e-05, norm2 d0:4.117e+02, ss: 2.714e-03\n",
            "Epoch: 232, >0 satisfied: True, max g>0: -5.208e-06, dual >0 satisfied: False, max product >0: 1.246e-02, =1 satisfied: True, max g=1: -2.104e-02, dual =1 satisfied: False, max product =1: 1.776e+02\n",
            "Epoch: 233, f: 2.63214e-04, delta f: -9.99943e+01%, nash satisfied: True, max g: -1.526e-04, dual nash satisfied: False, max product: 5.412e-02, rho: 1.236e-05, norm2 d0:3.786e+02, ss: 1.151e-03\n",
            "Epoch: 233, >0 satisfied: True, max g>0: -5.943e-06, dual >0 satisfied: False, max product >0: 1.254e-02, =1 satisfied: True, max g=1: -2.099e-02, dual =1 satisfied: False, max product =1: 1.747e+02\n",
            "Epoch: 234, f: 1.81198e-04, delta f: -9.99961e+01%, nash satisfied: True, max g: -8.202e-05, dual nash satisfied: False, max product: 6.232e-02, rho: 1.236e-05, norm2 d0:3.660e+02, ss: 5.370e-04\n",
            "Epoch: 234, >0 satisfied: True, max g>0: -5.948e-06, dual >0 satisfied: False, max product >0: 1.250e-02, =1 satisfied: True, max g=1: -2.097e-02, dual =1 satisfied: False, max product =1: 1.732e+02\n",
            "Epoch: 235, f: 1.35422e-04, delta f: -9.99971e+01%, nash satisfied: True, max g: -4.387e-05, dual nash satisfied: False, max product: 5.880e-02, rho: 1.236e-05, norm2 d0:3.903e+02, ss: 2.277e-04\n",
            "Epoch: 235, >0 satisfied: True, max g>0: -5.707e-06, dual >0 satisfied: False, max product >0: 1.139e-02, =1 satisfied: True, max g=1: -2.097e-02, dual =1 satisfied: False, max product =1: 1.761e+02\n",
            "Epoch: 236, f: 1.06812e-04, delta f: -9.99977e+01%, nash satisfied: True, max g: -2.289e-05, dual nash satisfied: False, max product: 2.675e-02, rho: 1.236e-05, norm2 d0:4.300e+02, ss: 2.070e-04\n",
            "Epoch: 236, >0 satisfied: True, max g>0: -5.741e-06, dual >0 satisfied: False, max product >0: 1.159e-02, =1 satisfied: True, max g=1: -2.096e-02, dual =1 satisfied: False, max product =1: 1.801e+02\n",
            "Epoch: 237, f: 3.60489e-04, delta f: -9.99922e+01%, nash satisfied: True, max g: -1.144e-05, dual nash satisfied: False, max product: 3.200e-02, rho: 1.236e-05, norm2 d0:4.234e+02, ss: 3.974e-03\n",
            "Epoch: 237, >0 satisfied: True, max g>0: -6.024e-06, dual >0 satisfied: False, max product >0: 1.051e-02, =1 satisfied: True, max g=1: -2.096e-02, dual =1 satisfied: False, max product =1: 1.795e+02\n",
            "Epoch: 238, f: 2.21252e-04, delta f: -9.99952e+01%, nash satisfied: True, max g: -1.602e-04, dual nash satisfied: False, max product: 4.066e-02, rho: 1.236e-05, norm2 d0:3.955e+02, ss: 1.046e-03\n",
            "Epoch: 238, >0 satisfied: True, max g>0: -3.114e-06, dual >0 satisfied: False, max product >0: 9.761e-03, =1 satisfied: True, max g=1: -2.090e-02, dual =1 satisfied: False, max product =1: 1.768e+02\n",
            "Epoch: 239, f: 1.92642e-04, delta f: -9.99958e+01%, nash satisfied: True, max g: -9.727e-05, dual nash satisfied: False, max product: 2.383e-02, rho: 1.236e-05, norm2 d0:4.126e+02, ss: 1.046e-03\n",
            "Epoch: 239, >0 satisfied: True, max g>0: -5.894e-06, dual >0 satisfied: False, max product >0: 1.117e-02, =1 satisfied: True, max g=1: -2.088e-02, dual =1 satisfied: False, max product =1: 1.786e+02\n",
            "Epoch: 240, f: 1.67847e-04, delta f: -9.99964e+01%, nash satisfied: True, max g: -7.820e-05, dual nash satisfied: False, max product: 4.535e-02, rho: 1.236e-05, norm2 d0:3.757e+02, ss: 2.756e-04\n",
            "Epoch: 240, >0 satisfied: True, max g>0: -5.626e-06, dual >0 satisfied: False, max product >0: 1.172e-02, =1 satisfied: True, max g=1: -2.087e-02, dual =1 satisfied: False, max product =1: 1.747e+02\n",
            "Epoch: 241, f: 4.48227e-04, delta f: -9.99903e+01%, nash satisfied: True, max g: -7.057e-05, dual nash satisfied: False, max product: 4.366e-02, rho: 1.236e-05, norm2 d0:4.535e+02, ss: 3.284e-03\n",
            "Epoch: 241, >0 satisfied: True, max g>0: -5.333e-06, dual >0 satisfied: False, max product >0: 1.090e-02, =1 satisfied: True, max g=1: -2.086e-02, dual =1 satisfied: False, max product =1: 1.824e+02\n",
            "Epoch: 242, f: 3.81470e-04, delta f: -9.99917e+01%, nash satisfied: True, max g: -1.926e-04, dual nash satisfied: False, max product: 5.563e-02, rho: 1.236e-05, norm2 d0:4.247e+02, ss: 5.818e-03\n",
            "Epoch: 242, >0 satisfied: True, max g>0: -3.382e-06, dual >0 satisfied: False, max product >0: 1.093e-02, =1 satisfied: True, max g=1: -2.082e-02, dual =1 satisfied: False, max product =1: 1.801e+02\n",
            "Epoch: 243, f: 4.15802e-04, delta f: -9.99910e+01%, nash satisfied: True, max g: -1.469e-04, dual nash satisfied: False, max product: 4.574e-02, rho: 1.236e-05, norm2 d0:3.579e+02, ss: 8.649e-04\n",
            "Epoch: 243, >0 satisfied: True, max g>0: -3.151e-06, dual >0 satisfied: False, max product >0: 1.697e-02, =1 satisfied: True, max g=1: -2.072e-02, dual =1 satisfied: False, max product =1: 1.728e+02\n",
            "Epoch: 244, f: 3.85284e-04, delta f: -9.99917e+01%, nash satisfied: True, max g: -1.678e-04, dual nash satisfied: False, max product: 5.183e-02, rho: 1.236e-05, norm2 d0:4.345e+02, ss: 3.031e-04\n",
            "Epoch: 244, >0 satisfied: True, max g>0: -4.471e-06, dual >0 satisfied: False, max product >0: 9.955e-03, =1 satisfied: True, max g=1: -2.071e-02, dual =1 satisfied: False, max product =1: 1.812e+02\n",
            "Epoch: 245, f: 4.71115e-04, delta f: -9.99898e+01%, nash satisfied: True, max g: -1.564e-04, dual nash satisfied: False, max product: 4.533e-02, rho: 1.236e-05, norm2 d0:3.666e+02, ss: 3.284e-03\n",
            "Epoch: 245, >0 satisfied: True, max g>0: -4.996e-06, dual >0 satisfied: False, max product >0: 1.171e-02, =1 satisfied: True, max g=1: -2.071e-02, dual =1 satisfied: False, max product =1: 1.740e+02\n",
            "Epoch: 246, f: 1.83678e-03, delta f: -9.99603e+01%, nash satisfied: True, max g: -2.289e-04, dual nash satisfied: False, max product: 5.316e-02, rho: 1.236e-05, norm2 d0:4.129e+02, ss: 6.304e-02\n",
            "Epoch: 246, >0 satisfied: True, max g>0: -2.916e-06, dual >0 satisfied: False, max product >0: 1.031e-02, =1 satisfied: True, max g=1: -2.066e-02, dual =1 satisfied: False, max product =1: 1.794e+02\n",
            "Epoch: 247, f: 1.56593e-03, delta f: -9.99661e+01%, nash satisfied: True, max g: -2.213e-04, dual nash satisfied: False, max product: 2.648e-01, rho: 1.236e-05, norm2 d0:1.604e+02, ss: 7.148e-04\n",
            "Epoch: 247, >0 satisfied: True, max g>0: -3.029e-05, dual >0 satisfied: False, max product >0: 8.116e-02, =1 satisfied: True, max g=1: -1.981e-02, dual =1 satisfied: False, max product =1: 1.332e+02\n",
            "Epoch: 248, f: 1.31226e-03, delta f: -9.99716e+01%, nash satisfied: True, max g: -1.965e-04, dual nash satisfied: False, max product: 2.245e-01, rho: 1.236e-05, norm2 d0:2.109e+02, ss: 6.498e-04\n",
            "Epoch: 248, >0 satisfied: True, max g>0: -1.814e-05, dual >0 satisfied: False, max product >0: 5.176e-02, =1 satisfied: True, max g=1: -1.979e-02, dual =1 satisfied: False, max product =1: 1.479e+02\n",
            "Epoch: 249, f: 1.28746e-03, delta f: -9.99721e+01%, nash satisfied: True, max g: -1.431e-04, dual nash satisfied: False, max product: 2.089e-01, rho: 1.236e-05, norm2 d0:2.888e+02, ss: 1.062e-04\n",
            "Epoch: 249, >0 satisfied: True, max g>0: -1.223e-05, dual >0 satisfied: False, max product >0: 3.393e-02, =1 satisfied: True, max g=1: -1.978e-02, dual =1 satisfied: False, max product =1: 1.642e+02\n",
            "Epoch: 250, f: 1.22833e-03, delta f: -9.99734e+01%, nash satisfied: True, max g: -1.411e-04, dual nash satisfied: False, max product: 1.994e-01, rho: 1.236e-05, norm2 d0:2.815e+02, ss: 6.498e-04\n",
            "Epoch: 250, >0 satisfied: True, max g>0: -1.165e-05, dual >0 satisfied: False, max product >0: 3.202e-02, =1 satisfied: True, max g=1: -1.978e-02, dual =1 satisfied: False, max product =1: 1.626e+02\n",
            "Epoch: 251, f: 1.13678e-03, delta f: -9.99754e+01%, nash satisfied: True, max g: -1.774e-04, dual nash satisfied: False, max product: 1.943e-01, rho: 1.236e-05, norm2 d0:3.329e+02, ss: 7.148e-04\n",
            "Epoch: 251, >0 satisfied: True, max g>0: -7.569e-06, dual >0 satisfied: False, max product >0: 1.972e-02, =1 satisfied: True, max g=1: -1.977e-02, dual =1 satisfied: False, max product =1: 1.708e+02\n",
            "Epoch: 252, f: 1.04141e-03, delta f: -9.99775e+01%, nash satisfied: True, max g: -1.888e-04, dual nash satisfied: False, max product: 1.833e-01, rho: 1.236e-05, norm2 d0:3.204e+02, ss: 7.862e-04\n",
            "Epoch: 252, >0 satisfied: True, max g>0: -6.085e-06, dual >0 satisfied: False, max product >0: 1.547e-02, =1 satisfied: True, max g=1: -1.976e-02, dual =1 satisfied: False, max product =1: 1.689e+02\n",
            "Epoch: 253, f: 1.02997e-03, delta f: -9.99777e+01%, nash satisfied: True, max g: -1.984e-04, dual nash satisfied: False, max product: 1.678e-01, rho: 1.236e-05, norm2 d0:3.782e+02, ss: 5.452e-05\n",
            "Epoch: 253, >0 satisfied: True, max g>0: -3.537e-06, dual >0 satisfied: False, max product >0: 9.349e-03, =1 satisfied: True, max g=1: -1.975e-02, dual =1 satisfied: False, max product =1: 1.772e+02\n",
            "Epoch: 254, f: 7.93457e-04, delta f: -9.99828e+01%, nash satisfied: True, max g: -1.984e-04, dual nash satisfied: False, max product: 1.645e-01, rho: 1.236e-05, norm2 d0:3.224e+02, ss: 8.649e-04\n",
            "Epoch: 254, >0 satisfied: True, max g>0: -3.604e-06, dual >0 satisfied: False, max product >0: 1.183e-02, =1 satisfied: True, max g=1: -1.975e-02, dual =1 satisfied: False, max product =1: 1.703e+02\n",
            "Epoch: 255, f: 7.09534e-04, delta f: -9.99846e+01%, nash satisfied: True, max g: -1.068e-04, dual nash satisfied: False, max product: 1.380e-01, rho: 1.236e-05, norm2 d0:3.782e+02, ss: 2.243e-03\n",
            "Epoch: 255, >0 satisfied: True, max g>0: -4.048e-06, dual >0 satisfied: False, max product >0: 1.050e-02, =1 satisfied: True, max g=1: -1.974e-02, dual =1 satisfied: False, max product =1: 1.774e+02\n",
            "Epoch: 256, f: 3.92914e-04, delta f: -9.99915e+01%, nash satisfied: True, max g: -1.774e-04, dual nash satisfied: False, max product: 1.135e-01, rho: 1.236e-05, norm2 d0:4.609e+02, ss: 2.468e-03\n",
            "Epoch: 256, >0 satisfied: True, max g>0: -2.626e-06, dual >0 satisfied: False, max product >0: 7.810e-03, =1 satisfied: True, max g=1: -1.971e-02, dual =1 satisfied: False, max product =1: 1.849e+02\n",
            "Epoch: 257, f: 2.46048e-04, delta f: -9.99947e+01%, nash satisfied: True, max g: -9.918e-05, dual nash satisfied: False, max product: 9.701e-02, rho: 1.236e-05, norm2 d0:3.239e+02, ss: 7.862e-04\n",
            "Epoch: 257, >0 satisfied: True, max g>0: -9.099e-06, dual >0 satisfied: False, max product >0: 1.815e-02, =1 satisfied: True, max g=1: -1.967e-02, dual =1 satisfied: False, max product =1: 1.710e+02\n",
            "Epoch: 258, f: 2.00272e-04, delta f: -9.99957e+01%, nash satisfied: True, max g: -5.150e-05, dual nash satisfied: False, max product: 5.701e-02, rho: 1.236e-05, norm2 d0:4.508e+02, ss: 1.266e-03\n",
            "Epoch: 258, >0 satisfied: True, max g>0: -6.118e-06, dual >0 satisfied: False, max product >0: 8.695e-03, =1 satisfied: True, max g=1: -1.965e-02, dual =1 satisfied: False, max product =1: 1.841e+02\n",
            "Epoch: 259, f: 1.10626e-04, delta f: -9.99976e+01%, nash satisfied: True, max g: -9.346e-05, dual nash satisfied: False, max product: 2.945e-02, rho: 1.236e-05, norm2 d0:4.084e+02, ss: 9.513e-04\n",
            "Epoch: 259, >0 satisfied: True, max g>0: -5.867e-06, dual >0 satisfied: False, max product >0: 1.102e-02, =1 satisfied: True, max g=1: -1.964e-02, dual =1 satisfied: False, max product =1: 1.814e+02\n",
            "Epoch: 260, f: 1.85013e-04, delta f: -9.99960e+01%, nash satisfied: True, max g: -4.959e-05, dual nash satisfied: False, max product: 2.676e-02, rho: 1.236e-05, norm2 d0:4.037e+02, ss: 1.532e-03\n",
            "Epoch: 260, >0 satisfied: True, max g>0: -4.804e-06, dual >0 satisfied: False, max product >0: 9.384e-03, =1 satisfied: True, max g=1: -1.962e-02, dual =1 satisfied: False, max product =1: 1.809e+02\n",
            "Epoch: 261, f: 1.35422e-04, delta f: -9.99971e+01%, nash satisfied: True, max g: -5.913e-05, dual nash satisfied: False, max product: 2.681e-02, rho: 1.236e-05, norm2 d0:4.370e+02, ss: 2.243e-03\n",
            "Epoch: 261, >0 satisfied: True, max g>0: -2.442e-06, dual >0 satisfied: False, max product >0: 8.637e-03, =1 satisfied: True, max g=1: -1.960e-02, dual =1 satisfied: False, max product =1: 1.839e+02\n",
            "Epoch: 262, f: 6.33240e-04, delta f: -9.99863e+01%, nash satisfied: True, max g: -3.052e-05, dual nash satisfied: False, max product: 5.951e-02, rho: 1.236e-05, norm2 d0:4.809e+02, ss: 5.289e-03\n",
            "Epoch: 262, >0 satisfied: True, max g>0: -4.983e-06, dual >0 satisfied: False, max product >0: 9.063e-03, =1 satisfied: True, max g=1: -1.957e-02, dual =1 satisfied: False, max product =1: 1.869e+02\n",
            "Epoch: 263, f: 5.97000e-04, delta f: -9.99871e+01%, nash satisfied: True, max g: -2.480e-04, dual nash satisfied: False, max product: 8.682e-02, rho: 1.236e-05, norm2 d0:3.528e+02, ss: 7.862e-04\n",
            "Epoch: 263, >0 satisfied: True, max g>0: -3.627e-06, dual >0 satisfied: False, max product >0: 1.530e-02, =1 satisfied: True, max g=1: -1.951e-02, dual =1 satisfied: False, max product =1: 1.756e+02\n",
            "Epoch: 264, f: 4.32968e-04, delta f: -9.99906e+01%, nash satisfied: True, max g: -2.499e-04, dual nash satisfied: False, max product: 1.058e-01, rho: 1.236e-05, norm2 d0:4.150e+02, ss: 2.986e-03\n",
            "Epoch: 264, >0 satisfied: True, max g>0: -4.248e-06, dual >0 satisfied: False, max product >0: 9.557e-03, =1 satisfied: True, max g=1: -1.950e-02, dual =1 satisfied: False, max product =1: 1.823e+02\n",
            "Epoch: 265, f: 3.08990e-04, delta f: -9.99933e+01%, nash satisfied: True, max g: -2.060e-04, dual nash satisfied: False, max product: 5.046e-02, rho: 1.236e-05, norm2 d0:4.535e+02, ss: 1.685e-03\n",
            "Epoch: 265, >0 satisfied: True, max g>0: -2.994e-06, dual >0 satisfied: False, max product >0: 6.753e-03, =1 satisfied: True, max g=1: -1.946e-02, dual =1 satisfied: False, max product =1: 1.852e+02\n",
            "Epoch: 266, f: 3.03268e-04, delta f: -9.99934e+01%, nash satisfied: True, max g: -1.163e-04, dual nash satisfied: False, max product: 4.270e-02, rho: 1.236e-05, norm2 d0:4.871e+02, ss: 6.597e-05\n",
            "Epoch: 266, >0 satisfied: True, max g>0: -6.876e-06, dual >0 satisfied: False, max product >0: 8.839e-03, =1 satisfied: True, max g=1: -1.944e-02, dual =1 satisfied: False, max product =1: 1.874e+02\n",
            "Epoch: 267, f: 5.32150e-04, delta f: -9.99885e+01%, nash satisfied: True, max g: -1.144e-04, dual nash satisfied: False, max product: 4.160e-02, rho: 1.236e-05, norm2 d0:4.294e+02, ss: 1.266e-03\n",
            "Epoch: 267, >0 satisfied: True, max g>0: -6.906e-06, dual >0 satisfied: False, max product >0: 1.042e-02, =1 satisfied: True, max g=1: -1.944e-02, dual =1 satisfied: False, max product =1: 1.837e+02\n",
            "Epoch: 268, f: 3.45230e-04, delta f: -9.99925e+01%, nash satisfied: True, max g: -2.270e-04, dual nash satisfied: False, max product: 7.099e-02, rho: 1.236e-05, norm2 d0:4.611e+02, ss: 1.266e-03\n",
            "Epoch: 268, >0 satisfied: True, max g>0: -3.830e-06, dual >0 satisfied: False, max product >0: 6.333e-03, =1 satisfied: True, max g=1: -1.942e-02, dual =1 satisfied: False, max product =1: 1.859e+02\n",
            "Epoch: 269, f: 4.17709e-04, delta f: -9.99910e+01%, nash satisfied: True, max g: -1.183e-04, dual nash satisfied: False, max product: 4.950e-02, rho: 1.236e-05, norm2 d0:4.612e+02, ss: 1.685e-03\n",
            "Epoch: 269, >0 satisfied: True, max g>0: -6.520e-06, dual >0 satisfied: False, max product >0: 9.587e-03, =1 satisfied: True, max g=1: -1.940e-02, dual =1 satisfied: False, max product =1: 1.860e+02\n",
            "Epoch: 270, f: 3.39508e-04, delta f: -9.99927e+01%, nash satisfied: True, max g: -1.698e-04, dual nash satisfied: False, max product: 5.315e-02, rho: 1.236e-05, norm2 d0:4.510e+02, ss: 3.284e-03\n",
            "Epoch: 270, >0 satisfied: True, max g>0: -3.810e-06, dual >0 satisfied: False, max product >0: 6.681e-03, =1 satisfied: True, max g=1: -1.938e-02, dual =1 satisfied: False, max product =1: 1.853e+02\n",
            "Epoch: 271, f: 2.17438e-04, delta f: -9.99953e+01%, nash satisfied: True, max g: -1.240e-04, dual nash satisfied: False, max product: 4.746e-02, rho: 1.236e-05, norm2 d0:4.616e+02, ss: 5.370e-04\n",
            "Epoch: 271, >0 satisfied: True, max g>0: -7.048e-06, dual >0 satisfied: False, max product >0: 1.442e-02, =1 satisfied: True, max g=1: -1.933e-02, dual =1 satisfied: False, max product =1: 1.861e+02\n",
            "Epoch: 272, f: 2.32697e-04, delta f: -9.99950e+01%, nash satisfied: True, max g: -6.485e-05, dual nash satisfied: False, max product: 3.200e-02, rho: 1.236e-05, norm2 d0:4.615e+02, ss: 1.046e-03\n",
            "Epoch: 272, >0 satisfied: True, max g>0: -7.099e-06, dual >0 satisfied: False, max product >0: 1.135e-02, =1 satisfied: True, max g=1: -1.933e-02, dual =1 satisfied: False, max product =1: 1.861e+02\n",
            "Epoch: 273, f: 2.32697e-04, delta f: -9.99950e+01%, nash satisfied: True, max g: -7.248e-05, dual nash satisfied: False, max product: 4.925e-02, rho: 4.230e-06, norm2 d0:6.029e+02, ss: 8.780e-05\n",
            "Epoch: 273, >0 satisfied: True, max g>0: -5.386e-06, dual >0 satisfied: False, max product >0: 2.215e-02, =1 satisfied: True, max g=1: -1.931e-02, dual =1 satisfied: False, max product =1: 2.540e+02\n",
            "Epoch: 274, f: 1.98364e-04, delta f: -9.99957e+01%, nash satisfied: True, max g: -7.057e-05, dual nash satisfied: False, max product: 4.191e-02, rho: 4.230e-06, norm2 d0:4.356e+02, ss: 4.438e-04\n",
            "Epoch: 274, >0 satisfied: True, max g>0: -5.083e-06, dual >0 satisfied: False, max product >0: 2.143e-02, =1 satisfied: True, max g=1: -1.931e-02, dual =1 satisfied: False, max product =1: 2.237e+02\n",
            "Epoch: 275, f: 1.58310e-04, delta f: -9.99966e+01%, nash satisfied: True, max g: -5.531e-05, dual nash satisfied: False, max product: 6.251e-02, rho: 4.230e-06, norm2 d0:4.808e+02, ss: 5.370e-04\n",
            "Epoch: 275, >0 satisfied: True, max g>0: -3.223e-06, dual >0 satisfied: False, max product >0: 1.863e-02, =1 satisfied: True, max g=1: -1.930e-02, dual =1 satisfied: False, max product =1: 2.328e+02\n",
            "Epoch: 276, f: 1.01089e-04, delta f: -9.99978e+01%, nash satisfied: True, max g: -3.242e-05, dual nash satisfied: False, max product: 3.228e-02, rho: 4.230e-06, norm2 d0:4.742e+02, ss: 9.513e-04\n",
            "Epoch: 276, >0 satisfied: True, max g>0: -2.133e-06, dual >0 satisfied: False, max product >0: 1.515e-02, =1 satisfied: True, max g=1: -1.929e-02, dual =1 satisfied: False, max product =1: 2.313e+02\n",
            "Epoch: 277, f: 9.91821e-05, delta f: -9.99979e+01%, nash satisfied: True, max g: -3.815e-05, dual nash satisfied: False, max product: 7.843e-02, rho: 4.230e-06, norm2 d0:5.420e+02, ss: 3.385e-05\n",
            "Epoch: 277, >0 satisfied: True, max g>0: -1.526e-06, dual >0 satisfied: False, max product >0: 1.557e-02, =1 satisfied: True, max g=1: -1.928e-02, dual =1 satisfied: False, max product =1: 2.441e+02\n",
            "Epoch: 278, f: 2.00272e-04, delta f: -9.99957e+01%, nash satisfied: True, max g: -3.624e-05, dual nash satisfied: False, max product: 5.906e-02, rho: 4.230e-06, norm2 d0:5.310e+02, ss: 4.438e-04\n",
            "Epoch: 278, >0 satisfied: True, max g>0: -1.566e-06, dual >0 satisfied: False, max product >0: 1.614e-02, =1 satisfied: True, max g=1: -1.928e-02, dual =1 satisfied: False, max product =1: 2.422e+02\n",
            "Epoch: 279, f: 1.96457e-04, delta f: -9.99958e+01%, nash satisfied: True, max g: -8.011e-05, dual nash satisfied: False, max product: 6.332e-02, rho: 4.230e-06, norm2 d0:4.359e+02, ss: 2.543e-05\n",
            "Epoch: 279, >0 satisfied: True, max g>0: -8.042e-07, dual >0 satisfied: False, max product >0: 1.456e-02, =1 satisfied: True, max g=1: -1.927e-02, dual =1 satisfied: False, max product =1: 2.240e+02\n",
            "Epoch: 280, f: 1.43051e-04, delta f: -9.99969e+01%, nash satisfied: True, max g: -7.820e-05, dual nash satisfied: False, max product: 5.209e-02, rho: 4.230e-06, norm2 d0:4.361e+02, ss: 3.668e-04\n",
            "Epoch: 280, >0 satisfied: True, max g>0: -8.643e-07, dual >0 satisfied: False, max product >0: 1.651e-02, =1 satisfied: True, max g=1: -1.927e-02, dual =1 satisfied: False, max product =1: 2.240e+02\n",
            "Epoch: 281, f: 1.31607e-04, delta f: -9.99972e+01%, nash satisfied: True, max g: -4.005e-05, dual nash satisfied: False, max product: 5.225e-02, rho: 4.230e-06, norm2 d0:4.608e+02, ss: 5.452e-05\n",
            "Epoch: 281, >0 satisfied: True, max g>0: -9.077e-07, dual >0 satisfied: False, max product >0: 1.523e-02, =1 satisfied: True, max g=1: -1.926e-02, dual =1 satisfied: False, max product =1: 2.292e+02\n",
            "Epoch: 282, f: 1.27792e-04, delta f: -9.99972e+01%, nash satisfied: True, max g: -3.815e-05, dual nash satisfied: False, max product: 3.403e-02, rho: 4.230e-06, norm2 d0:4.608e+02, ss: 7.982e-05\n",
            "Epoch: 282, >0 satisfied: True, max g>0: -9.755e-07, dual >0 satisfied: False, max product >0: 1.631e-02, =1 satisfied: True, max g=1: -1.926e-02, dual =1 satisfied: False, max product =1: 2.292e+02\n",
            "Epoch: 283, f: 2.68936e-04, delta f: -9.99942e+01%, nash satisfied: True, max g: -3.433e-05, dual nash satisfied: False, max product: 4.515e-02, rho: 4.230e-06, norm2 d0:5.183e+02, ss: 5.370e-04\n",
            "Epoch: 283, >0 satisfied: True, max g>0: -1.039e-06, dual >0 satisfied: False, max product >0: 1.451e-02, =1 satisfied: True, max g=1: -1.926e-02, dual =1 satisfied: False, max product =1: 2.395e+02\n",
            "Epoch: 284, f: 1.79291e-04, delta f: -9.99961e+01%, nash satisfied: True, max g: -1.335e-04, dual nash satisfied: False, max product: 5.346e-02, rho: 4.230e-06, norm2 d0:5.084e+02, ss: 4.882e-04\n",
            "Epoch: 284, >0 satisfied: True, max g>0: -5.519e-07, dual >0 satisfied: False, max product >0: 1.444e-02, =1 satisfied: True, max g=1: -1.925e-02, dual =1 satisfied: False, max product =1: 2.381e+02\n",
            "Epoch: 285, f: 2.49863e-04, delta f: -9.99946e+01%, nash satisfied: True, max g: -7.248e-05, dual nash satisfied: False, max product: 3.113e-02, rho: 4.230e-06, norm2 d0:4.823e+02, ss: 2.505e-04\n",
            "Epoch: 285, >0 satisfied: True, max g>0: -1.453e-06, dual >0 satisfied: False, max product >0: 1.615e-02, =1 satisfied: True, max g=1: -1.925e-02, dual =1 satisfied: False, max product =1: 2.335e+02\n",
            "Epoch: 286, f: 1.52588e-04, delta f: -9.99967e+01%, nash satisfied: True, max g: -1.049e-04, dual nash satisfied: False, max product: 6.551e-02, rho: 4.230e-06, norm2 d0:4.402e+02, ss: 8.649e-04\n",
            "Epoch: 286, >0 satisfied: True, max g>0: -7.738e-07, dual >0 satisfied: False, max product >0: 1.418e-02, =1 satisfied: True, max g=1: -1.924e-02, dual =1 satisfied: False, max product =1: 2.252e+02\n",
            "Epoch: 287, f: 1.08719e-04, delta f: -9.99976e+01%, nash satisfied: True, max g: -5.531e-05, dual nash satisfied: False, max product: 2.831e-02, rho: 4.230e-06, norm2 d0:5.018e+02, ss: 3.668e-04\n",
            "Epoch: 287, >0 satisfied: True, max g>0: -1.948e-06, dual >0 satisfied: False, max product >0: 1.697e-02, =1 satisfied: True, max g=1: -1.923e-02, dual =1 satisfied: False, max product =1: 2.372e+02\n",
            "Epoch: 288, f: 2.80380e-04, delta f: -9.99939e+01%, nash satisfied: True, max g: -2.861e-05, dual nash satisfied: False, max product: 3.296e-02, rho: 4.230e-06, norm2 d0:6.094e+02, ss: 1.151e-03\n",
            "Epoch: 288, >0 satisfied: True, max g>0: -2.109e-06, dual >0 satisfied: False, max product >0: 1.563e-02, =1 satisfied: True, max g=1: -1.922e-02, dual =1 satisfied: False, max product =1: 2.553e+02\n",
            "Epoch: 289, f: 1.67847e-04, delta f: -9.99964e+01%, nash satisfied: True, max g: -1.259e-04, dual nash satisfied: False, max product: 4.450e-02, rho: 4.230e-06, norm2 d0:4.258e+02, ss: 8.649e-04\n",
            "Epoch: 289, >0 satisfied: True, max g>0: -1.168e-06, dual >0 satisfied: False, max product >0: 1.611e-02, =1 satisfied: True, max g=1: -1.920e-02, dual =1 satisfied: False, max product =1: 2.222e+02\n",
            "Epoch: 290, f: 1.67847e-04, delta f: -9.99964e+01%, nash satisfied: True, max g: -6.485e-05, dual nash satisfied: False, max product: 7.639e-02, rho: 4.230e-06, norm2 d0:4.668e+02, ss: 1.053e-16\n",
            "Epoch: 290, >0 satisfied: True, max g>0: -1.326e-06, dual >0 satisfied: False, max product >0: 1.510e-02, =1 satisfied: True, max g=1: -1.919e-02, dual =1 satisfied: False, max product =1: 2.308e+02\n",
            "Epoch: 291, f: 1.67847e-04, delta f: -9.99964e+01%, nash satisfied: True, max g: -6.485e-05, dual nash satisfied: False, max product: 7.639e-02, rho: 4.230e-06, norm2 d0:4.668e+02, ss: 1.053e-16\n",
            "Epoch: 291, >0 satisfied: True, max g>0: -1.326e-06, dual >0 satisfied: False, max product >0: 1.510e-02, =1 satisfied: True, max g=1: -1.919e-02, dual =1 satisfied: False, max product =1: 2.308e+02\n",
            "Epoch: 292, f: 1.67847e-04, delta f: -9.99964e+01%, nash satisfied: True, max g: -6.485e-05, dual nash satisfied: False, max product: 7.639e-02, rho: 4.230e-06, norm2 d0:4.668e+02, ss: 1.053e-16\n",
            "Epoch: 292, >0 satisfied: True, max g>0: -1.326e-06, dual >0 satisfied: False, max product >0: 1.510e-02, =1 satisfied: True, max g=1: -1.919e-02, dual =1 satisfied: False, max product =1: 2.308e+02\n",
            "Epoch: 293, f: 1.67847e-04, delta f: -9.99964e+01%, nash satisfied: True, max g: -6.485e-05, dual nash satisfied: False, max product: 7.639e-02, rho: 4.230e-06, norm2 d0:4.668e+02, ss: 1.053e-16\n",
            "Epoch: 293, >0 satisfied: True, max g>0: -1.326e-06, dual >0 satisfied: False, max product >0: 1.510e-02, =1 satisfied: True, max g=1: -1.919e-02, dual =1 satisfied: False, max product =1: 2.308e+02\n",
            "Epoch: 294, f: 1.67847e-04, delta f: -9.99964e+01%, nash satisfied: True, max g: -6.485e-05, dual nash satisfied: False, max product: 7.639e-02, rho: 4.230e-06, norm2 d0:4.668e+02, ss: 1.053e-16\n",
            "Epoch: 294, >0 satisfied: True, max g>0: -1.326e-06, dual >0 satisfied: False, max product >0: 1.510e-02, =1 satisfied: True, max g=1: -1.919e-02, dual =1 satisfied: False, max product =1: 2.308e+02\n",
            "Epoch: 295, f: 1.67847e-04, delta f: -9.99964e+01%, nash satisfied: True, max g: -6.485e-05, dual nash satisfied: False, max product: 7.639e-02, rho: 4.230e-06, norm2 d0:4.668e+02, ss: 1.053e-16\n",
            "Epoch: 295, >0 satisfied: True, max g>0: -1.326e-06, dual >0 satisfied: False, max product >0: 1.510e-02, =1 satisfied: True, max g=1: -1.919e-02, dual =1 satisfied: False, max product =1: 2.308e+02\n",
            "Epoch: 296, f: 1.67847e-04, delta f: -9.99964e+01%, nash satisfied: True, max g: -6.485e-05, dual nash satisfied: False, max product: 7.639e-02, rho: 4.230e-06, norm2 d0:4.668e+02, ss: 1.053e-16\n",
            "Epoch: 296, >0 satisfied: True, max g>0: -1.326e-06, dual >0 satisfied: False, max product >0: 1.510e-02, =1 satisfied: True, max g=1: -1.919e-02, dual =1 satisfied: False, max product =1: 2.308e+02\n",
            "Epoch: 297, f: 1.67847e-04, delta f: -9.99964e+01%, nash satisfied: True, max g: -6.485e-05, dual nash satisfied: False, max product: 7.639e-02, rho: 4.230e-06, norm2 d0:4.668e+02, ss: 1.053e-16\n",
            "Epoch: 297, >0 satisfied: True, max g>0: -1.326e-06, dual >0 satisfied: False, max product >0: 1.510e-02, =1 satisfied: True, max g=1: -1.919e-02, dual =1 satisfied: False, max product =1: 2.308e+02\n",
            "Epoch: 298, f: 1.67847e-04, delta f: -9.99964e+01%, nash satisfied: True, max g: -6.485e-05, dual nash satisfied: False, max product: 7.639e-02, rho: 4.230e-06, norm2 d0:4.668e+02, ss: 1.053e-16\n",
            "Epoch: 298, >0 satisfied: True, max g>0: -1.326e-06, dual >0 satisfied: False, max product >0: 1.510e-02, =1 satisfied: True, max g=1: -1.919e-02, dual =1 satisfied: False, max product =1: 2.308e+02\n",
            "Epoch: 299, f: 1.67847e-04, delta f: -9.99964e+01%, nash satisfied: True, max g: -6.485e-05, dual nash satisfied: False, max product: 7.639e-02, rho: 4.230e-06, norm2 d0:4.668e+02, ss: 1.053e-16\n",
            "Epoch: 299, >0 satisfied: True, max g>0: -1.326e-06, dual >0 satisfied: False, max product >0: 1.510e-02, =1 satisfied: True, max g=1: -1.919e-02, dual =1 satisfied: False, max product =1: 2.308e+02\n",
            "Game 0 saved succesfully\n"
          ],
          "name": "stdout"
        }
      ]
    },
    {
      "cell_type": "code",
      "metadata": {
        "id": "fKPTYvun_yD3",
        "outputId": "39d1dec8-b3ce-4d19-bf97-79ab3c26a2f2",
        "colab": {
          "base_uri": "https://localhost:8080/",
          "height": 163
        }
      },
      "source": [
        "for pname, p in game_iterated_2.named_parameters():\n",
        "  print(pname, p)"
      ],
      "execution_count": null,
      "outputs": [
        {
          "output_type": "stream",
          "text": [
            "v Parameter containing:\n",
            "tensor([[20.1433, 20.1441]], requires_grad=True)\n",
            "pi1.('G',) Parameter containing:\n",
            "tensor([[1.3262e-06],\n",
            "        [9.8081e-01]], requires_grad=True)\n",
            "pi2.('G',) Parameter containing:\n",
            "tensor([[1.6019e-06],\n",
            "        [9.8068e-01]], requires_grad=True)\n"
          ],
          "name": "stdout"
        }
      ]
    },
    {
      "cell_type": "markdown",
      "metadata": {
        "id": "9BH7C0FH4gAy"
      },
      "source": [
        "With the modification on the Nash constraints the solution found is now farther from the optimal point. Nonetheless, we can see that the loss is actually much lower. This is the case since $v^*$ is now allowed to get closer to the boundary and so it must be closer to the value of the game under $\\pi^*$."
      ]
    },
    {
      "cell_type": "markdown",
      "metadata": {
        "id": "05QyrPXqAwpa"
      },
      "source": [
        "Since this change did not result in any real improvement (as expected), we'll move on to the next approximation. Let's try to check now the Lemmas of the algorithm. For this, we will replicate the optimization method of the game class."
      ]
    },
    {
      "cell_type": "code",
      "metadata": {
        "id": "lMj7gTpF7Y89"
      },
      "source": [
        "hard_constraints = False\n",
        "f_0 = game_iterated_2.calculate_bellman_error()\n",
        "eta = 1.0\n",
        "rho = 1.0\n",
        "c_vector = 1.0*torch.ones(game_iterated_2.n_restrictions,1).to(game_iterated_2.device)\n",
        "c_vector = game_iterated_2.mask_equality_restrictions(c_vector)\n",
        "with torch.no_grad():\n",
        "  f = game_iterated_2.calculate_bellman_error()\n",
        "  g_vector = game_iterated_2.calculate_restriction_vector(hard_constraints)\n",
        "  grad_f_vector, grad_g_matrix = game_iterated_2.build_grad_tensors(hard_constraints)\n",
        "\n",
        "  d0_vector, norm_2_d0, duals_0_vector, A_matrix, b_vector = game_iterated_2.calculate_descent_direction(g_vector, grad_f_vector, grad_g_matrix)\n",
        "  new_c_vector = game_iterated_2.update_c_vector(c_vector, duals_0_vector)\n",
        "  d_vector, duals_vector, new_rho, mWe = game_iterated_2.calculate_feasible_direction(g_vector, new_c_vector, duals_0_vector, \n",
        "                                                                      norm_2_d0, A_matrix, b_vector, rho, \n",
        "                                                                      grad_f_vector, grad_g_matrix)"
      ],
      "execution_count": null,
      "outputs": []
    },
    {
      "cell_type": "markdown",
      "metadata": {
        "id": "d0giNN7ZCZqw"
      },
      "source": [
        "The Lemma 3.1 states that the matrix $W=(A^TA-RG)$, where $A=\\left(\\nabla \\textbf{g}\\right)^T$, is positive definite. So, let's calculate that matrix and its corresponding eigenvalues."
      ]
    },
    {
      "cell_type": "code",
      "metadata": {
        "id": "W3A-ENMw-x8X",
        "outputId": "3b613f8b-3137-4d3e-c7c7-c14594a345f9",
        "colab": {
          "base_uri": "https://localhost:8080/",
          "height": 199
        }
      },
      "source": [
        "W = torch.einsum('ij,kj->ik',grad_g_matrix,grad_g_matrix) - torch.diag(g_vector.view(-1))\n",
        "W_eigenval, W_eigenvec = torch.eig(W)\n",
        "print(W_eigenval[:,0].view(-1,1))"
      ],
      "execution_count": null,
      "outputs": [
        {
          "output_type": "stream",
          "text": [
            "tensor([[7.0149e+03],\n",
            "        [2.6420e+01],\n",
            "        [2.5839e+00],\n",
            "        [1.8334e+00],\n",
            "        [6.4333e-01],\n",
            "        [6.0516e-01],\n",
            "        [3.6592e-01],\n",
            "        [2.0670e-01],\n",
            "        [1.9053e-02],\n",
            "        [1.5050e-04]])\n"
          ],
          "name": "stdout"
        }
      ]
    },
    {
      "cell_type": "markdown",
      "metadata": {
        "id": "0ooJ38PUDAt8"
      },
      "source": [
        "Indeed, all the eigenvalues are positive and so $W(x)$ is p.d. at the current solution. \n",
        "\n",
        "We can also notice that the value of $\\rho$ remains constant in each iteration, which indicates that the minimum vaule $\\rho^{\\text{min}}$ was reached with  (or is close after) only one iteration, in accordance to the Lemma 3.2 that states the existence of such bound.\n",
        "\n",
        "The Lemma 3.3 states that the matrix $Z=AW^{-1}A^T$ is positive semi-definite and that its eigenvalues are all less than or equal to 1. Let's calculate this matix and its eigenvalues. "
      ]
    },
    {
      "cell_type": "code",
      "metadata": {
        "id": "pfGa2V_kC_Sx",
        "outputId": "dd3dba05-2500-4935-ef68-bc685be3178f",
        "colab": {
          "base_uri": "https://localhost:8080/",
          "height": 126
        }
      },
      "source": [
        "Z = torch.einsum('ji,jk->ik',grad_g_matrix,torch.solve(grad_g_matrix, W)[0]) \n",
        "Z_eigenval, Z_eigenvec = torch.eig(Z)\n",
        "print(Z_eigenval[:,0].view(-1,1))"
      ],
      "execution_count": null,
      "outputs": [
        {
          "output_type": "stream",
          "text": [
            "tensor([[7.7009e-05],\n",
            "        [9.5731e-01],\n",
            "        [9.8147e-01],\n",
            "        [1.0000e+00],\n",
            "        [1.0000e+00],\n",
            "        [1.0000e+00]])\n"
          ],
          "name": "stdout"
        }
      ]
    },
    {
      "cell_type": "markdown",
      "metadata": {
        "id": "2UD9TkCoEkan"
      },
      "source": [
        "Again, the Lemma 3.3 holds. It might be relevant that all the eigenvalues are either close to 1 (most of them) or to 0 (only one).\n",
        "\n",
        "Now, let's calculate the dot product between the gradient $\\nabla f$ and the two descent directions $\\textbf{d}_0$ and $\\textbf{d}$, to verify that they are actually descent directions (Lemmas 3.4 and 3.5)."
      ]
    },
    {
      "cell_type": "code",
      "metadata": {
        "id": "sysct-ZpEhrb",
        "outputId": "d4a45af2-2810-43fe-81c5-695362c356a7",
        "colab": {
          "base_uri": "https://localhost:8080/",
          "height": 35
        }
      },
      "source": [
        "decrement_0 = torch.dot(d0_vector.view(-1), grad_f_vector.view(-1)) \n",
        "decrement = torch.dot(d_vector.view(-1), grad_f_vector.view(-1)) \n",
        "print(decrement_0.item(), decrement.item())"
      ],
      "execution_count": null,
      "outputs": [
        {
          "output_type": "stream",
          "text": [
            "-0.6314853429794312 -0.3974042534828186\n"
          ],
          "name": "stdout"
        }
      ]
    },
    {
      "cell_type": "markdown",
      "metadata": {
        "id": "VLpetTx5Gp7_"
      },
      "source": [
        "Once more, the Lemmas 3.4 and 3.5 are confirmed.\n",
        "\n",
        "The Lemma 3.6 states that there exists a finite step size $\\tau$ such that any other step size $0< t\\leq \\tau$ will result in a valid iteration that satisfies conditions (2.7) and (2.8). The condition (2.7) simply says that $\\theta_c$ (the auxilizary loss function) needs to decrease by a finite margin ($t\\eta \\textbf{d}^T\\nabla\\theta_c$); and the condition (2.8) that inequality restrictions $g_{\\text{ineq}}$ should only get closer to 0 by a fraction $\\gamma_0$ in the case of corresponding positive dual variables $\\lambda_i\\geq0$, and shouldn't get closer in the case of corresponding negative dual variables $\\lambda_i<0$. In the case of the equality restrictions $g_\\text{eq}$, it is only necessary to check that the restrictions are satisfied. \n",
        "\n",
        "Clearly, this Lemma seems to be off, since otherwise the algorithm should converge to the optimal solution. To evaluate this, we will add a new method to the game class that calculates the bound $\\tau$ and modify the optimization method to return both the steps sizes and $\\tau$. "
      ]
    },
    {
      "cell_type": "code",
      "metadata": {
        "id": "Gn0NLuOS5liS"
      },
      "source": [
        "game_iterated_3 = multi_player_game(N, S, A, R, T, beta, device, name).to(device)"
      ],
      "execution_count": 33,
      "outputs": []
    },
    {
      "cell_type": "code",
      "metadata": {
        "id": "m7NzDuhlm7RU",
        "outputId": "6538dd2f-44d0-4786-e682-8f22b405fa3d",
        "colab": {
          "base_uri": "https://localhost:8080/",
          "height": 399
        }
      },
      "source": [
        "step_sizes, step_size_bounds = game_iterated_3.optimize_game(hard_constraints=False, verbose=False, n_epochs=500, on=True, print_each=50, nu=1.1)[0:2]"
      ],
      "execution_count": 34,
      "outputs": [
        {
          "output_type": "stream",
          "text": [
            "Epoch: 49, f: 3.52859e-04, delta f: -9.99924e+01%, nash satisfied: True, max g: -7.057e-05, dual nash satisfied: False, max product: 6.384e-02, rho: 1.003e-04, norm2 d0:1.350e+02, ss: 2.430e-02\n",
            "Epoch: 49, >0 satisfied: True, max g>0: -4.376e-05, dual >0 satisfied: False, max product >0: 1.744e-02, =1 satisfied: True, max g=1: -4.723e-02, dual =1 satisfied: False, max product =1: 5.662e+01\n",
            "Epoch: 99, f: 7.15256e-05, delta f: -9.99985e+01%, nash satisfied: True, max g: -2.098e-05, dual nash satisfied: False, max product: 5.444e-02, rho: 3.494e-05, norm2 d0:2.212e+02, ss: 8.649e-04\n",
            "Epoch: 99, >0 satisfied: True, max g>0: -1.646e-05, dual >0 satisfied: False, max product >0: 2.022e-02, =1 satisfied: True, max g=1: -3.532e-02, dual =1 satisfied: False, max product =1: 9.531e+01\n",
            "Epoch: 149, f: 1.86920e-04, delta f: -9.99960e+01%, nash satisfied: True, max g: -7.534e-05, dual nash satisfied: False, max product: 3.909e-02, rho: 1.236e-05, norm2 d0:2.975e+02, ss: 2.243e-03\n",
            "Epoch: 149, >0 satisfied: True, max g>0: -4.197e-06, dual >0 satisfied: False, max product >0: 2.181e-02, =1 satisfied: True, max g=1: -2.845e-02, dual =1 satisfied: False, max product =1: 1.400e+02\n",
            "Epoch: 199, f: 8.77380e-05, delta f: -9.99981e+01%, nash satisfied: True, max g: -2.480e-05, dual nash satisfied: False, max product: 1.754e-02, rho: 1.236e-05, norm2 d0:3.460e+02, ss: 8.649e-04\n",
            "Epoch: 199, >0 satisfied: True, max g>0: -4.762e-06, dual >0 satisfied: False, max product >0: 1.546e-02, =1 satisfied: True, max g=1: -2.469e-02, dual =1 satisfied: False, max product =1: 1.588e+02\n",
            "Epoch: 249, f: 1.28746e-03, delta f: -9.99721e+01%, nash satisfied: True, max g: -1.431e-04, dual nash satisfied: False, max product: 2.089e-01, rho: 1.236e-05, norm2 d0:2.888e+02, ss: 1.062e-04\n",
            "Epoch: 249, >0 satisfied: True, max g>0: -1.223e-05, dual >0 satisfied: False, max product >0: 3.393e-02, =1 satisfied: True, max g=1: -1.978e-02, dual =1 satisfied: False, max product =1: 1.642e+02\n",
            "Epoch: 299, f: 7.62939e-05, delta f: -9.99984e+01%, nash satisfied: True, max g: -2.480e-05, dual nash satisfied: False, max product: 5.323e-02, rho: 4.230e-06, norm2 d0:4.952e+02, ss: 2.798e-05\n",
            "Epoch: 299, >0 satisfied: True, max g>0: -1.402e-06, dual >0 satisfied: False, max product >0: 1.708e-02, =1 satisfied: True, max g=1: -1.905e-02, dual =1 satisfied: False, max product =1: 2.370e+02\n",
            "Epoch: 349, f: 5.13077e-04, delta f: -9.99889e+01%, nash satisfied: True, max g: -2.384e-04, dual nash satisfied: False, max product: 9.753e-02, rho: 4.230e-06, norm2 d0:6.065e+02, ss: 3.031e-04\n",
            "Epoch: 349, >0 satisfied: True, max g>0: -3.073e-07, dual >0 satisfied: False, max product >0: 1.232e-02, =1 satisfied: True, max g=1: -1.840e-02, dual =1 satisfied: False, max product =1: 2.600e+02\n",
            "Epoch: 399, f: 3.50952e-04, delta f: -9.99924e+01%, nash satisfied: True, max g: -1.717e-04, dual nash satisfied: False, max product: 5.523e-02, rho: 4.230e-06, norm2 d0:5.271e+02, ss: 1.107e-13\n",
            "Epoch: 399, >0 satisfied: True, max g>0: -1.042e-06, dual >0 satisfied: False, max product >0: 1.517e-02, =1 satisfied: True, max g=1: -1.835e-02, dual =1 satisfied: False, max product =1: 2.470e+02\n",
            "Epoch: 449, f: 3.50952e-04, delta f: -9.99924e+01%, nash satisfied: True, max g: -1.717e-04, dual nash satisfied: False, max product: 5.523e-02, rho: 4.230e-06, norm2 d0:5.271e+02, ss: 1.107e-13\n",
            "Epoch: 449, >0 satisfied: True, max g>0: -1.042e-06, dual >0 satisfied: False, max product >0: 1.517e-02, =1 satisfied: True, max g=1: -1.835e-02, dual =1 satisfied: False, max product =1: 2.470e+02\n",
            "Epoch: 499, f: 3.50952e-04, delta f: -9.99924e+01%, nash satisfied: True, max g: -1.717e-04, dual nash satisfied: False, max product: 5.523e-02, rho: 4.230e-06, norm2 d0:5.271e+02, ss: 1.107e-13\n",
            "Epoch: 499, >0 satisfied: True, max g>0: -1.042e-06, dual >0 satisfied: False, max product >0: 1.517e-02, =1 satisfied: True, max g=1: -1.835e-02, dual =1 satisfied: False, max product =1: 2.470e+02\n",
            "Game 0 saved succesfully\n"
          ],
          "name": "stdout"
        }
      ]
    },
    {
      "cell_type": "code",
      "metadata": {
        "id": "WPktU_f1j5PS",
        "outputId": "b16ff646-6989-49f9-9106-3848dd1ab247",
        "colab": {
          "base_uri": "https://localhost:8080/",
          "height": 388
        }
      },
      "source": [
        "fig, ax = plt.subplots(figsize=(16,6))\n",
        "plt.plot(torch.log(step_sizes), label='Step size', linewidth=2.0)\n",
        "plt.plot(torch.log(step_size_bounds), label='Bound', linewidth=2.0)\n",
        "plt.legend()\n",
        "plt.xlabel('# iterations')\n",
        "plt.ylabel('step size')\n",
        "plt.show()\n",
        "plt.close()"
      ],
      "execution_count": 35,
      "outputs": [
        {
          "output_type": "display_data",
          "data": {
            "image/png": "[encoded data removed]",
            "text/plain": [
              "<Figure size 1152x432 with 1 Axes>"
            ]
          },
          "metadata": {
            "tags": [],
            "needs_background": "light"
          }
        }
      ]
    },
    {
      "cell_type": "code",
      "metadata": {
        "id": "_4yM7ZYfCgWk",
        "outputId": "54d3c18b-7287-41f3-865e-cbc97b7be89e",
        "colab": {
          "base_uri": "https://localhost:8080/",
          "height": 163
        }
      },
      "source": [
        "for pname, p in game_iterated_3.named_parameters():\n",
        "  print(pname, p)"
      ],
      "execution_count": 36,
      "outputs": [
        {
          "output_type": "stream",
          "text": [
            "v Parameter containing:\n",
            "tensor([[20.8965, 20.8967]], requires_grad=True)\n",
            "pi1.('G',) Parameter containing:\n",
            "tensor([[2.2899e-06],\n",
            "        [9.8165e-01]], requires_grad=True)\n",
            "pi2.('G',) Parameter containing:\n",
            "tensor([[1.0422e-06],\n",
            "        [9.8153e-01]], requires_grad=True)\n"
          ],
          "name": "stdout"
        }
      ]
    },
    {
      "cell_type": "markdown",
      "metadata": {
        "id": "Cxf7PcHxO5Yb"
      },
      "source": [
        "The figure illustrates the step size in each iteration and the corresponding bound below which any step size should be accepted. The fact that the step sizes have to decrease several orders of magnitude below the bound indicates that there is a severe problem. Furthermore, we can see that there is a drastic jump in iteration 6, when $t$ goes from $4\\times10^{-2}$ to $4\\times10^{-7}$, decreasing 5 orders in just one iteration. "
      ]
    },
    {
      "cell_type": "code",
      "metadata": {
        "id": "SrV3oXj6Gogh"
      },
      "source": [
        ""
      ],
      "execution_count": null,
      "outputs": []
    },
    {
      "cell_type": "code",
      "metadata": {
        "id": "MXow_ruY7ZCS"
      },
      "source": [
        "hard_constraints = False\n",
        "f_0 = game_iterated_3.calculate_bellman_error()\n",
        "eta = 1.0\n",
        "rho = 1.0\n",
        "c_vector = 1.0*torch.ones(game_iterated_3.n_restrictions,1).to(game_iterated_3.device)\n",
        "c_vector = game_iterated_3.mask_equality_restrictions(c_vector)\n",
        "with torch.no_grad():\n",
        "  f = game_iterated_3.calculate_bellman_error()\n",
        "  g_vector = game_iterated_3.calculate_restriction_vector(hard_constraints)\n",
        "  grad_f_vector, grad_g_matrix = game_iterated_3.build_grad_tensors(hard_constraints)\n",
        "\n",
        "  d0_vector, d0_2norm, duals_0_vector, A_matrix, b_vector = game_iterated_3.calculate_descent_direction(g_vector, grad_f_vector, grad_g_matrix)\n",
        "  new_c_vector = game_iterated_3.update_c_vector(c_vector, duals_0_vector)\n",
        "  d_vector, duals_vector, new_rho, mWe = game_iterated_3.calculate_feasible_direction(g_vector, new_c_vector, duals_0_vector, \n",
        "                                                                      d0_2norm, A_matrix, b_vector, rho, \n",
        "                                                                      grad_f_vector, grad_g_matrix)\n",
        "  d_v, d_pi, duals = game_iterated_3.vec2dic(d_vector, duals_vector)\n",
        "  bound_step_size = game_iterated_3.calculate_bound_step_size(duals_vector, new_c_vector, new_rho, d0_2norm, grad_g_matrix, mWe)     "
      ],
      "execution_count": null,
      "outputs": []
    },
    {
      "cell_type": "code",
      "metadata": {
        "id": "mtHAlElARTUz"
      },
      "source": [
        "theta = game_iterated_3.calculate_auxiliary_bellman_error(f, g_vector, c_vector)\n",
        "grad_theta_vector = grad_f_vector + torch.einsum('ij,ik->jk', grad_g_matrix, c_vector)\n",
        "decrement = (d_vector.view(-1) * grad_theta_vector.view(-1)).sum().item()\n",
        "step_size = 0.5*bound_step_size"
      ],
      "execution_count": null,
      "outputs": []
    },
    {
      "cell_type": "code",
      "metadata": {
        "id": "wPgeh9cJS2yQ"
      },
      "source": [
        "gamma_0 = 0.5\n",
        "game_temp = game_iterated_3.copy_game()\n",
        "# Update parameters performing step in feasible descent direction \n",
        "game_temp.v.data.add_(step_size * d_v)\n",
        "for s, player in game_iterated_3.state_player_pairs():\n",
        "  if game_temp.more_than_one_action(player, s):\n",
        "    game_temp.pi[player][s].data.add_(step_size * d_pi[player][s])\n",
        "\n",
        "pi_vector_temp = game_temp.pi2vec()\n",
        "pi_sum_vector_temp = game_temp.pi_sum()\n",
        "f_temp = game_temp.calculate_bellman_error()\n",
        "g_vector_temp = game_temp.calculate_restriction_vector(hard_constraints)\n",
        "theta_temp = game_temp.calculate_auxiliary_bellman_error(f_temp, g_vector_temp, c_vector)      \n",
        "\n",
        "gamma = gamma_0 * torch.ones_like(duals_vector)\n",
        "gamma[duals_vector < 0] = 1.0\n",
        "gamma[-game_iterated_3.N_S_reduced['1']-game_iterated_3.N_S_reduced['2']:,:] = 0.0\n",
        "\n",
        "theta_decreased = theta_temp <= theta #+ eta * step_size * decrement\n",
        "NAt = game_iterated_3.N_A_total['1'] + game_iterated_3.N_A_total['2']\n",
        "g_v_valid = torch.all(g_vector_temp[:NAt] <= (g_vector * gamma)[:NAt]).item()\n",
        "g_pi_valid = torch.all(g_vector_temp[NAt:] <= (g_vector * gamma)[NAt:]).item()\n",
        "g_valid = g_v_valid and g_pi_valid"
      ],
      "execution_count": null,
      "outputs": []
    },
    {
      "cell_type": "code",
      "metadata": {
        "id": "QAxE8nsKTZ2m",
        "outputId": "8d9ed2c3-1baf-4653-db9d-7620978778c9",
        "colab": {
          "base_uri": "https://localhost:8080/",
          "height": 35
        }
      },
      "source": [
        "print(theta_decreased, g_v_valid, g_pi_valid)"
      ],
      "execution_count": null,
      "outputs": [
        {
          "output_type": "stream",
          "text": [
            "True False True\n"
          ],
          "name": "stdout"
        }
      ]
    },
    {
      "cell_type": "code",
      "metadata": {
        "id": "lSQKRk2aTp06",
        "outputId": "8166dab4-0348-4019-d386-95fd2aae0c99",
        "colab": {
          "base_uri": "https://localhost:8080/",
          "height": 199
        }
      },
      "source": [
        "g_vector"
      ],
      "execution_count": null,
      "outputs": [
        {
          "output_type": "execute_result",
          "data": {
            "text/plain": [
              "tensor([[-9.2485e-01],\n",
              "        [-5.2452e-06],\n",
              "        [-9.2485e-01],\n",
              "        [-2.8610e-06],\n",
              "        [-1.4956e-01],\n",
              "        [-7.4026e-01],\n",
              "        [-1.4956e-01],\n",
              "        [-7.4026e-01],\n",
              "        [-1.1019e-01],\n",
              "        [-1.1019e-01]])"
            ]
          },
          "metadata": {
            "tags": []
          },
          "execution_count": 232
        }
      ]
    },
    {
      "cell_type": "code",
      "metadata": {
        "id": "M5QoIyp1V9Rb",
        "outputId": "a5bf63a2-7678-4b95-e9e9-6e917b86ad98",
        "colab": {
          "base_uri": "https://localhost:8080/",
          "height": 199
        }
      },
      "source": [
        "g_vector_temp"
      ],
      "execution_count": null,
      "outputs": [
        {
          "output_type": "execute_result",
          "data": {
            "text/plain": [
              "tensor([[-9.2451e-01],\n",
              "        [ 3.4952e-04],\n",
              "        [-9.2450e-01],\n",
              "        [ 3.5191e-04],\n",
              "        [-1.4944e-01],\n",
              "        [-7.4043e-01],\n",
              "        [-1.4944e-01],\n",
              "        [-7.4043e-01],\n",
              "        [-1.1013e-01],\n",
              "        [-1.1013e-01]], grad_fn=<CatBackward>)"
            ]
          },
          "metadata": {
            "tags": []
          },
          "execution_count": 233
        }
      ]
    },
    {
      "cell_type": "code",
      "metadata": {
        "id": "3wruh1AgXkaJ",
        "outputId": "b5fdb40c-e7af-4eeb-e6b5-927ddb82eed1",
        "colab": {
          "base_uri": "https://localhost:8080/",
          "height": 199
        }
      },
      "source": [
        "duals_vector"
      ],
      "execution_count": null,
      "outputs": [
        {
          "output_type": "execute_result",
          "data": {
            "text/plain": [
              "tensor([[ 0.6816],\n",
              "        [ 0.8092],\n",
              "        [ 0.6816],\n",
              "        [ 0.8092],\n",
              "        [ 1.3956],\n",
              "        [-0.4166],\n",
              "        [ 1.3956],\n",
              "        [-0.4166],\n",
              "        [-1.0704],\n",
              "        [-1.0703]])"
            ]
          },
          "metadata": {
            "tags": []
          },
          "execution_count": 234
        }
      ]
    },
    {
      "cell_type": "code",
      "metadata": {
        "id": "cX9rB42BZG7W",
        "outputId": "59f9586a-e798-4657-a59f-c4860770a91b",
        "colab": {
          "base_uri": "https://localhost:8080/",
          "height": 199
        }
      },
      "source": [
        "g_vector_temp <= g_vector * gamma"
      ],
      "execution_count": null,
      "outputs": [
        {
          "output_type": "execute_result",
          "data": {
            "text/plain": [
              "tensor([[ True],\n",
              "        [False],\n",
              "        [ True],\n",
              "        [False],\n",
              "        [ True],\n",
              "        [ True],\n",
              "        [ True],\n",
              "        [ True],\n",
              "        [ True],\n",
              "        [ True]])"
            ]
          },
          "metadata": {
            "tags": []
          },
          "execution_count": 235
        }
      ]
    },
    {
      "cell_type": "code",
      "metadata": {
        "id": "3QbUbJucFO4X",
        "outputId": "0d169121-dfab-4eae-ba20-c1c7f2b0acc1",
        "colab": {
          "base_uri": "https://localhost:8080/",
          "height": 199
        }
      },
      "source": [
        "gamma"
      ],
      "execution_count": null,
      "outputs": [
        {
          "output_type": "execute_result",
          "data": {
            "text/plain": [
              "tensor([[0.5000],\n",
              "        [0.5000],\n",
              "        [0.5000],\n",
              "        [0.5000],\n",
              "        [0.5000],\n",
              "        [1.0000],\n",
              "        [0.5000],\n",
              "        [1.0000],\n",
              "        [0.0000],\n",
              "        [0.0000]])"
            ]
          },
          "metadata": {
            "tags": []
          },
          "execution_count": 236
        }
      ]
    },
    {
      "cell_type": "code",
      "metadata": {
        "id": "LcpyWtCzbmnA",
        "outputId": "44689577-7ec8-48b0-e5a9-c6ea0ffa2c07",
        "colab": {
          "base_uri": "https://localhost:8080/",
          "height": 35
        }
      },
      "source": [
        "norm_2_d = d_vector.pow(2).sum()\n",
        "print(norm_2_d)"
      ],
      "execution_count": null,
      "outputs": [
        {
          "output_type": "stream",
          "text": [
            "tensor(0.3048)\n"
          ],
          "name": "stdout"
        }
      ]
    },
    {
      "cell_type": "code",
      "metadata": {
        "id": "qrZXI52heOLj"
      },
      "source": [
        "mu_vector = game_iterated_3.calculate_max_eigen_g_hessian()"
      ],
      "execution_count": null,
      "outputs": []
    },
    {
      "cell_type": "code",
      "metadata": {
        "id": "T7BgS4GJeTUi",
        "outputId": "fff8448e-8f8d-40ee-e44f-6cdfb11a8675",
        "colab": {
          "base_uri": "https://localhost:8080/",
          "height": 90
        }
      },
      "source": [
        "mu_vector"
      ],
      "execution_count": null,
      "outputs": [
        {
          "output_type": "execute_result",
          "data": {
            "text/plain": [
              "tensor([[15.6184],\n",
              "        [18.7268],\n",
              "        [15.6185],\n",
              "        [18.7268]])"
            ]
          },
          "metadata": {
            "tags": []
          },
          "execution_count": 239
        }
      ]
    },
    {
      "cell_type": "code",
      "metadata": {
        "id": "SZFO26i5g-mB",
        "outputId": "e7179211-e90c-4fa7-ad41-a0d6f77dad14",
        "colab": {
          "base_uri": "https://localhost:8080/",
          "height": 90
        }
      },
      "source": [
        "g_vector[:NAt,:]"
      ],
      "execution_count": null,
      "outputs": [
        {
          "output_type": "execute_result",
          "data": {
            "text/plain": [
              "tensor([[-9.2485e-01],\n",
              "        [-5.2452e-06],\n",
              "        [-9.2485e-01],\n",
              "        [-2.8610e-06]])"
            ]
          },
          "metadata": {
            "tags": []
          },
          "execution_count": 240
        }
      ]
    },
    {
      "cell_type": "code",
      "metadata": {
        "id": "A1gEFhhQefZu",
        "outputId": "dc5bfeaa-0833-4546-8c32-3825e348b00e",
        "colab": {
          "base_uri": "https://localhost:8080/",
          "height": 90
        }
      },
      "source": [
        "g_vector[:NAt,:] + step_size * torch.einsum('ij,jk->ik', grad_g_matrix[:NAt,:], d_vector) + 0.5*mu_vector*(step_size**2)*norm_2_d"
      ],
      "execution_count": null,
      "outputs": [
        {
          "output_type": "execute_result",
          "data": {
            "text/plain": [
              "tensor([[-9.2450e-01],\n",
              "        [-6.2809e-06],\n",
              "        [-9.2450e-01],\n",
              "        [-3.8971e-06]])"
            ]
          },
          "metadata": {
            "tags": []
          },
          "execution_count": 241
        }
      ]
    },
    {
      "cell_type": "code",
      "metadata": {
        "id": "lZJmRukOfaqe",
        "outputId": "143859d6-212b-49a5-efce-502b85ea2085",
        "colab": {
          "base_uri": "https://localhost:8080/",
          "height": 90
        }
      },
      "source": [
        "g_vector_temp[:NAt,:]"
      ],
      "execution_count": null,
      "outputs": [
        {
          "output_type": "execute_result",
          "data": {
            "text/plain": [
              "tensor([[-9.2451e-01],\n",
              "        [ 3.4952e-04],\n",
              "        [-9.2450e-01],\n",
              "        [ 3.5191e-04]], grad_fn=<SliceBackward>)"
            ]
          },
          "metadata": {
            "tags": []
          },
          "execution_count": 242
        }
      ]
    },
    {
      "cell_type": "code",
      "metadata": {
        "id": "YeTMJa4PgU2Y"
      },
      "source": [
        "beta_1_tau = 1 + new_rho * d0_2norm**0.5 * torch.einsum('ji,jk->ik', grad_g_matrix, mWe).pow(2).sum()**0.5\n",
        "beta_tau = beta_1_tau**(-2)\n",
        "tau_lambda = (1-gamma_0) / (1.0 * (duals_vector + new_c_vector).max())\n",
        "tau_mu = 2 * beta_tau * new_rho / mu_vector.max()\n",
        "tau = np.infty\n",
        "if duals_vector.max() > 0.0:\n",
        "  tau = tau_lambda.item()\n",
        "  if mu_vector.max() > 0.0:\n",
        "    tau = min(tau, tau_mu.item())\n",
        "else:\n",
        "  if mu_vector.max() > 0.0:\n",
        "    tau = tau_mu.item()"
      ],
      "execution_count": null,
      "outputs": []
    },
    {
      "cell_type": "code",
      "metadata": {
        "id": "FsA8iT7MhKC8",
        "outputId": "73e975d5-5fa0-4bbc-da9f-1d70b26ee229",
        "colab": {
          "base_uri": "https://localhost:8080/",
          "height": 35
        }
      },
      "source": [
        "d0_2norm - beta_tau * norm_2_d"
      ],
      "execution_count": null,
      "outputs": [
        {
          "output_type": "execute_result",
          "data": {
            "text/plain": [
              "tensor(0.0350)"
            ]
          },
          "metadata": {
            "tags": []
          },
          "execution_count": 244
        }
      ]
    },
    {
      "cell_type": "code",
      "metadata": {
        "id": "gTaH7ItWhbNj",
        "outputId": "1bcc0873-b4f8-4f52-9a5d-f5255c6ab641",
        "colab": {
          "base_uri": "https://localhost:8080/",
          "height": 35
        }
      },
      "source": [
        "print(tau_mu, tau_lambda)"
      ],
      "execution_count": null,
      "outputs": [
        {
          "output_type": "stream",
          "text": [
            "tensor(0.0011) tensor(0.3201)\n"
          ],
          "name": "stdout"
        }
      ]
    },
    {
      "cell_type": "code",
      "metadata": {
        "id": "uYWxw4dZhgXw",
        "outputId": "c51e8200-7c3e-495e-9e6e-95f9dbebedcc",
        "colab": {
          "base_uri": "https://localhost:8080/",
          "height": 35
        }
      },
      "source": [
        "step_size*2"
      ],
      "execution_count": null,
      "outputs": [
        {
          "output_type": "execute_result",
          "data": {
            "text/plain": [
              "0.0010919219348579645"
            ]
          },
          "metadata": {
            "tags": []
          },
          "execution_count": 246
        }
      ]
    },
    {
      "cell_type": "code",
      "metadata": {
        "id": "fkcgRFZnj_VD"
      },
      "source": [
        "mu_list = []\n",
        "hessians = []\n",
        "Tr_list = []\n",
        "grad_g_v_dic, grad_g_pi_dic = game_iterated_3.nash_restriction_gradients(True)\n",
        "dim = game_iterated_3.N_S + game_iterated_3.N_A_reduced['1'] + game_iterated_3.N_A_reduced['2']\n",
        "NS = game_iterated_3.N_S\n",
        "for player in game_iterated_3.players():\n",
        "  other_player = game_iterated_3.other_player(player)\n",
        "  NAi = game_iterated_3.N_A_reduced[player]\n",
        "  NAmi = game_iterated_3.N_A_reduced[other_player]\n",
        "  for state in game_iterated_3.S_no_string:\n",
        "    s = str(state)\n",
        "    pi_sum = game_iterated_3.pi[player][s].sum()\n",
        "    next_v_matrix = grad_g_pi_dic[other_player][s]\n",
        "    grad_g_v_matrix = grad_g_v_dic[player][s]\n",
        "    for ai in range(0, game_iterated_3.A[player][s]):\n",
        "      Tr = game_iterated_3.transition_matrix_given_sai(player, state, ai)\n",
        "      M14 = game_iterated_3.beta * pi_sum * Tr \n",
        "      # next_v = next_v_matrix[ai,:].view(-1)\n",
        "      Ri = game_iterated_3.R[player][s].clone()\n",
        "      if player == '2':\n",
        "        Ri = Ri.T\n",
        "      v_player = game_iterated_3.v[:,game_iterated_3.get_player_id(player)].view(-1,1)\n",
        "      next_v = Ri[ai,:].view(1,-1) + game_iterated_3.beta * torch.einsum('ji,jk->ki', Tr, v_player)\n",
        "      #ones_1 = torch.ones(NAi,NAmi).to(game_iterated_3.device)\n",
        "      ones_1 = torch.ones(NAi,1).to(game_iterated_3.device)\n",
        "      M34 = torch.einsum('ij,jk->ik', ones_1, next_v) #torch.einsum('ij,jk->ik', ones_1, torch.diag(next_v))\n",
        "      p = torch.einsum('ij,jk->ik', Tr, game_iterated_3.pi[other_player][s]) #grad_g_v_matrix[ai,:].view(-1)\n",
        "      # id_s = game_iterated_3.get_state_index(s)\n",
        "      # p[id_s] += 1\n",
        "      #ones_2 = torch.ones(NS,NAi).to(game_iterated_3.device)\n",
        "      ones_2 = torch.ones(NAi,1).to(game_iterated_3.device)\n",
        "      M13 = game_iterated_3.beta * torch.einsum('ij,kj->ik', p, ones_2) #torch.einsum('ij,jk->ik', torch.diag(p), ones_2)\n",
        "      \n",
        "      M = torch.zeros(dim, dim).to(game_iterated_3.device)\n",
        "      M[:NS,NS:NS+NAi] = M13.clone()\n",
        "      M[:NS,NS+NAi:] = M14.clone()\n",
        "      M[NS:NS+NAi,:NS] = M13.T.clone()\n",
        "      M[NS:NS+NAi,NS+NAi:] = M34.clone()\n",
        "      M[NS+NAi:,:NS] = M14.T.clone()\n",
        "      M[NS+NAi:,NS:NS+NAi] = M34.T.clone()\n",
        "\n",
        "      M_eigval, M_eigvec = torch.eig(M)\n",
        "      mu_list.append(M_eigval.max())\n",
        "      hessians.append(M.clone())\n",
        "      Tr_list.append(Tr.clone())\n",
        "mu_vector = torch.FloatTensor(mu_list).view(-1,1).to(game_iterated_3.device)"
      ],
      "execution_count": null,
      "outputs": []
    },
    {
      "cell_type": "code",
      "metadata": {
        "id": "-3kHs7bXGnx0",
        "outputId": "a1058e90-1186-4e29-8fb1-b298951c64a2",
        "colab": {
          "base_uri": "https://localhost:8080/",
          "height": 90
        }
      },
      "source": [
        "mu_vector"
      ],
      "execution_count": null,
      "outputs": [
        {
          "output_type": "execute_result",
          "data": {
            "text/plain": [
              "tensor([[15.6184],\n",
              "        [18.7268],\n",
              "        [15.6185],\n",
              "        [18.7268]])"
            ]
          },
          "metadata": {
            "tags": []
          },
          "execution_count": 248
        }
      ]
    },
    {
      "cell_type": "code",
      "metadata": {
        "id": "qaUKyhhXkfyb",
        "outputId": "de23d173-27cb-4dc7-a708-61289ee64bdb",
        "colab": {
          "base_uri": "https://localhost:8080/",
          "height": 708
        }
      },
      "source": [
        "dg2_list = []\n",
        "for i in range(0, NAt):\n",
        "  d_reduced = torch.zeros(hessians[i].shape[0],1)\n",
        "  if i < game_iterated_3.N_A_total['1']:\n",
        "    d_reduced[:game_iterated_3.N_S,:] = d_vector[:game_iterated_3.N_S,:]\n",
        "    d_reduced[game_iterated_3.N_S:,:] = d_vector[2*game_iterated_3.N_S:,:]\n",
        "  else:\n",
        "    d_reduced[:game_iterated_3.N_S,:] = d_vector[game_iterated_3.N_S:2*game_iterated_3.N_S,:]\n",
        "    d_reduced[game_iterated_3.N_S:game_iterated_3.N_S+game_iterated_3.N_A_reduced['2'],:] = d_vector[2*game_iterated_3.N_S+game_iterated_3.N_A_reduced['1']:,:]\n",
        "    d_reduced[game_iterated_3.N_S+game_iterated_3.N_A_reduced['2']:,:] = d_vector[2*game_iterated_3.N_S:2*game_iterated_3.N_S+game_iterated_3.N_A_reduced['1'],:]\n",
        "  Hd = torch.einsum('ij,jk->ik', hessians[i], d_reduced)\n",
        "  dg2_list.append((d_reduced.view(-1) * Hd.view(-1)).sum())\n",
        "  print(i, hessians[i], d_reduced, (d_reduced * Hd).sum())\n",
        "dg2_vector = torch.FloatTensor(dg2_list).to(game_iterated_3.device).view(-1,1)"
      ],
      "execution_count": null,
      "outputs": [
        {
          "output_type": "stream",
          "text": [
            "0 tensor([[0.0000, 0.8809, 0.8809, 0.8809, 0.8809],\n",
            "        [0.8809, 0.0000, 0.0000, 9.0644, 6.0644],\n",
            "        [0.8809, 0.0000, 0.0000, 9.0644, 6.0644],\n",
            "        [0.8809, 9.0644, 9.0644, 0.0000, 0.0000],\n",
            "        [0.8809, 6.0644, 6.0644, 0.0000, 0.0000]], grad_fn=<CloneBackward>) tensor([[ 0.1140],\n",
            "        [-0.2052],\n",
            "        [ 0.3119],\n",
            "        [-0.2052],\n",
            "        [ 0.3119]]) tensor(0.0496, grad_fn=<SumBackward0>)\n",
            "1 tensor([[ 0.0000,  0.8809,  0.8809,  0.8809,  0.8809],\n",
            "        [ 0.8809,  0.0000,  0.0000, 11.0644,  7.0644],\n",
            "        [ 0.8809,  0.0000,  0.0000, 11.0644,  7.0644],\n",
            "        [ 0.8809, 11.0644, 11.0644,  0.0000,  0.0000],\n",
            "        [ 0.8809,  7.0644,  7.0644,  0.0000,  0.0000]],\n",
            "       grad_fn=<CloneBackward>) tensor([[ 0.1140],\n",
            "        [-0.2052],\n",
            "        [ 0.3119],\n",
            "        [-0.2052],\n",
            "        [ 0.3119]]) tensor(0.0285, grad_fn=<SumBackward0>)\n",
            "2 tensor([[0.0000, 0.8809, 0.8809, 0.8809, 0.8809],\n",
            "        [0.8809, 0.0000, 0.0000, 9.0644, 6.0644],\n",
            "        [0.8809, 0.0000, 0.0000, 9.0644, 6.0644],\n",
            "        [0.8809, 9.0644, 9.0644, 0.0000, 0.0000],\n",
            "        [0.8809, 6.0644, 6.0644, 0.0000, 0.0000]], grad_fn=<CloneBackward>) tensor([[ 0.1140],\n",
            "        [-0.2052],\n",
            "        [ 0.3119],\n",
            "        [-0.2052],\n",
            "        [ 0.3119]]) tensor(0.0496, grad_fn=<SumBackward0>)\n",
            "3 tensor([[ 0.0000,  0.8809,  0.8809,  0.8809,  0.8809],\n",
            "        [ 0.8809,  0.0000,  0.0000, 11.0644,  7.0644],\n",
            "        [ 0.8809,  0.0000,  0.0000, 11.0644,  7.0644],\n",
            "        [ 0.8809, 11.0644, 11.0644,  0.0000,  0.0000],\n",
            "        [ 0.8809,  7.0644,  7.0644,  0.0000,  0.0000]],\n",
            "       grad_fn=<CloneBackward>) tensor([[ 0.1140],\n",
            "        [-0.2052],\n",
            "        [ 0.3119],\n",
            "        [-0.2052],\n",
            "        [ 0.3119]]) tensor(0.0285, grad_fn=<SumBackward0>)\n"
          ],
          "name": "stdout"
        }
      ]
    },
    {
      "cell_type": "code",
      "metadata": {
        "id": "vE6hVDDJkw4E",
        "outputId": "aa7786c2-5a0c-4910-e584-ddc621ad4102",
        "colab": {
          "base_uri": "https://localhost:8080/",
          "height": 90
        }
      },
      "source": [
        "mu_vector*norm_2_d"
      ],
      "execution_count": null,
      "outputs": [
        {
          "output_type": "execute_result",
          "data": {
            "text/plain": [
              "tensor([[4.7608],\n",
              "        [5.7083],\n",
              "        [4.7608],\n",
              "        [5.7083]])"
            ]
          },
          "metadata": {
            "tags": []
          },
          "execution_count": 250
        }
      ]
    },
    {
      "cell_type": "code",
      "metadata": {
        "id": "Ttf59ZZxpPVA",
        "outputId": "8336ff65-5db6-49b1-b646-c9a44be4fb11",
        "colab": {
          "base_uri": "https://localhost:8080/",
          "height": 163
        }
      },
      "source": [
        "for pname, p in game_iterated_3.named_parameters():\n",
        "  print(pname, p)"
      ],
      "execution_count": null,
      "outputs": [
        {
          "output_type": "stream",
          "text": [
            "v Parameter containing:\n",
            "tensor([[6.1257, 6.1257]], requires_grad=True)\n",
            "pi1.('G',) Parameter containing:\n",
            "tensor([[0.1496],\n",
            "        [0.7403]], requires_grad=True)\n",
            "pi2.('G',) Parameter containing:\n",
            "tensor([[0.1496],\n",
            "        [0.7403]], requires_grad=True)\n"
          ],
          "name": "stdout"
        }
      ]
    },
    {
      "cell_type": "code",
      "metadata": {
        "id": "R-4LmtHbpVC6",
        "outputId": "7fc79548-0d7b-47ad-82e9-28cf5dc33b9d",
        "colab": {
          "base_uri": "https://localhost:8080/",
          "height": 163
        }
      },
      "source": [
        "for pname, p in game_temp.named_parameters():\n",
        "  print(pname, p)"
      ],
      "execution_count": null,
      "outputs": [
        {
          "output_type": "stream",
          "text": [
            "v Parameter containing:\n",
            "tensor([[6.1257, 6.1257]], requires_grad=True)\n",
            "pi1.('G',) Parameter containing:\n",
            "tensor([[0.1494],\n",
            "        [0.7404]], requires_grad=True)\n",
            "pi2.('G',) Parameter containing:\n",
            "tensor([[0.1494],\n",
            "        [0.7404]], requires_grad=True)\n"
          ],
          "name": "stdout"
        }
      ]
    },
    {
      "cell_type": "code",
      "metadata": {
        "id": "Hy7YuSnvpc73",
        "outputId": "f2cb63dc-9f95-4890-b540-d31485aa2c77",
        "colab": {
          "base_uri": "https://localhost:8080/",
          "height": 126
        }
      },
      "source": [
        "step_size * d_vector"
      ],
      "execution_count": null,
      "outputs": [
        {
          "output_type": "execute_result",
          "data": {
            "text/plain": [
              "tensor([[ 6.2246e-05],\n",
              "        [ 6.2243e-05],\n",
              "        [-1.1204e-04],\n",
              "        [ 1.7029e-04],\n",
              "        [-1.1205e-04],\n",
              "        [ 1.7030e-04]])"
            ]
          },
          "metadata": {
            "tags": []
          },
          "execution_count": 253
        }
      ]
    },
    {
      "cell_type": "code",
      "metadata": {
        "id": "AfVYRpphzIcK"
      },
      "source": [
        "dg3_list = []\n",
        "i = 0\n",
        "for player in game_iterated_3.players():\n",
        "  other_player = game_iterated_3.other_player(player)\n",
        "  d_v_i = d_v[:,game_iterated_3.get_player_id(player)].view(-1,1)\n",
        "  for state in game_iterated_3.S_no_string:\n",
        "    s = str(state)\n",
        "    d_pi_mi = d_pi[other_player][s]\n",
        "    d_pi_i_sum = d_pi[player][s].sum()\n",
        "    for ai in range(0, game_iterated_3.A[player][s]):\n",
        "      Tr = Tr_list[i]\n",
        "      d_P = torch.einsum('ij,jk->ik', Tr, d_pi_mi)\n",
        "      dPdv = (d_P.view(-1) * d_v_i.view(-1)).sum()\n",
        "      dg3_list.append(game_iterated_3.beta * d_pi_i_sum * dPdv)\n",
        "      i += 1\n",
        "dg3_vector = torch.FloatTensor(dg3_list).to(game_iterated_3.device).view(-1,1)"
      ],
      "execution_count": null,
      "outputs": []
    },
    {
      "cell_type": "code",
      "metadata": {
        "id": "4_FQfuW-RUih"
      },
      "source": [
        "dg1_vector = torch.einsum('ij,jk->ik', grad_g_matrix[:NAt,:], d_vector)"
      ],
      "execution_count": null,
      "outputs": []
    },
    {
      "cell_type": "code",
      "metadata": {
        "id": "1f42YxpHRZoS",
        "outputId": "b1868b75-c028-48a8-ab8e-cd331a6e8f5f",
        "colab": {
          "base_uri": "https://localhost:8080/",
          "height": 90
        }
      },
      "source": [
        "step_size**1 * dg1_vector"
      ],
      "execution_count": null,
      "outputs": [
        {
          "output_type": "execute_result",
          "data": {
            "text/plain": [
              "tensor([[ 3.4226e-04],\n",
              "        [-1.8864e-06],\n",
              "        [ 3.4227e-04],\n",
              "        [-1.8869e-06]])"
            ]
          },
          "metadata": {
            "tags": []
          },
          "execution_count": 256
        }
      ]
    },
    {
      "cell_type": "code",
      "metadata": {
        "id": "O8kHAyYWRHwC",
        "outputId": "89a4621f-42b2-4fc2-f3c0-740e23c425c3",
        "colab": {
          "base_uri": "https://localhost:8080/",
          "height": 90
        }
      },
      "source": [
        "0.5*step_size**2 * dg2_vector"
      ],
      "execution_count": null,
      "outputs": [
        {
          "output_type": "execute_result",
          "data": {
            "text/plain": [
              "tensor([[7.3865e-09],\n",
              "        [4.2530e-09],\n",
              "        [7.3860e-09],\n",
              "        [4.2525e-09]])"
            ]
          },
          "metadata": {
            "tags": []
          },
          "execution_count": 257
        }
      ]
    },
    {
      "cell_type": "code",
      "metadata": {
        "id": "SvXdxPdeQXdh",
        "outputId": "5af11220-80c7-4fbe-8b27-b12f87b352e3",
        "colab": {
          "base_uri": "https://localhost:8080/",
          "height": 90
        }
      },
      "source": [
        "step_size**3 * dg3_vector"
      ],
      "execution_count": null,
      "outputs": [
        {
          "output_type": "execute_result",
          "data": {
            "text/plain": [
              "tensor([[2.0911e-13],\n",
              "        [2.0911e-13],\n",
              "        [2.0910e-13],\n",
              "        [2.0910e-13]])"
            ]
          },
          "metadata": {
            "tags": []
          },
          "execution_count": 258
        }
      ]
    },
    {
      "cell_type": "code",
      "metadata": {
        "id": "qCQTv9WLRrH1"
      },
      "source": [
        "g_vector_temp_estimated = g_vector[:NAt,:] + step_size**1 * dg1_vector + 0.5*step_size**2 * dg2_vector + step_size**3 * dg3_vector"
      ],
      "execution_count": null,
      "outputs": []
    },
    {
      "cell_type": "code",
      "metadata": {
        "id": "domHhHrNR4DY",
        "outputId": "3c15e95d-da84-4983-e94b-cc6f92ab8175",
        "colab": {
          "base_uri": "https://localhost:8080/",
          "height": 90
        }
      },
      "source": [
        "g_vector_temp_estimated"
      ],
      "execution_count": null,
      "outputs": [
        {
          "output_type": "execute_result",
          "data": {
            "text/plain": [
              "tensor([[-9.2451e-01],\n",
              "        [-7.1274e-06],\n",
              "        [-9.2450e-01],\n",
              "        [-4.7436e-06]])"
            ]
          },
          "metadata": {
            "tags": []
          },
          "execution_count": 260
        }
      ]
    },
    {
      "cell_type": "code",
      "metadata": {
        "id": "6JucADVpRjQr",
        "outputId": "2aa83205-a531-4b7c-de13-aee67305aec0",
        "colab": {
          "base_uri": "https://localhost:8080/",
          "height": 90
        }
      },
      "source": [
        "g_vector_temp[:NAt,:]"
      ],
      "execution_count": null,
      "outputs": [
        {
          "output_type": "execute_result",
          "data": {
            "text/plain": [
              "tensor([[-9.2451e-01],\n",
              "        [ 3.4952e-04],\n",
              "        [-9.2450e-01],\n",
              "        [ 3.5191e-04]], grad_fn=<SliceBackward>)"
            ]
          },
          "metadata": {
            "tags": []
          },
          "execution_count": 261
        }
      ]
    },
    {
      "cell_type": "code",
      "metadata": {
        "id": "eQbVOnVcYcZf"
      },
      "source": [
        "q_estimated_temp = game_temp.bellman_partial_projection_other() # Dic. with an array of 'q'-values for each agent \n",
        "g_nash_temp = {'1':{}, '2':{}}\n",
        "coef = 1.0\n",
        "for s, player in game_temp.state_player_pairs():\n",
        "  if not hard_constraints:\n",
        "    coef = game_temp.pi[player][s].sum()\n",
        "  g_nash_temp[player][s] = coef * q_estimated_temp[player][s] - game_temp.v[game_temp.get_state_index(s), game_temp.get_player_id(player)].item()"
      ],
      "execution_count": null,
      "outputs": []
    },
    {
      "cell_type": "code",
      "metadata": {
        "id": "mV8pT69OZklu",
        "outputId": "8573c71c-e395-44db-f8b2-53bbbb0739b3",
        "colab": {
          "base_uri": "https://localhost:8080/",
          "height": 90
        }
      },
      "source": [
        "g_nash_temp"
      ],
      "execution_count": null,
      "outputs": [
        {
          "output_type": "execute_result",
          "data": {
            "text/plain": [
              "{'1': {\"('G',)\": tensor([[-9.2451e-01],\n",
              "          [ 3.4952e-04]], grad_fn=<SubBackward0>)},\n",
              " '2': {\"('G',)\": tensor([[-9.2450e-01],\n",
              "          [ 3.5191e-04]], grad_fn=<SubBackward0>)}}"
            ]
          },
          "metadata": {
            "tags": []
          },
          "execution_count": 263
        }
      ]
    },
    {
      "cell_type": "code",
      "metadata": {
        "id": "MsU1ttQzaN4R"
      },
      "source": [
        "q_estimated_3 = game_temp.bellman_partial_projection_other() # Dic. with an array of 'q'-values for each agent \n",
        "g_nash_3 = {'1':{}, '2':{}}\n",
        "coef = 1.0\n",
        "for s, player in game_iterated_3.state_player_pairs():\n",
        "  if not hard_constraints: \n",
        "    coef = (game_iterated_3.pi[player][s] + step_size * d_pi[player][s]).sum()\n",
        "  g_nash_3[player][s] = coef * q_estimated_3[player][s] - (game_iterated_3.v + step_size * d_v)[game_iterated_3.get_state_index(s), game_iterated_3.get_player_id(player)].item()"
      ],
      "execution_count": null,
      "outputs": []
    },
    {
      "cell_type": "code",
      "metadata": {
        "id": "e7xikxx8cZ5c",
        "outputId": "e820ff0f-d211-423f-e58d-4baae147da4f",
        "colab": {
          "base_uri": "https://localhost:8080/",
          "height": 90
        }
      },
      "source": [
        "g_nash_3"
      ],
      "execution_count": null,
      "outputs": [
        {
          "output_type": "execute_result",
          "data": {
            "text/plain": [
              "{'1': {\"('G',)\": tensor([[-9.2451e-01],\n",
              "          [ 3.4952e-04]], grad_fn=<SubBackward0>)},\n",
              " '2': {\"('G',)\": tensor([[-9.2450e-01],\n",
              "          [ 3.5191e-04]], grad_fn=<SubBackward0>)}}"
            ]
          },
          "metadata": {
            "tags": []
          },
          "execution_count": 265
        }
      ]
    },
    {
      "cell_type": "code",
      "metadata": {
        "id": "etk8tTJebDMV",
        "outputId": "8bf82c4b-1983-4ce5-d11a-53ca7d060ef0",
        "colab": {
          "base_uri": "https://localhost:8080/",
          "height": 35
        }
      },
      "source": [
        "(game_temp.v.data - game_iterated_3.v.data)/step_size"
      ],
      "execution_count": null,
      "outputs": [
        {
          "output_type": "execute_result",
          "data": {
            "text/plain": [
              "tensor([[0.1144, 0.1144]])"
            ]
          },
          "metadata": {
            "tags": []
          },
          "execution_count": 266
        }
      ]
    },
    {
      "cell_type": "code",
      "metadata": {
        "id": "xdZf5wABbQQk",
        "outputId": "78dbd463-fdf7-499d-80d8-e83acb2fb7f2",
        "colab": {
          "base_uri": "https://localhost:8080/",
          "height": 54
        }
      },
      "source": [
        "(game_temp.pi2vec()['1'] - game_iterated_3.pi2vec()['1'])/step_size"
      ],
      "execution_count": null,
      "outputs": [
        {
          "output_type": "execute_result",
          "data": {
            "text/plain": [
              "tensor([[-0.2052],\n",
              "        [ 0.3119]], grad_fn=<DivBackward0>)"
            ]
          },
          "metadata": {
            "tags": []
          },
          "execution_count": 267
        }
      ]
    },
    {
      "cell_type": "code",
      "metadata": {
        "id": "1MrMxYKVdewj"
      },
      "source": [
        "r_mean_3 = {}\n",
        "for player in game_iterated_3.players():\n",
        "  r_mean_3[player] = {}\n",
        "for s in game_iterated_3.S:\n",
        "  RM1 = game_iterated_3.R['1'][s]\n",
        "  RM2 = game_iterated_3.R['2'][s]\n",
        "  strategy1 = game_iterated_3.pi['1'][s] + step_size * d_pi['1'][s]\n",
        "  strategy2 = game_iterated_3.pi['2'][s] + step_size * d_pi['2'][s]\n",
        "  r_mean_3['1'][s] = torch.einsum('ij,jk->ik', RM1, strategy2)\n",
        "  r_mean_3['2'][s] = torch.einsum('ji,jk->ik', RM2, strategy1)\n",
        "\n",
        "next_v_3 = {'1':{}, '2':{}}\n",
        "for state in game_iterated_3.S_no_string:\n",
        "  s = str(state)\n",
        "\n",
        "  det, dep = game_iterated_3.transition_type[str(state)]\n",
        "  N_A1 = game_iterated_3.A['1'][str(state)]\n",
        "  N_A2 = game_iterated_3.A['2'][str(state)]\n",
        "  vs = torch.zeros((N_A1,N_A2,2)).to(game_iterated_3.device)\n",
        "  if det and dep: \n",
        "    for a1 in range(0,N_A1):\n",
        "      for a2 in range(0,N_A2):\n",
        "        _, next_state = game_iterated_3.transition_map(state, [a1,a2])\n",
        "        vs[a1,a2,:] = (game_iterated_3.v + step_size * d_v)[game_iterated_3.get_state_index(next_state),:]\n",
        "  elif (not det) and (not dep):\n",
        "    _, transition_dic = game_iterated_3.transition_map(state, [])\n",
        "    next_v = torch.zeros(1,2).to(game_iterated_3.device)\n",
        "    for next_state, transition_prob in transition_dic:\n",
        "      next_v = next_v + (game_iterated_3.v + step_size * d_v)[game_iterated_3.get_state_index(next_state),:].view(1,-1) * transition_prob      \n",
        "    for a1 in range(0,N_A1):\n",
        "      for a2 in range(0,N_A2):\n",
        "        vs[a1,a2,:] = next_v.view(-1)\n",
        "\n",
        "  next_state_value_matrix_3 = vs.clone()\n",
        "  strategy_1 = (game_iterated_3.pi['1'][s] + step_size * d_pi['1'][s])\n",
        "  strategy_2 = (game_iterated_3.pi['2'][s] + step_size * d_pi['2'][s])\n",
        "  # mean next value when considering the strategy of the other player. Output: array of size m^i(s)\n",
        "  next_v_3['1'][s] = torch.einsum('ij,jk->ik', next_state_value_matrix_3[:,:,0], strategy_2)\n",
        "  next_v_3['2'][s] = torch.einsum('ji,jk->ik', next_state_value_matrix_3[:,:,1], strategy_1)\n",
        "q_estimated_3 = {'1':{}, '2':{}}\n",
        "for s, player in game_iterated_3.state_player_pairs():\n",
        "  q_estimated_3[player][s] = r_mean_3[player][s] + game_iterated_3.beta * next_v_3[player][s]\n",
        "\n",
        "g_nash_3 = {'1':{}, '2':{}}\n",
        "coef = 1.0\n",
        "for s, player in game_iterated_3.state_player_pairs():\n",
        "  if not hard_constraints: \n",
        "    coef = (game_iterated_3.pi[player][s] + step_size * d_pi[player][s]).sum()\n",
        "  g_nash_3[player][s] = coef * q_estimated_3[player][s] - (game_iterated_3.v + step_size * d_v)[game_iterated_3.get_state_index(s), game_iterated_3.get_player_id(player)].item()"
      ],
      "execution_count": null,
      "outputs": []
    },
    {
      "cell_type": "code",
      "metadata": {
        "id": "Tz8M-rR4edoy",
        "outputId": "135f1faa-67c5-4142-be28-05ce919992a2",
        "colab": {
          "base_uri": "https://localhost:8080/",
          "height": 90
        }
      },
      "source": [
        "g_nash_3"
      ],
      "execution_count": null,
      "outputs": [
        {
          "output_type": "execute_result",
          "data": {
            "text/plain": [
              "{'1': {\"('G',)\": tensor([[-9.2451e-01],\n",
              "          [ 3.4952e-04]], grad_fn=<SubBackward0>)},\n",
              " '2': {\"('G',)\": tensor([[-9.2450e-01],\n",
              "          [ 3.5191e-04]], grad_fn=<SubBackward0>)}}"
            ]
          },
          "metadata": {
            "tags": []
          },
          "execution_count": 269
        }
      ]
    },
    {
      "cell_type": "code",
      "metadata": {
        "id": "ePXVrJC0oJEp"
      },
      "source": [
        "i = 0\n",
        "dg1_list = []\n",
        "grad_g_v_dic_list = {'1':[], '2':[]}\n",
        "grad_g_pi_dic_list = {'1':[], '2':[]}\n",
        "beta = game_iterated_3.beta\n",
        "for player in game_iterated_3.players():\n",
        "  other_player = game_iterated_3.other_player(player)\n",
        "  player_id = game_iterated_3.get_player_id(player)\n",
        "  v_i = game_iterated_3.v[:,player_id].view(-1,1) \n",
        "  dv_i = d_v[:,player_id].view(-1,1)\n",
        "  for state in game_iterated_3.S_no_string:\n",
        "    s = str(state)\n",
        "    s_id = game_iterated_3.get_state_index(s)\n",
        "    pi_i = game_iterated_3.pi[player][s]\n",
        "    pi_mi = game_iterated_3.pi[other_player][s]\n",
        "    dpi_i = d_pi[player][s]\n",
        "    dpi_mi = d_pi[other_player][s]    \n",
        "\n",
        "    Ri_s = game_iterated_3.R[player][s].clone()\n",
        "    if player == '2':\n",
        "      Ri_s = Ri_s.T\n",
        "\n",
        "    sum_pi = game_iterated_3.pi[player][s].sum()\n",
        "    sum_dpi = d_pi[player][s].sum()\n",
        "\n",
        "    for ai in range(0, game_iterated_3.A[player][s]):\n",
        "      Tr = Tr_list[i]\n",
        "      Ri_s_ai = Ri_s[ai,:].view(-1,1)\n",
        "\n",
        "      P_pi_mi = torch.einsum('ij,jk->ik', Tr, pi_mi)\n",
        "      P_dpi_mi = torch.einsum('ij,jk->ik', Tr, dpi_mi)\n",
        "      R_pi_mi = torch.dot(Ri_s_ai.view(-1), pi_mi.view(-1))\n",
        "      R_dpi_mi = torch.dot(Ri_s_ai.view(-1), dpi_mi.view(-1))\n",
        "      P_pi_mi_dv_i = torch.dot(P_pi_mi.view(-1), dv_i.view(-1))\n",
        "      P_dpi_mi_v_i = torch.dot(P_dpi_mi.view(-1), v_i.view(-1))\n",
        "      P_pi_mi_v_i = torch.dot(P_pi_mi.view(-1), v_i.view(-1))\n",
        "\n",
        "      dg1_s_ai = sum_pi * (beta * P_pi_mi_dv_i + R_dpi_mi + beta * P_dpi_mi_v_i)\n",
        "      dg1_s_ai = dg1_s_ai + sum_dpi * (R_pi_mi + beta * P_pi_mi_v_i)\n",
        "      dg1_s_ai = dg1_s_ai - dv_i.view(-1)[s_id]\n",
        "      dg1_list.append(dg1_s_ai)\n",
        "\n",
        "      grad_g_v_i = sum_pi * beta * P_pi_mi\n",
        "      grad_g_v_i[s_id,0] = grad_g_v_i[s_id,0] - 1\n",
        "      grad_g_v_dic_list[player].append(grad_g_v_i.view(1,-1))\n",
        "      grad_g_v_dic_list[other_player].append(torch.zeros_like(grad_g_v_i).view(1,-1))\n",
        "\n",
        "      mean_v_i = torch.einsum('ji,jk->ik', Tr, v_i)\n",
        "      grad_g_pi_mi = sum_pi * (Ri_s_ai + beta * mean_v_i)\n",
        "      grad_g_pi_dic_list[other_player].append(grad_g_pi_mi.view(1,-1))\n",
        "\n",
        "      grad_g_pi_i = (R_pi_mi + beta * P_pi_mi_v_i) * torch.ones_like(pi_i)\n",
        "      grad_g_pi_dic_list[player].append(grad_g_pi_i.view(1,-1))\n",
        "\n",
        "      i = i + 1\n",
        "dg1_vector_direct = torch.FloatTensor(dg1_list).to(game_iterated_3.device).view(-1,1)"
      ],
      "execution_count": null,
      "outputs": []
    },
    {
      "cell_type": "code",
      "metadata": {
        "id": "_NVKFcitpIcd",
        "outputId": "6add4c58-eab0-40c9-d23a-18a1923016cf",
        "colab": {
          "base_uri": "https://localhost:8080/",
          "height": 90
        }
      },
      "source": [
        "dg1_vector_direct"
      ],
      "execution_count": null,
      "outputs": [
        {
          "output_type": "execute_result",
          "data": {
            "text/plain": [
              "tensor([[0.6269],\n",
              "        [0.6501],\n",
              "        [0.6269],\n",
              "        [0.6501]])"
            ]
          },
          "metadata": {
            "tags": []
          },
          "execution_count": 271
        }
      ]
    },
    {
      "cell_type": "code",
      "metadata": {
        "id": "o6sJ6FzZuaOB",
        "outputId": "7fe91e85-a7b8-4dfe-d230-3f09f4e5b066",
        "colab": {
          "base_uri": "https://localhost:8080/",
          "height": 90
        }
      },
      "source": [
        "dg1_vector"
      ],
      "execution_count": null,
      "outputs": [
        {
          "output_type": "execute_result",
          "data": {
            "text/plain": [
              "tensor([[ 0.6269],\n",
              "        [-0.0035],\n",
              "        [ 0.6269],\n",
              "        [-0.0035]])"
            ]
          },
          "metadata": {
            "tags": []
          },
          "execution_count": 272
        }
      ]
    },
    {
      "cell_type": "code",
      "metadata": {
        "id": "91V7rDaEulSH",
        "outputId": "bb8ac0de-fbbf-47b4-805a-24fb8824de17",
        "colab": {
          "base_uri": "https://localhost:8080/",
          "height": 90
        }
      },
      "source": [
        "grad_g_matrix[:NAt,:]"
      ],
      "execution_count": null,
      "outputs": [
        {
          "output_type": "execute_result",
          "data": {
            "text/plain": [
              "tensor([[-0.2162,  0.0000,  5.8449,  5.8449,  8.0656,  5.3962],\n",
              "        [-0.2162,  0.0000,  0.7586,  0.7586,  9.8453,  6.2860],\n",
              "        [ 0.0000, -0.2162,  8.0656,  5.3962,  5.8449,  5.8449],\n",
              "        [ 0.0000, -0.2162,  9.8453,  6.2860,  0.7586,  0.7586]])"
            ]
          },
          "metadata": {
            "tags": []
          },
          "execution_count": 273
        }
      ]
    },
    {
      "cell_type": "code",
      "metadata": {
        "id": "hpFxbMsmvkeb",
        "outputId": "9cb2dc63-e4f0-4d9c-bede-71d60a2c221f",
        "colab": {
          "base_uri": "https://localhost:8080/",
          "height": 90
        }
      },
      "source": [
        "grad_g_matrix[:NAt,:] @ d_vector"
      ],
      "execution_count": null,
      "outputs": [
        {
          "output_type": "execute_result",
          "data": {
            "text/plain": [
              "tensor([[ 0.6269],\n",
              "        [-0.0035],\n",
              "        [ 0.6269],\n",
              "        [-0.0035]])"
            ]
          },
          "metadata": {
            "tags": []
          },
          "execution_count": 274
        }
      ]
    },
    {
      "cell_type": "code",
      "metadata": {
        "id": "BYLOrGvNvkx6"
      },
      "source": [
        "g_vector_temp_estimated_direct = g_vector[:NAt,:] + step_size**1 * dg1_vector_direct + 0.5*step_size**2 * dg2_vector + step_size**3 * dg3_vector"
      ],
      "execution_count": null,
      "outputs": []
    },
    {
      "cell_type": "code",
      "metadata": {
        "id": "f25FX1Cav1NN",
        "outputId": "4036c4fa-5369-4bb0-bf56-5ac1145b576a",
        "colab": {
          "base_uri": "https://localhost:8080/",
          "height": 90
        }
      },
      "source": [
        "g_vector_temp_estimated_direct"
      ],
      "execution_count": null,
      "outputs": [
        {
          "output_type": "execute_result",
          "data": {
            "text/plain": [
              "tensor([[-9.2451e-01],\n",
              "        [ 3.4970e-04],\n",
              "        [-9.2450e-01],\n",
              "        [ 3.5210e-04]])"
            ]
          },
          "metadata": {
            "tags": []
          },
          "execution_count": 276
        }
      ]
    },
    {
      "cell_type": "code",
      "metadata": {
        "id": "yLs9cRrkv5FZ",
        "outputId": "cf965ecc-6c02-47c2-ab00-31736fba780e",
        "colab": {
          "base_uri": "https://localhost:8080/",
          "height": 90
        }
      },
      "source": [
        "g_vector_temp[:NAt,:]"
      ],
      "execution_count": null,
      "outputs": [
        {
          "output_type": "execute_result",
          "data": {
            "text/plain": [
              "tensor([[-9.2451e-01],\n",
              "        [ 3.4952e-04],\n",
              "        [-9.2450e-01],\n",
              "        [ 3.5191e-04]], grad_fn=<SliceBackward>)"
            ]
          },
          "metadata": {
            "tags": []
          },
          "execution_count": 277
        }
      ]
    },
    {
      "cell_type": "code",
      "metadata": {
        "id": "t2khvr_c0WOw"
      },
      "source": [
        "for player in game_iterated_3.players():\n",
        "  grad_g_v_dic_list[player] = torch.cat(grad_g_v_dic_list[player], dim = 0)\n",
        "  grad_g_pi_dic_list[player] = torch.cat(grad_g_pi_dic_list[player], dim = 0)"
      ],
      "execution_count": null,
      "outputs": []
    },
    {
      "cell_type": "code",
      "metadata": {
        "id": "p2ZmPpht0t4-",
        "outputId": "76442e59-dee1-4347-8d75-b59828d98ed9",
        "colab": {
          "base_uri": "https://localhost:8080/",
          "height": 145
        }
      },
      "source": [
        "grad_g_v_dic_list"
      ],
      "execution_count": null,
      "outputs": [
        {
          "output_type": "execute_result",
          "data": {
            "text/plain": [
              "{'1': tensor([[-0.2162],\n",
              "         [-0.2162],\n",
              "         [ 0.0000],\n",
              "         [ 0.0000]], grad_fn=<CatBackward>), '2': tensor([[ 0.0000],\n",
              "         [ 0.0000],\n",
              "         [-0.2162],\n",
              "         [-0.2162]], grad_fn=<CatBackward>)}"
            ]
          },
          "metadata": {
            "tags": []
          },
          "execution_count": 279
        }
      ]
    },
    {
      "cell_type": "code",
      "metadata": {
        "id": "hQdSw2t51BjY",
        "outputId": "88ba1c2d-c9f5-4695-bd5b-b5e365e6b0f8",
        "colab": {
          "base_uri": "https://localhost:8080/",
          "height": 163
        }
      },
      "source": [
        "grad_g_pi_dic_list"
      ],
      "execution_count": null,
      "outputs": [
        {
          "output_type": "execute_result",
          "data": {
            "text/plain": [
              "{'1': tensor([[5.8449, 5.8449],\n",
              "         [6.8842, 6.8842],\n",
              "         [8.0656, 5.3962],\n",
              "         [9.8453, 6.2860]], grad_fn=<CatBackward>),\n",
              " '2': tensor([[8.0656, 5.3962],\n",
              "         [9.8453, 6.2860],\n",
              "         [5.8449, 5.8449],\n",
              "         [6.8842, 6.8842]], grad_fn=<CatBackward>)}"
            ]
          },
          "metadata": {
            "tags": []
          },
          "execution_count": 280
        }
      ]
    },
    {
      "cell_type": "code",
      "metadata": {
        "id": "VREQo-zQ4STV"
      },
      "source": [
        ""
      ],
      "execution_count": null,
      "outputs": []
    },
    {
      "cell_type": "code",
      "metadata": {
        "id": "faq9qwbv4SdM"
      },
      "source": [
        ""
      ],
      "execution_count": null,
      "outputs": []
    },
    {
      "cell_type": "code",
      "metadata": {
        "id": "NVW3Ulwd4S1n"
      },
      "source": [
        "game_iterated_4 = multi_player_game(N, S, A, R, T, beta, device).to(device)"
      ],
      "execution_count": 37,
      "outputs": []
    },
    {
      "cell_type": "code",
      "metadata": {
        "id": "V5Sdl6-g4S1q",
        "outputId": "05f8c2bf-b62a-4954-8dd7-ea72eb9c9954",
        "colab": {
          "base_uri": "https://localhost:8080/",
          "height": 1000
        }
      },
      "source": [
        "step_sizes_4, step_size_bounds_4 = game_iterated_4.optimize_game(hard_constraints=False, verbose=False, n_epochs=30, on=True, eta_0=0.9, nu=1.5)[0:2]"
      ],
      "execution_count": null,
      "outputs": [
        {
          "output_type": "stream",
          "text": [
            "Epoch: 0, f: 4.84732e+01, delta f: -1.97526e-03%, nash satisfied: True, max g: -6.784e-01, dual nash satisfied: False, max product: 6.351e+00, rho: 4.236e-04, norm2 d0:1.385e+01, ss: 1.760e-05\n",
            "Epoch: 0, >0 satisfied: True, max g>0: -6.983e-04, dual >0 satisfied: False, max product >0: 4.471e-01, =1 satisfied: True, max g=1: -1.703e-01, dual =1 satisfied: False, max product =1: 3.971e+00\n",
            "Epoch: 1, f: 4.84722e+01, delta f: -3.98199e-03%, nash satisfied: True, max g: -6.783e-01, dual nash satisfied: False, max product: 6.351e+00, rho: 4.236e-04, norm2 d0:1.385e+01, ss: 1.760e-05\n",
            "Epoch: 1, >0 satisfied: True, max g>0: -6.983e-04, dual >0 satisfied: False, max product >0: 4.471e-01, =1 satisfied: True, max g=1: -1.703e-01, dual =1 satisfied: False, max product =1: 3.970e+00\n",
            "Epoch: 2, f: 4.84712e+01, delta f: -5.95725e-03%, nash satisfied: True, max g: -6.783e-01, dual nash satisfied: False, max product: 6.350e+00, rho: 4.236e-04, norm2 d0:1.385e+01, ss: 1.760e-05\n",
            "Epoch: 2, >0 satisfied: True, max g>0: -6.983e-04, dual >0 satisfied: False, max product >0: 4.470e-01, =1 satisfied: True, max g=1: -1.703e-01, dual =1 satisfied: False, max product =1: 3.971e+00\n",
            "Epoch: 3, f: 4.84709e+01, delta f: -6.53960e-03%, nash satisfied: True, max g: -6.783e-01, dual nash satisfied: False, max product: 6.350e+00, rho: 4.236e-04, norm2 d0:1.384e+01, ss: 5.215e-06\n",
            "Epoch: 3, >0 satisfied: True, max g>0: -6.982e-04, dual >0 satisfied: False, max product >0: 4.470e-01, =1 satisfied: True, max g=1: -1.703e-01, dual =1 satisfied: False, max product =1: 3.970e+00\n",
            "Epoch: 4, f: 4.84700e+01, delta f: -8.56208e-03%, nash satisfied: True, max g: -6.783e-01, dual nash satisfied: False, max product: 6.351e+00, rho: 4.236e-04, norm2 d0:1.384e+01, ss: 1.760e-05\n",
            "Epoch: 4, >0 satisfied: True, max g>0: -6.982e-04, dual >0 satisfied: False, max product >0: 4.470e-01, =1 satisfied: True, max g=1: -1.703e-01, dual =1 satisfied: False, max product =1: 3.970e+00\n",
            "Epoch: 5, f: 4.84698e+01, delta f: -8.93981e-03%, nash satisfied: True, max g: -6.783e-01, dual nash satisfied: False, max product: 6.351e+00, rho: 4.236e-04, norm2 d0:1.384e+01, ss: 3.477e-06\n",
            "Epoch: 5, >0 satisfied: True, max g>0: -6.982e-04, dual >0 satisfied: False, max product >0: 4.470e-01, =1 satisfied: True, max g=1: -1.703e-01, dual =1 satisfied: False, max product =1: 3.970e+00\n",
            "Epoch: 6, f: 4.84695e+01, delta f: -9.53790e-03%, nash satisfied: True, max g: -6.783e-01, dual nash satisfied: False, max product: 6.351e+00, rho: 4.236e-04, norm2 d0:1.384e+01, ss: 5.215e-06\n",
            "Epoch: 6, >0 satisfied: True, max g>0: -6.981e-04, dual >0 satisfied: False, max product >0: 4.470e-01, =1 satisfied: True, max g=1: -1.703e-01, dual =1 satisfied: False, max product =1: 3.970e+00\n",
            "Epoch: 7, f: 4.84685e+01, delta f: -1.15210e-02%, nash satisfied: True, max g: -6.783e-01, dual nash satisfied: False, max product: 6.351e+00, rho: 4.236e-04, norm2 d0:1.384e+01, ss: 1.760e-05\n",
            "Epoch: 7, >0 satisfied: True, max g>0: -6.981e-04, dual >0 satisfied: False, max product >0: 4.470e-01, =1 satisfied: True, max g=1: -1.703e-01, dual =1 satisfied: False, max product =1: 3.970e+00\n",
            "Epoch: 8, f: 4.84682e+01, delta f: -1.21270e-02%, nash satisfied: True, max g: -6.783e-01, dual nash satisfied: False, max product: 6.351e+00, rho: 4.236e-04, norm2 d0:1.384e+01, ss: 5.215e-06\n",
            "Epoch: 8, >0 satisfied: True, max g>0: -6.981e-04, dual >0 satisfied: False, max product >0: 4.470e-01, =1 satisfied: True, max g=1: -1.703e-01, dual =1 satisfied: False, max product =1: 3.970e+00\n",
            "Epoch: 9, f: 4.84673e+01, delta f: -1.41495e-02%, nash satisfied: True, max g: -6.783e-01, dual nash satisfied: False, max product: 6.350e+00, rho: 4.236e-04, norm2 d0:1.384e+01, ss: 1.760e-05\n",
            "Epoch: 9, >0 satisfied: True, max g>0: -6.981e-04, dual >0 satisfied: False, max product >0: 4.470e-01, =1 satisfied: True, max g=1: -1.703e-01, dual =1 satisfied: False, max product =1: 3.971e+00\n",
            "Epoch: 10, f: 4.84663e+01, delta f: -1.61247e-02%, nash satisfied: True, max g: -6.782e-01, dual nash satisfied: False, max product: 6.350e+00, rho: 4.236e-04, norm2 d0:1.384e+01, ss: 1.760e-05\n",
            "Epoch: 10, >0 satisfied: True, max g>0: -6.980e-04, dual >0 satisfied: False, max product >0: 4.470e-01, =1 satisfied: True, max g=1: -1.703e-01, dual =1 satisfied: False, max product =1: 3.971e+00\n",
            "Epoch: 11, f: 4.84653e+01, delta f: -1.81236e-02%, nash satisfied: True, max g: -6.782e-01, dual nash satisfied: False, max product: 6.350e+00, rho: 4.236e-04, norm2 d0:1.384e+01, ss: 1.760e-05\n",
            "Epoch: 11, >0 satisfied: True, max g>0: -6.980e-04, dual >0 satisfied: False, max product >0: 4.470e-01, =1 satisfied: True, max g=1: -1.703e-01, dual =1 satisfied: False, max product =1: 3.970e+00\n",
            "Epoch: 12, f: 4.84649e+01, delta f: -1.89971e-02%, nash satisfied: True, max g: -6.782e-01, dual nash satisfied: False, max product: 6.350e+00, rho: 4.236e-04, norm2 d0:1.384e+01, ss: 7.823e-06\n",
            "Epoch: 12, >0 satisfied: True, max g>0: -6.979e-04, dual >0 satisfied: False, max product >0: 4.470e-01, =1 satisfied: True, max g=1: -1.703e-01, dual =1 satisfied: False, max product =1: 3.971e+00\n",
            "Epoch: 13, f: 4.84648e+01, delta f: -1.92332e-02%, nash satisfied: True, max g: -6.782e-01, dual nash satisfied: False, max product: 6.350e+00, rho: 4.236e-04, norm2 d0:1.384e+01, ss: 2.318e-06\n",
            "Epoch: 13, >0 satisfied: True, max g>0: -6.979e-04, dual >0 satisfied: False, max product >0: 4.470e-01, =1 satisfied: True, max g=1: -1.703e-01, dual =1 satisfied: False, max product =1: 3.971e+00\n",
            "Epoch: 14, f: 4.84646e+01, delta f: -1.96581e-02%, nash satisfied: True, max g: -6.782e-01, dual nash satisfied: False, max product: 6.350e+00, rho: 4.236e-04, norm2 d0:1.384e+01, ss: 3.477e-06\n",
            "Epoch: 14, >0 satisfied: True, max g>0: -6.979e-04, dual >0 satisfied: False, max product >0: 4.470e-01, =1 satisfied: True, max g=1: -1.703e-01, dual =1 satisfied: False, max product =1: 3.971e+00\n",
            "Epoch: 15, f: 4.84644e+01, delta f: -2.00438e-02%, nash satisfied: True, max g: -6.782e-01, dual nash satisfied: False, max product: 6.350e+00, rho: 4.236e-04, norm2 d0:1.384e+01, ss: 3.477e-06\n",
            "Epoch: 15, >0 satisfied: True, max g>0: -6.979e-04, dual >0 satisfied: False, max product >0: 4.470e-01, =1 satisfied: True, max g=1: -1.703e-01, dual =1 satisfied: False, max product =1: 3.971e+00\n",
            "Epoch: 16, f: 4.84634e+01, delta f: -2.20505e-02%, nash satisfied: True, max g: -6.782e-01, dual nash satisfied: False, max product: 6.350e+00, rho: 4.236e-04, norm2 d0:1.384e+01, ss: 1.760e-05\n",
            "Epoch: 16, >0 satisfied: True, max g>0: -6.979e-04, dual >0 satisfied: False, max product >0: 4.470e-01, =1 satisfied: True, max g=1: -1.703e-01, dual =1 satisfied: False, max product =1: 3.971e+00\n",
            "Epoch: 17, f: 4.84633e+01, delta f: -2.24125e-02%, nash satisfied: True, max g: -6.782e-01, dual nash satisfied: False, max product: 6.350e+00, rho: 4.236e-04, norm2 d0:1.384e+01, ss: 3.477e-06\n",
            "Epoch: 17, >0 satisfied: True, max g>0: -6.978e-04, dual >0 satisfied: False, max product >0: 4.470e-01, =1 satisfied: True, max g=1: -1.703e-01, dual =1 satisfied: False, max product =1: 3.971e+00\n",
            "Epoch: 18, f: 4.84623e+01, delta f: -2.44114e-02%, nash satisfied: True, max g: -6.782e-01, dual nash satisfied: False, max product: 6.350e+00, rho: 4.236e-04, norm2 d0:1.384e+01, ss: 1.760e-05\n",
            "Epoch: 18, >0 satisfied: True, max g>0: -6.978e-04, dual >0 satisfied: False, max product >0: 4.470e-01, =1 satisfied: True, max g=1: -1.703e-01, dual =1 satisfied: False, max product =1: 3.971e+00\n",
            "Epoch: 19, f: 4.84623e+01, delta f: -2.44114e-02%, nash satisfied: True, max g: -6.782e-01, dual nash satisfied: False, max product: 6.350e+00, rho: 4.236e-04, norm2 d0:1.384e+01, ss: 6.304e-17\n",
            "Epoch: 19, >0 satisfied: True, max g>0: -6.978e-04, dual >0 satisfied: False, max product >0: 4.470e-01, =1 satisfied: True, max g=1: -1.703e-01, dual =1 satisfied: False, max product =1: 3.971e+00\n",
            "Epoch: 20, f: 4.84623e+01, delta f: -2.44114e-02%, nash satisfied: True, max g: -6.782e-01, dual nash satisfied: False, max product: 6.350e+00, rho: 4.236e-04, norm2 d0:1.384e+01, ss: 6.304e-17\n",
            "Epoch: 20, >0 satisfied: True, max g>0: -6.978e-04, dual >0 satisfied: False, max product >0: 4.470e-01, =1 satisfied: True, max g=1: -1.703e-01, dual =1 satisfied: False, max product =1: 3.971e+00\n",
            "Epoch: 21, f: 4.84623e+01, delta f: -2.44114e-02%, nash satisfied: True, max g: -6.782e-01, dual nash satisfied: False, max product: 6.350e+00, rho: 4.236e-04, norm2 d0:1.384e+01, ss: 6.304e-17\n",
            "Epoch: 21, >0 satisfied: True, max g>0: -6.978e-04, dual >0 satisfied: False, max product >0: 4.470e-01, =1 satisfied: True, max g=1: -1.703e-01, dual =1 satisfied: False, max product =1: 3.971e+00\n",
            "Epoch: 22, f: 4.84623e+01, delta f: -2.44114e-02%, nash satisfied: True, max g: -6.782e-01, dual nash satisfied: False, max product: 6.350e+00, rho: 4.236e-04, norm2 d0:1.384e+01, ss: 6.304e-17\n",
            "Epoch: 22, >0 satisfied: True, max g>0: -6.978e-04, dual >0 satisfied: False, max product >0: 4.470e-01, =1 satisfied: True, max g=1: -1.703e-01, dual =1 satisfied: False, max product =1: 3.971e+00\n",
            "Epoch: 23, f: 4.84623e+01, delta f: -2.44114e-02%, nash satisfied: True, max g: -6.782e-01, dual nash satisfied: False, max product: 6.350e+00, rho: 4.236e-04, norm2 d0:1.384e+01, ss: 6.304e-17\n",
            "Epoch: 23, >0 satisfied: True, max g>0: -6.978e-04, dual >0 satisfied: False, max product >0: 4.470e-01, =1 satisfied: True, max g=1: -1.703e-01, dual =1 satisfied: False, max product =1: 3.971e+00\n",
            "Epoch: 24, f: 4.84623e+01, delta f: -2.44114e-02%, nash satisfied: True, max g: -6.782e-01, dual nash satisfied: False, max product: 6.350e+00, rho: 4.236e-04, norm2 d0:1.384e+01, ss: 6.304e-17\n",
            "Epoch: 24, >0 satisfied: True, max g>0: -6.978e-04, dual >0 satisfied: False, max product >0: 4.470e-01, =1 satisfied: True, max g=1: -1.703e-01, dual =1 satisfied: False, max product =1: 3.971e+00\n",
            "Epoch: 25, f: 4.84623e+01, delta f: -2.44114e-02%, nash satisfied: True, max g: -6.782e-01, dual nash satisfied: False, max product: 6.350e+00, rho: 4.236e-04, norm2 d0:1.384e+01, ss: 6.304e-17\n",
            "Epoch: 25, >0 satisfied: True, max g>0: -6.978e-04, dual >0 satisfied: False, max product >0: 4.470e-01, =1 satisfied: True, max g=1: -1.703e-01, dual =1 satisfied: False, max product =1: 3.971e+00\n",
            "Epoch: 26, f: 4.84623e+01, delta f: -2.44114e-02%, nash satisfied: True, max g: -6.782e-01, dual nash satisfied: False, max product: 6.350e+00, rho: 4.236e-04, norm2 d0:1.384e+01, ss: 6.304e-17\n",
            "Epoch: 26, >0 satisfied: True, max g>0: -6.978e-04, dual >0 satisfied: False, max product >0: 4.470e-01, =1 satisfied: True, max g=1: -1.703e-01, dual =1 satisfied: False, max product =1: 3.971e+00\n",
            "Epoch: 27, f: 4.84623e+01, delta f: -2.44114e-02%, nash satisfied: True, max g: -6.782e-01, dual nash satisfied: False, max product: 6.350e+00, rho: 4.236e-04, norm2 d0:1.384e+01, ss: 6.304e-17\n",
            "Epoch: 27, >0 satisfied: True, max g>0: -6.978e-04, dual >0 satisfied: False, max product >0: 4.470e-01, =1 satisfied: True, max g=1: -1.703e-01, dual =1 satisfied: False, max product =1: 3.971e+00\n",
            "Epoch: 28, f: 4.84623e+01, delta f: -2.44114e-02%, nash satisfied: True, max g: -6.782e-01, dual nash satisfied: False, max product: 6.350e+00, rho: 4.236e-04, norm2 d0:1.384e+01, ss: 6.304e-17\n",
            "Epoch: 28, >0 satisfied: True, max g>0: -6.978e-04, dual >0 satisfied: False, max product >0: 4.470e-01, =1 satisfied: True, max g=1: -1.703e-01, dual =1 satisfied: False, max product =1: 3.971e+00\n",
            "Epoch: 29, f: 4.84623e+01, delta f: -2.44114e-02%, nash satisfied: True, max g: -6.782e-01, dual nash satisfied: False, max product: 6.350e+00, rho: 4.236e-04, norm2 d0:1.384e+01, ss: 6.304e-17\n",
            "Epoch: 29, >0 satisfied: True, max g>0: -6.978e-04, dual >0 satisfied: False, max product >0: 4.470e-01, =1 satisfied: True, max g=1: -1.703e-01, dual =1 satisfied: False, max product =1: 3.971e+00\n",
            "Game 2 saved succesfully\n"
          ],
          "name": "stdout"
        }
      ]
    },
    {
      "cell_type": "code",
      "metadata": {
        "id": "TO57W5O648Z4",
        "outputId": "6ce324bd-e90d-4bd8-ddf4-70bf2cfeef1f",
        "colab": {
          "base_uri": "https://localhost:8080/",
          "height": 388
        }
      },
      "source": [
        "fig, ax = plt.subplots(figsize=(16,6))\n",
        "plt.plot(torch.log(step_sizes_4), label='Step size', linewidth=2.0)\n",
        "plt.plot(torch.log(step_size_bounds_4), label='Bound', linewidth=2.0)\n",
        "plt.legend()\n",
        "plt.xlabel('# iterations')\n",
        "plt.ylabel('step size')\n",
        "plt.show()\n",
        "plt.close()"
      ],
      "execution_count": null,
      "outputs": [
        {
          "output_type": "display_data",
          "data": {
            "image/png": "[encoded data removed]",
            "text/plain": [
              "<Figure size 1152x432 with 1 Axes>"
            ]
          },
          "metadata": {
            "tags": [],
            "needs_background": "light"
          }
        }
      ]
    },
    {
      "cell_type": "markdown",
      "metadata": {
        "id": "rSqIDjBUjrO9"
      },
      "source": [
        "We can see that, just as in the case of the iterated version, the step size abruptly jumps from $10^{-6}$ $10^{-17}$. This indicates that once the boundary of the restrictions $\\textbf{g}$ or a plateau region of the loss function $f$ is reached, the improvement stops altogether. We will need to confirm which of the two cases is the one causing the problem and then attempt to alleviate it. "
      ]
    }
  ]
}